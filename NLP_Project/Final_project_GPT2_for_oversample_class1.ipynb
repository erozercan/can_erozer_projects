{
  "cells": [
    {
      "cell_type": "code",
      "execution_count": null,
      "metadata": {
        "colab": {
          "base_uri": "https://localhost:8080/"
        },
        "id": "bGDMF49cN-Ns",
        "outputId": "f041c95f-87ca-4953-9cab-29943b7ca2a6"
      },
      "outputs": [
        {
          "output_type": "stream",
          "name": "stderr",
          "text": [
            "[nltk_data] Downloading package punkt to /root/nltk_data...\n",
            "[nltk_data]   Unzipping tokenizers/punkt.zip.\n"
          ]
        },
        {
          "output_type": "execute_result",
          "data": {
            "text/plain": [
              "True"
            ]
          },
          "metadata": {},
          "execution_count": 1
        }
      ],
      "source": [
        "import os\n",
        "import time\n",
        "import datetime\n",
        "from google.colab import drive\n",
        "\n",
        "import pandas as pd\n",
        "import seaborn as sns\n",
        "import numpy as np\n",
        "import random\n",
        "\n",
        "import matplotlib.pyplot as plt\n",
        "%matplotlib inline\n",
        "\n",
        "import torch\n",
        "from torch.utils.data import Dataset, DataLoader, random_split, RandomSampler, SequentialSampler\n",
        "torch.manual_seed(42)\n",
        "\n",
        "from transformers import GPT2LMHeadModel,  GPT2Tokenizer, GPT2Config, GPT2LMHeadModel\n",
        "from transformers import AdamW, get_linear_schedule_with_warmup\n",
        "\n",
        "import nltk\n",
        "nltk.download('punkt')"
      ]
    },
    {
      "cell_type": "code",
      "source": [
        "from google.colab import drive\n",
        "drive.mount('/content/drive')"
      ],
      "metadata": {
        "colab": {
          "base_uri": "https://localhost:8080/"
        },
        "id": "baN9XB8jpnyS",
        "outputId": "244d5266-9479-4b27-ca8c-41dcf7dc6e3e"
      },
      "execution_count": null,
      "outputs": [
        {
          "output_type": "stream",
          "name": "stdout",
          "text": [
            "Mounted at /content/drive\n"
          ]
        }
      ]
    },
    {
      "cell_type": "code",
      "execution_count": null,
      "metadata": {
        "id": "_YQr3tZfN-Nv"
      },
      "outputs": [],
      "source": [
        "df = pd.read_csv(\"/content/drive/MyDrive/CS505_final_drive/data/df_class1.csv\")\n",
        "#\"/Users/canerozer/Desktop/BU/FALL2023/CS505/Final_Project/data/df_class1.csv\"\n",
        "#'/content/drive/MyDrive/CS505_final_drive/data/df_experiment.csv'\n"
      ]
    },
    {
      "cell_type": "code",
      "execution_count": null,
      "metadata": {
        "colab": {
          "base_uri": "https://localhost:8080/",
          "height": 204
        },
        "id": "kkH6fIVPN-Nv",
        "outputId": "d037bfb1-4b96-467e-b4eb-c929f2469b98"
      },
      "outputs": [
        {
          "output_type": "execute_result",
          "data": {
            "text/plain": [
              "        Id                                               Text\n",
              "0     9771  Technical problem with this DVD Like the Dinos...\n",
              "1  1205441  move on I fast forward through chunks of this ...\n",
              "2   922828  If you read the Koontz book, you will absolute...\n",
              "3   878469  WTF WTF, Amazon, this is NOT the full movie, i...\n",
              "4   910248  I really tried, but this is just awful. Colin ..."
            ],
            "text/html": [
              "\n",
              "  <div id=\"df-645ead3b-c469-4bae-ad14-dc513a10bbc4\" class=\"colab-df-container\">\n",
              "    <div>\n",
              "<style scoped>\n",
              "    .dataframe tbody tr th:only-of-type {\n",
              "        vertical-align: middle;\n",
              "    }\n",
              "\n",
              "    .dataframe tbody tr th {\n",
              "        vertical-align: top;\n",
              "    }\n",
              "\n",
              "    .dataframe thead th {\n",
              "        text-align: right;\n",
              "    }\n",
              "</style>\n",
              "<table border=\"1\" class=\"dataframe\">\n",
              "  <thead>\n",
              "    <tr style=\"text-align: right;\">\n",
              "      <th></th>\n",
              "      <th>Id</th>\n",
              "      <th>Text</th>\n",
              "    </tr>\n",
              "  </thead>\n",
              "  <tbody>\n",
              "    <tr>\n",
              "      <th>0</th>\n",
              "      <td>9771</td>\n",
              "      <td>Technical problem with this DVD Like the Dinos...</td>\n",
              "    </tr>\n",
              "    <tr>\n",
              "      <th>1</th>\n",
              "      <td>1205441</td>\n",
              "      <td>move on I fast forward through chunks of this ...</td>\n",
              "    </tr>\n",
              "    <tr>\n",
              "      <th>2</th>\n",
              "      <td>922828</td>\n",
              "      <td>If you read the Koontz book, you will absolute...</td>\n",
              "    </tr>\n",
              "    <tr>\n",
              "      <th>3</th>\n",
              "      <td>878469</td>\n",
              "      <td>WTF WTF, Amazon, this is NOT the full movie, i...</td>\n",
              "    </tr>\n",
              "    <tr>\n",
              "      <th>4</th>\n",
              "      <td>910248</td>\n",
              "      <td>I really tried, but this is just awful. Colin ...</td>\n",
              "    </tr>\n",
              "  </tbody>\n",
              "</table>\n",
              "</div>\n",
              "    <div class=\"colab-df-buttons\">\n",
              "\n",
              "  <div class=\"colab-df-container\">\n",
              "    <button class=\"colab-df-convert\" onclick=\"convertToInteractive('df-645ead3b-c469-4bae-ad14-dc513a10bbc4')\"\n",
              "            title=\"Convert this dataframe to an interactive table.\"\n",
              "            style=\"display:none;\">\n",
              "\n",
              "  <svg xmlns=\"http://www.w3.org/2000/svg\" height=\"24px\" viewBox=\"0 -960 960 960\">\n",
              "    <path d=\"M120-120v-720h720v720H120Zm60-500h600v-160H180v160Zm220 220h160v-160H400v160Zm0 220h160v-160H400v160ZM180-400h160v-160H180v160Zm440 0h160v-160H620v160ZM180-180h160v-160H180v160Zm440 0h160v-160H620v160Z\"/>\n",
              "  </svg>\n",
              "    </button>\n",
              "\n",
              "  <style>\n",
              "    .colab-df-container {\n",
              "      display:flex;\n",
              "      gap: 12px;\n",
              "    }\n",
              "\n",
              "    .colab-df-convert {\n",
              "      background-color: #E8F0FE;\n",
              "      border: none;\n",
              "      border-radius: 50%;\n",
              "      cursor: pointer;\n",
              "      display: none;\n",
              "      fill: #1967D2;\n",
              "      height: 32px;\n",
              "      padding: 0 0 0 0;\n",
              "      width: 32px;\n",
              "    }\n",
              "\n",
              "    .colab-df-convert:hover {\n",
              "      background-color: #E2EBFA;\n",
              "      box-shadow: 0px 1px 2px rgba(60, 64, 67, 0.3), 0px 1px 3px 1px rgba(60, 64, 67, 0.15);\n",
              "      fill: #174EA6;\n",
              "    }\n",
              "\n",
              "    .colab-df-buttons div {\n",
              "      margin-bottom: 4px;\n",
              "    }\n",
              "\n",
              "    [theme=dark] .colab-df-convert {\n",
              "      background-color: #3B4455;\n",
              "      fill: #D2E3FC;\n",
              "    }\n",
              "\n",
              "    [theme=dark] .colab-df-convert:hover {\n",
              "      background-color: #434B5C;\n",
              "      box-shadow: 0px 1px 3px 1px rgba(0, 0, 0, 0.15);\n",
              "      filter: drop-shadow(0px 1px 2px rgba(0, 0, 0, 0.3));\n",
              "      fill: #FFFFFF;\n",
              "    }\n",
              "  </style>\n",
              "\n",
              "    <script>\n",
              "      const buttonEl =\n",
              "        document.querySelector('#df-645ead3b-c469-4bae-ad14-dc513a10bbc4 button.colab-df-convert');\n",
              "      buttonEl.style.display =\n",
              "        google.colab.kernel.accessAllowed ? 'block' : 'none';\n",
              "\n",
              "      async function convertToInteractive(key) {\n",
              "        const element = document.querySelector('#df-645ead3b-c469-4bae-ad14-dc513a10bbc4');\n",
              "        const dataTable =\n",
              "          await google.colab.kernel.invokeFunction('convertToInteractive',\n",
              "                                                    [key], {});\n",
              "        if (!dataTable) return;\n",
              "\n",
              "        const docLinkHtml = 'Like what you see? Visit the ' +\n",
              "          '<a target=\"_blank\" href=https://colab.research.google.com/notebooks/data_table.ipynb>data table notebook</a>'\n",
              "          + ' to learn more about interactive tables.';\n",
              "        element.innerHTML = '';\n",
              "        dataTable['output_type'] = 'display_data';\n",
              "        await google.colab.output.renderOutput(dataTable, element);\n",
              "        const docLink = document.createElement('div');\n",
              "        docLink.innerHTML = docLinkHtml;\n",
              "        element.appendChild(docLink);\n",
              "      }\n",
              "    </script>\n",
              "  </div>\n",
              "\n",
              "\n",
              "<div id=\"df-eb2e12d7-9da8-4c2e-aa7a-0f800ca2c9df\">\n",
              "  <button class=\"colab-df-quickchart\" onclick=\"quickchart('df-eb2e12d7-9da8-4c2e-aa7a-0f800ca2c9df')\"\n",
              "            title=\"Suggest charts\"\n",
              "            style=\"display:none;\">\n",
              "\n",
              "<svg xmlns=\"http://www.w3.org/2000/svg\" height=\"24px\"viewBox=\"0 0 24 24\"\n",
              "     width=\"24px\">\n",
              "    <g>\n",
              "        <path d=\"M19 3H5c-1.1 0-2 .9-2 2v14c0 1.1.9 2 2 2h14c1.1 0 2-.9 2-2V5c0-1.1-.9-2-2-2zM9 17H7v-7h2v7zm4 0h-2V7h2v10zm4 0h-2v-4h2v4z\"/>\n",
              "    </g>\n",
              "</svg>\n",
              "  </button>\n",
              "\n",
              "<style>\n",
              "  .colab-df-quickchart {\n",
              "      --bg-color: #E8F0FE;\n",
              "      --fill-color: #1967D2;\n",
              "      --hover-bg-color: #E2EBFA;\n",
              "      --hover-fill-color: #174EA6;\n",
              "      --disabled-fill-color: #AAA;\n",
              "      --disabled-bg-color: #DDD;\n",
              "  }\n",
              "\n",
              "  [theme=dark] .colab-df-quickchart {\n",
              "      --bg-color: #3B4455;\n",
              "      --fill-color: #D2E3FC;\n",
              "      --hover-bg-color: #434B5C;\n",
              "      --hover-fill-color: #FFFFFF;\n",
              "      --disabled-bg-color: #3B4455;\n",
              "      --disabled-fill-color: #666;\n",
              "  }\n",
              "\n",
              "  .colab-df-quickchart {\n",
              "    background-color: var(--bg-color);\n",
              "    border: none;\n",
              "    border-radius: 50%;\n",
              "    cursor: pointer;\n",
              "    display: none;\n",
              "    fill: var(--fill-color);\n",
              "    height: 32px;\n",
              "    padding: 0;\n",
              "    width: 32px;\n",
              "  }\n",
              "\n",
              "  .colab-df-quickchart:hover {\n",
              "    background-color: var(--hover-bg-color);\n",
              "    box-shadow: 0 1px 2px rgba(60, 64, 67, 0.3), 0 1px 3px 1px rgba(60, 64, 67, 0.15);\n",
              "    fill: var(--button-hover-fill-color);\n",
              "  }\n",
              "\n",
              "  .colab-df-quickchart-complete:disabled,\n",
              "  .colab-df-quickchart-complete:disabled:hover {\n",
              "    background-color: var(--disabled-bg-color);\n",
              "    fill: var(--disabled-fill-color);\n",
              "    box-shadow: none;\n",
              "  }\n",
              "\n",
              "  .colab-df-spinner {\n",
              "    border: 2px solid var(--fill-color);\n",
              "    border-color: transparent;\n",
              "    border-bottom-color: var(--fill-color);\n",
              "    animation:\n",
              "      spin 1s steps(1) infinite;\n",
              "  }\n",
              "\n",
              "  @keyframes spin {\n",
              "    0% {\n",
              "      border-color: transparent;\n",
              "      border-bottom-color: var(--fill-color);\n",
              "      border-left-color: var(--fill-color);\n",
              "    }\n",
              "    20% {\n",
              "      border-color: transparent;\n",
              "      border-left-color: var(--fill-color);\n",
              "      border-top-color: var(--fill-color);\n",
              "    }\n",
              "    30% {\n",
              "      border-color: transparent;\n",
              "      border-left-color: var(--fill-color);\n",
              "      border-top-color: var(--fill-color);\n",
              "      border-right-color: var(--fill-color);\n",
              "    }\n",
              "    40% {\n",
              "      border-color: transparent;\n",
              "      border-right-color: var(--fill-color);\n",
              "      border-top-color: var(--fill-color);\n",
              "    }\n",
              "    60% {\n",
              "      border-color: transparent;\n",
              "      border-right-color: var(--fill-color);\n",
              "    }\n",
              "    80% {\n",
              "      border-color: transparent;\n",
              "      border-right-color: var(--fill-color);\n",
              "      border-bottom-color: var(--fill-color);\n",
              "    }\n",
              "    90% {\n",
              "      border-color: transparent;\n",
              "      border-bottom-color: var(--fill-color);\n",
              "    }\n",
              "  }\n",
              "</style>\n",
              "\n",
              "  <script>\n",
              "    async function quickchart(key) {\n",
              "      const quickchartButtonEl =\n",
              "        document.querySelector('#' + key + ' button');\n",
              "      quickchartButtonEl.disabled = true;  // To prevent multiple clicks.\n",
              "      quickchartButtonEl.classList.add('colab-df-spinner');\n",
              "      try {\n",
              "        const charts = await google.colab.kernel.invokeFunction(\n",
              "            'suggestCharts', [key], {});\n",
              "      } catch (error) {\n",
              "        console.error('Error during call to suggestCharts:', error);\n",
              "      }\n",
              "      quickchartButtonEl.classList.remove('colab-df-spinner');\n",
              "      quickchartButtonEl.classList.add('colab-df-quickchart-complete');\n",
              "    }\n",
              "    (() => {\n",
              "      let quickchartButtonEl =\n",
              "        document.querySelector('#df-eb2e12d7-9da8-4c2e-aa7a-0f800ca2c9df button');\n",
              "      quickchartButtonEl.style.display =\n",
              "        google.colab.kernel.accessAllowed ? 'block' : 'none';\n",
              "    })();\n",
              "  </script>\n",
              "</div>\n",
              "\n",
              "    </div>\n",
              "  </div>\n"
            ]
          },
          "metadata": {},
          "execution_count": 4
        }
      ],
      "source": [
        "df.head()"
      ]
    },
    {
      "cell_type": "code",
      "execution_count": null,
      "metadata": {
        "colab": {
          "base_uri": "https://localhost:8080/"
        },
        "id": "-il6LoSRN-Nw",
        "outputId": "4032cffe-538a-4af5-dfbe-6bdfab71a91c"
      },
      "outputs": [
        {
          "output_type": "execute_result",
          "data": {
            "text/plain": [
              "[\"Technical problem with this DVD Like the Dinosaur Collector's Edition DVD, this one won't play on my Pioneer Elite DV- player. It runs for about  minutes and then just stops.\",\n",
              " 'move on I fast forward through chunks of this movie too many stupid things happen including him saying never get involved with others, but then he goes way out of his way to get involved with others not like it happened naturally and then the ending lame.',\n",
              " 'If you read the Koontz book, you will absolutely hate this movie Yes, the character names are the same and the plot line is similar enough to drive you mad, but the acting and everything else is atrocious. The Deucalion characterization makes no sense at all. Save your money and flee just like Koontz did. Or better yet, read the book which is brilliant.',\n",
              " \"WTF WTF, Amazon, this is NOT the full movie, it's the five minute intro to the movie! I want my money back and I want to see this MOVIE, looks great!\",\n",
              " \"I really tried, but this is just awful. Colin Farrell is ludicrously miscast, with black eyebrows and blond ill-fitting fright-wig, so that it's just very hard to look at him at any point during this painfully long film. None of the other Macedonian warriors look so absurd. Why? I'll just leave it there. In the battle-scenes with stirring music he's still badly choreographed and too short compared to the extras. QUO VADIS way back when in BW; with Peter Ustinov as Nero was better for decadence at court. This is just a very very bad film.An infinitely more nuanced, indeed fascinating portrait of this time is the recent book DIVIDING THE SPOILS, by British historian Robin Waterfield, which deals with what happened to the vast territories conquered by Alexander in the years immediately following his death.Oliver Stone no doubt remains a very rich man despite wasting many millions on this film. Too bad. Maybe if he was hungry he might recapture whatever talent he originally displayed. Doubtful though, by this point.\",\n",
              " \"Worst video quality ever This Blu-Ray DVD of Fleischer's animated classic GULLIVER'S TRAVELS is simply awful.When I popped the BR-DVD in the machine and started watching on our  HDTV, the picture was so horribly smeary and lacking in detail, I took the disc out thinking there was something seriously wrong with the Blu-Ray player or a bad cable or something. I popped in a different Blu-Ray movie and the picture on that was perfect. The problem is this transfer and whatever it is they've done to it.The picture is so streaky and smeary, it looks like a  year old VHS tape that has literally been played about  times. It's really bad.\",\n",
              " \"Very near the worst movie I've seen The only movies that come to being as bad as this movie have all been on Mystery Science Theater. I'm sure this one would end up there if it weren't for all of the violence. The acting is downright horrible never made it to the part with Sandra in it. I was about to throw up after  minutes and couldn't take any more. The cinematography is even worse. some of the worst angles, light dark problems, etc. I've ever seen. I'm convinced games like Doom took their idea from this movie. there are shots where you are following guns around and watching them shoot people.Another reviewer mentioned that High Schoolers could make better movies. I agree and I'm not so sure a middle schooler couldn't.I found this one in the bargain bin at Walmart. it doesn't belong in the bargain bin, it belongs in the trash bin.\",\n",
              " \"Love object? I don't mind trash or violence but I do mind stupidity which is this flick. In some sense it remind me  a Japanese masterpiece so I hoped we, USA, not really behind everything and everybody as I read everywhere. Mistake.It starts slow, it progresses without logic.there is nothing to discuss about this movie but plenty to mention what's missing.The producer is trying to convince me that main character is mental case I don't think so. The mental case here is government who outlaw sex and expect their subjects be asexual and behave like robots. Sure, in their dreams, maybe.The storyline is quite linear for whatever reason and, on a top of insult, sex part done for kids below age of twelve.I guess word contradiction not in producer dictionary. Whatever. Avoid.\",\n",
              " \"Over hyped Crapola ! Thank God I only rented this movie even though it was free because I used a coupon .I must say it was a total waste of my time to watch this utter garbage of a so called movie ! Brad Pitt should be ashamed to be associated with this mess .however, I suppose for his usual salary of million per movie, he really doesn't care.\",\n",
              " 'one of the lamest most boring movie ever made! this movie stinks its dumb and stupid amd totally unintelligent this is easily one of the worst movies ever made i use to like the world wrestling federation now its known as wwe aka world wrestling entertainment this movie stinks i hate it!']"
            ]
          },
          "metadata": {},
          "execution_count": 5
        }
      ],
      "source": [
        "docs= df[\"Text\"].to_list()\n",
        "\n",
        "docs[:10]"
      ]
    },
    {
      "cell_type": "code",
      "execution_count": null,
      "metadata": {
        "colab": {
          "base_uri": "https://localhost:8080/",
          "height": 634
        },
        "id": "auuDGWRwN-Nx",
        "outputId": "86f8121b-339e-4500-e503-df64e2128566"
      },
      "outputs": [
        {
          "output_type": "stream",
          "name": "stderr",
          "text": [
            "<ipython-input-6-0dc1d487ac7d>:12: UserWarning: \n",
            "\n",
            "`distplot` is a deprecated function and will be removed in seaborn v0.14.0.\n",
            "\n",
            "Please adapt your code to use either `displot` (a figure-level function with\n",
            "similar flexibility) or `histplot` (an axes-level function for histograms).\n",
            "\n",
            "For a guide to updating your code to use the new functions, please see\n",
            "https://gist.github.com/mwaskom/de44147ed2974457ad6372750bbe5751\n",
            "\n",
            "  sns.distplot(doc_lengths)\n"
          ]
        },
        {
          "output_type": "execute_result",
          "data": {
            "text/plain": [
              "<Axes: ylabel='Density'>"
            ]
          },
          "metadata": {},
          "execution_count": 6
        },
        {
          "output_type": "display_data",
          "data": {
            "text/plain": [
              "<Figure size 640x480 with 1 Axes>"
            ],
            "image/png": "[encoded data removed]"
          },
          "metadata": {}
        }
      ],
      "source": [
        "doc_lengths = []\n",
        "\n",
        "for doc in docs:\n",
        "\n",
        "    # get rough token count distribution\n",
        "    tokens = nltk.word_tokenize(doc)\n",
        "\n",
        "    doc_lengths.append(len(tokens))\n",
        "\n",
        "doc_lengths = np.array(doc_lengths)\n",
        "\n",
        "sns.distplot(doc_lengths)"
      ]
    },
    {
      "cell_type": "code",
      "execution_count": null,
      "metadata": {
        "colab": {
          "base_uri": "https://localhost:8080/"
        },
        "id": "BpDq_erVN-Ny",
        "outputId": "39ba62bc-c38b-4ba3-8ea6-88829f2f97b0"
      },
      "outputs": [
        {
          "output_type": "execute_result",
          "data": {
            "text/plain": [
              "178.63125"
            ]
          },
          "metadata": {},
          "execution_count": 7
        }
      ],
      "source": [
        "np.average(doc_lengths)"
      ]
    },
    {
      "cell_type": "code",
      "execution_count": null,
      "metadata": {
        "colab": {
          "base_uri": "https://localhost:8080/"
        },
        "id": "UXQmK781N-Ny",
        "outputId": "f3440c22-9ff2-41d3-826d-b68eaf2217b8"
      },
      "outputs": [
        {
          "output_type": "execute_result",
          "data": {
            "text/plain": [
              "0.025543478260869567"
            ]
          },
          "metadata": {},
          "execution_count": 8
        }
      ],
      "source": [
        "# the max token length\n",
        "len(doc_lengths[doc_lengths > 768])/len(doc_lengths)"
      ]
    },
    {
      "cell_type": "code",
      "execution_count": null,
      "metadata": {
        "colab": {
          "base_uri": "https://localhost:8080/",
          "height": 145,
          "referenced_widgets": [
            "73990aa0ed384509b219ae3caaa61598",
            "971ddc08400d49c694033574fdd96fd7",
            "eefc6eb263bc44a390d001af1f986a3f",
            "881088c65bb94fa4b0886b295a974517",
            "8efbf6c03c474c9abecc9f363f96eccf",
            "b2ce16875b104fce8f6608110bbfc3d3",
            "0075eba4156349efb2d02b3cc9428c17",
            "9a26a7a4a0274cc6b98f0f6ccb55ec5a",
            "3c913b60fe8d4675b6683f556f68b230",
            "51acefe675c847d98cd308d05ac33018",
            "e1eeaa38914b48819ce519c83c2fd409",
            "fc0954a949564d23bcfa85eb071342ea",
            "03bfe1cf1e764c50889269f2d7a8bad6",
            "75d8f67782e144f3882df566f0489a5a",
            "6b127ca0e2f2479a9ad9e8f3cdaee97d",
            "71d566af5ab44771aa3a0364a67bd3a8",
            "cdb54977c3dd4e139b9844317b6790b0",
            "62ada717c9fb417a83bc35c5da4c8ed2",
            "4a72c7e3bdf647f580463b297fbdf424",
            "6a9f61f596a54475bc42d9a441bc9802",
            "83806c43ec2746cd947ffa0a75075b09",
            "a8a3f6613c004758a484678ca1135010",
            "8705dc886b1645a59e9089fb86f6f4f0",
            "31f8cc5f92144bcd8301d91748acc999",
            "9a92719695b540d58f839f604b138b6c",
            "388bc80ea8374ec5b785271555d65802",
            "3124d1c4d19f473b8b8b7c1a398f1824",
            "f33977e09e5641d8a2645e8c4057c185",
            "ec8b4ece8ce546c58ddfa26fe51f5e38",
            "b9aa4cb0fadc4c50beab7c7604bcd554",
            "e7f1de2801ca4cc39b11e3e48065f05a",
            "b6565e79a9544bc59b356abecc6623e4",
            "b2f776078468488dad19dead43914b60",
            "9eb22260b2c648639468f640a87c783f",
            "b267ba6a6c4a407886521ca018507113",
            "b113d81025ec46ecb33b4bb77b9f9ce3",
            "e98af80abd244c4891acb3915f0c2749",
            "250cfe78b09b4463a39677329f6220c1",
            "bbd51d59582941598ac0d06ea8a08abf",
            "07c9c138ff354b19a0c3875e49395c61",
            "31056506016f41f79b779f8275f77d4d",
            "7c88dcb90dd04ad89a365fb10817446c",
            "fae3cdd3ce40487ea845d7c055a4ffe8",
            "584a48e83d254d6abf954e210b1baafe"
          ]
        },
        "id": "wu_oWkRmN-Nz",
        "outputId": "890fa0a7-4391-4ae7-aca4-6cf5f79ce59b"
      },
      "outputs": [
        {
          "output_type": "display_data",
          "data": {
            "text/plain": [
              "vocab.json:   0%|          | 0.00/1.04M [00:00<?, ?B/s]"
            ],
            "application/vnd.jupyter.widget-view+json": {
              "version_major": 2,
              "version_minor": 0,
              "model_id": "73990aa0ed384509b219ae3caaa61598"
            }
          },
          "metadata": {}
        },
        {
          "output_type": "display_data",
          "data": {
            "text/plain": [
              "merges.txt:   0%|          | 0.00/456k [00:00<?, ?B/s]"
            ],
            "application/vnd.jupyter.widget-view+json": {
              "version_major": 2,
              "version_minor": 0,
              "model_id": "fc0954a949564d23bcfa85eb071342ea"
            }
          },
          "metadata": {}
        },
        {
          "output_type": "display_data",
          "data": {
            "text/plain": [
              "tokenizer.json:   0%|          | 0.00/1.36M [00:00<?, ?B/s]"
            ],
            "application/vnd.jupyter.widget-view+json": {
              "version_major": 2,
              "version_minor": 0,
              "model_id": "8705dc886b1645a59e9089fb86f6f4f0"
            }
          },
          "metadata": {}
        },
        {
          "output_type": "display_data",
          "data": {
            "text/plain": [
              "config.json:   0%|          | 0.00/665 [00:00<?, ?B/s]"
            ],
            "application/vnd.jupyter.widget-view+json": {
              "version_major": 2,
              "version_minor": 0,
              "model_id": "9eb22260b2c648639468f640a87c783f"
            }
          },
          "metadata": {}
        }
      ],
      "source": [
        "# Load the GPT tokenizer.\n",
        "tokenizer = GPT2Tokenizer.from_pretrained('gpt2', bos_token='<|startoftext|>', eos_token='<|endoftext|>', pad_token='<|pad|>') #gpt2-medium\n",
        "\n"
      ]
    },
    {
      "cell_type": "code",
      "execution_count": null,
      "metadata": {
        "colab": {
          "base_uri": "https://localhost:8080/"
        },
        "id": "lt9hqfpgN-Nz",
        "outputId": "8ad431c4-f622-4aed-f519-6f25a6e0b3f2"
      },
      "outputs": [
        {
          "output_type": "stream",
          "name": "stdout",
          "text": [
            "The max model length is 1024 for this model, although the actual embedding size for GPT small is 768\n",
            "The beginning of sequence token <|startoftext|> token has the id 50257\n",
            "The end of sequence token <|endoftext|> has the id 50256\n",
            "The padding token <|pad|> has the id 50258\n"
          ]
        }
      ],
      "source": [
        "print(\"The max model length is {} for this model, although the actual embedding size for GPT small is 768\".format(tokenizer.model_max_length))\n",
        "print(\"The beginning of sequence token {} token has the id {}\".format(tokenizer.convert_ids_to_tokens(tokenizer.bos_token_id), tokenizer.bos_token_id))\n",
        "print(\"The end of sequence token {} has the id {}\".format(tokenizer.convert_ids_to_tokens(tokenizer.eos_token_id), tokenizer.eos_token_id))\n",
        "print(\"The padding token {} has the id {}\".format(tokenizer.convert_ids_to_tokens(tokenizer.pad_token_id), tokenizer.pad_token_id))\n",
        "\n"
      ]
    },
    {
      "cell_type": "code",
      "execution_count": null,
      "metadata": {
        "id": "tAjLobWAN-N0"
      },
      "outputs": [],
      "source": [
        "batch_size=2"
      ]
    },
    {
      "cell_type": "code",
      "execution_count": null,
      "metadata": {
        "id": "12PTa1R3N-N1"
      },
      "outputs": [],
      "source": [
        "class GPT2Dataset(Dataset):\n",
        "\n",
        "    def __init__(self, txt_list, tokenizer, gpt2_type=\"gpt2\", max_length=768):\n",
        "\n",
        "        self.tokenizer = tokenizer\n",
        "        self.input_ids = []\n",
        "        self.attn_masks = []\n",
        "\n",
        "        for txt in txt_list:\n",
        "\n",
        "            encodings_dict = tokenizer('<|startoftext|>'+ txt + '<|endoftext|>', truncation=True, max_length=max_length, padding=\"max_length\")\n",
        "\n",
        "            self.input_ids.append(torch.tensor(encodings_dict['input_ids']))\n",
        "            self.attn_masks.append(torch.tensor(encodings_dict['attention_mask']))\n",
        "\n",
        "    def __len__(self):\n",
        "        return len(self.input_ids)\n",
        "\n",
        "    def __getitem__(self, idx):\n",
        "        return self.input_ids[idx], self.attn_masks[idx]\n"
      ]
    },
    {
      "cell_type": "code",
      "execution_count": null,
      "metadata": {
        "colab": {
          "base_uri": "https://localhost:8080/"
        },
        "id": "ncdfu74yN-N1",
        "outputId": "ec7dcd80-1468-4ee7-9c7e-f8aafb9bb593"
      },
      "outputs": [
        {
          "output_type": "stream",
          "name": "stdout",
          "text": [
            "6,624 training samples\n",
            "  736 validation samples\n"
          ]
        }
      ],
      "source": [
        "dataset = GPT2Dataset(docs, tokenizer, max_length=768)\n",
        "\n",
        "# Split into training and validation sets\n",
        "train_size = int(0.9 * len(dataset))\n",
        "val_size = len(dataset) - train_size\n",
        "\n",
        "train_dataset, val_dataset = random_split(dataset, [train_size, val_size])\n",
        "\n",
        "print('{:>5,} training samples'.format(train_size))\n",
        "print('{:>5,} validation samples'.format(val_size))"
      ]
    },
    {
      "cell_type": "code",
      "execution_count": null,
      "metadata": {
        "id": "WbsyJY3ZN-N2"
      },
      "outputs": [],
      "source": [
        "# Create the DataLoaders for our training and validation datasets.\n",
        "# We'll take training samples in random order.\n",
        "train_dataloader = DataLoader(\n",
        "            train_dataset,  # The training samples.\n",
        "            sampler = RandomSampler(train_dataset), # Select batches randomly\n",
        "            batch_size = batch_size # Trains with this batch size.\n",
        "        )\n",
        "\n",
        "# For validation the order doesn't matter, so we'll just read them sequentially.\n",
        "validation_dataloader = DataLoader(\n",
        "            val_dataset, # The validation samples.\n",
        "            sampler = SequentialSampler(val_dataset), # Pull out batches sequentially.\n",
        "            batch_size = batch_size # Evaluate with this batch size.\n",
        "        )"
      ]
    },
    {
      "cell_type": "code",
      "execution_count": null,
      "metadata": {
        "colab": {
          "base_uri": "https://localhost:8080/",
          "height": 81,
          "referenced_widgets": [
            "9f1d04630d8e4c3687672642348b571c",
            "7946fd1985f64dcbb0946d54a57440c7",
            "adf3b74f2a734b80a39a3f22111da6e5",
            "4e6f3ebfe20144eaa5668e100a849be6",
            "4a15ea5254f747f49b56e3925e3cb13b",
            "c92c50f2b9694b6ca637cb6b979104db",
            "b41e56373628409088de3c6e5513fa8d",
            "13be0f9e626641f99d110edd67db6b29",
            "582ab292d1334d43867f5ef7229d3844",
            "b203bac676aa4d6ab06cb76af2ad3255",
            "244476abf35d46a48d8be3297b813a81",
            "4e383a5ce86543cebc8e4e40900e04e4",
            "ac131074604a49679e785d5b3a4940f3",
            "8f89c8f851704a11af8ce4f6ba0f8c18",
            "55c85344e34e4fc7983aa2216357d276",
            "1d653dd3846a453094680f87fe1c78bf",
            "100272f14bac42a8b989fbc9dc6ad229",
            "cd5d9de0dae4445889c5b2a8328a9102",
            "748c1e37a6d04e8a84378c5ebd87ea23",
            "42eedf74acd54524aea7c173a6ed942c",
            "592ba128a3bb45faa048344e7e0c5a64",
            "e3e885f52d4a48aeb2211eedce53c9ba"
          ]
        },
        "id": "JOHeH8T7N-N2",
        "outputId": "87fe872a-6b17-4f20-dc0c-68c381624cd2"
      },
      "outputs": [
        {
          "output_type": "display_data",
          "data": {
            "text/plain": [
              "model.safetensors:   0%|          | 0.00/548M [00:00<?, ?B/s]"
            ],
            "application/vnd.jupyter.widget-view+json": {
              "version_major": 2,
              "version_minor": 0,
              "model_id": "9f1d04630d8e4c3687672642348b571c"
            }
          },
          "metadata": {}
        },
        {
          "output_type": "display_data",
          "data": {
            "text/plain": [
              "generation_config.json:   0%|          | 0.00/124 [00:00<?, ?B/s]"
            ],
            "application/vnd.jupyter.widget-view+json": {
              "version_major": 2,
              "version_minor": 0,
              "model_id": "4e383a5ce86543cebc8e4e40900e04e4"
            }
          },
          "metadata": {}
        }
      ],
      "source": [
        "# I'm not really doing anything with the config buheret\n",
        "configuration = GPT2Config.from_pretrained('gpt2', output_hidden_states=False)\n",
        "\n",
        "# instantiate the model\n",
        "model = GPT2LMHeadModel.from_pretrained(\"gpt2\", config=configuration)\n",
        "\n",
        "# this step is necessary because I've added some tokens (bos_token, etc) to the embeddings\n",
        "# otherwise the tokenizer and model tensors won't match up\n",
        "model.resize_token_embeddings(len(tokenizer))\n",
        "\n",
        "# Tell pytorch to run this model on the GPU.\n",
        "device = torch.device(\"cuda\")\n",
        "model.cuda()\n",
        "\n",
        "# Set the seed value all over the place to make this reproducible.\n",
        "seed_val = 42\n",
        "\n",
        "random.seed(seed_val)\n",
        "np.random.seed(seed_val)\n",
        "torch.manual_seed(seed_val)\n",
        "torch.cuda.manual_seed_all(seed_val)"
      ]
    },
    {
      "cell_type": "code",
      "execution_count": null,
      "metadata": {
        "id": "4_95Uyz3N-N3"
      },
      "outputs": [],
      "source": [
        "# some parameters I cooked up that work reasonably well\n",
        "\n",
        "epochs = 4 #YOU MAY LOWER THIS\n",
        "learning_rate = 5e-4\n",
        "warmup_steps = 1e2\n",
        "epsilon = 1e-8\n",
        "\n",
        "# this produces sample output every 100 steps\n",
        "sample_every = 100"
      ]
    },
    {
      "cell_type": "code",
      "execution_count": null,
      "metadata": {
        "colab": {
          "base_uri": "https://localhost:8080/"
        },
        "id": "tTL-UNFlN-N4",
        "outputId": "2105f3ae-32db-4ce6-de59-873ee4429e69"
      },
      "outputs": [
        {
          "output_type": "stream",
          "name": "stderr",
          "text": [
            "/usr/local/lib/python3.10/dist-packages/transformers/optimization.py:411: FutureWarning: This implementation of AdamW is deprecated and will be removed in a future version. Use the PyTorch implementation torch.optim.AdamW instead, or set `no_deprecation_warning=True` to disable this warning\n",
            "  warnings.warn(\n"
          ]
        }
      ],
      "source": [
        "# Note: AdamW is a class from the huggingface library (as opposed to pytorch)\n",
        "optimizer = AdamW(model.parameters(),\n",
        "                  lr = learning_rate,\n",
        "                  eps = epsilon\n",
        "                )"
      ]
    },
    {
      "cell_type": "code",
      "source": [
        "# Total number of training steps is [number of batches] x [number of epochs].\n",
        "# (Note that this is not the same as the number of training samples).\n",
        "total_steps = len(train_dataloader) * epochs\n",
        "\n",
        "# Create the learning rate scheduler.\n",
        "# This changes the learning rate as the training loop progresses\n",
        "scheduler = get_linear_schedule_with_warmup(optimizer,\n",
        "                                            num_warmup_steps = warmup_steps,\n",
        "                                            num_training_steps = total_steps)"
      ],
      "metadata": {
        "id": "vJfZWPtPRye6"
      },
      "execution_count": null,
      "outputs": []
    },
    {
      "cell_type": "code",
      "execution_count": null,
      "metadata": {
        "id": "pIoyces1N-N4"
      },
      "outputs": [],
      "source": [
        "def format_time(elapsed):\n",
        "    return str(datetime.timedelta(seconds=int(round((elapsed)))))"
      ]
    },
    {
      "cell_type": "code",
      "source": [
        "total_t0 = time.time()\n",
        "\n",
        "training_stats = []\n",
        "\n",
        "model = model.to(device)\n",
        "\n",
        "for epoch_i in range(0, epochs):\n",
        "\n",
        "    # ========================================\n",
        "    #               Training\n",
        "    # ========================================\n",
        "\n",
        "    print(\"\")\n",
        "    print('======== Epoch {:} / {:} ========'.format(epoch_i + 1, epochs))\n",
        "    print('Training...')\n",
        "\n",
        "    t0 = time.time()\n",
        "\n",
        "    total_train_loss = 0\n",
        "\n",
        "    model.train()\n",
        "\n",
        "    for step, batch in enumerate(train_dataloader):\n",
        "\n",
        "        b_input_ids = batch[0].to(device)\n",
        "        b_labels = batch[0].to(device)\n",
        "        b_masks = batch[1].to(device)\n",
        "\n",
        "        model.zero_grad()\n",
        "\n",
        "        outputs = model(  b_input_ids,\n",
        "                          labels=b_labels,\n",
        "                          attention_mask = b_masks,\n",
        "                          token_type_ids=None\n",
        "                        )\n",
        "\n",
        "        loss = outputs[0]\n",
        "\n",
        "        batch_loss = loss.item()\n",
        "        total_train_loss += batch_loss\n",
        "\n",
        "        # Get sample every x batches.\n",
        "        if step % sample_every == 0 and not step == 0:\n",
        "\n",
        "            elapsed = format_time(time.time() - t0)\n",
        "            print('  Batch {:>5,}  of  {:>5,}. Loss: {:>5,}.   Elapsed: {:}.'.format(step, len(train_dataloader), batch_loss, elapsed))\n",
        "\n",
        "            model.eval()\n",
        "\n",
        "            sample_outputs = model.generate(\n",
        "                                    bos_token_id=random.randint(1,30000),\n",
        "                                    do_sample=True,\n",
        "                                    top_k=50,\n",
        "                                    max_length = 200,\n",
        "                                    top_p=0.95,\n",
        "                                    num_return_sequences=1\n",
        "                                )\n",
        "            for i, sample_output in enumerate(sample_outputs):\n",
        "                  print(\"{}: {}\".format(i, tokenizer.decode(sample_output, skip_special_tokens=True)))\n",
        "\n",
        "            model.train()\n",
        "\n",
        "        loss.backward()\n",
        "\n",
        "        optimizer.step()\n",
        "\n",
        "        scheduler.step()\n",
        "\n",
        "    # Calculate the average loss over all of the batches.\n",
        "    avg_train_loss = total_train_loss / len(train_dataloader)\n",
        "\n",
        "    # Measure how long this epoch took.\n",
        "    training_time = format_time(time.time() - t0)\n",
        "\n",
        "    print(\"\")\n",
        "    print(\"  Average training loss: {0:.2f}\".format(avg_train_loss))\n",
        "    print(\"  Training epoch took: {:}\".format(training_time))\n",
        "\n",
        "    # ========================================\n",
        "    #               Validation\n",
        "    # ========================================\n",
        "\n",
        "    print(\"\")\n",
        "    print(\"Running Validation...\")\n",
        "\n",
        "    t0 = time.time()\n",
        "\n",
        "    model.eval()\n",
        "\n",
        "    total_eval_loss = 0\n",
        "    nb_eval_steps = 0\n",
        "\n",
        "    # Evaluate data for one epoch\n",
        "    for batch in validation_dataloader:\n",
        "\n",
        "        b_input_ids = batch[0].to(device)\n",
        "        b_labels = batch[0].to(device)\n",
        "        b_masks = batch[1].to(device)\n",
        "\n",
        "        with torch.no_grad():\n",
        "\n",
        "            outputs  = model(b_input_ids,\n",
        "#                            token_type_ids=None,\n",
        "                             attention_mask = b_masks,\n",
        "                            labels=b_labels)\n",
        "\n",
        "            loss = outputs[0]\n",
        "\n",
        "        batch_loss = loss.item()\n",
        "        total_eval_loss += batch_loss\n",
        "\n",
        "    avg_val_loss = total_eval_loss / len(validation_dataloader)\n",
        "\n",
        "    validation_time = format_time(time.time() - t0)\n",
        "\n",
        "    print(\"  Validation Loss: {0:.2f}\".format(avg_val_loss))\n",
        "    print(\"  Validation took: {:}\".format(validation_time))\n",
        "\n",
        "    # Record all statistics from this epoch.\n",
        "    training_stats.append(\n",
        "        {\n",
        "            'epoch': epoch_i + 1,\n",
        "            'Training Loss': avg_train_loss,\n",
        "            'Valid. Loss': avg_val_loss,\n",
        "            'Training Time': training_time,\n",
        "            'Validation Time': validation_time\n",
        "        }\n",
        "    )\n",
        "\n",
        "print(\"\")\n",
        "print(\"Training complete!\")\n",
        "print(\"Total training took {:} (h:mm:ss)\".format(format_time(time.time()-total_t0)))"
      ],
      "metadata": {
        "colab": {
          "base_uri": "https://localhost:8080/"
        },
        "id": "0_JsqgPgRHf2",
        "outputId": "4513eb38-6e39-4a73-da52-7bdb4fa143b4"
      },
      "execution_count": null,
      "outputs": [
        {
          "output_type": "stream",
          "name": "stdout",
          "text": [
            "\n",
            "======== Epoch 1 / 4 ========\n",
            "Training...\n"
          ]
        },
        {
          "output_type": "stream",
          "name": "stderr",
          "text": [
            "The attention mask and the pad token id were not set. As a consequence, you may observe unexpected behavior. Please pass your input's `attention_mask` to obtain reliable results.\n",
            "Setting `pad_token_id` to `eos_token_id`:50256 for open-end generation.\n"
          ]
        },
        {
          "output_type": "stream",
          "name": "stdout",
          "text": [
            "  Batch   100  of  3,312. Loss: 0.4510518014431.   Elapsed: 0:00:50.\n",
            "0:  bipartisan, the U.S. Department of Education and the U Institute have a lot of money to spend on waste, fraud, fraud, and waste. However, the only way to stop this waste is to stop the most disturbing waste on the face of the planet\n"
          ]
        },
        {
          "output_type": "stream",
          "name": "stderr",
          "text": [
            "The attention mask and the pad token id were not set. As a consequence, you may observe unexpected behavior. Please pass your input's `attention_mask` to obtain reliable results.\n",
            "Setting `pad_token_id` to `eos_token_id`:50256 for open-end generation.\n"
          ]
        },
        {
          "output_type": "stream",
          "name": "stdout",
          "text": [
            "  Batch   200  of  3,312. Loss: 1.1098854541778564.   Elapsed: 0:01:44.\n",
            "0:  increasingThis film deals with a story, with no one being held hostage by a man who is very powerful and often is able to play a bad guy. It was based on a short story by Kari Bell, who played a powerful man, but is a very strong antagonist who is extremely powerful and sometimes a violent bad guy. The film has an intriguing cast and there are some good characters who are talented, but not very good. The plot is pretty weak and bad at times as well. The film tries to make a bad move, rather than trying to get along with everyone in the film.\n"
          ]
        },
        {
          "output_type": "stream",
          "name": "stderr",
          "text": [
            "The attention mask and the pad token id were not set. As a consequence, you may observe unexpected behavior. Please pass your input's `attention_mask` to obtain reliable results.\n",
            "Setting `pad_token_id` to `eos_token_id`:50256 for open-end generation.\n"
          ]
        },
        {
          "output_type": "stream",
          "name": "stdout",
          "text": [
            "  Batch   300  of  3,312. Loss: 4.000404357910156.   Elapsed: 0:02:37.\n",
            "0: dayRomeo. Rana This film has a decent score, but I would have liked a more mature aspect ratio. I hate old stuff. This was supposed to be a comedy movie, but there was a point in that and it was a failure. I didn't like the overall theme and plot of it, but it did work as a comedy. Unfortunately, I couldn't enjoy the entire show because I had to watch a bunch of bad jokes and the comedy wasn't enjoyable. What was enjoyable, even if I wanted something a little more serious, was the jokes about what happened with the girls, and the girls don't seem to notice this film. It was supposed to be more of a humorous attempt at humor. It did the job, but there were too many bad laughs and the ending never seemed to be anywhere near that funny. The show itself was more about humor than anything else, and the story was a total waste of time.\n"
          ]
        },
        {
          "output_type": "stream",
          "name": "stderr",
          "text": [
            "The attention mask and the pad token id were not set. As a consequence, you may observe unexpected behavior. Please pass your input's `attention_mask` to obtain reliable results.\n",
            "Setting `pad_token_id` to `eos_token_id`:50256 for open-end generation.\n"
          ]
        },
        {
          "output_type": "stream",
          "name": "stdout",
          "text": [
            "  Batch   400  of  3,312. Loss: 0.5005162358283997.   Elapsed: 0:03:31.\n",
            "0:  HangDHS\n"
          ]
        },
        {
          "output_type": "stream",
          "name": "stderr",
          "text": [
            "The attention mask and the pad token id were not set. As a consequence, you may observe unexpected behavior. Please pass your input's `attention_mask` to obtain reliable results.\n",
            "Setting `pad_token_id` to `eos_token_id`:50256 for open-end generation.\n"
          ]
        },
        {
          "output_type": "stream",
          "name": "stdout",
          "text": [
            "  Batch   500  of  3,312. Loss: 1.1047015190124512.   Elapsed: 0:04:21.\n",
            "0:  foodsIn general, I found these movies to be entertaining enough and entertaining enough to keep me up at night. Not so if they're trying to be exciting or the most entertaining thing a viewer can do for a living.\n"
          ]
        },
        {
          "output_type": "stream",
          "name": "stderr",
          "text": [
            "The attention mask and the pad token id were not set. As a consequence, you may observe unexpected behavior. Please pass your input's `attention_mask` to obtain reliable results.\n",
            "Setting `pad_token_id` to `eos_token_id`:50256 for open-end generation.\n"
          ]
        },
        {
          "output_type": "stream",
          "name": "stdout",
          "text": [
            "  Batch   600  of  3,312. Loss: 1.4535101652145386.   Elapsed: 0:05:13.\n",
            "0:  trailIt's been a long time since I saw these kinds of movies in theaters. What a movie, bad movies, bad acting!The good ones were more like scary movies with a horrible plot and a bad cast. However I kept watching them and I had little interest to see how this one would fare. The worst ones were about a zombie who doesn't understand the plot and thinks he has something to do with the zombies. Now this movie has a lot of horror with good acting and bad acting.\n"
          ]
        },
        {
          "output_type": "stream",
          "name": "stderr",
          "text": [
            "The attention mask and the pad token id were not set. As a consequence, you may observe unexpected behavior. Please pass your input's `attention_mask` to obtain reliable results.\n",
            "Setting `pad_token_id` to `eos_token_id`:50256 for open-end generation.\n"
          ]
        },
        {
          "output_type": "stream",
          "name": "stdout",
          "text": [
            "  Batch   700  of  3,312. Loss: 0.6925815939903259.   Elapsed: 0:06:05.\n",
            "0: intendThis should be a big pile of crap. You could take a bunch of movies and make a pretty good movie about it. I would not recommend to anybody.\n"
          ]
        },
        {
          "output_type": "stream",
          "name": "stderr",
          "text": [
            "The attention mask and the pad token id were not set. As a consequence, you may observe unexpected behavior. Please pass your input's `attention_mask` to obtain reliable results.\n",
            "Setting `pad_token_id` to `eos_token_id`:50256 for open-end generation.\n"
          ]
        },
        {
          "output_type": "stream",
          "name": "stdout",
          "text": [
            "  Batch   800  of  3,312. Loss: 2.682276487350464.   Elapsed: 0:06:56.\n",
            "0:  surroundIf I could just pull it out, I would. But it's so hard to do, and I'm sure the first one I'd take was for the first time! So, why are you asking me such questions in the first place? I'd rather spend a day or two with friends than this. There are so many questions I can't answer, or so much of them that it goes nowhere in this mess! What I mean by that is this, I don't know who he is for! The only thing I will say about him, is he's so good that he's one of the worst actors I've seen, I've never seen him in a movie that is so lowbudget! I'm pretty sure I'd have never seen him out there in one of those, except for the first one. So, I'd just give the show a thumbs up!\n"
          ]
        },
        {
          "output_type": "stream",
          "name": "stderr",
          "text": [
            "The attention mask and the pad token id were not set. As a consequence, you may observe unexpected behavior. Please pass your input's `attention_mask` to obtain reliable results.\n",
            "Setting `pad_token_id` to `eos_token_id`:50256 for open-end generation.\n"
          ]
        },
        {
          "output_type": "stream",
          "name": "stdout",
          "text": [
            "  Batch   900  of  3,312. Loss: 0.4070892035961151.   Elapsed: 0:07:48.\n",
            "0:  reflexTerrible script, too much gun violence, bad character development, no storyline. A movie by the same name should have been entertaining.\n"
          ]
        },
        {
          "output_type": "stream",
          "name": "stderr",
          "text": [
            "The attention mask and the pad token id were not set. As a consequence, you may observe unexpected behavior. Please pass your input's `attention_mask` to obtain reliable results.\n",
            "Setting `pad_token_id` to `eos_token_id`:50256 for open-end generation.\n"
          ]
        },
        {
          "output_type": "stream",
          "name": "stdout",
          "text": [
            "  Batch 1,000  of  3,312. Loss: 0.6981761455535889.   Elapsed: 0:08:39.\n",
            "0:  displayThe original  season of the TV show  are out now. I will have to start to type in these spoilers a bit.\n"
          ]
        },
        {
          "output_type": "stream",
          "name": "stderr",
          "text": [
            "The attention mask and the pad token id were not set. As a consequence, you may observe unexpected behavior. Please pass your input's `attention_mask` to obtain reliable results.\n",
            "Setting `pad_token_id` to `eos_token_id`:50256 for open-end generation.\n"
          ]
        },
        {
          "output_type": "stream",
          "name": "stdout",
          "text": [
            "  Batch 1,100  of  3,312. Loss: 1.9187411069869995.   Elapsed: 0:09:31.\n",
            "0:  pastorWhat a waste of my money. This is a poor attempt of an action movie with a good actor but it doesnt even play the role that was originally supposed to be that. It is dumb but as a matter of fact I am the only one who is interested in the story. I can tell you what is going on in the story. The movie will be interesting and have good story telling but the acting is just stupid and bad. I will say that it is funny but I can't watch the video because I am a comedy fan.This is about all of it because I am bored and the plot is stupid. I will be returning to my review here but the reviews are mostly the stupid ones.\n"
          ]
        },
        {
          "output_type": "stream",
          "name": "stderr",
          "text": [
            "The attention mask and the pad token id were not set. As a consequence, you may observe unexpected behavior. Please pass your input's `attention_mask` to obtain reliable results.\n",
            "Setting `pad_token_id` to `eos_token_id`:50256 for open-end generation.\n"
          ]
        },
        {
          "output_type": "stream",
          "name": "stdout",
          "text": [
            "  Batch 1,200  of  3,312. Loss: 2.035567045211792.   Elapsed: 0:10:23.\n",
            "0:  illicitTwo years,  minutes,  minutes,  minutes of music,  minutes,  minutes of the TV show. This movie is a rip-off. The camera is too slow, I don't feel the camera is moving. I could only watch  minutes of this movie I was already over the cliff and it was getting so tedious that it was just me walking around. I am a musical, a writer, a man. What was good about this movie was it was so well made, well written, well recorded, and acted with beautiful actors that it's hard to watch. But, it really wasn't even worth the money it got because of these other bad actors and the fact that if you're like me you could enjoy this movie and have some fun.\n"
          ]
        },
        {
          "output_type": "stream",
          "name": "stderr",
          "text": [
            "The attention mask and the pad token id were not set. As a consequence, you may observe unexpected behavior. Please pass your input's `attention_mask` to obtain reliable results.\n",
            "Setting `pad_token_id` to `eos_token_id`:50256 for open-end generation.\n"
          ]
        },
        {
          "output_type": "stream",
          "name": "stdout",
          "text": [
            "  Batch 1,300  of  3,312. Loss: 0.7476939558982849.   Elapsed: 0:11:16.\n",
            "0:  LiberationThe worst movie I've ever seen. The movie is actually worse than this one. The acting is worse than the movie itself. I was not expecting this. The characters are better than the rest, and I felt like there wasn't enough real content. I was bored to tears.\n"
          ]
        },
        {
          "output_type": "stream",
          "name": "stderr",
          "text": [
            "The attention mask and the pad token id were not set. As a consequence, you may observe unexpected behavior. Please pass your input's `attention_mask` to obtain reliable results.\n",
            "Setting `pad_token_id` to `eos_token_id`:50256 for open-end generation.\n"
          ]
        },
        {
          "output_type": "stream",
          "name": "stdout",
          "text": [
            "  Batch 1,400  of  3,312. Loss: 1.0456410646438599.   Elapsed: 0:12:07.\n",
            "0:  NamI felt the need for this movie. The acting was okay. We see some of the world's most famous celebrities get the ball and run around and shoot.The plot is lame. And with some bad acting we are supposed to follow the plot but these actors weren't even at the end of the movie.This movie has no story and only takes place around the movie. The worst part was that we just left our characters there. I will be surprised if they were all dead but the film made no sense.\n"
          ]
        },
        {
          "output_type": "stream",
          "name": "stderr",
          "text": [
            "The attention mask and the pad token id were not set. As a consequence, you may observe unexpected behavior. Please pass your input's `attention_mask` to obtain reliable results.\n",
            "Setting `pad_token_id` to `eos_token_id`:50256 for open-end generation.\n"
          ]
        },
        {
          "output_type": "stream",
          "name": "stdout",
          "text": [
            "  Batch 1,500  of  3,312. Loss: 0.1261553168296814.   Elapsed: 0:12:59.\n",
            "0: IONA good movie, but not really worth this price, as this was the one that was not really worth the wait. I mean, I'm kind of a weird nerd that has read this many times. And I figured it could be good if they figured out what the heck they were doing with this series. The acting was just as bad as most people in this story because I was so sure the movie would be great. The camera angles looked cool in the movie, but in the film, the characters were so low, and so the scene was so lame it had to have been filmed on a standard standard DVD that had  cameras, and this set was cut to look more like a normal print! This was  minutes long, and was way long after it started, the movie was like one hour long. Really, you can't be too much of a spoiler about the story. And what if a kid gets sick of the lame script, and after  minutes you are just bored that\n"
          ]
        },
        {
          "output_type": "stream",
          "name": "stderr",
          "text": [
            "The attention mask and the pad token id were not set. As a consequence, you may observe unexpected behavior. Please pass your input's `attention_mask` to obtain reliable results.\n",
            "Setting `pad_token_id` to `eos_token_id`:50256 for open-end generation.\n"
          ]
        },
        {
          "output_type": "stream",
          "name": "stdout",
          "text": [
            "  Batch 1,600  of  3,312. Loss: 0.6711881160736084.   Elapsed: 0:13:52.\n",
            "0:  glimpseJust plain bad!I got this movie a year ago and was excited because I was able to sit through the first thirty minutes and see the first  minutes of the movie.It was slow and boring. I was a big Star Trek fan but my expectations were minimal. I wanted to see more of the originals and not just the one. It's like the people from the early  on in it that they actually ran the show to the theater with lots of them trying to watch it. So even if they were not at the theaters, I would have stopped. I still remember the first time I saw it. It was good but the movie was poorly executed and the actors didn't make good movies.The whole thing sucked.The script is just plain bad.I felt ripped off at first, but when I went to watch it again I was happy. I was excited for the next half hour. I felt like I'd finally found the way to watch the show.\n"
          ]
        },
        {
          "output_type": "stream",
          "name": "stderr",
          "text": [
            "The attention mask and the pad token id were not set. As a consequence, you may observe unexpected behavior. Please pass your input's `attention_mask` to obtain reliable results.\n",
            "Setting `pad_token_id` to `eos_token_id`:50256 for open-end generation.\n"
          ]
        },
        {
          "output_type": "stream",
          "name": "stdout",
          "text": [
            "  Batch 1,700  of  3,312. Loss: 2.544663190841675.   Elapsed: 0:14:45.\n",
            "0:  LaureThe Most Stupid Movie of Time I've ever seen, Not in Hollywood. But I can see why Hollywood had the audacity to use the term 'horror' and why the film was the most depressing ever directed by a talented writer. I mean to look at some Hollywood movies like Woody Allen's Dracula of the Dead, The Last Time To Kill, and a film I like but the film, itself is not scary at all, even the fact of its existence, is the only major issue. Why? There are so many movies about the killer, most of which were made in  that were scary and only the worst, not the most stupid.I'm not joking. I know Hollywood has a reputation of wasting time on anything but bad movies. There are movies like The Village, when it's supposed to be a good movie, it's a bad one, as well as the movies made by people who could't act or act and could easily act. So to say it's one\n"
          ]
        },
        {
          "output_type": "stream",
          "name": "stderr",
          "text": [
            "The attention mask and the pad token id were not set. As a consequence, you may observe unexpected behavior. Please pass your input's `attention_mask` to obtain reliable results.\n",
            "Setting `pad_token_id` to `eos_token_id`:50256 for open-end generation.\n"
          ]
        },
        {
          "output_type": "stream",
          "name": "stdout",
          "text": [
            "  Batch 1,800  of  3,312. Loss: 1.109604001045227.   Elapsed: 0:15:38.\n",
            "0: ismThis is one of the worst movies I have ever seen. This is a good movie, not a scary movie I've ever seen, but it is only scary I can't do anything to make myself uncomfortable. This movie is just plain stupid. Don't buy.\n"
          ]
        },
        {
          "output_type": "stream",
          "name": "stderr",
          "text": [
            "The attention mask and the pad token id were not set. As a consequence, you may observe unexpected behavior. Please pass your input's `attention_mask` to obtain reliable results.\n",
            "Setting `pad_token_id` to `eos_token_id`:50256 for open-end generation.\n"
          ]
        },
        {
          "output_type": "stream",
          "name": "stdout",
          "text": [
            "  Batch 1,900  of  3,312. Loss: 0.5837228298187256.   Elapsed: 0:16:29.\n",
            "0: ounNot even in the movies at all.The originality of the movie could not be put into it this was the sequel, it was more like the first movie. It looked more like the first one than the second one. So one might actually want to see that instead of watching it.\n"
          ]
        },
        {
          "output_type": "stream",
          "name": "stderr",
          "text": [
            "The attention mask and the pad token id were not set. As a consequence, you may observe unexpected behavior. Please pass your input's `attention_mask` to obtain reliable results.\n",
            "Setting `pad_token_id` to `eos_token_id`:50256 for open-end generation.\n"
          ]
        },
        {
          "output_type": "stream",
          "name": "stdout",
          "text": [
            "  Batch 2,000  of  3,312. Loss: 1.1014591455459595.   Elapsed: 0:17:21.\n",
            "0:  electionThis mess is so bad I have to say that I actually agree with the description for this horrible movie. It is actually a real joke. What a waste. I am shocked by the lack of any good actors at this movie's lowest point. I thought I had heard bad things about it, just couldn't believe what I saw. I didn't watch any of the other versions, it was a horrible mess. The writing and direction is horrible. It's like watching some of the original comic books in a cardboard box.The characters do not have the charisma, sophistication, and personality the actors were given. I found this whole movie a waste of time, and a waste of money.\n"
          ]
        },
        {
          "output_type": "stream",
          "name": "stderr",
          "text": [
            "The attention mask and the pad token id were not set. As a consequence, you may observe unexpected behavior. Please pass your input's `attention_mask` to obtain reliable results.\n",
            "Setting `pad_token_id` to `eos_token_id`:50256 for open-end generation.\n"
          ]
        },
        {
          "output_type": "stream",
          "name": "stdout",
          "text": [
            "  Batch 2,100  of  3,312. Loss: 0.47905611991882324.   Elapsed: 0:18:13.\n",
            "0:  crazyA very disappointing film. It is not one of the best films and this film is not one to be released on DVD. I couldn't finish watching it at all.\n"
          ]
        },
        {
          "output_type": "stream",
          "name": "stderr",
          "text": [
            "The attention mask and the pad token id were not set. As a consequence, you may observe unexpected behavior. Please pass your input's `attention_mask` to obtain reliable results.\n",
            "Setting `pad_token_id` to `eos_token_id`:50256 for open-end generation.\n"
          ]
        },
        {
          "output_type": "stream",
          "name": "stdout",
          "text": [
            "  Batch 2,200  of  3,312. Loss: 2.3927526473999023.   Elapsed: 0:19:04.\n",
            "0:  benchDon't bother to watch this garbage garbage. Don't buy it. They don't even know what it's worth. They don't even look at any of the other reviews. This is  movies that deserve to be re-rated so there's nothing really worth watching.\n"
          ]
        },
        {
          "output_type": "stream",
          "name": "stderr",
          "text": [
            "The attention mask and the pad token id were not set. As a consequence, you may observe unexpected behavior. Please pass your input's `attention_mask` to obtain reliable results.\n",
            "Setting `pad_token_id` to `eos_token_id`:50256 for open-end generation.\n"
          ]
        },
        {
          "output_type": "stream",
          "name": "stdout",
          "text": [
            "  Batch 2,300  of  3,312. Loss: 2.1392595767974854.   Elapsed: 0:19:55.\n",
            "0:  incorporatedYou can't stop watching it.\n"
          ]
        },
        {
          "output_type": "stream",
          "name": "stderr",
          "text": [
            "The attention mask and the pad token id were not set. As a consequence, you may observe unexpected behavior. Please pass your input's `attention_mask` to obtain reliable results.\n",
            "Setting `pad_token_id` to `eos_token_id`:50256 for open-end generation.\n"
          ]
        },
        {
          "output_type": "stream",
          "name": "stdout",
          "text": [
            "  Batch 2,400  of  3,312. Loss: 0.8902139067649841.   Elapsed: 0:20:46.\n",
            "0: PeterWorthless nonsense The book has been a long time since I watched this one. This movie would have been a waste of a great cast. The fact that it was a great movie is testament to the fact that it was never developed to the point that this is a complete waste of time.\n"
          ]
        },
        {
          "output_type": "stream",
          "name": "stderr",
          "text": [
            "The attention mask and the pad token id were not set. As a consequence, you may observe unexpected behavior. Please pass your input's `attention_mask` to obtain reliable results.\n",
            "Setting `pad_token_id` to `eos_token_id`:50256 for open-end generation.\n"
          ]
        },
        {
          "output_type": "stream",
          "name": "stdout",
          "text": [
            "  Batch 2,500  of  3,312. Loss: 0.48843029141426086.   Elapsed: 0:21:37.\n",
            "0: uringJust Wanna See This? This movie is a disaster, I have seen everything that was produced in the industry. Even the director should have kept in contact with the directors. No one could have been more wrong in this production than the director. The way the director makes such a mistake, I can understand how and why this was made.\n"
          ]
        },
        {
          "output_type": "stream",
          "name": "stderr",
          "text": [
            "The attention mask and the pad token id were not set. As a consequence, you may observe unexpected behavior. Please pass your input's `attention_mask` to obtain reliable results.\n",
            "Setting `pad_token_id` to `eos_token_id`:50256 for open-end generation.\n"
          ]
        },
        {
          "output_type": "stream",
          "name": "stdout",
          "text": [
            "  Batch 2,600  of  3,312. Loss: 0.812929630279541.   Elapsed: 0:22:29.\n",
            "0:  reproductiveI've received the worst DVD I've seen for a long time. I was so disappointed. After the first  minutes you can't even get up to the script. The DVD has no background of background story line, no story line that is even remotely similar to the scenes I read from the books, and it just shows us a bunch of bad actors. Do you want a film that starts out bad, and drags on, and never really is the story line interesting any further, as it appears like it never started before at all? I guess this is not the case. And I'd like to believe there isn't a single plot line that you could ever really relate with in a movie like this. There's no suspense or emotional interest whatsoever. It's a waste of time and I've seen it with both the cast and the producers, too many actors and all.I'll say this about the DVD at least  min. I won't say anything that it's completely unbelievable\n"
          ]
        },
        {
          "output_type": "stream",
          "name": "stderr",
          "text": [
            "The attention mask and the pad token id were not set. As a consequence, you may observe unexpected behavior. Please pass your input's `attention_mask` to obtain reliable results.\n",
            "Setting `pad_token_id` to `eos_token_id`:50256 for open-end generation.\n"
          ]
        },
        {
          "output_type": "stream",
          "name": "stdout",
          "text": [
            "  Batch 2,700  of  3,312. Loss: 0.6566389203071594.   Elapsed: 0:23:22.\n",
            "0:  zoneThis DVD Is for You Not in the U.S. And Only the Amazon.com edition has the U.S. title and title. The movie runs  minutes long, so not worth buying.\n"
          ]
        },
        {
          "output_type": "stream",
          "name": "stderr",
          "text": [
            "The attention mask and the pad token id were not set. As a consequence, you may observe unexpected behavior. Please pass your input's `attention_mask` to obtain reliable results.\n",
            "Setting `pad_token_id` to `eos_token_id`:50256 for open-end generation.\n"
          ]
        },
        {
          "output_type": "stream",
          "name": "stdout",
          "text": [
            "  Batch 2,800  of  3,312. Loss: 0.38190412521362305.   Elapsed: 0:24:13.\n",
            "0:  commitsThey are so bad that it's good I fell asleep watching this movie. It is a good movie. I love action movies and I'm not going to say much. I was very bored with this movie. It started off ok and really, really, really, really, really boring. I love action movies but this wasn't. This was just a really bad movie. The first  of its half a life. I don't know what it was about. Don't waste your time and money on this. I just wanted a good film and I think it is.\n"
          ]
        },
        {
          "output_type": "stream",
          "name": "stderr",
          "text": [
            "The attention mask and the pad token id were not set. As a consequence, you may observe unexpected behavior. Please pass your input's `attention_mask` to obtain reliable results.\n",
            "Setting `pad_token_id` to `eos_token_id`:50256 for open-end generation.\n"
          ]
        },
        {
          "output_type": "stream",
          "name": "stdout",
          "text": [
            "  Batch 2,900  of  3,312. Loss: 3.063511848449707.   Elapsed: 0:25:05.\n",
            "0:  ironyA few seconds into the film I was thinking, Hey, what if it had just been a film about a zombie flick? I had thought that this was a film about zombie movies. The zombie movie was about the death of the zombies. It's supposed to be about a person trapped in a zombie bunker. It is not. The original  film of Zombie movies is about zombies being found in the abandoned areas of Zonne's home town, in the city that's where zombies are found. This story was based on the same story as that film. So why the zombie thing really happened? The zombies are in the house in the first place and are living in the underground underground underground. The zombie has apparently killed a zombie that's inside in another room. Of course it's true. They're in the same bed as the movie. So who killed the zombie? The original  zombie movie is about zombies eating zombies, and not only living in zombies. And the zombie movie was just one\n"
          ]
        },
        {
          "output_type": "stream",
          "name": "stderr",
          "text": [
            "The attention mask and the pad token id were not set. As a consequence, you may observe unexpected behavior. Please pass your input's `attention_mask` to obtain reliable results.\n",
            "Setting `pad_token_id` to `eos_token_id`:50256 for open-end generation.\n"
          ]
        },
        {
          "output_type": "stream",
          "name": "stdout",
          "text": [
            "  Batch 3,000  of  3,312. Loss: 0.19747745990753174.   Elapsed: 0:25:59.\n",
            "0:  SahDuh, I can't believe it! This was a joke in my mind. This movie had to be bad. As funny as any book that I have ever read, it was the most offensive comedy I have ever seen.This movie's humor was beyond disgusting. It had the worst plot you have ever seen. And when the plot is on show, the characters are trying to run around and attack the audience, it's like they were trying to find a way to destroy the movie by hitting one of the characters with one stick the person who has lost all emotion on their hands and killing it.This was a joke.\n"
          ]
        },
        {
          "output_type": "stream",
          "name": "stderr",
          "text": [
            "The attention mask and the pad token id were not set. As a consequence, you may observe unexpected behavior. Please pass your input's `attention_mask` to obtain reliable results.\n",
            "Setting `pad_token_id` to `eos_token_id`:50256 for open-end generation.\n"
          ]
        },
        {
          "output_type": "stream",
          "name": "stdout",
          "text": [
            "  Batch 3,100  of  3,312. Loss: 0.7478298544883728.   Elapsed: 0:26:51.\n",
            "0:  BryanWow you could get this crap in  This would not be possible given what you got with  or  This movie sucks i like him the whole way through it but the guy was so annoying i threw up before the end of  It was the end of the world as it went on..The movie started off very good but then it got turned off and the guys started drinking and they got into a fight..then they got into a divorce! Then one day they got back and did to an apartment for their dad's family. It was pretty bad and they got married for a couple months later.\n"
          ]
        },
        {
          "output_type": "stream",
          "name": "stderr",
          "text": [
            "The attention mask and the pad token id were not set. As a consequence, you may observe unexpected behavior. Please pass your input's `attention_mask` to obtain reliable results.\n",
            "Setting `pad_token_id` to `eos_token_id`:50256 for open-end generation.\n"
          ]
        },
        {
          "output_type": "stream",
          "name": "stdout",
          "text": [
            "  Batch 3,200  of  3,312. Loss: 0.8721094131469727.   Elapsed: 0:27:43.\n",
            "0:  spiritsThe Great White Sake is a wonderful movie, with great acting, but there is nothing in it that makes it worth buying. And its story is awful. Every plot in this movie is so weak and unbelievable as to be unwatchable. One star is to say this. The acting is so terrible it just goes to show just how much of a mess they are. Don't waste your time or money on this disaster and hope that you can get a refund or buy your defective copies. I hope the rest of your viewers do as well. I saw this as a great movie, and I hope it will not end.\n"
          ]
        },
        {
          "output_type": "stream",
          "name": "stderr",
          "text": [
            "The attention mask and the pad token id were not set. As a consequence, you may observe unexpected behavior. Please pass your input's `attention_mask` to obtain reliable results.\n",
            "Setting `pad_token_id` to `eos_token_id`:50256 for open-end generation.\n"
          ]
        },
        {
          "output_type": "stream",
          "name": "stdout",
          "text": [
            "  Batch 3,300  of  3,312. Loss: 1.394490361213684.   Elapsed: 0:28:35.\n",
            "0:  seesTotally ridiculous I didn't know how to buy this movie,but I thought it might be a hilarious film I had read.\n",
            "\n",
            "  Average training loss: 1.07\n",
            "  Training epoch took: 0:28:41\n",
            "\n",
            "Running Validation...\n",
            "  Validation Loss: 0.98\n",
            "  Validation took: 0:01:00\n",
            "\n",
            "======== Epoch 2 / 4 ========\n",
            "Training...\n"
          ]
        },
        {
          "output_type": "stream",
          "name": "stderr",
          "text": [
            "The attention mask and the pad token id were not set. As a consequence, you may observe unexpected behavior. Please pass your input's `attention_mask` to obtain reliable results.\n",
            "Setting `pad_token_id` to `eos_token_id`:50256 for open-end generation.\n"
          ]
        },
        {
          "output_type": "stream",
          "name": "stdout",
          "text": [
            "  Batch   100  of  3,312. Loss: 1.3498971462249756.   Elapsed: 0:00:51.\n",
            "0:  hungryI have absolutely NOT watched the whole thing before so please let me preface by stating that Amazon was not the best judge of the quality and content of the film. I watched  minutes of the movie because I was concerned for the quality of the film. It's so much better than the  DVD. It's about  miles long at the very least and is not even  feet long. I've watched a lot of films like Toy Story and Iron Man and it is just plain stinker. I had to fast forward through all three and watch about  minutes before the movie got any better and at least  minutes before the beginning of the movie I realized how bad I had to fast forward through this film. I thought that would be some cool dialogue or maybe something like a cameo. What I saw was awful in every possible way. I turned off the DVD player and popped it in so as if they were interested in seeing the movie for me but Amazon sent me with another movie. The\n"
          ]
        },
        {
          "output_type": "stream",
          "name": "stderr",
          "text": [
            "The attention mask and the pad token id were not set. As a consequence, you may observe unexpected behavior. Please pass your input's `attention_mask` to obtain reliable results.\n",
            "Setting `pad_token_id` to `eos_token_id`:50256 for open-end generation.\n"
          ]
        },
        {
          "output_type": "stream",
          "name": "stdout",
          "text": [
            "  Batch   200  of  3,312. Loss: 0.30181455612182617.   Elapsed: 0:01:43.\n",
            "0:  PTOne star because of the movie! I think this movie is one of my favorites. I watched  minutes of this movie on my own, I was bored, there were a couple scenes where the whole main character played by the lead actress, and the movie was good. I thought that this movie was going to be bad. I think the acting on this movie really sucked. If you want to see a really bad movie, watch one and enjoy it.\n"
          ]
        },
        {
          "output_type": "stream",
          "name": "stderr",
          "text": [
            "The attention mask and the pad token id were not set. As a consequence, you may observe unexpected behavior. Please pass your input's `attention_mask` to obtain reliable results.\n",
            "Setting `pad_token_id` to `eos_token_id`:50256 for open-end generation.\n"
          ]
        },
        {
          "output_type": "stream",
          "name": "stdout",
          "text": [
            "  Batch   300  of  3,312. Loss: 1.292328953742981.   Elapsed: 0:02:34.\n",
            "0: üMovies about the death of a loved one This was one of those films that I had to wait through a lot of times before watching this one. It is an incredibly boring and over the top story about the death of a loved one. All the characters are so off the wall from what I thought was a good story. However this one didn't make any sense at all. I also found the movie to be very flat in the story and I also found the dialogue annoying. This movie's acting, though not terrible, was terrible and the acting was average. This movie was basically just like other movies about what happened and it just wasn't very clear. I really felt as though I had just lost everything about what was going on in the life of a loved one and I wanted to just go see what had happened and get it back to myself. It was also confusing. The movie also made an awful impression on me I don't know how this made me hate movies like this and\n"
          ]
        },
        {
          "output_type": "stream",
          "name": "stderr",
          "text": [
            "The attention mask and the pad token id were not set. As a consequence, you may observe unexpected behavior. Please pass your input's `attention_mask` to obtain reliable results.\n",
            "Setting `pad_token_id` to `eos_token_id`:50256 for open-end generation.\n"
          ]
        },
        {
          "output_type": "stream",
          "name": "stdout",
          "text": [
            "  Batch   400  of  3,312. Loss: 0.5356236100196838.   Elapsed: 0:03:27.\n",
            "0: ruceDon't Be Fooled By this Movie It's not really a movie, it's simply a rip-off of old TV shows. The first episode is very funny when it comes to Jason. There isn't any originality or comedy, just cheap jokes and pointless characters. The other ones are the same Jason is from the TV series, but this one sucks.\n"
          ]
        },
        {
          "output_type": "stream",
          "name": "stderr",
          "text": [
            "The attention mask and the pad token id were not set. As a consequence, you may observe unexpected behavior. Please pass your input's `attention_mask` to obtain reliable results.\n",
            "Setting `pad_token_id` to `eos_token_id`:50256 for open-end generation.\n"
          ]
        },
        {
          "output_type": "stream",
          "name": "stdout",
          "text": [
            "  Batch   500  of  3,312. Loss: 1.7920676469802856.   Elapsed: 0:04:18.\n",
            "0:  derivativesStupid This is a movie I never saw, but I would have given it a  in my lifetime. It's so dumb. It was very dark, and it was so very grim.\n"
          ]
        },
        {
          "output_type": "stream",
          "name": "stderr",
          "text": [
            "The attention mask and the pad token id were not set. As a consequence, you may observe unexpected behavior. Please pass your input's `attention_mask` to obtain reliable results.\n",
            "Setting `pad_token_id` to `eos_token_id`:50256 for open-end generation.\n"
          ]
        },
        {
          "output_type": "stream",
          "name": "stdout",
          "text": [
            "  Batch   600  of  3,312. Loss: 0.5946794748306274.   Elapsed: 0:05:09.\n",
            "0: \u0019The only thing good about this is when one of the writers writers who wrote the screenplay was able to keep himself out of the movie making machine that would be his career.\n"
          ]
        },
        {
          "output_type": "stream",
          "name": "stderr",
          "text": [
            "The attention mask and the pad token id were not set. As a consequence, you may observe unexpected behavior. Please pass your input's `attention_mask` to obtain reliable results.\n",
            "Setting `pad_token_id` to `eos_token_id`:50256 for open-end generation.\n"
          ]
        },
        {
          "output_type": "stream",
          "name": "stdout",
          "text": [
            "  Batch   700  of  3,312. Loss: 0.23182353377342224.   Elapsed: 0:06:00.\n",
            "0:  rememberingWhat is going on with this?? When you say The movie is a failure. I won't bore you with details, but I will be sure to say that we are supposed to go on a Sunday afternoon when the sun is full of suny and we go to the circus. And that dance moves the viewer out of the movie as well.The main problem with this is that the acting is not quite good. The rest of the actors fall flat as an exercise in stupidity.When we are asked to pay attention we are supposed to be a person who can appreciate the humor. When watching the movie I expected the jokes and dancing are not even close. It seems like a huge waste of time.\n"
          ]
        },
        {
          "output_type": "stream",
          "name": "stderr",
          "text": [
            "The attention mask and the pad token id were not set. As a consequence, you may observe unexpected behavior. Please pass your input's `attention_mask` to obtain reliable results.\n",
            "Setting `pad_token_id` to `eos_token_id`:50256 for open-end generation.\n"
          ]
        },
        {
          "output_type": "stream",
          "name": "stdout",
          "text": [
            "  Batch   800  of  3,312. Loss: 0.7678815722465515.   Elapsed: 0:06:52.\n",
            "0:  SourcesTURKEY FILM FOR DVD. THIS ANIME WAS SO BAD. IT WAS THE WORST NIGHT I HAVE EVER SEEN! IT WAS WORTH THE ENTIRE NIGHT AND STUPID! IT WAS OVER THE TOP AND ALL THE MORE DEFECTIVES. WASN'T FUN AND OVER THE TOP AND ALL THE MORE OVER THE TOP.\n"
          ]
        },
        {
          "output_type": "stream",
          "name": "stderr",
          "text": [
            "The attention mask and the pad token id were not set. As a consequence, you may observe unexpected behavior. Please pass your input's `attention_mask` to obtain reliable results.\n",
            "Setting `pad_token_id` to `eos_token_id`:50256 for open-end generation.\n"
          ]
        },
        {
          "output_type": "stream",
          "name": "stdout",
          "text": [
            "  Batch   900  of  3,312. Loss: 0.18510256707668304.   Elapsed: 0:07:44.\n",
            "0: emsI just like to see more of my films. In the old days, if you wanted to watch a movie, just watch A.D. Jones. This movie is as far from the original as I get, and it's not good either. I don't want to waste my time watching this disaster.\n"
          ]
        },
        {
          "output_type": "stream",
          "name": "stderr",
          "text": [
            "The attention mask and the pad token id were not set. As a consequence, you may observe unexpected behavior. Please pass your input's `attention_mask` to obtain reliable results.\n",
            "Setting `pad_token_id` to `eos_token_id`:50256 for open-end generation.\n"
          ]
        },
        {
          "output_type": "stream",
          "name": "stdout",
          "text": [
            "  Batch 1,000  of  3,312. Loss: 1.843614935874939.   Elapsed: 0:08:35.\n",
            "0: tzHands off my Miserable Miserable I was able to get a Miserable movie in time for Christmas and not have to bother seeing one anymore to watch. Shame on you.\n"
          ]
        },
        {
          "output_type": "stream",
          "name": "stderr",
          "text": [
            "The attention mask and the pad token id were not set. As a consequence, you may observe unexpected behavior. Please pass your input's `attention_mask` to obtain reliable results.\n",
            "Setting `pad_token_id` to `eos_token_id`:50256 for open-end generation.\n"
          ]
        },
        {
          "output_type": "stream",
          "name": "stdout",
          "text": [
            "  Batch 1,100  of  3,312. Loss: 0.2533864974975586.   Elapsed: 0:09:25.\n",
            "0: maticDisaster in the Rain. This is a very bad, bad, terrible remake of the classic sci fi film. In fact, the film has no resemblance to the original. As many reviewers have mentioned, the acting is so terrible that it should rank as one of the most dull, boring movies I have ever watched. The dialogue is atrocious and the music is so loud that it makes you wonder why it even exists. Why remake this lame, boring, poorly written movie? The writing is wretched, the music is bad, and the characters are so thin and devoid of anything resembling motivation. At one point, I was on the edge of my seat asking myself, Why this terrible film? I guess we got an over-priced remaking.The dialogue was terrible, the direction terrible, the plot horrible, I don't know what they did, or what happened to all of the characters, or why it's worse than the first two. There is something about this remake, but in\n"
          ]
        },
        {
          "output_type": "stream",
          "name": "stderr",
          "text": [
            "The attention mask and the pad token id were not set. As a consequence, you may observe unexpected behavior. Please pass your input's `attention_mask` to obtain reliable results.\n",
            "Setting `pad_token_id` to `eos_token_id`:50256 for open-end generation.\n"
          ]
        },
        {
          "output_type": "stream",
          "name": "stdout",
          "text": [
            "  Batch 1,200  of  3,312. Loss: 1.1661531925201416.   Elapsed: 0:10:18.\n",
            "0:  syndDump the movie! I have to say that this movie sucked.I found it to be a complete waste of money and time. The plot was extremely predictable, the characterizations are juvenile, the editing very hard to follow, and that's about all it's worth. I can't say I'm talking about the fact that a lot of what looked like a straight to video story line was just a joke. You would think that if someone took such liberties, it would be pretty hilarious, but I'm not going to say that, because I'm sure it was really funny; it was just too bad. I wouldn't recommend buying any more of these types of movies, just as the others don't have a story line. You've got to wonder why these movies are ever made.\n"
          ]
        },
        {
          "output_type": "stream",
          "name": "stderr",
          "text": [
            "The attention mask and the pad token id were not set. As a consequence, you may observe unexpected behavior. Please pass your input's `attention_mask` to obtain reliable results.\n",
            "Setting `pad_token_id` to `eos_token_id`:50256 for open-end generation.\n"
          ]
        },
        {
          "output_type": "stream",
          "name": "stdout",
          "text": [
            "  Batch 1,300  of  3,312. Loss: 0.5697302222251892.   Elapsed: 0:11:10.\n",
            "0:  gamHorrible, badly directed. This film is based on a true story. I do not even know where to begin. I will warn you, this movie is totally biased in the  movie but is still a true story. This movie should never even be called the  movie unless you are going to say a true story about a young black boy in a poor  lives in the  movie. The  movie is just a glorified porno movie. If I could give a negative rating, I would for you to avoid this movie.I would not recommend this to anyone. I have never seen a movie this bad that is made to be a glorified porno. There are many better ways to watch. A movie that is not supposed to be glorified in the movies. There are many movies made in the past that are very good. But this one is so, and the makers of this movie had to make sure they chose the right story to be made. Some of the scenes\n"
          ]
        },
        {
          "output_type": "stream",
          "name": "stderr",
          "text": [
            "The attention mask and the pad token id were not set. As a consequence, you may observe unexpected behavior. Please pass your input's `attention_mask` to obtain reliable results.\n",
            "Setting `pad_token_id` to `eos_token_id`:50256 for open-end generation.\n"
          ]
        },
        {
          "output_type": "stream",
          "name": "stdout",
          "text": [
            "  Batch 1,400  of  3,312. Loss: 0.6328461170196533.   Elapsed: 0:12:04.\n",
            "0:  injuryDud, pointless and stupid. The one star was for the fact that all the film makers did to get the title and they should be ashamed of themselves. In the whole world, they should have made a little more money.\n"
          ]
        },
        {
          "output_type": "stream",
          "name": "stderr",
          "text": [
            "The attention mask and the pad token id were not set. As a consequence, you may observe unexpected behavior. Please pass your input's `attention_mask` to obtain reliable results.\n",
            "Setting `pad_token_id` to `eos_token_id`:50256 for open-end generation.\n"
          ]
        },
        {
          "output_type": "stream",
          "name": "stdout",
          "text": [
            "  Batch 1,500  of  3,312. Loss: 1.2148526906967163.   Elapsed: 0:12:55.\n",
            "0: azaHow long will this time take to download? I don't think it will all be available in five years but the streaming is supposed to be as fast as a DVD or Blu-Ray. It is ridiculous! I have a PC and have nothing to do with it but I've purchased it for about what I just saw. The streaming is terrible!\n"
          ]
        },
        {
          "output_type": "stream",
          "name": "stderr",
          "text": [
            "The attention mask and the pad token id were not set. As a consequence, you may observe unexpected behavior. Please pass your input's `attention_mask` to obtain reliable results.\n",
            "Setting `pad_token_id` to `eos_token_id`:50256 for open-end generation.\n"
          ]
        },
        {
          "output_type": "stream",
          "name": "stdout",
          "text": [
            "  Batch 1,600  of  3,312. Loss: 1.796370029449463.   Elapsed: 0:13:46.\n",
            "0:  membraneBoring and pointless. A little over made and overpaid comedy. The cast was as uninteresting as ever.\n"
          ]
        },
        {
          "output_type": "stream",
          "name": "stderr",
          "text": [
            "The attention mask and the pad token id were not set. As a consequence, you may observe unexpected behavior. Please pass your input's `attention_mask` to obtain reliable results.\n",
            "Setting `pad_token_id` to `eos_token_id`:50256 for open-end generation.\n"
          ]
        },
        {
          "output_type": "stream",
          "name": "stdout",
          "text": [
            "  Batch 1,700  of  3,312. Loss: 2.0893211364746094.   Elapsed: 0:14:37.\n",
            "0: ijingBad Boring and Dull The picture quality is not great. A major shame because the story is weak and not enjoyable.\n"
          ]
        },
        {
          "output_type": "stream",
          "name": "stderr",
          "text": [
            "The attention mask and the pad token id were not set. As a consequence, you may observe unexpected behavior. Please pass your input's `attention_mask` to obtain reliable results.\n",
            "Setting `pad_token_id` to `eos_token_id`:50256 for open-end generation.\n"
          ]
        },
        {
          "output_type": "stream",
          "name": "stdout",
          "text": [
            "  Batch 1,800  of  3,312. Loss: 1.3948603868484497.   Elapsed: 0:15:27.\n",
            "0:  castNot what I expected My favorite aspects of this film are the action sequences, but not a lot. I expected more from a director who decided to make a sequel to the original. The story was more in keeping with the movie's pace than the original. I was disappointed with this remake which is so similar to the original's story which I believe made me think it was going to be interesting.It starts out promising enough. the good guys are pretty.I give this one a  thumbs down. But I've just watched the original so I know that it would be much better if it was about the war and not the military. The only thing you can get for the first half were some good lines in the dialogue and dialog. My advice, read the book.\n"
          ]
        },
        {
          "output_type": "stream",
          "name": "stderr",
          "text": [
            "The attention mask and the pad token id were not set. As a consequence, you may observe unexpected behavior. Please pass your input's `attention_mask` to obtain reliable results.\n",
            "Setting `pad_token_id` to `eos_token_id`:50256 for open-end generation.\n"
          ]
        },
        {
          "output_type": "stream",
          "name": "stdout",
          "text": [
            "  Batch 1,900  of  3,312. Loss: 0.2279408872127533.   Elapsed: 0:16:20.\n",
            "0:  purchITEM IS DEAD! The only reason to see this movie was because I just finished watching it on a blu-ray player. I thought it would be the good part and I'm not even sure how anyone with taste couldn sit through it. It just doesn't seem that way. This is a movie that could have worked and it doesn't work. The characters act like they were on the airplane, and they have no sense of logic. People come and go! And I don't care if the people died or were not killed. Why was the woman in this one? It doesn't seem that she survived, but you could tell she was just trying to make a buck. Don't get me wrong. She probably got an abortion because her husband didn't want him, and if he wasn't to blame, we had all the other actors. Also, why on Earth would anyone pay for this stuff so it won't be a movie? So, we don't know where the killer\n"
          ]
        },
        {
          "output_type": "stream",
          "name": "stderr",
          "text": [
            "The attention mask and the pad token id were not set. As a consequence, you may observe unexpected behavior. Please pass your input's `attention_mask` to obtain reliable results.\n",
            "Setting `pad_token_id` to `eos_token_id`:50256 for open-end generation.\n"
          ]
        },
        {
          "output_type": "stream",
          "name": "stdout",
          "text": [
            "  Batch 2,000  of  3,312. Loss: 0.5565527081489563.   Elapsed: 0:17:13.\n",
            "0:  shouldersHorror. This movie was terrible and I thought if this was supposed to be any good, they should have made a better movie. I am going to start by saying, this movie was horrid. As much as I hate it in the way it would be called entertainment. You know what I hate it in the bad it's bad kind of way. I don't know what's worse, but this was terrible. The acting and story was substandard, I could not believe how much I wasted money on this movie. I don't blame the viewers, for being so desperate. My wife and I have a hard time paying for these types of things and we both agree that. I was very dissapointed by this movie. I would give it  or zero stars\n"
          ]
        },
        {
          "output_type": "stream",
          "name": "stderr",
          "text": [
            "The attention mask and the pad token id were not set. As a consequence, you may observe unexpected behavior. Please pass your input's `attention_mask` to obtain reliable results.\n",
            "Setting `pad_token_id` to `eos_token_id`:50256 for open-end generation.\n"
          ]
        },
        {
          "output_type": "stream",
          "name": "stdout",
          "text": [
            "  Batch 2,100  of  3,312. Loss: 0.4844692051410675.   Elapsed: 0:18:05.\n",
            "0:  builtHow stupid can a movie go when it's not enough? When you take the whole cast of the film and give it the name The Changeling, what kind of plot and character development was all it was going for? It is as a sadistic love story, but with a bit more depth and a bit more character development. Don't waste your time. I am glad it was free, because there was just the right amount of effort to make the movie.\n"
          ]
        },
        {
          "output_type": "stream",
          "name": "stderr",
          "text": [
            "The attention mask and the pad token id were not set. As a consequence, you may observe unexpected behavior. Please pass your input's `attention_mask` to obtain reliable results.\n",
            "Setting `pad_token_id` to `eos_token_id`:50256 for open-end generation.\n"
          ]
        },
        {
          "output_type": "stream",
          "name": "stdout",
          "text": [
            "  Batch 2,200  of  3,312. Loss: 1.2417556047439575.   Elapsed: 0:18:57.\n",
            "0:  openlyThe worst movie I have ever seen. This movie has been rated for one star because, while some of the lines are pretty funny, this was a waste of time for me.The movie starts with the premise of the book, which has a couple of things going with the book; one is the ending. The idea of the plot is pretty weak, and the other takes longer than that.The characters in the book are so thin, the writers have to do so without being inspired, and they just don't fit the entire book. The movie's script is so dumb, you have to wonder at the lines being said. And when it comes to actors, it's obvious these people are trying to be funny in the most ridiculous ways. I was surprised I only spent the  to make up for the fact that they were so lame and boring. A waste of film!I've seen all the movie's out, and I have always wondered where the idea was for the book and why\n"
          ]
        },
        {
          "output_type": "stream",
          "name": "stderr",
          "text": [
            "The attention mask and the pad token id were not set. As a consequence, you may observe unexpected behavior. Please pass your input's `attention_mask` to obtain reliable results.\n",
            "Setting `pad_token_id` to `eos_token_id`:50256 for open-end generation.\n"
          ]
        },
        {
          "output_type": "stream",
          "name": "stdout",
          "text": [
            "  Batch 2,300  of  3,312. Loss: 0.43771976232528687.   Elapsed: 0:19:50.\n",
            "0:  haltedA complete disappointment My niece rented this show because she was eager to watch it again. I guess she just found the DVDs on dvd-R.I hope we don't have to purchase this set again.\n"
          ]
        },
        {
          "output_type": "stream",
          "name": "stderr",
          "text": [
            "The attention mask and the pad token id were not set. As a consequence, you may observe unexpected behavior. Please pass your input's `attention_mask` to obtain reliable results.\n",
            "Setting `pad_token_id` to `eos_token_id`:50256 for open-end generation.\n"
          ]
        },
        {
          "output_type": "stream",
          "name": "stdout",
          "text": [
            "  Batch 2,400  of  3,312. Loss: 0.5030397176742554.   Elapsed: 0:20:41.\n",
            "0:  NikHilarious and a Waste of Time... This movie is about as good as it gets. For the first  minutes, I really wanted to slap my face at myself for wanting to watch this movie. I found myself laughing off, but then I discovered that it was a movie with a lot of fake and fake sexual scenes. In a movie, real rape scenes with real sexual scenes. Not in a movie. I didn't even like the movies where women have real sex and do a 'rouse' with one another. This movie is the kind of movie where it seems that the male is really just an 'homage' to the women who are portrayed assexual and as if they are being 'hooked up'. This movie is a bit like 'The Passion of the Rascals' with a lot of fake sexual scenes and no real rape scenes. I also find the movie in the trash heap of theaters because that the 'director' of this movie would not be able\n"
          ]
        },
        {
          "output_type": "stream",
          "name": "stderr",
          "text": [
            "The attention mask and the pad token id were not set. As a consequence, you may observe unexpected behavior. Please pass your input's `attention_mask` to obtain reliable results.\n",
            "Setting `pad_token_id` to `eos_token_id`:50256 for open-end generation.\n"
          ]
        },
        {
          "output_type": "stream",
          "name": "stdout",
          "text": [
            "  Batch 2,500  of  3,312. Loss: 1.6468039751052856.   Elapsed: 0:21:34.\n",
            "0:  tinboring I don't like this type of film because its boring and unromantic. If you like horror movies, then this type of flick is not for you. But if you like watching people die.then perhaps this review is for you. The movie starts out with these scenes being set in the South. There are a few scenes that seemed rather strange at first. The acting is bad. Some of the old cast members are not funny in their roles. There are some things that happen too long, which is the best part of the movie. I was quite upset that the actors on stage was having a big role with these types of movies. They are always bad. When I went to see the movie, I found myself saying to myself, quot;this is not a good moviequot;.quot; After watching quot;The Crowquot;, I felt like I would have to go to the theaters to see quot;The Crowquot;,quot\n"
          ]
        },
        {
          "output_type": "stream",
          "name": "stderr",
          "text": [
            "The attention mask and the pad token id were not set. As a consequence, you may observe unexpected behavior. Please pass your input's `attention_mask` to obtain reliable results.\n",
            "Setting `pad_token_id` to `eos_token_id`:50256 for open-end generation.\n"
          ]
        },
        {
          "output_type": "stream",
          "name": "stdout",
          "text": [
            "  Batch 2,600  of  3,312. Loss: 1.6294786930084229.   Elapsed: 0:22:27.\n",
            "0:  clinicalA Waste of Time You can't imagine a movie so far with this. This movie was awful. The plot twists turned the movie into a film made solely for the sake of plot twists. You know, this one makes the same mistake it does. This is so boring you have to watch more movies. What did the cast do or do they watch the movie? You can't imagine a plot twist, but what you could tell me is that it was a bunch of scenes of plot twists, a poorly executed, poorly written and poorly acted, all of which are a rip-off. They even tried to blend this together to make it work. Maybe someday someone will try to find that story. If someone could give a movie plot twist and even make it work, it would be this one.\n"
          ]
        },
        {
          "output_type": "stream",
          "name": "stderr",
          "text": [
            "The attention mask and the pad token id were not set. As a consequence, you may observe unexpected behavior. Please pass your input's `attention_mask` to obtain reliable results.\n",
            "Setting `pad_token_id` to `eos_token_id`:50256 for open-end generation.\n"
          ]
        },
        {
          "output_type": "stream",
          "name": "stdout",
          "text": [
            "  Batch 2,700  of  3,312. Loss: 2.056901693344116.   Elapsed: 0:23:20.\n",
            "0: lectionsWhat?!? What was this waste of time? It is not good.The idea of an all star cast didn't pass the muster. It was a shame too. And the storyline wasn't believable. The cast looks like an amateur movie. The movie also didn't use the acting from the  Even by that point I could hardly tolerate more.This movie also was poorly acted. A few shots of the main characters. I was completely shocked that this type of movie made it to theaters.This is why the reviews don't give a plot about this movie, it is a waste of time.\n"
          ]
        },
        {
          "output_type": "stream",
          "name": "stderr",
          "text": [
            "The attention mask and the pad token id were not set. As a consequence, you may observe unexpected behavior. Please pass your input's `attention_mask` to obtain reliable results.\n",
            "Setting `pad_token_id` to `eos_token_id`:50256 for open-end generation.\n"
          ]
        },
        {
          "output_type": "stream",
          "name": "stdout",
          "text": [
            "  Batch 2,800  of  3,312. Loss: 0.6995875835418701.   Elapsed: 0:24:12.\n",
            "0: elsOne Star Line. HUH! No more than the usual film from one of the oldest of all time-old series-that's what we have to admire and respect! Not about this film. But its more like an actual effort to make the film interesting than its obvious flaws. HUH! But that would be just a case study in the movie. No more than that. There is no more than this story line. I just think that when you think about the person being someone in the  and  then you'll be so, yes you will.\n"
          ]
        },
        {
          "output_type": "stream",
          "name": "stderr",
          "text": [
            "The attention mask and the pad token id were not set. As a consequence, you may observe unexpected behavior. Please pass your input's `attention_mask` to obtain reliable results.\n",
            "Setting `pad_token_id` to `eos_token_id`:50256 for open-end generation.\n"
          ]
        },
        {
          "output_type": "stream",
          "name": "stdout",
          "text": [
            "  Batch 2,900  of  3,312. Loss: 0.37519946694374084.   Elapsed: 0:25:03.\n",
            "0: labWhy? This is a movie that should never be called a horror movie. It is not a horror movie, much less a vampire movie. It tries very hard to be scary but fails as well. I don't recommend this movie.\n"
          ]
        },
        {
          "output_type": "stream",
          "name": "stderr",
          "text": [
            "The attention mask and the pad token id were not set. As a consequence, you may observe unexpected behavior. Please pass your input's `attention_mask` to obtain reliable results.\n",
            "Setting `pad_token_id` to `eos_token_id`:50256 for open-end generation.\n"
          ]
        },
        {
          "output_type": "stream",
          "name": "stdout",
          "text": [
            "  Batch 3,000  of  3,312. Loss: 0.6530717015266418.   Elapsed: 0:25:54.\n",
            "0:  tripleSick, Stupid, Silly This movie is full of stupid behavior.I think it's a good sign, that this movie is so bad that it's one of the most boringest movies ever made. If you are wondering how a bad movie like this gets made then you might want to look for it in my local search.\n"
          ]
        },
        {
          "output_type": "stream",
          "name": "stderr",
          "text": [
            "The attention mask and the pad token id were not set. As a consequence, you may observe unexpected behavior. Please pass your input's `attention_mask` to obtain reliable results.\n",
            "Setting `pad_token_id` to `eos_token_id`:50256 for open-end generation.\n"
          ]
        },
        {
          "output_type": "stream",
          "name": "stdout",
          "text": [
            "  Batch 3,100  of  3,312. Loss: 0.5423281192779541.   Elapsed: 0:26:45.\n",
            "0: 220It's been about five years since I saw this one I have been waiting for this sequel to be made and hopefully to be released in  or  is not the case. I'm sure as a huge fan I've seen all the films before and will be getting a second chance as a person but for me it's a chore to sit through.\n"
          ]
        },
        {
          "output_type": "stream",
          "name": "stderr",
          "text": [
            "The attention mask and the pad token id were not set. As a consequence, you may observe unexpected behavior. Please pass your input's `attention_mask` to obtain reliable results.\n",
            "Setting `pad_token_id` to `eos_token_id`:50256 for open-end generation.\n"
          ]
        },
        {
          "output_type": "stream",
          "name": "stdout",
          "text": [
            "  Batch 3,200  of  3,312. Loss: 0.8759480714797974.   Elapsed: 0:27:36.\n",
            "0:  SeeStilted This film seemed to be shot with a standard computer and some color, but not much substance. This time it is filmed with a digital copy, and that version is not available. The special effects are poor at best and seem cheap at best. The acting is poor at best, especially as the actors appear to have no range or range of emotions throughout. It is possible that this film is based on true events, but there is no context to the events and it does not add up to the whole experience. This film also fails in its attempts at humor. While there is some funny moments in this film with some humor, it is also very dry and depressing. You will probably not have to pay to see this movie at the theatre.\n"
          ]
        },
        {
          "output_type": "stream",
          "name": "stderr",
          "text": [
            "The attention mask and the pad token id were not set. As a consequence, you may observe unexpected behavior. Please pass your input's `attention_mask` to obtain reliable results.\n",
            "Setting `pad_token_id` to `eos_token_id`:50256 for open-end generation.\n"
          ]
        },
        {
          "output_type": "stream",
          "name": "stdout",
          "text": [
            "  Batch 3,300  of  3,312. Loss: 0.9460675120353699.   Elapsed: 0:28:29.\n",
            "0: @@Shame! I saw this movie yesterday and it looked terrible. This is one of the worst movies I've ever seen and I've really tried to give it zero stars.The storyline was flat and I just couldn't get into it. It kept repeating scenes and I couldn't even get past it.It was like I'm trying to watch the movie to get my teeth cleaned and have someone else's idea of how it would have made a film. I've seen this movie many times since and I'm really glad I had the chance to see it in theaters.\n",
            "\n",
            "  Average training loss: 0.90\n",
            "  Training epoch took: 0:28:36\n",
            "\n",
            "Running Validation...\n",
            "  Validation Loss: 1.01\n",
            "  Validation took: 0:01:00\n",
            "\n",
            "======== Epoch 3 / 4 ========\n",
            "Training...\n"
          ]
        },
        {
          "output_type": "stream",
          "name": "stderr",
          "text": [
            "The attention mask and the pad token id were not set. As a consequence, you may observe unexpected behavior. Please pass your input's `attention_mask` to obtain reliable results.\n",
            "Setting `pad_token_id` to `eos_token_id`:50256 for open-end generation.\n"
          ]
        },
        {
          "output_type": "stream",
          "name": "stdout",
          "text": [
            "  Batch   100  of  3,312. Loss: 0.6500779390335083.   Elapsed: 0:00:50.\n",
            "0:  hostI am a huge fan of the original TV series, I'm easily one of the biggest fans of all time, well that's why I bought this collection of original TV's.I'm willing to admit that I was pretty ticked off as I watched. In fact, as far as the show goes, you'll be pretty much sure I'd never watched another TV show with my husband and it sure felt like like I'd never finished watching a show before. I think I know how to make a good TV show more than once, but to watch a TV show like this one I'm sure I'd lose a bet. I guess if you like to listen to the original TV series, you're probably not alone, and I'm a huge fan of the original TV series. To me I found the show very original, and I'm pretty sure it had more of a heart and soul than the show itself, and a lot of heart and soul. I was really looking forward to seeing\n"
          ]
        },
        {
          "output_type": "stream",
          "name": "stderr",
          "text": [
            "The attention mask and the pad token id were not set. As a consequence, you may observe unexpected behavior. Please pass your input's `attention_mask` to obtain reliable results.\n",
            "Setting `pad_token_id` to `eos_token_id`:50256 for open-end generation.\n"
          ]
        },
        {
          "output_type": "stream",
          "name": "stdout",
          "text": [
            "  Batch   200  of  3,312. Loss: 0.38402584195137024.   Elapsed: 0:01:43.\n",
            "0: roleOne of the worst movies I've seen all year long If you are a regular movie watcher of Middle-aged America, this is a good movie. but if you are a pre-teen, this movie is not for you.\n"
          ]
        },
        {
          "output_type": "stream",
          "name": "stderr",
          "text": [
            "The attention mask and the pad token id were not set. As a consequence, you may observe unexpected behavior. Please pass your input's `attention_mask` to obtain reliable results.\n",
            "Setting `pad_token_id` to `eos_token_id`:50256 for open-end generation.\n"
          ]
        },
        {
          "output_type": "stream",
          "name": "stdout",
          "text": [
            "  Batch   300  of  3,312. Loss: 0.45320606231689453.   Elapsed: 0:02:34.\n",
            "0: iacNot the right size I did like the size of this dvd. It was too long and a little too much for me. The music was cheesy and that was one of the reasons I didn't like this movie. I'm old enough to be able to tolerate that kind of music and movies.\n"
          ]
        },
        {
          "output_type": "stream",
          "name": "stderr",
          "text": [
            "The attention mask and the pad token id were not set. As a consequence, you may observe unexpected behavior. Please pass your input's `attention_mask` to obtain reliable results.\n",
            "Setting `pad_token_id` to `eos_token_id`:50256 for open-end generation.\n"
          ]
        },
        {
          "output_type": "stream",
          "name": "stdout",
          "text": [
            "  Batch   400  of  3,312. Loss: 0.3066341280937195.   Elapsed: 0:03:25.\n",
            "0:  LDIf only people could see the movie The story, how it all ends, is really amazing but I was wrong. The acting is just so horrible that even the actors in this movie didn't know it was going to be bad.\n"
          ]
        },
        {
          "output_type": "stream",
          "name": "stderr",
          "text": [
            "The attention mask and the pad token id were not set. As a consequence, you may observe unexpected behavior. Please pass your input's `attention_mask` to obtain reliable results.\n",
            "Setting `pad_token_id` to `eos_token_id`:50256 for open-end generation.\n"
          ]
        },
        {
          "output_type": "stream",
          "name": "stdout",
          "text": [
            "  Batch   500  of  3,312. Loss: 1.9534426927566528.   Elapsed: 0:04:16.\n",
            "0:  ListenA total waste of time. I hate films. I want to be a part of them and enjoy them but what I get instead is a whole bunch of horrible, boring dialogue and action. For the most part, if it weren't bad enough, I like this film but I like to keep my boredom on, keep on watching, but it just drags.\n"
          ]
        },
        {
          "output_type": "stream",
          "name": "stderr",
          "text": [
            "The attention mask and the pad token id were not set. As a consequence, you may observe unexpected behavior. Please pass your input's `attention_mask` to obtain reliable results.\n",
            "Setting `pad_token_id` to `eos_token_id`:50256 for open-end generation.\n"
          ]
        },
        {
          "output_type": "stream",
          "name": "stdout",
          "text": [
            "  Batch   600  of  3,312. Loss: 1.3729031085968018.   Elapsed: 0:05:07.\n",
            "0:  dyHorrible DVD transfer I just bought this DVD and was unable to transfer it. I have returned it and will send it back as soon as I see whether it will be returned or not.\n"
          ]
        },
        {
          "output_type": "stream",
          "name": "stderr",
          "text": [
            "The attention mask and the pad token id were not set. As a consequence, you may observe unexpected behavior. Please pass your input's `attention_mask` to obtain reliable results.\n",
            "Setting `pad_token_id` to `eos_token_id`:50256 for open-end generation.\n"
          ]
        },
        {
          "output_type": "stream",
          "name": "stdout",
          "text": [
            "  Batch   700  of  3,312. Loss: 0.20974530279636383.   Elapsed: 0:05:58.\n",
            "0:  DomesticWasted money  of the DVD came in a box. I bought it and gave it away, and when i got to it there was no good stuff to it. I was so disappointed and would not play this again.\n"
          ]
        },
        {
          "output_type": "stream",
          "name": "stderr",
          "text": [
            "The attention mask and the pad token id were not set. As a consequence, you may observe unexpected behavior. Please pass your input's `attention_mask` to obtain reliable results.\n",
            "Setting `pad_token_id` to `eos_token_id`:50256 for open-end generation.\n"
          ]
        },
        {
          "output_type": "stream",
          "name": "stdout",
          "text": [
            "  Batch   800  of  3,312. Loss: 0.3273090422153473.   Elapsed: 0:06:48.\n",
            "0:  beneficiariesAwI know you're upset about the ratings this movie received. After reading the reviews I was curious to see if they had watched the movie in it's entirety or if it was edited to such a point that they would not watch it. I think these movies have become the norm in Hollywood Hollywood, but don't expect movies that focus on the entertainment value of a movie that is meant to entertain. My advice would be to do nothing but watch it.\n"
          ]
        },
        {
          "output_type": "stream",
          "name": "stderr",
          "text": [
            "The attention mask and the pad token id were not set. As a consequence, you may observe unexpected behavior. Please pass your input's `attention_mask` to obtain reliable results.\n",
            "Setting `pad_token_id` to `eos_token_id`:50256 for open-end generation.\n"
          ]
        },
        {
          "output_type": "stream",
          "name": "stdout",
          "text": [
            "  Batch   900  of  3,312. Loss: 1.1451319456100464.   Elapsed: 0:07:40.\n",
            "0:  TitleI have a good idea what the movie is about! I watched this movie to be bored, and disappointed. Not as much as it thinks it is about the death of her boyfriends father, but about her mental illness. I am going to wait until it is over. I feel depressed. I am so depressed. This movie has no redeeming qualities in it, and no redeeming qualities in the movie. I gave this movie one star only because it was at the highest level. I would not recommend it.\n"
          ]
        },
        {
          "output_type": "stream",
          "name": "stderr",
          "text": [
            "The attention mask and the pad token id were not set. As a consequence, you may observe unexpected behavior. Please pass your input's `attention_mask` to obtain reliable results.\n",
            "Setting `pad_token_id` to `eos_token_id`:50256 for open-end generation.\n"
          ]
        },
        {
          "output_type": "stream",
          "name": "stdout",
          "text": [
            "  Batch 1,000  of  3,312. Loss: 0.4323602318763733.   Elapsed: 0:08:32.\n",
            "0:  μDon't waste your time or money. It's too bad because there was a  minute episode of this movie in it which I can't remember much about. I would have had to re-winded it a lot because the title says it all.\n"
          ]
        },
        {
          "output_type": "stream",
          "name": "stderr",
          "text": [
            "The attention mask and the pad token id were not set. As a consequence, you may observe unexpected behavior. Please pass your input's `attention_mask` to obtain reliable results.\n",
            "Setting `pad_token_id` to `eos_token_id`:50256 for open-end generation.\n"
          ]
        },
        {
          "output_type": "stream",
          "name": "stdout",
          "text": [
            "  Batch 1,100  of  3,312. Loss: 0.0991852656006813.   Elapsed: 0:09:23.\n",
            "0:  sellingUnfunny Movie This was not funny at all. I saw the same thing a few years ago and I am not surprised there are so many people saying that this movie is not funny and that this movie is not funny. I don't get it. I thought this movie is funny and it is not.\n"
          ]
        },
        {
          "output_type": "stream",
          "name": "stderr",
          "text": [
            "The attention mask and the pad token id were not set. As a consequence, you may observe unexpected behavior. Please pass your input's `attention_mask` to obtain reliable results.\n",
            "Setting `pad_token_id` to `eos_token_id`:50256 for open-end generation.\n"
          ]
        },
        {
          "output_type": "stream",
          "name": "stdout",
          "text": [
            "  Batch 1,200  of  3,312. Loss: 0.3469844162464142.   Elapsed: 0:10:14.\n",
            "0:  migrantThe most stupid and stupid movie ever made, again. How can you tell me that it's not just stupid and stupid that I cannot even get into. A few of the stupid scenes had me slapping my face in. In fact, I said to myself in advance that I have no idea why I would do that, but I did give it a try, just to see what's going to happen. All I can say is that I'm sorry I wasted my money on this.I'm  and I'm  and it's nothing like this flick. What are you getting here for  bucks for making a movie that is so stupid?\n"
          ]
        },
        {
          "output_type": "stream",
          "name": "stderr",
          "text": [
            "The attention mask and the pad token id were not set. As a consequence, you may observe unexpected behavior. Please pass your input's `attention_mask` to obtain reliable results.\n",
            "Setting `pad_token_id` to `eos_token_id`:50256 for open-end generation.\n"
          ]
        },
        {
          "output_type": "stream",
          "name": "stdout",
          "text": [
            "  Batch 1,300  of  3,312. Loss: 0.7183132767677307.   Elapsed: 0:11:06.\n",
            "0: ivelyWaste of time. It's not funny at all. Just poorly written and poorly acted. Just plain awful.\n"
          ]
        },
        {
          "output_type": "stream",
          "name": "stderr",
          "text": [
            "The attention mask and the pad token id were not set. As a consequence, you may observe unexpected behavior. Please pass your input's `attention_mask` to obtain reliable results.\n",
            "Setting `pad_token_id` to `eos_token_id`:50256 for open-end generation.\n"
          ]
        },
        {
          "output_type": "stream",
          "name": "stdout",
          "text": [
            "  Batch 1,400  of  3,312. Loss: 0.4558061361312866.   Elapsed: 0:11:56.\n",
            "0:  orderUnwatchable I love Robin Williams' voice and cinematography but this movie lacked any emotional connection to him or his characters. I found this movie to be like watching a dog doing a wheelie in a cage.\n"
          ]
        },
        {
          "output_type": "stream",
          "name": "stderr",
          "text": [
            "The attention mask and the pad token id were not set. As a consequence, you may observe unexpected behavior. Please pass your input's `attention_mask` to obtain reliable results.\n",
            "Setting `pad_token_id` to `eos_token_id`:50256 for open-end generation.\n"
          ]
        },
        {
          "output_type": "stream",
          "name": "stdout",
          "text": [
            "  Batch 1,500  of  3,312. Loss: 0.731071949005127.   Elapsed: 0:12:47.\n",
            "0:  VPNToo bad It's too bad the quality of this blu ray and not the worst quality. For someone to write a review that seems to be of the same quality as other blu ray transfers, then they should be in great condition on all aspects of the blu ray. It seems that the quality of blu ray is too low-to-existent for Blu Ray, and so is the quality of DVD. I just can't believe that there is such a high level of pixelization in this blu ray. There is not much difference between the two films, which seems to be a result of several different factors, like the fact that they are just trying to minimize their work by adding some pixelization. This also results in some of the worst Blu ray presentations I have ever had problems. This Blu ray is very poor quality especially with the exception of the special features for adjusting the contrast and contrast. I would love to know if this Blu Ray version is worse than I am. I love the old Blu\n"
          ]
        },
        {
          "output_type": "stream",
          "name": "stderr",
          "text": [
            "The attention mask and the pad token id were not set. As a consequence, you may observe unexpected behavior. Please pass your input's `attention_mask` to obtain reliable results.\n",
            "Setting `pad_token_id` to `eos_token_id`:50256 for open-end generation.\n"
          ]
        },
        {
          "output_type": "stream",
          "name": "stdout",
          "text": [
            "  Batch 1,600  of  3,312. Loss: 0.48167720437049866.   Elapsed: 0:13:40.\n",
            "0:  explanationNot my kind of movie This was a poorly made movie. The only way to get from one star is to save yourself the two hours lost in boredom.\n"
          ]
        },
        {
          "output_type": "stream",
          "name": "stderr",
          "text": [
            "The attention mask and the pad token id were not set. As a consequence, you may observe unexpected behavior. Please pass your input's `attention_mask` to obtain reliable results.\n",
            "Setting `pad_token_id` to `eos_token_id`:50256 for open-end generation.\n"
          ]
        },
        {
          "output_type": "stream",
          "name": "stdout",
          "text": [
            "  Batch 1,700  of  3,312. Loss: 1.84584641456604.   Elapsed: 0:14:31.\n",
            "0:  BachA real disappointment! I rented this film and couldn't bear to view it without thinking twice, but once I open the dvd player, I find a tiny small plastic bag holding a few episodes of the program on it, and my hopes go with this. This was probably one of the funniest, most unintentionally funny, most lame, most laughable parts of the program. My girlfriend and I were even laughing during the first few minutes of the film, because we were on the airplane, and we were both laughing. No one could save this film from a total loss of all its wonderful humor! The humor was ridiculous, especially considering the title, which was funny in the most funny, but also because of the title, it actually is really boring! It is too late in the comedy department to truly have an audience, so instead, it just becomes a cartoonishly ridiculous and cliched piece of art that would cause even a twelve year old to laugh at the parts the comedians do;\n"
          ]
        },
        {
          "output_type": "stream",
          "name": "stderr",
          "text": [
            "The attention mask and the pad token id were not set. As a consequence, you may observe unexpected behavior. Please pass your input's `attention_mask` to obtain reliable results.\n",
            "Setting `pad_token_id` to `eos_token_id`:50256 for open-end generation.\n"
          ]
        },
        {
          "output_type": "stream",
          "name": "stdout",
          "text": [
            "  Batch 1,800  of  3,312. Loss: 0.3813568949699402.   Elapsed: 0:15:23.\n",
            "0:  folderA Really Stupid Movie! This was one of the worst movies of the . and it ended up getting a little over the top for me. The plot was nothing special, just horrible.\n"
          ]
        },
        {
          "output_type": "stream",
          "name": "stderr",
          "text": [
            "The attention mask and the pad token id were not set. As a consequence, you may observe unexpected behavior. Please pass your input's `attention_mask` to obtain reliable results.\n",
            "Setting `pad_token_id` to `eos_token_id`:50256 for open-end generation.\n"
          ]
        },
        {
          "output_type": "stream",
          "name": "stdout",
          "text": [
            "  Batch 1,900  of  3,312. Loss: 0.2963472604751587.   Elapsed: 0:16:14.\n",
            "0:  buildingNot worth the money I got the movie and turned it off as soon as it came on. This is not a good way to spend a budget on a film. I'm very proud of my copy of the film The Graduate from Boston. You can see I'm a fan of the film and I know that Criterion really loves it and wants to see it as well. I had a DVD set of it's original when I bought it. I can understand why Criterion has decided to do this, but it doesn't mean they're right. Criterion didn't release it for me and I really don't mean that in a negative way. Now that DVD was great I can see that they're going to release it on DVD. This is a new release and it's more than double the price. The DVD version of The Graduate is  minutes long with three different opening credits. They should've been much better if they used color, for a shorter film. I haven't seen the\n"
          ]
        },
        {
          "output_type": "stream",
          "name": "stderr",
          "text": [
            "The attention mask and the pad token id were not set. As a consequence, you may observe unexpected behavior. Please pass your input's `attention_mask` to obtain reliable results.\n",
            "Setting `pad_token_id` to `eos_token_id`:50256 for open-end generation.\n"
          ]
        },
        {
          "output_type": "stream",
          "name": "stdout",
          "text": [
            "  Batch 2,000  of  3,312. Loss: 0.8005547523498535.   Elapsed: 0:17:07.\n",
            "0:  BabylonNot what I expected First of all the reviews of the movie. Yes it's a nice little sci fi movie in a big spooky way. However, this is far from satisfactory.First of all the cover art looks pretty pretty creepy. It's about an old girl who runs a fitness company with her little son and the manager, who is really strange considering how old she is and running. She is having too much sex with men at parties, especially among young women and children. This is the reason I was not looking for this movie. I had expected a lot more from this movie than I expected.What I found strange is that the movie was directed by a guy named David Hasselhoff. They make interesting points and situations for the characters. But they go way to long for what they're trying to say.I think the main reason I disliked this movie is because they didn't show the young women in the same room, so it would have been an interesting movie. I thought\n"
          ]
        },
        {
          "output_type": "stream",
          "name": "stderr",
          "text": [
            "The attention mask and the pad token id were not set. As a consequence, you may observe unexpected behavior. Please pass your input's `attention_mask` to obtain reliable results.\n",
            "Setting `pad_token_id` to `eos_token_id`:50256 for open-end generation.\n"
          ]
        },
        {
          "output_type": "stream",
          "name": "stdout",
          "text": [
            "  Batch 2,100  of  3,312. Loss: 1.1106702089309692.   Elapsed: 0:17:59.\n",
            "0: perialRidiculous nonsense The movie is a movie, and it is a huge waste of time. Some of the actors are very over the top, and the whole point of the movie is to drive home the audience. The worst thing is that they spent hours trying to make it seem realistic, realistic, and realistic. The fact that these people were even making the movie has absolutely nothing to do with reality and it was completely unbelievable. The main reason why I don't understand why people like this movie was because I never understood a good or bad part of life was because it was obviously a fantasy, but I think it's also pretty pathetic because it's about people who dream of the world and that there are no real things they can say about it like what should happen to these people.I would give the movie one star for all the good acting, but I was actually more disappointed than I expected.\n"
          ]
        },
        {
          "output_type": "stream",
          "name": "stderr",
          "text": [
            "The attention mask and the pad token id were not set. As a consequence, you may observe unexpected behavior. Please pass your input's `attention_mask` to obtain reliable results.\n",
            "Setting `pad_token_id` to `eos_token_id`:50256 for open-end generation.\n"
          ]
        },
        {
          "output_type": "stream",
          "name": "stdout",
          "text": [
            "  Batch 2,200  of  3,312. Loss: 0.4020787477493286.   Elapsed: 0:18:52.\n",
            "0:  rentsHorrible DVD from Warner Brothers. This movie is an absolute insult to everyone that rented it, Amazon. What a complete waste. I had expected to get one-sided disc with  disc split to  disc. I had high hopes for this version, but this is far from over. I just did not enjoy this at all.\n"
          ]
        },
        {
          "output_type": "stream",
          "name": "stderr",
          "text": [
            "The attention mask and the pad token id were not set. As a consequence, you may observe unexpected behavior. Please pass your input's `attention_mask` to obtain reliable results.\n",
            "Setting `pad_token_id` to `eos_token_id`:50256 for open-end generation.\n"
          ]
        },
        {
          "output_type": "stream",
          "name": "stdout",
          "text": [
            "  Batch 2,300  of  3,312. Loss: 1.0059027671813965.   Elapsed: 0:19:43.\n",
            "0:  RegAwful Awful I love this movie. I can't stop laughing I love the characters. I have the blu ray edition and the classic TV show. I can see how a lot of movies these days are made in it. However, this movie was really bad. If you are an independent movie fanatic, like me, you probably will not buy this movie. If it is not a free movie, at least NOTHING else on the movie will save your money. But this movie was a waste of money. If you like watching a good movie, get the Gran Torino. But this movie was just a waste of time.\n"
          ]
        },
        {
          "output_type": "stream",
          "name": "stderr",
          "text": [
            "The attention mask and the pad token id were not set. As a consequence, you may observe unexpected behavior. Please pass your input's `attention_mask` to obtain reliable results.\n",
            "Setting `pad_token_id` to `eos_token_id`:50256 for open-end generation.\n"
          ]
        },
        {
          "output_type": "stream",
          "name": "stdout",
          "text": [
            "  Batch 2,400  of  3,312. Loss: 0.7066947817802429.   Elapsed: 0:20:35.\n",
            "0: olasDon't bother! The acting is average, very forgettable. The story is incredibly weak. The plot is stupid. It's all very predictable. Save your money.\n"
          ]
        },
        {
          "output_type": "stream",
          "name": "stderr",
          "text": [
            "The attention mask and the pad token id were not set. As a consequence, you may observe unexpected behavior. Please pass your input's `attention_mask` to obtain reliable results.\n",
            "Setting `pad_token_id` to `eos_token_id`:50256 for open-end generation.\n"
          ]
        },
        {
          "output_type": "stream",
          "name": "stdout",
          "text": [
            "  Batch 2,500  of  3,312. Loss: 0.2580000162124634.   Elapsed: 0:21:26.\n",
            "0:  responsesSo bad it's bad I'm a man of the things but I'm not a fan of all the movies. Maybe it's my favorite horror movie but I'm not in it for that. I can't say for the time spent watching it, but the plot is so terrible. If you want a good horror movie watch it. If you're looking for the low budget, get the Halloween  Halloween  Halloween Special version. It's better than the original  but in my opinion this is only worth a good  rent.\n"
          ]
        },
        {
          "output_type": "stream",
          "name": "stderr",
          "text": [
            "The attention mask and the pad token id were not set. As a consequence, you may observe unexpected behavior. Please pass your input's `attention_mask` to obtain reliable results.\n",
            "Setting `pad_token_id` to `eos_token_id`:50256 for open-end generation.\n"
          ]
        },
        {
          "output_type": "stream",
          "name": "stdout",
          "text": [
            "  Batch 2,600  of  3,312. Loss: 0.2866463363170624.   Elapsed: 0:22:17.\n",
            "0:  attendanceDon't waste your money or time On the other hand, I can't believe how bad this movie actually is. While the plot of this movie is pretty weak in many places the acting and sound is very good. And there are a lot of scenes where they aren't very well scripted in. For example, I realize the original TV show had some good scripted plots, but this one just isn't. It's a lot of movies in many places that had no reason for a place in the theater system. For example, the movie was filmed in the house of the original TV show's house where the TV station usually filmed shows over the night, a rarity that the new TV show would have had. There were other house shows in those days too, such as TV History of a small town. There were even many other movies that ran at that time that had a large number of tv's in their hands, but I have to wonder if this was a TV series or something, since the\n"
          ]
        },
        {
          "output_type": "stream",
          "name": "stderr",
          "text": [
            "The attention mask and the pad token id were not set. As a consequence, you may observe unexpected behavior. Please pass your input's `attention_mask` to obtain reliable results.\n",
            "Setting `pad_token_id` to `eos_token_id`:50256 for open-end generation.\n"
          ]
        },
        {
          "output_type": "stream",
          "name": "stdout",
          "text": [
            "  Batch 2,700  of  3,312. Loss: 0.5463477373123169.   Elapsed: 0:23:10.\n",
            "0:  rigidVery poor copy of the movie. This is a very poor copy of the movie in it has a terrible picture. The movie is not played on my computer nor on my DVD player, as shown in the very small print I tried on. The movie is very bad. Save your money and buy the print off of  different movies.\n"
          ]
        },
        {
          "output_type": "stream",
          "name": "stderr",
          "text": [
            "The attention mask and the pad token id were not set. As a consequence, you may observe unexpected behavior. Please pass your input's `attention_mask` to obtain reliable results.\n",
            "Setting `pad_token_id` to `eos_token_id`:50256 for open-end generation.\n"
          ]
        },
        {
          "output_type": "stream",
          "name": "stdout",
          "text": [
            "  Batch 2,800  of  3,312. Loss: 0.40995463728904724.   Elapsed: 0:24:01.\n",
            "0: groDon't buy! I didn't like this movie at all. This is a movie about the military that is killing people on American soil and taking people's lives. It is NOT about the military that killed everyone else at the theaters, it is about the people that are being killed in the movies. The soldiers themselves are very pathetic and I don't believe there was an average Hollywood star in this movie but I did. The plot is extremely horrible and the acting is awful. The script and dialog are extremely sloppy. I would give this movie zero stars but given the acting, I gave it zero. If you are still curious just rent the first  minutes and think, This movie is so bad it has nothing to recommend it.\n"
          ]
        },
        {
          "output_type": "stream",
          "name": "stderr",
          "text": [
            "The attention mask and the pad token id were not set. As a consequence, you may observe unexpected behavior. Please pass your input's `attention_mask` to obtain reliable results.\n",
            "Setting `pad_token_id` to `eos_token_id`:50256 for open-end generation.\n"
          ]
        },
        {
          "output_type": "stream",
          "name": "stdout",
          "text": [
            "  Batch 2,900  of  3,312. Loss: 2.4285309314727783.   Elapsed: 0:24:53.\n",
            "0:  GreI think if it was  years before movies could be made, that is why I didn't buy it. If the movie was  years ago, if I watched it now, it would be a crime to say that I could not take it any more. My wife and I looked at each other for years before finally shutting it off and turned it off, but luckily she was spared to lose her money and interest in movies for the next two years. I'd always wanted to see the movie in it's entirety, and at the time it was  I'd rather not buy anything from it now, even after so many years of waiting and waiting. You could still get a movie that will last for  years, but then you'd lose hope that the entire movie will last for a couple years? Well, it does. The plot is ridiculous, the character is weak, the bad guy is just as lame and the worst part of the movie was the special effects. I guess that would\n"
          ]
        },
        {
          "output_type": "stream",
          "name": "stderr",
          "text": [
            "The attention mask and the pad token id were not set. As a consequence, you may observe unexpected behavior. Please pass your input's `attention_mask` to obtain reliable results.\n",
            "Setting `pad_token_id` to `eos_token_id`:50256 for open-end generation.\n"
          ]
        },
        {
          "output_type": "stream",
          "name": "stdout",
          "text": [
            "  Batch 3,000  of  3,312. Loss: 0.9354825615882874.   Elapsed: 0:25:46.\n",
            "0: uraNot a good movie Don't waste your money. This was a waste of my time and money. It's not worth your time and money.\n"
          ]
        },
        {
          "output_type": "stream",
          "name": "stderr",
          "text": [
            "The attention mask and the pad token id were not set. As a consequence, you may observe unexpected behavior. Please pass your input's `attention_mask` to obtain reliable results.\n",
            "Setting `pad_token_id` to `eos_token_id`:50256 for open-end generation.\n"
          ]
        },
        {
          "output_type": "stream",
          "name": "stdout",
          "text": [
            "  Batch 3,100  of  3,312. Loss: 0.620127260684967.   Elapsed: 0:26:36.\n",
            "0:  2020Horrible video. Not worth seeing. No plot, not even story line. I didn't like this. Don't waste your time on this piece of junk.\n"
          ]
        },
        {
          "output_type": "stream",
          "name": "stderr",
          "text": [
            "The attention mask and the pad token id were not set. As a consequence, you may observe unexpected behavior. Please pass your input's `attention_mask` to obtain reliable results.\n",
            "Setting `pad_token_id` to `eos_token_id`:50256 for open-end generation.\n"
          ]
        },
        {
          "output_type": "stream",
          "name": "stdout",
          "text": [
            "  Batch 3,200  of  3,312. Loss: 0.3155055642127991.   Elapsed: 0:27:27.\n",
            "0:  chargingBad, Bad I thought this one would be very funny, so I bought it.\n"
          ]
        },
        {
          "output_type": "stream",
          "name": "stderr",
          "text": [
            "The attention mask and the pad token id were not set. As a consequence, you may observe unexpected behavior. Please pass your input's `attention_mask` to obtain reliable results.\n",
            "Setting `pad_token_id` to `eos_token_id`:50256 for open-end generation.\n"
          ]
        },
        {
          "output_type": "stream",
          "name": "stdout",
          "text": [
            "  Batch 3,300  of  3,312. Loss: 1.3621028661727905.   Elapsed: 0:28:18.\n",
            "0:  SarDo not buy this DVD Do not buy this DVD Do not buy this DVD Do not buy this DVD Do not buy this DVD Do not buy this DVD Do not even rent or download this DVD Do not even rent or download this DVD Do not even rent or download this DVD Do not even bother to view the DVD This DVD did not even play on my  and I am glad to have Amazon removed this DVD Do not even bother to view the DVD Do not even bother to view the DVD Do not even bother to rent or download the DVD Do not even bother to view the DVDs If you wish to watch it, do not buy this DVD Do not even bother to rent or download this DVD Do not even bother to download the DVD Do not even bother to view the DVD Do not even bother to view the DVD Do not even bother to rent or download this DVD Do not even bother to watch the DVD Do NOT bother to view the DVD Do not even bother to view the DVD Do not even bother to\n",
            "\n",
            "  Average training loss: 0.77\n",
            "  Training epoch took: 0:28:26\n",
            "\n",
            "Running Validation...\n",
            "  Validation Loss: 1.02\n",
            "  Validation took: 0:01:00\n",
            "\n",
            "======== Epoch 4 / 4 ========\n",
            "Training...\n"
          ]
        },
        {
          "output_type": "stream",
          "name": "stderr",
          "text": [
            "The attention mask and the pad token id were not set. As a consequence, you may observe unexpected behavior. Please pass your input's `attention_mask` to obtain reliable results.\n",
            "Setting `pad_token_id` to `eos_token_id`:50256 for open-end generation.\n"
          ]
        },
        {
          "output_type": "stream",
          "name": "stdout",
          "text": [
            "  Batch   100  of  3,312. Loss: 0.5708344578742981.   Elapsed: 0:00:51.\n",
            "0:  JasThis is truly pathetic! This film should have been titled LOST IN SPACE. It is absolutely ridiculous. The special effects are dreadful, the acting awful, the storyline is thin, and just the last  minutes is the longest I've ever watched. What the heck, does it have  male characters that we don't even care about anymore, let alone love each other so much, that they're the only two guys left alive?! This film is so pathetic, it will put you to sleep before Christmas!\n"
          ]
        },
        {
          "output_type": "stream",
          "name": "stderr",
          "text": [
            "The attention mask and the pad token id were not set. As a consequence, you may observe unexpected behavior. Please pass your input's `attention_mask` to obtain reliable results.\n",
            "Setting `pad_token_id` to `eos_token_id`:50256 for open-end generation.\n"
          ]
        },
        {
          "output_type": "stream",
          "name": "stdout",
          "text": [
            "  Batch   200  of  3,312. Loss: 0.5235751867294312.   Elapsed: 0:01:42.\n",
            "0:  permitThis film was not funny The DVD was not funny. The action sequences were bad. The only reason I gave this one star was because of Gerard Butler's performance, but to me it wasn't even that funny.\n"
          ]
        },
        {
          "output_type": "stream",
          "name": "stderr",
          "text": [
            "The attention mask and the pad token id were not set. As a consequence, you may observe unexpected behavior. Please pass your input's `attention_mask` to obtain reliable results.\n",
            "Setting `pad_token_id` to `eos_token_id`:50256 for open-end generation.\n"
          ]
        },
        {
          "output_type": "stream",
          "name": "stdout",
          "text": [
            "  Batch   300  of  3,312. Loss: 0.7922682166099548.   Elapsed: 0:02:33.\n",
            "0:  AdministratorI think I will never get back My favorite television series from the  and even  was the first season, and when I was  I was still waiting for something to happen. The first season was very funny, but was completely overshadowed by the  season with another ridiculous season with just terrible writing. There were so many stupid things that made it even worse. So, I stopped watching after I made it to the end and put it in a drawer.\n"
          ]
        },
        {
          "output_type": "stream",
          "name": "stderr",
          "text": [
            "The attention mask and the pad token id were not set. As a consequence, you may observe unexpected behavior. Please pass your input's `attention_mask` to obtain reliable results.\n",
            "Setting `pad_token_id` to `eos_token_id`:50256 for open-end generation.\n"
          ]
        },
        {
          "output_type": "stream",
          "name": "stdout",
          "text": [
            "  Batch   400  of  3,312. Loss: 0.3050030469894409.   Elapsed: 0:03:24.\n",
            "0:  EVENTSDon't waste your time If you are a true horror movie fanatic and you are going to buy this movie then you will love it! Sadly I was not. So I will be ordering new ones.\n"
          ]
        },
        {
          "output_type": "stream",
          "name": "stderr",
          "text": [
            "The attention mask and the pad token id were not set. As a consequence, you may observe unexpected behavior. Please pass your input's `attention_mask` to obtain reliable results.\n",
            "Setting `pad_token_id` to `eos_token_id`:50256 for open-end generation.\n"
          ]
        },
        {
          "output_type": "stream",
          "name": "stdout",
          "text": [
            "  Batch   500  of  3,312. Loss: 1.0730451345443726.   Elapsed: 0:04:15.\n",
            "0:  MentalI'd Give It A  if I could I'd give this a negative review. Unfortunately, I do not think I have a zero. It sucks a ton of the life into something you cant take, even if you feel terrible for that. And the movie itself sucks too. The story was weak. What happened to the characters? Why make them feel bad for wasting their time? It was pointless.\n"
          ]
        },
        {
          "output_type": "stream",
          "name": "stderr",
          "text": [
            "The attention mask and the pad token id were not set. As a consequence, you may observe unexpected behavior. Please pass your input's `attention_mask` to obtain reliable results.\n",
            "Setting `pad_token_id` to `eos_token_id`:50256 for open-end generation.\n"
          ]
        },
        {
          "output_type": "stream",
          "name": "stdout",
          "text": [
            "  Batch   600  of  3,312. Loss: 0.3790152370929718.   Elapsed: 0:05:06.\n",
            "0: idsNot worth renting or buying on Amazon Instant Video! First of all, let me state that Amazon has changed, and that they have taken some great fan-shows, and some great fan-shows from the  with Amazon Instant Video, and now they have a Blu-Ray version with HD  Great shows are no longer selling for  at  each. So they decided to go out and make a set with HD  to  episodes so you can easily stream them from Amazon Instant Video over and over again to your computer. Well they have changed the way DVD is packaged. You get the picture, sound, and picture, and then you have to sit through an episode of every show to figure it out! Well, I'll get to those episode, because I don't want to see that kind of picture and sound. The episode is only  episodes long, and the colorization is very grainy and very grainy. I have watched on Amazon Prime for about  episodes, and this\n"
          ]
        },
        {
          "output_type": "stream",
          "name": "stderr",
          "text": [
            "The attention mask and the pad token id were not set. As a consequence, you may observe unexpected behavior. Please pass your input's `attention_mask` to obtain reliable results.\n",
            "Setting `pad_token_id` to `eos_token_id`:50256 for open-end generation.\n"
          ]
        },
        {
          "output_type": "stream",
          "name": "stdout",
          "text": [
            "  Batch   700  of  3,312. Loss: 0.489617258310318.   Elapsed: 0:05:59.\n",
            "0: ceansThe Worst Movie of All Time No character development and just a bunch of people talking to each other. Thats really a shame since there was none of the character development or the storyline. This movie is a complete disaster.\n"
          ]
        },
        {
          "output_type": "stream",
          "name": "stderr",
          "text": [
            "The attention mask and the pad token id were not set. As a consequence, you may observe unexpected behavior. Please pass your input's `attention_mask` to obtain reliable results.\n",
            "Setting `pad_token_id` to `eos_token_id`:50256 for open-end generation.\n"
          ]
        },
        {
          "output_type": "stream",
          "name": "stdout",
          "text": [
            "  Batch   800  of  3,312. Loss: 0.2832835912704468.   Elapsed: 0:06:50.\n",
            "0:  geneticallyWaste of money I ordered the first two DVDs of this series.I couldn't find any reference information about their content other than to say that it was a  hour movie.I was so disappointed.I never had any experience with this show, but I do not find it humorous. I'm glad I bought them.\n"
          ]
        },
        {
          "output_type": "stream",
          "name": "stderr",
          "text": [
            "The attention mask and the pad token id were not set. As a consequence, you may observe unexpected behavior. Please pass your input's `attention_mask` to obtain reliable results.\n",
            "Setting `pad_token_id` to `eos_token_id`:50256 for open-end generation.\n"
          ]
        },
        {
          "output_type": "stream",
          "name": "stdout",
          "text": [
            "  Batch   900  of  3,312. Loss: 1.6628919839859009.   Elapsed: 0:07:41.\n",
            "0:  adviceOne star for the actors, one star for the writing. Simply ridiculous, without the outrageous gore, without the witty banter, without the clever symbolism. And without the clever writing. The screenplay can only be described as a fantasy, without even the imagination of the writer or director. What makes it worst, is that the story, if it were set in real life, wouldn't have fallen so flat and contrived, without the creative depth and weight of the production. There are no good effects here, no character development and there isn't a scene in the beginning where a monster appears to be pulling a string around. For the next several minutes of running time, it is as if the screen writer and director decided to go with one of the worst of all time, as they showed a dead girl trapped in a cold and apparently unhappable room, and a horribly injured person trapped in the hospital. The person, who was released in the hospital is only described as a lunatic, but\n"
          ]
        },
        {
          "output_type": "stream",
          "name": "stderr",
          "text": [
            "The attention mask and the pad token id were not set. As a consequence, you may observe unexpected behavior. Please pass your input's `attention_mask` to obtain reliable results.\n",
            "Setting `pad_token_id` to `eos_token_id`:50256 for open-end generation.\n"
          ]
        },
        {
          "output_type": "stream",
          "name": "stdout",
          "text": [
            "  Batch 1,000  of  3,312. Loss: 1.298209309577942.   Elapsed: 0:08:33.\n",
            "0:  incompleteThis film has been compared to a real thing How can I not like this comparison! It's not only boring, it's a waste of time.The actors are very good, but the story line is also not believable.I had to constantly force myself to watch this movie, because I was bored by it.The idea behind this film was great, but that's what made the movie a success.It tried to go for style over substance, but it failed on all levels.Like the book on which it was based, it tried to make up for the lack of substance. It tried to preach, but it failed on all levels.Some of my questions were raised, but I can't honestly answer them.The biggest problem is that I can't really relate what the main character is saying to the guy who portrayed him, because I can't really read the movie.\n"
          ]
        },
        {
          "output_type": "stream",
          "name": "stderr",
          "text": [
            "The attention mask and the pad token id were not set. As a consequence, you may observe unexpected behavior. Please pass your input's `attention_mask` to obtain reliable results.\n",
            "Setting `pad_token_id` to `eos_token_id`:50256 for open-end generation.\n"
          ]
        },
        {
          "output_type": "stream",
          "name": "stdout",
          "text": [
            "  Batch 1,100  of  3,312. Loss: 0.6753095388412476.   Elapsed: 0:09:26.\n",
            "0: commentA disgraceful bore from beginning to end As a lifelong Angeleno fan, I do not often get disappointed, but I have seen some awful films in my life. These are not one of those! I don't care if the characters are the same, or that they are different, the story just kind of branches out and there are no real characters.The problem with this film is that you have to put the entire story in the background, as opposed to the original film. The whole cast in this film, as well as the rest of the cast in the previous film, obviously felt a need to constantly under-act the story, to make the character seem weak and a little over-dimensional.The cast in the first film are as good as they come, the first film was just as good as the one I saw. I am surprised the last film was any better, though. The only reason I sat through it, was to get a sense of what was going on in the\n"
          ]
        },
        {
          "output_type": "stream",
          "name": "stderr",
          "text": [
            "The attention mask and the pad token id were not set. As a consequence, you may observe unexpected behavior. Please pass your input's `attention_mask` to obtain reliable results.\n",
            "Setting `pad_token_id` to `eos_token_id`:50256 for open-end generation.\n"
          ]
        },
        {
          "output_type": "stream",
          "name": "stdout",
          "text": [
            "  Batch 1,200  of  3,312. Loss: 0.36017000675201416.   Elapsed: 0:10:18.\n",
            "0:  pilotHow Many Times Are You Kidding? Tom Hanks is a terrible actor, and we've all seen him act and sing all the time, so we're all expected to latch on to his character whenever a movie stumbles along. Unfortunately, he fails miserably at every single one. He's not even in a good movie until the last minute, as the music just lets him think that his character is that bad. Tom Hanks is basically playing Tom Hanks, a guy who lives in a tent, wearing only a pair of pants, that is, like,  hours of Airplane hours inane music clips. He's also wasted the time. He's the worst actor in the history of acting, the only time you will get any laughs out of him.\n"
          ]
        },
        {
          "output_type": "stream",
          "name": "stderr",
          "text": [
            "The attention mask and the pad token id were not set. As a consequence, you may observe unexpected behavior. Please pass your input's `attention_mask` to obtain reliable results.\n",
            "Setting `pad_token_id` to `eos_token_id`:50256 for open-end generation.\n"
          ]
        },
        {
          "output_type": "stream",
          "name": "stdout",
          "text": [
            "  Batch 1,300  of  3,312. Loss: 0.3273981511592865.   Elapsed: 0:11:11.\n",
            "0: gersJust terrible! I couldn't believe my eyes. This movie is horrible, horrible horrible, horrible bad. A waste of time and money.\n"
          ]
        },
        {
          "output_type": "stream",
          "name": "stderr",
          "text": [
            "The attention mask and the pad token id were not set. As a consequence, you may observe unexpected behavior. Please pass your input's `attention_mask` to obtain reliable results.\n",
            "Setting `pad_token_id` to `eos_token_id`:50256 for open-end generation.\n"
          ]
        },
        {
          "output_type": "stream",
          "name": "stdout",
          "text": [
            "  Batch 1,400  of  3,312. Loss: 0.6413516402244568.   Elapsed: 0:12:02.\n",
            "0:  mutationLITERALLY OVERLY SLOW AND AWFULLY AWFUL How in the world could they possibly make this film and release it on a Widescreen dvd? They have been in no better shape than the shape and the look of the film is great but a flat out film with very poor sound quality that just has no real meaning, character development and story line. And why use a square camera to film a film like PLATOON? Wouldn't that give the audience an idea of where all this film is being filmed on and off the screen. I don't think the director ever intended to film a scene like that as a whole as if the audience could see the whole thing and actually enjoy it. The editing on these films is terrible and not even good enough to be an art school student at that time. But, some films are made by people who had a lot of experience with screenwriting. Some films are made by people who have lots of experience with color\n"
          ]
        },
        {
          "output_type": "stream",
          "name": "stderr",
          "text": [
            "The attention mask and the pad token id were not set. As a consequence, you may observe unexpected behavior. Please pass your input's `attention_mask` to obtain reliable results.\n",
            "Setting `pad_token_id` to `eos_token_id`:50256 for open-end generation.\n"
          ]
        },
        {
          "output_type": "stream",
          "name": "stdout",
          "text": [
            "  Batch 1,500  of  3,312. Loss: 0.5241566896438599.   Elapsed: 0:12:55.\n",
            "0:  DriverI remember liking this movie and wanting to burn it. But it just kept sinking. Even when there were better versions of it, and I found myself saying it, I just couldn't keep coming up with my own interpretation of it.It was like putting an onion in a jar, and then having to shake it off to create a tiny tiny tiny little slice, just to get rid of the tiny piece.\n"
          ]
        },
        {
          "output_type": "stream",
          "name": "stderr",
          "text": [
            "The attention mask and the pad token id were not set. As a consequence, you may observe unexpected behavior. Please pass your input's `attention_mask` to obtain reliable results.\n",
            "Setting `pad_token_id` to `eos_token_id`:50256 for open-end generation.\n"
          ]
        },
        {
          "output_type": "stream",
          "name": "stdout",
          "text": [
            "  Batch 1,600  of  3,312. Loss: 0.530240535736084.   Elapsed: 0:13:46.\n",
            "0: itiBad bad The plot is stupid. All the characters die. The characters behave in a moronic manner. This is the worse movie I have ever seen.\n"
          ]
        },
        {
          "output_type": "stream",
          "name": "stderr",
          "text": [
            "The attention mask and the pad token id were not set. As a consequence, you may observe unexpected behavior. Please pass your input's `attention_mask` to obtain reliable results.\n",
            "Setting `pad_token_id` to `eos_token_id`:50256 for open-end generation.\n"
          ]
        },
        {
          "output_type": "stream",
          "name": "stdout",
          "text": [
            "  Batch 1,700  of  3,312. Loss: 0.5771057605743408.   Elapsed: 0:14:37.\n",
            "0: fffWasted night and day! A really sad movie with nothing really to do with a great story line and an ugly plot. The ending was horrible!\n"
          ]
        },
        {
          "output_type": "stream",
          "name": "stderr",
          "text": [
            "The attention mask and the pad token id were not set. As a consequence, you may observe unexpected behavior. Please pass your input's `attention_mask` to obtain reliable results.\n",
            "Setting `pad_token_id` to `eos_token_id`:50256 for open-end generation.\n"
          ]
        },
        {
          "output_type": "stream",
          "name": "stdout",
          "text": [
            "  Batch 1,800  of  3,312. Loss: 0.7947757840156555.   Elapsed: 0:15:28.\n",
            "0: riminationDidn't like it. A complete waste of money. Even if I wasn't a huge fan of Todd Connick, it would have been better to get the entire series at once. This is not a family movie, it's just a poorly written, poorly acted and poorly acted story. The special effects weren't that good. I couldn't wait to see them, but I wasn't able to get through it. This series is not for kids, or even people who like old films. This is one to forget, it's not a family movie, it's a  kids movie. It doesn't have the right feel to it. It just drags.\n"
          ]
        },
        {
          "output_type": "stream",
          "name": "stderr",
          "text": [
            "The attention mask and the pad token id were not set. As a consequence, you may observe unexpected behavior. Please pass your input's `attention_mask` to obtain reliable results.\n",
            "Setting `pad_token_id` to `eos_token_id`:50256 for open-end generation.\n"
          ]
        },
        {
          "output_type": "stream",
          "name": "stdout",
          "text": [
            "  Batch 1,900  of  3,312. Loss: 0.34536850452423096.   Elapsed: 0:16:20.\n",
            "0: aqueWhat a bomb! In every way this film is a disgrace to film making and the history of mankind. What a stinker. It is about evil aliens vs humans and the struggle for survival. What this means is just dreadful. What happened in the first  minutes when they started talking about aliens vs humans or how they were being attacked? In the last  minutes of the film when they started talking about aliens vs humans and that was  minutes too long. The plot is bad, most of the dialogue is unintelligible and unintelligent. I don't care that they made an intelligent film in the first place or at least gave us an intelligent enough to watch it. I'm just amazed that they didn't just add  different aliens and use a different plot? For example the film shows aliens in an abandoned factory and not humans being attacked and then they decide to use a bomb to attack the people building a nuclear power plant and then they decide to take a life form but the people inside\n"
          ]
        },
        {
          "output_type": "stream",
          "name": "stderr",
          "text": [
            "The attention mask and the pad token id were not set. As a consequence, you may observe unexpected behavior. Please pass your input's `attention_mask` to obtain reliable results.\n",
            "Setting `pad_token_id` to `eos_token_id`:50256 for open-end generation.\n"
          ]
        },
        {
          "output_type": "stream",
          "name": "stdout",
          "text": [
            "  Batch 2,000  of  3,312. Loss: 0.6245930194854736.   Elapsed: 0:17:13.\n",
            "0: leeI think the producers thought they had a creative blockage to fill up with the tired stereotyping and stereotypes. I am actually surprised that the  minutes of their time that I dozed off before it was over was actually spent trying to cram that whole thing into  minutes. The only way I ever sat through  minutes is if I actually got up and left the room and went to dinner. Not so. Apparently that means the producer was drunk, thus rendering it impossible to tell that the audience was actually watching something. I was also shocked that the producers tried to make the show a comedy. Not only was it boring and the whole premise was so backwards and backwards that it was really hard to enjoy it, it was way more like having an hour and a half of your life back. The storyline also consisted of one or two characters sitting around talking as they were being talked to. One character on the show was a high school student, the other was the highly eccentric high school geek, and\n"
          ]
        },
        {
          "output_type": "stream",
          "name": "stderr",
          "text": [
            "The attention mask and the pad token id were not set. As a consequence, you may observe unexpected behavior. Please pass your input's `attention_mask` to obtain reliable results.\n",
            "Setting `pad_token_id` to `eos_token_id`:50256 for open-end generation.\n"
          ]
        },
        {
          "output_type": "stream",
          "name": "stdout",
          "text": [
            "  Batch 2,100  of  3,312. Loss: 0.41673725843429565.   Elapsed: 0:18:06.\n",
            "0:  AlzheimerThe only thing worse than a bad movie I've ever watched in my life was watching this movie. I've had bad luck watching this movie, so it was really unfortunate to watch. I wouldn't watch it again.\n"
          ]
        },
        {
          "output_type": "stream",
          "name": "stderr",
          "text": [
            "The attention mask and the pad token id were not set. As a consequence, you may observe unexpected behavior. Please pass your input's `attention_mask` to obtain reliable results.\n",
            "Setting `pad_token_id` to `eos_token_id`:50256 for open-end generation.\n"
          ]
        },
        {
          "output_type": "stream",
          "name": "stdout",
          "text": [
            "  Batch 2,200  of  3,312. Loss: 0.8744354248046875.   Elapsed: 0:18:56.\n",
            "0:  checkingPredictable! Viewed with a critical eye Only the very talented Anne Heche is given a brief appearance in this poorly conceived and contrived drama. The only quality of this film is that the main character is Anne Heche who has endured far too much of the vulgar filth of all aspects of life. I doubt anyone could write a more accurate and intelligent piece of work than this. I am astonished that Hollywood continually pumps out these kinds of scripts and this is one of them. The public must be hard hit to believe these days.\n"
          ]
        },
        {
          "output_type": "stream",
          "name": "stderr",
          "text": [
            "The attention mask and the pad token id were not set. As a consequence, you may observe unexpected behavior. Please pass your input's `attention_mask` to obtain reliable results.\n",
            "Setting `pad_token_id` to `eos_token_id`:50256 for open-end generation.\n"
          ]
        },
        {
          "output_type": "stream",
          "name": "stdout",
          "text": [
            "  Batch 2,300  of  3,312. Loss: 0.33420100808143616.   Elapsed: 0:19:48.\n",
            "0: nesiumWorst DVD of ALL TIME! A total waste of time to watch a film, all DVD's from this studio are BAD! Please! Do not buy this DVD set! It is not worth it to rent the entire series. It is NOT worth renting!\n"
          ]
        },
        {
          "output_type": "stream",
          "name": "stderr",
          "text": [
            "The attention mask and the pad token id were not set. As a consequence, you may observe unexpected behavior. Please pass your input's `attention_mask` to obtain reliable results.\n",
            "Setting `pad_token_id` to `eos_token_id`:50256 for open-end generation.\n"
          ]
        },
        {
          "output_type": "stream",
          "name": "stdout",
          "text": [
            "  Batch 2,400  of  3,312. Loss: 0.5484210848808289.   Elapsed: 0:20:39.\n",
            "0:  1957Don't Buy This Ring I loved this movie until my parents let me borrow the DVD box it came in. They asked if I was going to give it to them. I was told no. I tried  different discs. Guess what, one had NO RETURN AND the other had NO SINGLE IN IT. The DVD box came out the same day as the movie and it was all broken. Even I would not pay for it at my store because of this. I would have given the DVD box a second chance anyway. But then again, I had seen the same movie and was very disappointed, even though it was far better than the movie and even THAT one had better plays. Don't bother. It is not worth renting.\n"
          ]
        },
        {
          "output_type": "stream",
          "name": "stderr",
          "text": [
            "The attention mask and the pad token id were not set. As a consequence, you may observe unexpected behavior. Please pass your input's `attention_mask` to obtain reliable results.\n",
            "Setting `pad_token_id` to `eos_token_id`:50256 for open-end generation.\n"
          ]
        },
        {
          "output_type": "stream",
          "name": "stdout",
          "text": [
            "  Batch 2,500  of  3,312. Loss: 1.4013252258300781.   Elapsed: 0:21:32.\n",
            "0: manshipA Disappointment After  years of seeing this film, I cannot even begin to imagine how this disaster of a story could have been any worse! The cast and crew of this film are really, really bad. With so many bad things coming down the line, it is difficult to keep a straight face. I think that even the most over-the-top acting there may be on this film. The only redeeming point is the extremely realistic costumes, the acting, and the special effects are all very well done. Unfortunately, I have to give this film a  out of  I can only give this total  star!\n"
          ]
        },
        {
          "output_type": "stream",
          "name": "stderr",
          "text": [
            "The attention mask and the pad token id were not set. As a consequence, you may observe unexpected behavior. Please pass your input's `attention_mask` to obtain reliable results.\n",
            "Setting `pad_token_id` to `eos_token_id`:50256 for open-end generation.\n"
          ]
        },
        {
          "output_type": "stream",
          "name": "stdout",
          "text": [
            "  Batch 2,600  of  3,312. Loss: 0.3437860906124115.   Elapsed: 0:22:24.\n",
            "0:  understandI didn't like this show. It sucked so bad I fell asleep. I didn't get to watch the end and I don't know why they made the show. The first episode was funny, but after that you can't stand it anymore.\n"
          ]
        },
        {
          "output_type": "stream",
          "name": "stderr",
          "text": [
            "The attention mask and the pad token id were not set. As a consequence, you may observe unexpected behavior. Please pass your input's `attention_mask` to obtain reliable results.\n",
            "Setting `pad_token_id` to `eos_token_id`:50256 for open-end generation.\n"
          ]
        },
        {
          "output_type": "stream",
          "name": "stdout",
          "text": [
            "  Batch 2,700  of  3,312. Loss: 1.0552892684936523.   Elapsed: 0:23:15.\n",
            "0:  passionDidn't live up to the hype. The movie seemed to just be a series of scenes going on in an alley somewhere. Who knew there would be a sequel? This was a movie that was pure nonsense. I cannot believe I sat through this. Who are you kidding me?The movie starts out great. John Newton tells the story of how a woman was left for dead during World War II. She is embarassed and tells a lie. She is supposed to be a brave woman. However, she gets the Medal of Honor award from the U.S. military and tells the story of how her husband came to know her and died. She then goes on to tell how the war went and the soldiers who saved her were not heroes. Why? The movie just went on and on. All the soldiers were just plain dumb.I don't know who the bad guys were. They made the movie boring as they ran away and it was too long. I want my money back\n"
          ]
        },
        {
          "output_type": "stream",
          "name": "stderr",
          "text": [
            "The attention mask and the pad token id were not set. As a consequence, you may observe unexpected behavior. Please pass your input's `attention_mask` to obtain reliable results.\n",
            "Setting `pad_token_id` to `eos_token_id`:50256 for open-end generation.\n"
          ]
        },
        {
          "output_type": "stream",
          "name": "stdout",
          "text": [
            "  Batch 2,800  of  3,312. Loss: 0.4614499807357788.   Elapsed: 0:24:07.\n",
            "0:  curvedI would have preferred to see the movie first..Otherwise I can't give it any stars, only wish I had seen it first.First things first I should first tell you how bad the movie was. A few of the bad scenes include a woman walking around in a circle, a young man getting picked on by a bunch of bugs, and then a guy being electrocuted.Next there's a scene where the film zoomed in on a tripod and one of the actors is holding a camera while a man steps out of a bush, shoots a deer and goes down a river to the middle where the tree trunk appears behind him.Next I'll tell you how the film moved so slow that by the time the first half of the movie came on it was just too slow to be taken over. Also, the camera kept flubbing as the cameraman moved on and on as he slowly went along.Finally, I just want to mention the film's ending which you've seen\n"
          ]
        },
        {
          "output_type": "stream",
          "name": "stderr",
          "text": [
            "The attention mask and the pad token id were not set. As a consequence, you may observe unexpected behavior. Please pass your input's `attention_mask` to obtain reliable results.\n",
            "Setting `pad_token_id` to `eos_token_id`:50256 for open-end generation.\n"
          ]
        },
        {
          "output_type": "stream",
          "name": "stdout",
          "text": [
            "  Batch 2,900  of  3,312. Loss: 1.0425411462783813.   Elapsed: 0:25:00.\n",
            "0:  AnBoring movie. No action. I am bored with myself and think of something to write about. A pointless film made from a poorly made screenplay.\n"
          ]
        },
        {
          "output_type": "stream",
          "name": "stderr",
          "text": [
            "The attention mask and the pad token id were not set. As a consequence, you may observe unexpected behavior. Please pass your input's `attention_mask` to obtain reliable results.\n",
            "Setting `pad_token_id` to `eos_token_id`:50256 for open-end generation.\n"
          ]
        },
        {
          "output_type": "stream",
          "name": "stdout",
          "text": [
            "  Batch 3,000  of  3,312. Loss: 1.298890471458435.   Elapsed: 0:25:51.\n",
            "0: ottiWorst film of  and I hope you are still looking! I have watched all  of the  films, and was very pleased with only one being called quot;The Wrestler.quot; This is the worst film I have seen in ages. I did not like the storyline and the special effects in this film. If this is the first one with a super weak storyline then it is the last one I will watch. The fact that this film does not have the strength of the previous movies is probably because it lacks the talent. If I could I would give this one star. I would not recommend this to anyone. I am glad I did not buy this in the theater for fear that it would cause my divorce and I would not watch the other  again! The only thing that saved the film was the fact that the costume in this film was not that good. And the special effects! The acting was very cheesy! They don't have any special effects in this film!\n"
          ]
        },
        {
          "output_type": "stream",
          "name": "stderr",
          "text": [
            "The attention mask and the pad token id were not set. As a consequence, you may observe unexpected behavior. Please pass your input's `attention_mask` to obtain reliable results.\n",
            "Setting `pad_token_id` to `eos_token_id`:50256 for open-end generation.\n"
          ]
        },
        {
          "output_type": "stream",
          "name": "stdout",
          "text": [
            "  Batch 3,100  of  3,312. Loss: 0.9780667424201965.   Elapsed: 0:26:44.\n",
            "0:  intakeBORING The movie is nothing but confusing. It's boring, confusing, and confusing. I could write down much of this but I just can't. Don't buy it. Watch it if you are a die hard Lee Fan.I'll never know why Gary Oldman liked the part because he had to write for The Chicago Tribune.\n"
          ]
        },
        {
          "output_type": "stream",
          "name": "stderr",
          "text": [
            "The attention mask and the pad token id were not set. As a consequence, you may observe unexpected behavior. Please pass your input's `attention_mask` to obtain reliable results.\n",
            "Setting `pad_token_id` to `eos_token_id`:50256 for open-end generation.\n"
          ]
        },
        {
          "output_type": "stream",
          "name": "stdout",
          "text": [
            "  Batch 3,200  of  3,312. Loss: 0.9028380513191223.   Elapsed: 0:27:35.\n",
            "0:  TsDid not watch for more than  min. This anime was very slow and did not take me into the story very.\n"
          ]
        },
        {
          "output_type": "stream",
          "name": "stderr",
          "text": [
            "The attention mask and the pad token id were not set. As a consequence, you may observe unexpected behavior. Please pass your input's `attention_mask` to obtain reliable results.\n",
            "Setting `pad_token_id` to `eos_token_id`:50256 for open-end generation.\n"
          ]
        },
        {
          "output_type": "stream",
          "name": "stdout",
          "text": [
            "  Batch 3,300  of  3,312. Loss: 1.2858481407165527.   Elapsed: 0:28:26.\n",
            "0:  MainHated it This was painful and disjointed. It could have been a comedy and could have had better writing and acting but instead it came off as a piece of garbage. It is so bad that I can't even find any humor at all.\n",
            "\n",
            "  Average training loss: 0.64\n",
            "  Training epoch took: 0:28:32\n",
            "\n",
            "Running Validation...\n",
            "  Validation Loss: 1.06\n",
            "  Validation took: 0:00:59\n",
            "\n",
            "Training complete!\n",
            "Total training took 1:58:13 (h:mm:ss)\n"
          ]
        }
      ]
    },
    {
      "cell_type": "code",
      "source": [
        "# Display floats with two decimal places.\n",
        "pd.set_option('display.precision', 2)\n",
        "\n",
        "# Create a DataFrame from our training statistics.\n",
        "df_stats = pd.DataFrame(data=training_stats)\n",
        "\n",
        "# Use the 'epoch' as the row index.\n",
        "df_stats = df_stats.set_index('epoch')\n",
        "\n",
        "# A hack to force the column headers to wrap.\n",
        "#df = df.style.set_table_styles([dict(selector=\"th\",props=[('max-width', '70px')])])\n",
        "\n",
        "# Display the table.\n",
        "df_stats"
      ],
      "metadata": {
        "id": "FJzGSLzzRHis",
        "colab": {
          "base_uri": "https://localhost:8080/",
          "height": 204
        },
        "outputId": "5094ec10-2075-42ca-87cf-4d4d7ba78cf1"
      },
      "execution_count": null,
      "outputs": [
        {
          "output_type": "execute_result",
          "data": {
            "text/plain": [
              "       Training Loss  Valid. Loss Training Time Validation Time\n",
              "epoch                                                          \n",
              "1               1.07         0.98       0:28:41         0:01:00\n",
              "2               0.90         1.01       0:28:36         0:01:00\n",
              "3               0.77         1.02       0:28:26         0:01:00\n",
              "4               0.64         1.06       0:28:32         0:00:59"
            ],
            "text/html": [
              "\n",
              "  <div id=\"df-bfa1a862-7c87-4de0-ac6b-e67221939c5f\" class=\"colab-df-container\">\n",
              "    <div>\n",
              "<style scoped>\n",
              "    .dataframe tbody tr th:only-of-type {\n",
              "        vertical-align: middle;\n",
              "    }\n",
              "\n",
              "    .dataframe tbody tr th {\n",
              "        vertical-align: top;\n",
              "    }\n",
              "\n",
              "    .dataframe thead th {\n",
              "        text-align: right;\n",
              "    }\n",
              "</style>\n",
              "<table border=\"1\" class=\"dataframe\">\n",
              "  <thead>\n",
              "    <tr style=\"text-align: right;\">\n",
              "      <th></th>\n",
              "      <th>Training Loss</th>\n",
              "      <th>Valid. Loss</th>\n",
              "      <th>Training Time</th>\n",
              "      <th>Validation Time</th>\n",
              "    </tr>\n",
              "    <tr>\n",
              "      <th>epoch</th>\n",
              "      <th></th>\n",
              "      <th></th>\n",
              "      <th></th>\n",
              "      <th></th>\n",
              "    </tr>\n",
              "  </thead>\n",
              "  <tbody>\n",
              "    <tr>\n",
              "      <th>1</th>\n",
              "      <td>1.07</td>\n",
              "      <td>0.98</td>\n",
              "      <td>0:28:41</td>\n",
              "      <td>0:01:00</td>\n",
              "    </tr>\n",
              "    <tr>\n",
              "      <th>2</th>\n",
              "      <td>0.90</td>\n",
              "      <td>1.01</td>\n",
              "      <td>0:28:36</td>\n",
              "      <td>0:01:00</td>\n",
              "    </tr>\n",
              "    <tr>\n",
              "      <th>3</th>\n",
              "      <td>0.77</td>\n",
              "      <td>1.02</td>\n",
              "      <td>0:28:26</td>\n",
              "      <td>0:01:00</td>\n",
              "    </tr>\n",
              "    <tr>\n",
              "      <th>4</th>\n",
              "      <td>0.64</td>\n",
              "      <td>1.06</td>\n",
              "      <td>0:28:32</td>\n",
              "      <td>0:00:59</td>\n",
              "    </tr>\n",
              "  </tbody>\n",
              "</table>\n",
              "</div>\n",
              "    <div class=\"colab-df-buttons\">\n",
              "\n",
              "  <div class=\"colab-df-container\">\n",
              "    <button class=\"colab-df-convert\" onclick=\"convertToInteractive('df-bfa1a862-7c87-4de0-ac6b-e67221939c5f')\"\n",
              "            title=\"Convert this dataframe to an interactive table.\"\n",
              "            style=\"display:none;\">\n",
              "\n",
              "  <svg xmlns=\"http://www.w3.org/2000/svg\" height=\"24px\" viewBox=\"0 -960 960 960\">\n",
              "    <path d=\"M120-120v-720h720v720H120Zm60-500h600v-160H180v160Zm220 220h160v-160H400v160Zm0 220h160v-160H400v160ZM180-400h160v-160H180v160Zm440 0h160v-160H620v160ZM180-180h160v-160H180v160Zm440 0h160v-160H620v160Z\"/>\n",
              "  </svg>\n",
              "    </button>\n",
              "\n",
              "  <style>\n",
              "    .colab-df-container {\n",
              "      display:flex;\n",
              "      gap: 12px;\n",
              "    }\n",
              "\n",
              "    .colab-df-convert {\n",
              "      background-color: #E8F0FE;\n",
              "      border: none;\n",
              "      border-radius: 50%;\n",
              "      cursor: pointer;\n",
              "      display: none;\n",
              "      fill: #1967D2;\n",
              "      height: 32px;\n",
              "      padding: 0 0 0 0;\n",
              "      width: 32px;\n",
              "    }\n",
              "\n",
              "    .colab-df-convert:hover {\n",
              "      background-color: #E2EBFA;\n",
              "      box-shadow: 0px 1px 2px rgba(60, 64, 67, 0.3), 0px 1px 3px 1px rgba(60, 64, 67, 0.15);\n",
              "      fill: #174EA6;\n",
              "    }\n",
              "\n",
              "    .colab-df-buttons div {\n",
              "      margin-bottom: 4px;\n",
              "    }\n",
              "\n",
              "    [theme=dark] .colab-df-convert {\n",
              "      background-color: #3B4455;\n",
              "      fill: #D2E3FC;\n",
              "    }\n",
              "\n",
              "    [theme=dark] .colab-df-convert:hover {\n",
              "      background-color: #434B5C;\n",
              "      box-shadow: 0px 1px 3px 1px rgba(0, 0, 0, 0.15);\n",
              "      filter: drop-shadow(0px 1px 2px rgba(0, 0, 0, 0.3));\n",
              "      fill: #FFFFFF;\n",
              "    }\n",
              "  </style>\n",
              "\n",
              "    <script>\n",
              "      const buttonEl =\n",
              "        document.querySelector('#df-bfa1a862-7c87-4de0-ac6b-e67221939c5f button.colab-df-convert');\n",
              "      buttonEl.style.display =\n",
              "        google.colab.kernel.accessAllowed ? 'block' : 'none';\n",
              "\n",
              "      async function convertToInteractive(key) {\n",
              "        const element = document.querySelector('#df-bfa1a862-7c87-4de0-ac6b-e67221939c5f');\n",
              "        const dataTable =\n",
              "          await google.colab.kernel.invokeFunction('convertToInteractive',\n",
              "                                                    [key], {});\n",
              "        if (!dataTable) return;\n",
              "\n",
              "        const docLinkHtml = 'Like what you see? Visit the ' +\n",
              "          '<a target=\"_blank\" href=https://colab.research.google.com/notebooks/data_table.ipynb>data table notebook</a>'\n",
              "          + ' to learn more about interactive tables.';\n",
              "        element.innerHTML = '';\n",
              "        dataTable['output_type'] = 'display_data';\n",
              "        await google.colab.output.renderOutput(dataTable, element);\n",
              "        const docLink = document.createElement('div');\n",
              "        docLink.innerHTML = docLinkHtml;\n",
              "        element.appendChild(docLink);\n",
              "      }\n",
              "    </script>\n",
              "  </div>\n",
              "\n",
              "\n",
              "<div id=\"df-498ea3ee-5bf1-4b9e-8ff6-210043496e04\">\n",
              "  <button class=\"colab-df-quickchart\" onclick=\"quickchart('df-498ea3ee-5bf1-4b9e-8ff6-210043496e04')\"\n",
              "            title=\"Suggest charts\"\n",
              "            style=\"display:none;\">\n",
              "\n",
              "<svg xmlns=\"http://www.w3.org/2000/svg\" height=\"24px\"viewBox=\"0 0 24 24\"\n",
              "     width=\"24px\">\n",
              "    <g>\n",
              "        <path d=\"M19 3H5c-1.1 0-2 .9-2 2v14c0 1.1.9 2 2 2h14c1.1 0 2-.9 2-2V5c0-1.1-.9-2-2-2zM9 17H7v-7h2v7zm4 0h-2V7h2v10zm4 0h-2v-4h2v4z\"/>\n",
              "    </g>\n",
              "</svg>\n",
              "  </button>\n",
              "\n",
              "<style>\n",
              "  .colab-df-quickchart {\n",
              "      --bg-color: #E8F0FE;\n",
              "      --fill-color: #1967D2;\n",
              "      --hover-bg-color: #E2EBFA;\n",
              "      --hover-fill-color: #174EA6;\n",
              "      --disabled-fill-color: #AAA;\n",
              "      --disabled-bg-color: #DDD;\n",
              "  }\n",
              "\n",
              "  [theme=dark] .colab-df-quickchart {\n",
              "      --bg-color: #3B4455;\n",
              "      --fill-color: #D2E3FC;\n",
              "      --hover-bg-color: #434B5C;\n",
              "      --hover-fill-color: #FFFFFF;\n",
              "      --disabled-bg-color: #3B4455;\n",
              "      --disabled-fill-color: #666;\n",
              "  }\n",
              "\n",
              "  .colab-df-quickchart {\n",
              "    background-color: var(--bg-color);\n",
              "    border: none;\n",
              "    border-radius: 50%;\n",
              "    cursor: pointer;\n",
              "    display: none;\n",
              "    fill: var(--fill-color);\n",
              "    height: 32px;\n",
              "    padding: 0;\n",
              "    width: 32px;\n",
              "  }\n",
              "\n",
              "  .colab-df-quickchart:hover {\n",
              "    background-color: var(--hover-bg-color);\n",
              "    box-shadow: 0 1px 2px rgba(60, 64, 67, 0.3), 0 1px 3px 1px rgba(60, 64, 67, 0.15);\n",
              "    fill: var(--button-hover-fill-color);\n",
              "  }\n",
              "\n",
              "  .colab-df-quickchart-complete:disabled,\n",
              "  .colab-df-quickchart-complete:disabled:hover {\n",
              "    background-color: var(--disabled-bg-color);\n",
              "    fill: var(--disabled-fill-color);\n",
              "    box-shadow: none;\n",
              "  }\n",
              "\n",
              "  .colab-df-spinner {\n",
              "    border: 2px solid var(--fill-color);\n",
              "    border-color: transparent;\n",
              "    border-bottom-color: var(--fill-color);\n",
              "    animation:\n",
              "      spin 1s steps(1) infinite;\n",
              "  }\n",
              "\n",
              "  @keyframes spin {\n",
              "    0% {\n",
              "      border-color: transparent;\n",
              "      border-bottom-color: var(--fill-color);\n",
              "      border-left-color: var(--fill-color);\n",
              "    }\n",
              "    20% {\n",
              "      border-color: transparent;\n",
              "      border-left-color: var(--fill-color);\n",
              "      border-top-color: var(--fill-color);\n",
              "    }\n",
              "    30% {\n",
              "      border-color: transparent;\n",
              "      border-left-color: var(--fill-color);\n",
              "      border-top-color: var(--fill-color);\n",
              "      border-right-color: var(--fill-color);\n",
              "    }\n",
              "    40% {\n",
              "      border-color: transparent;\n",
              "      border-right-color: var(--fill-color);\n",
              "      border-top-color: var(--fill-color);\n",
              "    }\n",
              "    60% {\n",
              "      border-color: transparent;\n",
              "      border-right-color: var(--fill-color);\n",
              "    }\n",
              "    80% {\n",
              "      border-color: transparent;\n",
              "      border-right-color: var(--fill-color);\n",
              "      border-bottom-color: var(--fill-color);\n",
              "    }\n",
              "    90% {\n",
              "      border-color: transparent;\n",
              "      border-bottom-color: var(--fill-color);\n",
              "    }\n",
              "  }\n",
              "</style>\n",
              "\n",
              "  <script>\n",
              "    async function quickchart(key) {\n",
              "      const quickchartButtonEl =\n",
              "        document.querySelector('#' + key + ' button');\n",
              "      quickchartButtonEl.disabled = true;  // To prevent multiple clicks.\n",
              "      quickchartButtonEl.classList.add('colab-df-spinner');\n",
              "      try {\n",
              "        const charts = await google.colab.kernel.invokeFunction(\n",
              "            'suggestCharts', [key], {});\n",
              "      } catch (error) {\n",
              "        console.error('Error during call to suggestCharts:', error);\n",
              "      }\n",
              "      quickchartButtonEl.classList.remove('colab-df-spinner');\n",
              "      quickchartButtonEl.classList.add('colab-df-quickchart-complete');\n",
              "    }\n",
              "    (() => {\n",
              "      let quickchartButtonEl =\n",
              "        document.querySelector('#df-498ea3ee-5bf1-4b9e-8ff6-210043496e04 button');\n",
              "      quickchartButtonEl.style.display =\n",
              "        google.colab.kernel.accessAllowed ? 'block' : 'none';\n",
              "    })();\n",
              "  </script>\n",
              "</div>\n",
              "\n",
              "  <div id=\"id_67cea4eb-643c-4ffe-a476-d06b105acb8a\">\n",
              "    <style>\n",
              "      .colab-df-generate {\n",
              "        background-color: #E8F0FE;\n",
              "        border: none;\n",
              "        border-radius: 50%;\n",
              "        cursor: pointer;\n",
              "        display: none;\n",
              "        fill: #1967D2;\n",
              "        height: 32px;\n",
              "        padding: 0 0 0 0;\n",
              "        width: 32px;\n",
              "      }\n",
              "\n",
              "      .colab-df-generate:hover {\n",
              "        background-color: #E2EBFA;\n",
              "        box-shadow: 0px 1px 2px rgba(60, 64, 67, 0.3), 0px 1px 3px 1px rgba(60, 64, 67, 0.15);\n",
              "        fill: #174EA6;\n",
              "      }\n",
              "\n",
              "      [theme=dark] .colab-df-generate {\n",
              "        background-color: #3B4455;\n",
              "        fill: #D2E3FC;\n",
              "      }\n",
              "\n",
              "      [theme=dark] .colab-df-generate:hover {\n",
              "        background-color: #434B5C;\n",
              "        box-shadow: 0px 1px 3px 1px rgba(0, 0, 0, 0.15);\n",
              "        filter: drop-shadow(0px 1px 2px rgba(0, 0, 0, 0.3));\n",
              "        fill: #FFFFFF;\n",
              "      }\n",
              "    </style>\n",
              "    <button class=\"colab-df-generate\" onclick=\"generateWithVariable('df_stats')\"\n",
              "            title=\"Generate code using this dataframe.\"\n",
              "            style=\"display:none;\">\n",
              "\n",
              "  <svg xmlns=\"http://www.w3.org/2000/svg\" height=\"24px\"viewBox=\"0 0 24 24\"\n",
              "       width=\"24px\">\n",
              "    <path d=\"M7,19H8.4L18.45,9,17,7.55,7,17.6ZM5,21V16.75L18.45,3.32a2,2,0,0,1,2.83,0l1.4,1.43a1.91,1.91,0,0,1,.58,1.4,1.91,1.91,0,0,1-.58,1.4L9.25,21ZM18.45,9,17,7.55Zm-12,3A5.31,5.31,0,0,0,4.9,8.1,5.31,5.31,0,0,0,1,6.5,5.31,5.31,0,0,0,4.9,4.9,5.31,5.31,0,0,0,6.5,1,5.31,5.31,0,0,0,8.1,4.9,5.31,5.31,0,0,0,12,6.5,5.46,5.46,0,0,0,6.5,12Z\"/>\n",
              "  </svg>\n",
              "    </button>\n",
              "    <script>\n",
              "      (() => {\n",
              "      const buttonEl =\n",
              "        document.querySelector('#id_67cea4eb-643c-4ffe-a476-d06b105acb8a button.colab-df-generate');\n",
              "      buttonEl.style.display =\n",
              "        google.colab.kernel.accessAllowed ? 'block' : 'none';\n",
              "\n",
              "      buttonEl.onclick = () => {\n",
              "        google.colab.notebook.generateWithVariable('df_stats');\n",
              "      }\n",
              "      })();\n",
              "    </script>\n",
              "  </div>\n",
              "\n",
              "    </div>\n",
              "  </div>\n"
            ]
          },
          "metadata": {},
          "execution_count": 21
        }
      ]
    },
    {
      "cell_type": "code",
      "source": [
        "# Use plot styling from seaborn.\n",
        "sns.set(style='darkgrid')\n",
        "\n",
        "# Increase the plot size and font size.\n",
        "sns.set(font_scale=1.5)\n",
        "plt.rcParams[\"figure.figsize\"] = (12,6)\n",
        "\n",
        "# Plot the learning curve.\n",
        "plt.plot(df_stats['Training Loss'], 'b-o', label=\"Training\")\n",
        "plt.plot(df_stats['Valid. Loss'], 'g-o', label=\"Validation\")\n",
        "\n",
        "# Label the plot.\n",
        "plt.title(\"Training & Validation Loss\")\n",
        "plt.xlabel(\"Epoch\")\n",
        "plt.ylabel(\"Loss\")\n",
        "plt.legend()\n",
        "plt.xticks([1, 2, 3, 4])\n",
        "\n",
        "plt.show()"
      ],
      "metadata": {
        "id": "gh_TKRk7RHmI",
        "colab": {
          "base_uri": "https://localhost:8080/",
          "height": 566
        },
        "outputId": "b66e8ff1-3019-458b-a6ce-9d16a1b71c2f"
      },
      "execution_count": null,
      "outputs": [
        {
          "output_type": "display_data",
          "data": {
            "text/plain": [
              "<Figure size 1200x600 with 1 Axes>"
            ],
            "image/png": "[encoded data removed]"
          },
          "metadata": {}
        }
      ]
    },
    {
      "cell_type": "code",
      "source": [
        "# Get all of the model's parameters as a list of tuples.\n",
        "params = list(model.named_parameters())\n",
        "\n",
        "print('The GPT-2 model has {:} different named parameters.\\n'.format(len(params)))\n",
        "\n",
        "print('==== Embedding Layer ====\\n')\n",
        "\n",
        "for p in params[0:2]:\n",
        "    print(\"{:<55} {:>12}\".format(p[0], str(tuple(p[1].size()))))\n",
        "\n",
        "print('\\n==== First Transformer ====\\n')\n",
        "\n",
        "for p in params[2:14]:\n",
        "    print(\"{:<55} {:>12}\".format(p[0], str(tuple(p[1].size()))))\n",
        "\n",
        "print('\\n==== Output Layer ====\\n')\n",
        "\n",
        "for p in params[-2:]:\n",
        "    print(\"{:<55} {:>12}\".format(p[0], str(tuple(p[1].size()))))"
      ],
      "metadata": {
        "id": "TUJ3LQhWRHoh",
        "colab": {
          "base_uri": "https://localhost:8080/"
        },
        "outputId": "74bdae0d-1e05-4491-c7ea-9c6310234f10"
      },
      "execution_count": null,
      "outputs": [
        {
          "output_type": "stream",
          "name": "stdout",
          "text": [
            "The GPT-2 model has 148 different named parameters.\n",
            "\n",
            "==== Embedding Layer ====\n",
            "\n",
            "transformer.wte.weight                                  (50259, 768)\n",
            "transformer.wpe.weight                                   (1024, 768)\n",
            "\n",
            "==== First Transformer ====\n",
            "\n",
            "transformer.h.0.ln_1.weight                                   (768,)\n",
            "transformer.h.0.ln_1.bias                                     (768,)\n",
            "transformer.h.0.attn.c_attn.weight                       (768, 2304)\n",
            "transformer.h.0.attn.c_attn.bias                             (2304,)\n",
            "transformer.h.0.attn.c_proj.weight                        (768, 768)\n",
            "transformer.h.0.attn.c_proj.bias                              (768,)\n",
            "transformer.h.0.ln_2.weight                                   (768,)\n",
            "transformer.h.0.ln_2.bias                                     (768,)\n",
            "transformer.h.0.mlp.c_fc.weight                          (768, 3072)\n",
            "transformer.h.0.mlp.c_fc.bias                                (3072,)\n",
            "transformer.h.0.mlp.c_proj.weight                        (3072, 768)\n",
            "transformer.h.0.mlp.c_proj.bias                               (768,)\n",
            "\n",
            "==== Output Layer ====\n",
            "\n",
            "transformer.ln_f.weight                                       (768,)\n",
            "transformer.ln_f.bias                                         (768,)\n"
          ]
        }
      ]
    },
    {
      "cell_type": "code",
      "source": [
        "# Saving best-practices: if you use defaults names for the model, you can reload it using from_pretrained()\n",
        "\n",
        "output_dir = '/content/drive/MyDrive/CS505_final_drive/final_project_gpt2_textgen_class1_epoch4'\n",
        "output_dir1 = '/content/drive/MyDrive/CS505_final_drive/final_project_gpt2_tokenizer_class1_epoch4'\n",
        "\n",
        "# Create output directory if needed\n",
        "if not os.path.exists(output_dir):\n",
        "    os.makedirs(output_dir)\n",
        "\n",
        "print(\"Saving model to %s\" % output_dir)\n",
        "\n",
        "# Save a trained model, configuration and tokenizer using `save_pretrained()`.\n",
        "# They can then be reloaded using `from_pretrained()`\n",
        "model_to_save = model.module if hasattr(model, 'module') else model  # Take care of distributed/parallel training\n",
        "model_to_save.save_pretrained(output_dir)\n",
        "tokenizer.save_pretrained(output_dir1)\n",
        "\n",
        "# Good practice: save your training arguments together with the trained model\n",
        "# torch.save(args, os.path.join(output_dir, 'training_args.bin'))\n"
      ],
      "metadata": {
        "id": "h-8l6OEoRHsA",
        "colab": {
          "base_uri": "https://localhost:8080/"
        },
        "outputId": "e6b5ab6b-6e3e-40d1-91ae-29cee288e96d"
      },
      "execution_count": null,
      "outputs": [
        {
          "output_type": "stream",
          "name": "stdout",
          "text": [
            "Saving model to /content/drive/MyDrive/CS505_final_drive/final_project_gpt2_textgen_class1_epoch4\n"
          ]
        },
        {
          "output_type": "execute_result",
          "data": {
            "text/plain": [
              "('/content/drive/MyDrive/CS505_final_drive/final_project_gpt2_tokenizer_class1_epoch4/tokenizer_config.json',\n",
              " '/content/drive/MyDrive/CS505_final_drive/final_project_gpt2_tokenizer_class1_epoch4/special_tokens_map.json',\n",
              " '/content/drive/MyDrive/CS505_final_drive/final_project_gpt2_tokenizer_class1_epoch4/vocab.json',\n",
              " '/content/drive/MyDrive/CS505_final_drive/final_project_gpt2_tokenizer_class1_epoch4/merges.txt',\n",
              " '/content/drive/MyDrive/CS505_final_drive/final_project_gpt2_tokenizer_class1_epoch4/added_tokens.json')"
            ]
          },
          "metadata": {},
          "execution_count": 24
        }
      ]
    },
    {
      "cell_type": "code",
      "source": [
        "import random\n",
        "\n",
        "print(\"Here are example of ten sentences from the original text:\")\n",
        "for x in range(10):\n",
        "  print(f\"{x}: {docs[random.randint(0,len(docs))]}\")\n"
      ],
      "metadata": {
        "id": "dRCBLfOPRWEj",
        "colab": {
          "base_uri": "https://localhost:8080/"
        },
        "outputId": "0176acae-b1e9-4531-bab1-bbaa5c773cdb"
      },
      "execution_count": null,
      "outputs": [
        {
          "output_type": "stream",
          "name": "stdout",
          "text": [
            "Here are example of ten sentences from the original text:\n",
            "0: Quite possibly the worst movie I have ever seen. I cannot believe this movie got made, with decent actors no less. Don't waste your time watching this movie, unless you enjoy senseless, annoying, and incredibly moronic writing. Movies produced using the works of Stephen King are typically quite awful. The only exceptions include movies that are based on short stories and movies that he himself did not have much to do with. This probably has something to do with the fact that he churns out mindless works one after another, much to the delight of his lowest common denominator audience. Save yourself the time and watch Magnolia.\n",
            "1: Could not get interested in this replacement for two really good series I managed to watch a little over half of the series pilot during it's first airing on syfy channel. Later, I gave it another try during a repeat airing and got to the end. I'm not able to say that this encouraged me to watch further. SG-U suffers from serious problems. For one, it focuses on uncharismatic characters played by unskilled, uncharismatic actors. This makes it dull, and I couldn't care about any of them, even in dramatic situations. Nor was I comfortable when a crude sex scene suddenly came on screen. Not a show for children, and maybe not for adults who like their science fiction to be SF and not a soap opera. Too, the pilot had a lot of hysteria. Shrieking, screaming, sobbing. This definitely made me miss the rationality of the SG- or Atlantis crew. Trivial guest appearances by these actors characters don't help the series at all. I began to find it not just dull but embarrassing. I confess that I have only watched one additional episode, after which I gave this entire show a miss. I don't doubt that the DVD set has the high quality of the previous Stargate sets, but to me, the show itself isn't worth purchasing, whether it's a half season or a whole. Anyone who hasn't seen SG- or Atlantis, I highly encourage to look at the complete sets for these series. You will not be disappointed.\n",
            "2: I hate to give this BILGE  Star! I saw this one on television recently, and if there was ever a no star rating this would get it At least from me Period comedies seldom work,HISTORY OF THE WORLD, etc especially when there are absolute no talents like Chris Farley and Perry. Supposedly this was Farley's last film, he should have quit a LONG time agoIt is NOT funny or even mildly amusing, just a load of overdone juvenile humor and labored slapstick. Trying to turn the Lewis and Clark expedition into a joke was a major waste of time and money, which is what YOU will experience if you buy this tripe.\n",
            "3: Just say NO! I could not agree more with the others here. Paramount is trying to get rich quick off of this series. I had every intention of buying all  seasons of Gunsmoke, provided they were released one season at a time, maybe two seasons per year. That'd take me into my  But at this rate, it could take more than  years to release the entire series. The same thing was done with other classic Westerns like Rawhide. It may be time to consider the Gunsmoke Anniversary edition or other prior releases. Even better, online rentals!\n",
            "4: BO.RING! I wish I could say this movie was like watching paint dry but that would've been more exciting. It's just about an alcoholic private investigator Michael Shannon who follows a man with a kid. There's some spoilers there but not interesting enough to mention. The only positive thing about this was I didn't pay for it. I saw it on On Demand and fast forwarded through most of it.Save your time and your money. Watching a faucet drip is more entertaining.\n",
            "5: Yawn! Identity Thief is a Time Thief I think this was supposed to be the Planes, Trains and Automobiles of the new decade. Same basic formula. However, the comedic chemistry between Steve Martin and John Candy that had you laughing so hard you were almost in a panic to catch a breath not here. Nothing funny here. Nothing to see here. What a waste of time.\n",
            "6: Okay, there are worse movies .Not as unbelievable as quot;Pretty Womanquot;, but certainly better acted than anything Juliet Roberts puts out. Seriously, even as camp, this one stinks\n",
            "7: here we go, again two gay men meet in a bar and hook up; take drugs; whine a LOT which makes this a G A Y flick. there is supposed to be a subtext about relationship in there somewhere, but i do not see it; just endless self-referencing and endless incursions into meaningless what ifs. these two caricatures-of-gay-opposites would NEVER hook up in a regular gay bar and they would leave each other before breakfast if they had. the ending is pure hollywood schmalz totally unbelievable! if you like flicks where people talk endlessly about themselves, this is for you.\n",
            "8: For Frat Party Afficionados Only Sily to the point of total boredom is a story there this telling is not a story waste your time\n",
            "9: What a disappointment. I will wait until they release it for viewing on AMERICAN machines, before I go digging around for any special unlock codes to watch this show. How incredibly lame that the release to other countries would take priority over the country this show was made in.Rediculous.I was initially excited to see this show available, I absolutely LOVED this as a kid.but then.depression. If this is never released in USA format, I will never buy.What would have been an easy  rating, gets one measly star soley based on this reason.\n"
          ]
        }
      ]
    },
    {
      "cell_type": "code",
      "source": [
        "model.eval()\n",
        "\n",
        "prompt = \"<|startoftext|>\"\n",
        "\n",
        "generated = torch.tensor(tokenizer.encode(prompt)).unsqueeze(0)\n",
        "generated = generated.to(device)\n",
        "\n",
        "print(generated)\n",
        "\n",
        "sample_outputs = model.generate(\n",
        "                                generated,\n",
        "                                #bos_token_id=random.randint(1,30000),\n",
        "                                do_sample=True,\n",
        "                                top_k=50,\n",
        "                                max_length = 300,\n",
        "                                top_p=0.95,\n",
        "                                num_return_sequences=10\n",
        "                                )\n",
        "\n",
        "for i, sample_output in enumerate(sample_outputs):\n",
        "  print(\"{}: {}\\n\\n\".format(i, tokenizer.decode(sample_output, skip_special_tokens=True)))"
      ],
      "metadata": {
        "id": "fAXNwmESRWHe",
        "colab": {
          "base_uri": "https://localhost:8080/"
        },
        "outputId": "0588eec1-1897-4eb3-e74d-de7594ffc15d"
      },
      "execution_count": null,
      "outputs": [
        {
          "output_type": "stream",
          "name": "stderr",
          "text": [
            "The attention mask and the pad token id were not set. As a consequence, you may observe unexpected behavior. Please pass your input's `attention_mask` to obtain reliable results.\n",
            "Setting `pad_token_id` to `eos_token_id`:50256 for open-end generation.\n"
          ]
        },
        {
          "output_type": "stream",
          "name": "stdout",
          "text": [
            "tensor([[50257]], device='cuda:0')\n",
            "0: Dreadful This movie is an insult to the intelligence of the viewers. The plot is stupid and makes no sense. The cast and the acting are as atrocious as they come. The storyline is mind-numbingly boring. The characters are too unbelievable. The script is preposterous. Even the special effects were lame. This movie is about as interesting as a bad box-office hit.\n",
            "\n",
            "\n",
            "1: A mess The DVD offers  movie versions of the following movie. All  will be available on DVD with the standard English release.The problem I had with the supplier is not the seller, but the supplier's lack of service on the product when it comes to DVDs. I could not be bothered with this oversold DVD, as my order was excellent.\n",
            "\n",
            "\n",
            "2: Why is it called quot;Stamp Your DVDquot; This movie is not really a film. It is a collection of clips from the  movies of the same name. It's hard to tell whether one is a bad film or a great movie.The title of the film is quot;Stamp Your DVDquot;, it has a couple of funny jokes about the Beatles and their friendship. There are a couple of good moments that you will forget and you will find yourself laughing at the end. The  and  have good parts in some way or another.The best part of the film is the  quot;Stamp Your DVDquot;. For the rest of you, the main point is that the Beatles' and the Beatles' friendship is about as strong as your belief in their songs quot;I Know You Said Soquot;.It's great!quot;For all the other fans who have seen the  movies, I recommend to you this one one that shows that all the  kids in this country love the Beatles and the Beatles' friendship, which is one of the things that got them into this. But it's a total failure in the film.\n",
            "\n",
            "\n",
            "3: This is the kind of movie that has gone from bad to worse. I think this movie was made to appeal to die hard  year olds that just like most of the movies on the planet quot;Vortexquot;. So, my rating is for this bad movie. I can only give this  star. The acting is awful, not even a bit like quot;Vortexquot; the production values are horrible, the special effects are poor, and the special effects are horrible. This movie is very bad in every way. Even the special effects are terrible. I think that's  good effects.  in the movie. This makes the quot;Vortex the movie that went bad the worse.\n",
            "\n",
            "\n",
            "4: Just plain boring. You think this movie would be interesting, but how many movies do you have to watch before something just plods on you with boredom, boredom, and lack of entertainment? This is definitely not one of them.\n",
            "\n",
            "\n",
            "5: Worse than Snooze Fest? Not to get all excited, but I was pleasantly surprised with this release from Anchor Bay. I have been looking forward to this film since childhood, and for the first time seeing a live performance of the band was an experience of my youth that I have never experienced on the big screen. There was a lot of chatter about the musical, and some of the lyrics were actually catchy. But overall this was a snooze fest. It was a complete waste of film, and I am glad Anchor Bay gave it another try to bring it to the big screen.\n",
            "\n",
            "\n",
            "6: Not for pre-teen, which means you will be missing out on this one! My niece and I were enjoying the previews for the special edition so we decided to throw the DVD in the bargain bin just so we could spend more money!When we were in the mood to see the special edition, I just looked forward to the show. It looks tempting at first, but then it becomes boring and the story becomes stale! The animation is horrible, which makes the whole thing worse. If you want to see the show in its original form, purchase the DVD from Image Entertainment. They are the only ones that do it for me!My niece and I kept watching watching it until she realized she did not want to watch the TV show!We could have used the DVD and we would not have wasted money to even finish it!\n",
            "\n",
            "\n",
            "7: Loved the first Three Stooges DVD; did not care for this one. Its so strange and cheesy you will be glad that this DVD was not restored in the theaters. I bought it thinking that whoever transfered the rights to the original movie would have been great. How they did it is beyond me. The dialogue is just not in keeping with the spirit of the original movie and the characters are not the same. The entire film was just plain stupid. The movie was supposed to be about love and sex and I thought that the relationship between Johnny Depp and Ella Shearer is so strong she is HOT. Instead, she is a weak woman who makes you feel all dirty and nasty. This movie is just another waste of money.\n",
            "\n",
            "\n",
            "8: Unfunny for the Unsatisfied I'm a huge Will Ferrell fan but to not even get into the movie with my kids is just a waste of time.\n",
            "\n",
            "\n",
            "9: Unfunny. The concept was appealing and could potentially have been interesting, but. In the end, it just doesn't feel right. The plot is silly, the characters are thin, and the action is light. I didn't really care for this movie at all.\n",
            "\n",
            "\n"
          ]
        }
      ]
    },
    {
      "cell_type": "code",
      "execution_count": null,
      "metadata": {
        "id": "7_2_aX3CN-N4"
      },
      "outputs": [],
      "source": []
    },
    {
      "cell_type": "code",
      "execution_count": null,
      "metadata": {
        "id": "WucHoKcvN-N5"
      },
      "outputs": [],
      "source": []
    },
    {
      "cell_type": "code",
      "source": [],
      "metadata": {
        "id": "U8hRLlWmqDjE"
      },
      "execution_count": null,
      "outputs": []
    },
    {
      "cell_type": "code",
      "source": [],
      "metadata": {
        "id": "Sh3WmTRSqDms"
      },
      "execution_count": null,
      "outputs": []
    }
  ],
  "metadata": {
    "kernelspec": {
      "display_name": "Python 3",
      "name": "python3"
    },
    "language_info": {
      "codemirror_mode": {
        "name": "ipython",
        "version": 3
      },
      "file_extension": ".py",
      "mimetype": "text/x-python",
      "name": "python",
      "nbconvert_exporter": "python",
      "pygments_lexer": "ipython3",
      "version": "3.8.3"
    },
    "colab": {
      "provenance": [],
      "gpuType": "T4"
    },
    "accelerator": "GPU",
    "widgets": {
      "application/vnd.jupyter.widget-state+json": {
        "73990aa0ed384509b219ae3caaa61598": {
          "model_module": "@jupyter-widgets/controls",
          "model_name": "HBoxModel",
          "model_module_version": "1.5.0",
          "state": {
            "_dom_classes": [],
            "_model_module": "@jupyter-widgets/controls",
            "_model_module_version": "1.5.0",
            "_model_name": "HBoxModel",
            "_view_count": null,
            "_view_module": "@jupyter-widgets/controls",
            "_view_module_version": "1.5.0",
            "_view_name": "HBoxView",
            "box_style": "",
            "children": [
              "IPY_MODEL_971ddc08400d49c694033574fdd96fd7",
              "IPY_MODEL_eefc6eb263bc44a390d001af1f986a3f",
              "IPY_MODEL_881088c65bb94fa4b0886b295a974517"
            ],
            "layout": "IPY_MODEL_8efbf6c03c474c9abecc9f363f96eccf"
          }
        },
        "971ddc08400d49c694033574fdd96fd7": {
          "model_module": "@jupyter-widgets/controls",
          "model_name": "HTMLModel",
          "model_module_version": "1.5.0",
          "state": {
            "_dom_classes": [],
            "_model_module": "@jupyter-widgets/controls",
            "_model_module_version": "1.5.0",
            "_model_name": "HTMLModel",
            "_view_count": null,
            "_view_module": "@jupyter-widgets/controls",
            "_view_module_version": "1.5.0",
            "_view_name": "HTMLView",
            "description": "",
            "description_tooltip": null,
            "layout": "IPY_MODEL_b2ce16875b104fce8f6608110bbfc3d3",
            "placeholder": "​",
            "style": "IPY_MODEL_0075eba4156349efb2d02b3cc9428c17",
            "value": "vocab.json: 100%"
          }
        },
        "eefc6eb263bc44a390d001af1f986a3f": {
          "model_module": "@jupyter-widgets/controls",
          "model_name": "FloatProgressModel",
          "model_module_version": "1.5.0",
          "state": {
            "_dom_classes": [],
            "_model_module": "@jupyter-widgets/controls",
            "_model_module_version": "1.5.0",
            "_model_name": "FloatProgressModel",
            "_view_count": null,
            "_view_module": "@jupyter-widgets/controls",
            "_view_module_version": "1.5.0",
            "_view_name": "ProgressView",
            "bar_style": "success",
            "description": "",
            "description_tooltip": null,
            "layout": "IPY_MODEL_9a26a7a4a0274cc6b98f0f6ccb55ec5a",
            "max": 1042301,
            "min": 0,
            "orientation": "horizontal",
            "style": "IPY_MODEL_3c913b60fe8d4675b6683f556f68b230",
            "value": 1042301
          }
        },
        "881088c65bb94fa4b0886b295a974517": {
          "model_module": "@jupyter-widgets/controls",
          "model_name": "HTMLModel",
          "model_module_version": "1.5.0",
          "state": {
            "_dom_classes": [],
            "_model_module": "@jupyter-widgets/controls",
            "_model_module_version": "1.5.0",
            "_model_name": "HTMLModel",
            "_view_count": null,
            "_view_module": "@jupyter-widgets/controls",
            "_view_module_version": "1.5.0",
            "_view_name": "HTMLView",
            "description": "",
            "description_tooltip": null,
            "layout": "IPY_MODEL_51acefe675c847d98cd308d05ac33018",
            "placeholder": "​",
            "style": "IPY_MODEL_e1eeaa38914b48819ce519c83c2fd409",
            "value": " 1.04M/1.04M [00:00&lt;00:00, 12.0MB/s]"
          }
        },
        "8efbf6c03c474c9abecc9f363f96eccf": {
          "model_module": "@jupyter-widgets/base",
          "model_name": "LayoutModel",
          "model_module_version": "1.2.0",
          "state": {
            "_model_module": "@jupyter-widgets/base",
            "_model_module_version": "1.2.0",
            "_model_name": "LayoutModel",
            "_view_count": null,
            "_view_module": "@jupyter-widgets/base",
            "_view_module_version": "1.2.0",
            "_view_name": "LayoutView",
            "align_content": null,
            "align_items": null,
            "align_self": null,
            "border": null,
            "bottom": null,
            "display": null,
            "flex": null,
            "flex_flow": null,
            "grid_area": null,
            "grid_auto_columns": null,
            "grid_auto_flow": null,
            "grid_auto_rows": null,
            "grid_column": null,
            "grid_gap": null,
            "grid_row": null,
            "grid_template_areas": null,
            "grid_template_columns": null,
            "grid_template_rows": null,
            "height": null,
            "justify_content": null,
            "justify_items": null,
            "left": null,
            "margin": null,
            "max_height": null,
            "max_width": null,
            "min_height": null,
            "min_width": null,
            "object_fit": null,
            "object_position": null,
            "order": null,
            "overflow": null,
            "overflow_x": null,
            "overflow_y": null,
            "padding": null,
            "right": null,
            "top": null,
            "visibility": null,
            "width": null
          }
        },
        "b2ce16875b104fce8f6608110bbfc3d3": {
          "model_module": "@jupyter-widgets/base",
          "model_name": "LayoutModel",
          "model_module_version": "1.2.0",
          "state": {
            "_model_module": "@jupyter-widgets/base",
            "_model_module_version": "1.2.0",
            "_model_name": "LayoutModel",
            "_view_count": null,
            "_view_module": "@jupyter-widgets/base",
            "_view_module_version": "1.2.0",
            "_view_name": "LayoutView",
            "align_content": null,
            "align_items": null,
            "align_self": null,
            "border": null,
            "bottom": null,
            "display": null,
            "flex": null,
            "flex_flow": null,
            "grid_area": null,
            "grid_auto_columns": null,
            "grid_auto_flow": null,
            "grid_auto_rows": null,
            "grid_column": null,
            "grid_gap": null,
            "grid_row": null,
            "grid_template_areas": null,
            "grid_template_columns": null,
            "grid_template_rows": null,
            "height": null,
            "justify_content": null,
            "justify_items": null,
            "left": null,
            "margin": null,
            "max_height": null,
            "max_width": null,
            "min_height": null,
            "min_width": null,
            "object_fit": null,
            "object_position": null,
            "order": null,
            "overflow": null,
            "overflow_x": null,
            "overflow_y": null,
            "padding": null,
            "right": null,
            "top": null,
            "visibility": null,
            "width": null
          }
        },
        "0075eba4156349efb2d02b3cc9428c17": {
          "model_module": "@jupyter-widgets/controls",
          "model_name": "DescriptionStyleModel",
          "model_module_version": "1.5.0",
          "state": {
            "_model_module": "@jupyter-widgets/controls",
            "_model_module_version": "1.5.0",
            "_model_name": "DescriptionStyleModel",
            "_view_count": null,
            "_view_module": "@jupyter-widgets/base",
            "_view_module_version": "1.2.0",
            "_view_name": "StyleView",
            "description_width": ""
          }
        },
        "9a26a7a4a0274cc6b98f0f6ccb55ec5a": {
          "model_module": "@jupyter-widgets/base",
          "model_name": "LayoutModel",
          "model_module_version": "1.2.0",
          "state": {
            "_model_module": "@jupyter-widgets/base",
            "_model_module_version": "1.2.0",
            "_model_name": "LayoutModel",
            "_view_count": null,
            "_view_module": "@jupyter-widgets/base",
            "_view_module_version": "1.2.0",
            "_view_name": "LayoutView",
            "align_content": null,
            "align_items": null,
            "align_self": null,
            "border": null,
            "bottom": null,
            "display": null,
            "flex": null,
            "flex_flow": null,
            "grid_area": null,
            "grid_auto_columns": null,
            "grid_auto_flow": null,
            "grid_auto_rows": null,
            "grid_column": null,
            "grid_gap": null,
            "grid_row": null,
            "grid_template_areas": null,
            "grid_template_columns": null,
            "grid_template_rows": null,
            "height": null,
            "justify_content": null,
            "justify_items": null,
            "left": null,
            "margin": null,
            "max_height": null,
            "max_width": null,
            "min_height": null,
            "min_width": null,
            "object_fit": null,
            "object_position": null,
            "order": null,
            "overflow": null,
            "overflow_x": null,
            "overflow_y": null,
            "padding": null,
            "right": null,
            "top": null,
            "visibility": null,
            "width": null
          }
        },
        "3c913b60fe8d4675b6683f556f68b230": {
          "model_module": "@jupyter-widgets/controls",
          "model_name": "ProgressStyleModel",
          "model_module_version": "1.5.0",
          "state": {
            "_model_module": "@jupyter-widgets/controls",
            "_model_module_version": "1.5.0",
            "_model_name": "ProgressStyleModel",
            "_view_count": null,
            "_view_module": "@jupyter-widgets/base",
            "_view_module_version": "1.2.0",
            "_view_name": "StyleView",
            "bar_color": null,
            "description_width": ""
          }
        },
        "51acefe675c847d98cd308d05ac33018": {
          "model_module": "@jupyter-widgets/base",
          "model_name": "LayoutModel",
          "model_module_version": "1.2.0",
          "state": {
            "_model_module": "@jupyter-widgets/base",
            "_model_module_version": "1.2.0",
            "_model_name": "LayoutModel",
            "_view_count": null,
            "_view_module": "@jupyter-widgets/base",
            "_view_module_version": "1.2.0",
            "_view_name": "LayoutView",
            "align_content": null,
            "align_items": null,
            "align_self": null,
            "border": null,
            "bottom": null,
            "display": null,
            "flex": null,
            "flex_flow": null,
            "grid_area": null,
            "grid_auto_columns": null,
            "grid_auto_flow": null,
            "grid_auto_rows": null,
            "grid_column": null,
            "grid_gap": null,
            "grid_row": null,
            "grid_template_areas": null,
            "grid_template_columns": null,
            "grid_template_rows": null,
            "height": null,
            "justify_content": null,
            "justify_items": null,
            "left": null,
            "margin": null,
            "max_height": null,
            "max_width": null,
            "min_height": null,
            "min_width": null,
            "object_fit": null,
            "object_position": null,
            "order": null,
            "overflow": null,
            "overflow_x": null,
            "overflow_y": null,
            "padding": null,
            "right": null,
            "top": null,
            "visibility": null,
            "width": null
          }
        },
        "e1eeaa38914b48819ce519c83c2fd409": {
          "model_module": "@jupyter-widgets/controls",
          "model_name": "DescriptionStyleModel",
          "model_module_version": "1.5.0",
          "state": {
            "_model_module": "@jupyter-widgets/controls",
            "_model_module_version": "1.5.0",
            "_model_name": "DescriptionStyleModel",
            "_view_count": null,
            "_view_module": "@jupyter-widgets/base",
            "_view_module_version": "1.2.0",
            "_view_name": "StyleView",
            "description_width": ""
          }
        },
        "fc0954a949564d23bcfa85eb071342ea": {
          "model_module": "@jupyter-widgets/controls",
          "model_name": "HBoxModel",
          "model_module_version": "1.5.0",
          "state": {
            "_dom_classes": [],
            "_model_module": "@jupyter-widgets/controls",
            "_model_module_version": "1.5.0",
            "_model_name": "HBoxModel",
            "_view_count": null,
            "_view_module": "@jupyter-widgets/controls",
            "_view_module_version": "1.5.0",
            "_view_name": "HBoxView",
            "box_style": "",
            "children": [
              "IPY_MODEL_03bfe1cf1e764c50889269f2d7a8bad6",
              "IPY_MODEL_75d8f67782e144f3882df566f0489a5a",
              "IPY_MODEL_6b127ca0e2f2479a9ad9e8f3cdaee97d"
            ],
            "layout": "IPY_MODEL_71d566af5ab44771aa3a0364a67bd3a8"
          }
        },
        "03bfe1cf1e764c50889269f2d7a8bad6": {
          "model_module": "@jupyter-widgets/controls",
          "model_name": "HTMLModel",
          "model_module_version": "1.5.0",
          "state": {
            "_dom_classes": [],
            "_model_module": "@jupyter-widgets/controls",
            "_model_module_version": "1.5.0",
            "_model_name": "HTMLModel",
            "_view_count": null,
            "_view_module": "@jupyter-widgets/controls",
            "_view_module_version": "1.5.0",
            "_view_name": "HTMLView",
            "description": "",
            "description_tooltip": null,
            "layout": "IPY_MODEL_cdb54977c3dd4e139b9844317b6790b0",
            "placeholder": "​",
            "style": "IPY_MODEL_62ada717c9fb417a83bc35c5da4c8ed2",
            "value": "merges.txt: 100%"
          }
        },
        "75d8f67782e144f3882df566f0489a5a": {
          "model_module": "@jupyter-widgets/controls",
          "model_name": "FloatProgressModel",
          "model_module_version": "1.5.0",
          "state": {
            "_dom_classes": [],
            "_model_module": "@jupyter-widgets/controls",
            "_model_module_version": "1.5.0",
            "_model_name": "FloatProgressModel",
            "_view_count": null,
            "_view_module": "@jupyter-widgets/controls",
            "_view_module_version": "1.5.0",
            "_view_name": "ProgressView",
            "bar_style": "success",
            "description": "",
            "description_tooltip": null,
            "layout": "IPY_MODEL_4a72c7e3bdf647f580463b297fbdf424",
            "max": 456318,
            "min": 0,
            "orientation": "horizontal",
            "style": "IPY_MODEL_6a9f61f596a54475bc42d9a441bc9802",
            "value": 456318
          }
        },
        "6b127ca0e2f2479a9ad9e8f3cdaee97d": {
          "model_module": "@jupyter-widgets/controls",
          "model_name": "HTMLModel",
          "model_module_version": "1.5.0",
          "state": {
            "_dom_classes": [],
            "_model_module": "@jupyter-widgets/controls",
            "_model_module_version": "1.5.0",
            "_model_name": "HTMLModel",
            "_view_count": null,
            "_view_module": "@jupyter-widgets/controls",
            "_view_module_version": "1.5.0",
            "_view_name": "HTMLView",
            "description": "",
            "description_tooltip": null,
            "layout": "IPY_MODEL_83806c43ec2746cd947ffa0a75075b09",
            "placeholder": "​",
            "style": "IPY_MODEL_a8a3f6613c004758a484678ca1135010",
            "value": " 456k/456k [00:00&lt;00:00, 14.8MB/s]"
          }
        },
        "71d566af5ab44771aa3a0364a67bd3a8": {
          "model_module": "@jupyter-widgets/base",
          "model_name": "LayoutModel",
          "model_module_version": "1.2.0",
          "state": {
            "_model_module": "@jupyter-widgets/base",
            "_model_module_version": "1.2.0",
            "_model_name": "LayoutModel",
            "_view_count": null,
            "_view_module": "@jupyter-widgets/base",
            "_view_module_version": "1.2.0",
            "_view_name": "LayoutView",
            "align_content": null,
            "align_items": null,
            "align_self": null,
            "border": null,
            "bottom": null,
            "display": null,
            "flex": null,
            "flex_flow": null,
            "grid_area": null,
            "grid_auto_columns": null,
            "grid_auto_flow": null,
            "grid_auto_rows": null,
            "grid_column": null,
            "grid_gap": null,
            "grid_row": null,
            "grid_template_areas": null,
            "grid_template_columns": null,
            "grid_template_rows": null,
            "height": null,
            "justify_content": null,
            "justify_items": null,
            "left": null,
            "margin": null,
            "max_height": null,
            "max_width": null,
            "min_height": null,
            "min_width": null,
            "object_fit": null,
            "object_position": null,
            "order": null,
            "overflow": null,
            "overflow_x": null,
            "overflow_y": null,
            "padding": null,
            "right": null,
            "top": null,
            "visibility": null,
            "width": null
          }
        },
        "cdb54977c3dd4e139b9844317b6790b0": {
          "model_module": "@jupyter-widgets/base",
          "model_name": "LayoutModel",
          "model_module_version": "1.2.0",
          "state": {
            "_model_module": "@jupyter-widgets/base",
            "_model_module_version": "1.2.0",
            "_model_name": "LayoutModel",
            "_view_count": null,
            "_view_module": "@jupyter-widgets/base",
            "_view_module_version": "1.2.0",
            "_view_name": "LayoutView",
            "align_content": null,
            "align_items": null,
            "align_self": null,
            "border": null,
            "bottom": null,
            "display": null,
            "flex": null,
            "flex_flow": null,
            "grid_area": null,
            "grid_auto_columns": null,
            "grid_auto_flow": null,
            "grid_auto_rows": null,
            "grid_column": null,
            "grid_gap": null,
            "grid_row": null,
            "grid_template_areas": null,
            "grid_template_columns": null,
            "grid_template_rows": null,
            "height": null,
            "justify_content": null,
            "justify_items": null,
            "left": null,
            "margin": null,
            "max_height": null,
            "max_width": null,
            "min_height": null,
            "min_width": null,
            "object_fit": null,
            "object_position": null,
            "order": null,
            "overflow": null,
            "overflow_x": null,
            "overflow_y": null,
            "padding": null,
            "right": null,
            "top": null,
            "visibility": null,
            "width": null
          }
        },
        "62ada717c9fb417a83bc35c5da4c8ed2": {
          "model_module": "@jupyter-widgets/controls",
          "model_name": "DescriptionStyleModel",
          "model_module_version": "1.5.0",
          "state": {
            "_model_module": "@jupyter-widgets/controls",
            "_model_module_version": "1.5.0",
            "_model_name": "DescriptionStyleModel",
            "_view_count": null,
            "_view_module": "@jupyter-widgets/base",
            "_view_module_version": "1.2.0",
            "_view_name": "StyleView",
            "description_width": ""
          }
        },
        "4a72c7e3bdf647f580463b297fbdf424": {
          "model_module": "@jupyter-widgets/base",
          "model_name": "LayoutModel",
          "model_module_version": "1.2.0",
          "state": {
            "_model_module": "@jupyter-widgets/base",
            "_model_module_version": "1.2.0",
            "_model_name": "LayoutModel",
            "_view_count": null,
            "_view_module": "@jupyter-widgets/base",
            "_view_module_version": "1.2.0",
            "_view_name": "LayoutView",
            "align_content": null,
            "align_items": null,
            "align_self": null,
            "border": null,
            "bottom": null,
            "display": null,
            "flex": null,
            "flex_flow": null,
            "grid_area": null,
            "grid_auto_columns": null,
            "grid_auto_flow": null,
            "grid_auto_rows": null,
            "grid_column": null,
            "grid_gap": null,
            "grid_row": null,
            "grid_template_areas": null,
            "grid_template_columns": null,
            "grid_template_rows": null,
            "height": null,
            "justify_content": null,
            "justify_items": null,
            "left": null,
            "margin": null,
            "max_height": null,
            "max_width": null,
            "min_height": null,
            "min_width": null,
            "object_fit": null,
            "object_position": null,
            "order": null,
            "overflow": null,
            "overflow_x": null,
            "overflow_y": null,
            "padding": null,
            "right": null,
            "top": null,
            "visibility": null,
            "width": null
          }
        },
        "6a9f61f596a54475bc42d9a441bc9802": {
          "model_module": "@jupyter-widgets/controls",
          "model_name": "ProgressStyleModel",
          "model_module_version": "1.5.0",
          "state": {
            "_model_module": "@jupyter-widgets/controls",
            "_model_module_version": "1.5.0",
            "_model_name": "ProgressStyleModel",
            "_view_count": null,
            "_view_module": "@jupyter-widgets/base",
            "_view_module_version": "1.2.0",
            "_view_name": "StyleView",
            "bar_color": null,
            "description_width": ""
          }
        },
        "83806c43ec2746cd947ffa0a75075b09": {
          "model_module": "@jupyter-widgets/base",
          "model_name": "LayoutModel",
          "model_module_version": "1.2.0",
          "state": {
            "_model_module": "@jupyter-widgets/base",
            "_model_module_version": "1.2.0",
            "_model_name": "LayoutModel",
            "_view_count": null,
            "_view_module": "@jupyter-widgets/base",
            "_view_module_version": "1.2.0",
            "_view_name": "LayoutView",
            "align_content": null,
            "align_items": null,
            "align_self": null,
            "border": null,
            "bottom": null,
            "display": null,
            "flex": null,
            "flex_flow": null,
            "grid_area": null,
            "grid_auto_columns": null,
            "grid_auto_flow": null,
            "grid_auto_rows": null,
            "grid_column": null,
            "grid_gap": null,
            "grid_row": null,
            "grid_template_areas": null,
            "grid_template_columns": null,
            "grid_template_rows": null,
            "height": null,
            "justify_content": null,
            "justify_items": null,
            "left": null,
            "margin": null,
            "max_height": null,
            "max_width": null,
            "min_height": null,
            "min_width": null,
            "object_fit": null,
            "object_position": null,
            "order": null,
            "overflow": null,
            "overflow_x": null,
            "overflow_y": null,
            "padding": null,
            "right": null,
            "top": null,
            "visibility": null,
            "width": null
          }
        },
        "a8a3f6613c004758a484678ca1135010": {
          "model_module": "@jupyter-widgets/controls",
          "model_name": "DescriptionStyleModel",
          "model_module_version": "1.5.0",
          "state": {
            "_model_module": "@jupyter-widgets/controls",
            "_model_module_version": "1.5.0",
            "_model_name": "DescriptionStyleModel",
            "_view_count": null,
            "_view_module": "@jupyter-widgets/base",
            "_view_module_version": "1.2.0",
            "_view_name": "StyleView",
            "description_width": ""
          }
        },
        "8705dc886b1645a59e9089fb86f6f4f0": {
          "model_module": "@jupyter-widgets/controls",
          "model_name": "HBoxModel",
          "model_module_version": "1.5.0",
          "state": {
            "_dom_classes": [],
            "_model_module": "@jupyter-widgets/controls",
            "_model_module_version": "1.5.0",
            "_model_name": "HBoxModel",
            "_view_count": null,
            "_view_module": "@jupyter-widgets/controls",
            "_view_module_version": "1.5.0",
            "_view_name": "HBoxView",
            "box_style": "",
            "children": [
              "IPY_MODEL_31f8cc5f92144bcd8301d91748acc999",
              "IPY_MODEL_9a92719695b540d58f839f604b138b6c",
              "IPY_MODEL_388bc80ea8374ec5b785271555d65802"
            ],
            "layout": "IPY_MODEL_3124d1c4d19f473b8b8b7c1a398f1824"
          }
        },
        "31f8cc5f92144bcd8301d91748acc999": {
          "model_module": "@jupyter-widgets/controls",
          "model_name": "HTMLModel",
          "model_module_version": "1.5.0",
          "state": {
            "_dom_classes": [],
            "_model_module": "@jupyter-widgets/controls",
            "_model_module_version": "1.5.0",
            "_model_name": "HTMLModel",
            "_view_count": null,
            "_view_module": "@jupyter-widgets/controls",
            "_view_module_version": "1.5.0",
            "_view_name": "HTMLView",
            "description": "",
            "description_tooltip": null,
            "layout": "IPY_MODEL_f33977e09e5641d8a2645e8c4057c185",
            "placeholder": "​",
            "style": "IPY_MODEL_ec8b4ece8ce546c58ddfa26fe51f5e38",
            "value": "tokenizer.json: 100%"
          }
        },
        "9a92719695b540d58f839f604b138b6c": {
          "model_module": "@jupyter-widgets/controls",
          "model_name": "FloatProgressModel",
          "model_module_version": "1.5.0",
          "state": {
            "_dom_classes": [],
            "_model_module": "@jupyter-widgets/controls",
            "_model_module_version": "1.5.0",
            "_model_name": "FloatProgressModel",
            "_view_count": null,
            "_view_module": "@jupyter-widgets/controls",
            "_view_module_version": "1.5.0",
            "_view_name": "ProgressView",
            "bar_style": "success",
            "description": "",
            "description_tooltip": null,
            "layout": "IPY_MODEL_b9aa4cb0fadc4c50beab7c7604bcd554",
            "max": 1355256,
            "min": 0,
            "orientation": "horizontal",
            "style": "IPY_MODEL_e7f1de2801ca4cc39b11e3e48065f05a",
            "value": 1355256
          }
        },
        "388bc80ea8374ec5b785271555d65802": {
          "model_module": "@jupyter-widgets/controls",
          "model_name": "HTMLModel",
          "model_module_version": "1.5.0",
          "state": {
            "_dom_classes": [],
            "_model_module": "@jupyter-widgets/controls",
            "_model_module_version": "1.5.0",
            "_model_name": "HTMLModel",
            "_view_count": null,
            "_view_module": "@jupyter-widgets/controls",
            "_view_module_version": "1.5.0",
            "_view_name": "HTMLView",
            "description": "",
            "description_tooltip": null,
            "layout": "IPY_MODEL_b6565e79a9544bc59b356abecc6623e4",
            "placeholder": "​",
            "style": "IPY_MODEL_b2f776078468488dad19dead43914b60",
            "value": " 1.36M/1.36M [00:00&lt;00:00, 14.5MB/s]"
          }
        },
        "3124d1c4d19f473b8b8b7c1a398f1824": {
          "model_module": "@jupyter-widgets/base",
          "model_name": "LayoutModel",
          "model_module_version": "1.2.0",
          "state": {
            "_model_module": "@jupyter-widgets/base",
            "_model_module_version": "1.2.0",
            "_model_name": "LayoutModel",
            "_view_count": null,
            "_view_module": "@jupyter-widgets/base",
            "_view_module_version": "1.2.0",
            "_view_name": "LayoutView",
            "align_content": null,
            "align_items": null,
            "align_self": null,
            "border": null,
            "bottom": null,
            "display": null,
            "flex": null,
            "flex_flow": null,
            "grid_area": null,
            "grid_auto_columns": null,
            "grid_auto_flow": null,
            "grid_auto_rows": null,
            "grid_column": null,
            "grid_gap": null,
            "grid_row": null,
            "grid_template_areas": null,
            "grid_template_columns": null,
            "grid_template_rows": null,
            "height": null,
            "justify_content": null,
            "justify_items": null,
            "left": null,
            "margin": null,
            "max_height": null,
            "max_width": null,
            "min_height": null,
            "min_width": null,
            "object_fit": null,
            "object_position": null,
            "order": null,
            "overflow": null,
            "overflow_x": null,
            "overflow_y": null,
            "padding": null,
            "right": null,
            "top": null,
            "visibility": null,
            "width": null
          }
        },
        "f33977e09e5641d8a2645e8c4057c185": {
          "model_module": "@jupyter-widgets/base",
          "model_name": "LayoutModel",
          "model_module_version": "1.2.0",
          "state": {
            "_model_module": "@jupyter-widgets/base",
            "_model_module_version": "1.2.0",
            "_model_name": "LayoutModel",
            "_view_count": null,
            "_view_module": "@jupyter-widgets/base",
            "_view_module_version": "1.2.0",
            "_view_name": "LayoutView",
            "align_content": null,
            "align_items": null,
            "align_self": null,
            "border": null,
            "bottom": null,
            "display": null,
            "flex": null,
            "flex_flow": null,
            "grid_area": null,
            "grid_auto_columns": null,
            "grid_auto_flow": null,
            "grid_auto_rows": null,
            "grid_column": null,
            "grid_gap": null,
            "grid_row": null,
            "grid_template_areas": null,
            "grid_template_columns": null,
            "grid_template_rows": null,
            "height": null,
            "justify_content": null,
            "justify_items": null,
            "left": null,
            "margin": null,
            "max_height": null,
            "max_width": null,
            "min_height": null,
            "min_width": null,
            "object_fit": null,
            "object_position": null,
            "order": null,
            "overflow": null,
            "overflow_x": null,
            "overflow_y": null,
            "padding": null,
            "right": null,
            "top": null,
            "visibility": null,
            "width": null
          }
        },
        "ec8b4ece8ce546c58ddfa26fe51f5e38": {
          "model_module": "@jupyter-widgets/controls",
          "model_name": "DescriptionStyleModel",
          "model_module_version": "1.5.0",
          "state": {
            "_model_module": "@jupyter-widgets/controls",
            "_model_module_version": "1.5.0",
            "_model_name": "DescriptionStyleModel",
            "_view_count": null,
            "_view_module": "@jupyter-widgets/base",
            "_view_module_version": "1.2.0",
            "_view_name": "StyleView",
            "description_width": ""
          }
        },
        "b9aa4cb0fadc4c50beab7c7604bcd554": {
          "model_module": "@jupyter-widgets/base",
          "model_name": "LayoutModel",
          "model_module_version": "1.2.0",
          "state": {
            "_model_module": "@jupyter-widgets/base",
            "_model_module_version": "1.2.0",
            "_model_name": "LayoutModel",
            "_view_count": null,
            "_view_module": "@jupyter-widgets/base",
            "_view_module_version": "1.2.0",
            "_view_name": "LayoutView",
            "align_content": null,
            "align_items": null,
            "align_self": null,
            "border": null,
            "bottom": null,
            "display": null,
            "flex": null,
            "flex_flow": null,
            "grid_area": null,
            "grid_auto_columns": null,
            "grid_auto_flow": null,
            "grid_auto_rows": null,
            "grid_column": null,
            "grid_gap": null,
            "grid_row": null,
            "grid_template_areas": null,
            "grid_template_columns": null,
            "grid_template_rows": null,
            "height": null,
            "justify_content": null,
            "justify_items": null,
            "left": null,
            "margin": null,
            "max_height": null,
            "max_width": null,
            "min_height": null,
            "min_width": null,
            "object_fit": null,
            "object_position": null,
            "order": null,
            "overflow": null,
            "overflow_x": null,
            "overflow_y": null,
            "padding": null,
            "right": null,
            "top": null,
            "visibility": null,
            "width": null
          }
        },
        "e7f1de2801ca4cc39b11e3e48065f05a": {
          "model_module": "@jupyter-widgets/controls",
          "model_name": "ProgressStyleModel",
          "model_module_version": "1.5.0",
          "state": {
            "_model_module": "@jupyter-widgets/controls",
            "_model_module_version": "1.5.0",
            "_model_name": "ProgressStyleModel",
            "_view_count": null,
            "_view_module": "@jupyter-widgets/base",
            "_view_module_version": "1.2.0",
            "_view_name": "StyleView",
            "bar_color": null,
            "description_width": ""
          }
        },
        "b6565e79a9544bc59b356abecc6623e4": {
          "model_module": "@jupyter-widgets/base",
          "model_name": "LayoutModel",
          "model_module_version": "1.2.0",
          "state": {
            "_model_module": "@jupyter-widgets/base",
            "_model_module_version": "1.2.0",
            "_model_name": "LayoutModel",
            "_view_count": null,
            "_view_module": "@jupyter-widgets/base",
            "_view_module_version": "1.2.0",
            "_view_name": "LayoutView",
            "align_content": null,
            "align_items": null,
            "align_self": null,
            "border": null,
            "bottom": null,
            "display": null,
            "flex": null,
            "flex_flow": null,
            "grid_area": null,
            "grid_auto_columns": null,
            "grid_auto_flow": null,
            "grid_auto_rows": null,
            "grid_column": null,
            "grid_gap": null,
            "grid_row": null,
            "grid_template_areas": null,
            "grid_template_columns": null,
            "grid_template_rows": null,
            "height": null,
            "justify_content": null,
            "justify_items": null,
            "left": null,
            "margin": null,
            "max_height": null,
            "max_width": null,
            "min_height": null,
            "min_width": null,
            "object_fit": null,
            "object_position": null,
            "order": null,
            "overflow": null,
            "overflow_x": null,
            "overflow_y": null,
            "padding": null,
            "right": null,
            "top": null,
            "visibility": null,
            "width": null
          }
        },
        "b2f776078468488dad19dead43914b60": {
          "model_module": "@jupyter-widgets/controls",
          "model_name": "DescriptionStyleModel",
          "model_module_version": "1.5.0",
          "state": {
            "_model_module": "@jupyter-widgets/controls",
            "_model_module_version": "1.5.0",
            "_model_name": "DescriptionStyleModel",
            "_view_count": null,
            "_view_module": "@jupyter-widgets/base",
            "_view_module_version": "1.2.0",
            "_view_name": "StyleView",
            "description_width": ""
          }
        },
        "9eb22260b2c648639468f640a87c783f": {
          "model_module": "@jupyter-widgets/controls",
          "model_name": "HBoxModel",
          "model_module_version": "1.5.0",
          "state": {
            "_dom_classes": [],
            "_model_module": "@jupyter-widgets/controls",
            "_model_module_version": "1.5.0",
            "_model_name": "HBoxModel",
            "_view_count": null,
            "_view_module": "@jupyter-widgets/controls",
            "_view_module_version": "1.5.0",
            "_view_name": "HBoxView",
            "box_style": "",
            "children": [
              "IPY_MODEL_b267ba6a6c4a407886521ca018507113",
              "IPY_MODEL_b113d81025ec46ecb33b4bb77b9f9ce3",
              "IPY_MODEL_e98af80abd244c4891acb3915f0c2749"
            ],
            "layout": "IPY_MODEL_250cfe78b09b4463a39677329f6220c1"
          }
        },
        "b267ba6a6c4a407886521ca018507113": {
          "model_module": "@jupyter-widgets/controls",
          "model_name": "HTMLModel",
          "model_module_version": "1.5.0",
          "state": {
            "_dom_classes": [],
            "_model_module": "@jupyter-widgets/controls",
            "_model_module_version": "1.5.0",
            "_model_name": "HTMLModel",
            "_view_count": null,
            "_view_module": "@jupyter-widgets/controls",
            "_view_module_version": "1.5.0",
            "_view_name": "HTMLView",
            "description": "",
            "description_tooltip": null,
            "layout": "IPY_MODEL_bbd51d59582941598ac0d06ea8a08abf",
            "placeholder": "​",
            "style": "IPY_MODEL_07c9c138ff354b19a0c3875e49395c61",
            "value": "config.json: 100%"
          }
        },
        "b113d81025ec46ecb33b4bb77b9f9ce3": {
          "model_module": "@jupyter-widgets/controls",
          "model_name": "FloatProgressModel",
          "model_module_version": "1.5.0",
          "state": {
            "_dom_classes": [],
            "_model_module": "@jupyter-widgets/controls",
            "_model_module_version": "1.5.0",
            "_model_name": "FloatProgressModel",
            "_view_count": null,
            "_view_module": "@jupyter-widgets/controls",
            "_view_module_version": "1.5.0",
            "_view_name": "ProgressView",
            "bar_style": "success",
            "description": "",
            "description_tooltip": null,
            "layout": "IPY_MODEL_31056506016f41f79b779f8275f77d4d",
            "max": 665,
            "min": 0,
            "orientation": "horizontal",
            "style": "IPY_MODEL_7c88dcb90dd04ad89a365fb10817446c",
            "value": 665
          }
        },
        "e98af80abd244c4891acb3915f0c2749": {
          "model_module": "@jupyter-widgets/controls",
          "model_name": "HTMLModel",
          "model_module_version": "1.5.0",
          "state": {
            "_dom_classes": [],
            "_model_module": "@jupyter-widgets/controls",
            "_model_module_version": "1.5.0",
            "_model_name": "HTMLModel",
            "_view_count": null,
            "_view_module": "@jupyter-widgets/controls",
            "_view_module_version": "1.5.0",
            "_view_name": "HTMLView",
            "description": "",
            "description_tooltip": null,
            "layout": "IPY_MODEL_fae3cdd3ce40487ea845d7c055a4ffe8",
            "placeholder": "​",
            "style": "IPY_MODEL_584a48e83d254d6abf954e210b1baafe",
            "value": " 665/665 [00:00&lt;00:00, 31.8kB/s]"
          }
        },
        "250cfe78b09b4463a39677329f6220c1": {
          "model_module": "@jupyter-widgets/base",
          "model_name": "LayoutModel",
          "model_module_version": "1.2.0",
          "state": {
            "_model_module": "@jupyter-widgets/base",
            "_model_module_version": "1.2.0",
            "_model_name": "LayoutModel",
            "_view_count": null,
            "_view_module": "@jupyter-widgets/base",
            "_view_module_version": "1.2.0",
            "_view_name": "LayoutView",
            "align_content": null,
            "align_items": null,
            "align_self": null,
            "border": null,
            "bottom": null,
            "display": null,
            "flex": null,
            "flex_flow": null,
            "grid_area": null,
            "grid_auto_columns": null,
            "grid_auto_flow": null,
            "grid_auto_rows": null,
            "grid_column": null,
            "grid_gap": null,
            "grid_row": null,
            "grid_template_areas": null,
            "grid_template_columns": null,
            "grid_template_rows": null,
            "height": null,
            "justify_content": null,
            "justify_items": null,
            "left": null,
            "margin": null,
            "max_height": null,
            "max_width": null,
            "min_height": null,
            "min_width": null,
            "object_fit": null,
            "object_position": null,
            "order": null,
            "overflow": null,
            "overflow_x": null,
            "overflow_y": null,
            "padding": null,
            "right": null,
            "top": null,
            "visibility": null,
            "width": null
          }
        },
        "bbd51d59582941598ac0d06ea8a08abf": {
          "model_module": "@jupyter-widgets/base",
          "model_name": "LayoutModel",
          "model_module_version": "1.2.0",
          "state": {
            "_model_module": "@jupyter-widgets/base",
            "_model_module_version": "1.2.0",
            "_model_name": "LayoutModel",
            "_view_count": null,
            "_view_module": "@jupyter-widgets/base",
            "_view_module_version": "1.2.0",
            "_view_name": "LayoutView",
            "align_content": null,
            "align_items": null,
            "align_self": null,
            "border": null,
            "bottom": null,
            "display": null,
            "flex": null,
            "flex_flow": null,
            "grid_area": null,
            "grid_auto_columns": null,
            "grid_auto_flow": null,
            "grid_auto_rows": null,
            "grid_column": null,
            "grid_gap": null,
            "grid_row": null,
            "grid_template_areas": null,
            "grid_template_columns": null,
            "grid_template_rows": null,
            "height": null,
            "justify_content": null,
            "justify_items": null,
            "left": null,
            "margin": null,
            "max_height": null,
            "max_width": null,
            "min_height": null,
            "min_width": null,
            "object_fit": null,
            "object_position": null,
            "order": null,
            "overflow": null,
            "overflow_x": null,
            "overflow_y": null,
            "padding": null,
            "right": null,
            "top": null,
            "visibility": null,
            "width": null
          }
        },
        "07c9c138ff354b19a0c3875e49395c61": {
          "model_module": "@jupyter-widgets/controls",
          "model_name": "DescriptionStyleModel",
          "model_module_version": "1.5.0",
          "state": {
            "_model_module": "@jupyter-widgets/controls",
            "_model_module_version": "1.5.0",
            "_model_name": "DescriptionStyleModel",
            "_view_count": null,
            "_view_module": "@jupyter-widgets/base",
            "_view_module_version": "1.2.0",
            "_view_name": "StyleView",
            "description_width": ""
          }
        },
        "31056506016f41f79b779f8275f77d4d": {
          "model_module": "@jupyter-widgets/base",
          "model_name": "LayoutModel",
          "model_module_version": "1.2.0",
          "state": {
            "_model_module": "@jupyter-widgets/base",
            "_model_module_version": "1.2.0",
            "_model_name": "LayoutModel",
            "_view_count": null,
            "_view_module": "@jupyter-widgets/base",
            "_view_module_version": "1.2.0",
            "_view_name": "LayoutView",
            "align_content": null,
            "align_items": null,
            "align_self": null,
            "border": null,
            "bottom": null,
            "display": null,
            "flex": null,
            "flex_flow": null,
            "grid_area": null,
            "grid_auto_columns": null,
            "grid_auto_flow": null,
            "grid_auto_rows": null,
            "grid_column": null,
            "grid_gap": null,
            "grid_row": null,
            "grid_template_areas": null,
            "grid_template_columns": null,
            "grid_template_rows": null,
            "height": null,
            "justify_content": null,
            "justify_items": null,
            "left": null,
            "margin": null,
            "max_height": null,
            "max_width": null,
            "min_height": null,
            "min_width": null,
            "object_fit": null,
            "object_position": null,
            "order": null,
            "overflow": null,
            "overflow_x": null,
            "overflow_y": null,
            "padding": null,
            "right": null,
            "top": null,
            "visibility": null,
            "width": null
          }
        },
        "7c88dcb90dd04ad89a365fb10817446c": {
          "model_module": "@jupyter-widgets/controls",
          "model_name": "ProgressStyleModel",
          "model_module_version": "1.5.0",
          "state": {
            "_model_module": "@jupyter-widgets/controls",
            "_model_module_version": "1.5.0",
            "_model_name": "ProgressStyleModel",
            "_view_count": null,
            "_view_module": "@jupyter-widgets/base",
            "_view_module_version": "1.2.0",
            "_view_name": "StyleView",
            "bar_color": null,
            "description_width": ""
          }
        },
        "fae3cdd3ce40487ea845d7c055a4ffe8": {
          "model_module": "@jupyter-widgets/base",
          "model_name": "LayoutModel",
          "model_module_version": "1.2.0",
          "state": {
            "_model_module": "@jupyter-widgets/base",
            "_model_module_version": "1.2.0",
            "_model_name": "LayoutModel",
            "_view_count": null,
            "_view_module": "@jupyter-widgets/base",
            "_view_module_version": "1.2.0",
            "_view_name": "LayoutView",
            "align_content": null,
            "align_items": null,
            "align_self": null,
            "border": null,
            "bottom": null,
            "display": null,
            "flex": null,
            "flex_flow": null,
            "grid_area": null,
            "grid_auto_columns": null,
            "grid_auto_flow": null,
            "grid_auto_rows": null,
            "grid_column": null,
            "grid_gap": null,
            "grid_row": null,
            "grid_template_areas": null,
            "grid_template_columns": null,
            "grid_template_rows": null,
            "height": null,
            "justify_content": null,
            "justify_items": null,
            "left": null,
            "margin": null,
            "max_height": null,
            "max_width": null,
            "min_height": null,
            "min_width": null,
            "object_fit": null,
            "object_position": null,
            "order": null,
            "overflow": null,
            "overflow_x": null,
            "overflow_y": null,
            "padding": null,
            "right": null,
            "top": null,
            "visibility": null,
            "width": null
          }
        },
        "584a48e83d254d6abf954e210b1baafe": {
          "model_module": "@jupyter-widgets/controls",
          "model_name": "DescriptionStyleModel",
          "model_module_version": "1.5.0",
          "state": {
            "_model_module": "@jupyter-widgets/controls",
            "_model_module_version": "1.5.0",
            "_model_name": "DescriptionStyleModel",
            "_view_count": null,
            "_view_module": "@jupyter-widgets/base",
            "_view_module_version": "1.2.0",
            "_view_name": "StyleView",
            "description_width": ""
          }
        },
        "9f1d04630d8e4c3687672642348b571c": {
          "model_module": "@jupyter-widgets/controls",
          "model_name": "HBoxModel",
          "model_module_version": "1.5.0",
          "state": {
            "_dom_classes": [],
            "_model_module": "@jupyter-widgets/controls",
            "_model_module_version": "1.5.0",
            "_model_name": "HBoxModel",
            "_view_count": null,
            "_view_module": "@jupyter-widgets/controls",
            "_view_module_version": "1.5.0",
            "_view_name": "HBoxView",
            "box_style": "",
            "children": [
              "IPY_MODEL_7946fd1985f64dcbb0946d54a57440c7",
              "IPY_MODEL_adf3b74f2a734b80a39a3f22111da6e5",
              "IPY_MODEL_4e6f3ebfe20144eaa5668e100a849be6"
            ],
            "layout": "IPY_MODEL_4a15ea5254f747f49b56e3925e3cb13b"
          }
        },
        "7946fd1985f64dcbb0946d54a57440c7": {
          "model_module": "@jupyter-widgets/controls",
          "model_name": "HTMLModel",
          "model_module_version": "1.5.0",
          "state": {
            "_dom_classes": [],
            "_model_module": "@jupyter-widgets/controls",
            "_model_module_version": "1.5.0",
            "_model_name": "HTMLModel",
            "_view_count": null,
            "_view_module": "@jupyter-widgets/controls",
            "_view_module_version": "1.5.0",
            "_view_name": "HTMLView",
            "description": "",
            "description_tooltip": null,
            "layout": "IPY_MODEL_c92c50f2b9694b6ca637cb6b979104db",
            "placeholder": "​",
            "style": "IPY_MODEL_b41e56373628409088de3c6e5513fa8d",
            "value": "model.safetensors: 100%"
          }
        },
        "adf3b74f2a734b80a39a3f22111da6e5": {
          "model_module": "@jupyter-widgets/controls",
          "model_name": "FloatProgressModel",
          "model_module_version": "1.5.0",
          "state": {
            "_dom_classes": [],
            "_model_module": "@jupyter-widgets/controls",
            "_model_module_version": "1.5.0",
            "_model_name": "FloatProgressModel",
            "_view_count": null,
            "_view_module": "@jupyter-widgets/controls",
            "_view_module_version": "1.5.0",
            "_view_name": "ProgressView",
            "bar_style": "success",
            "description": "",
            "description_tooltip": null,
            "layout": "IPY_MODEL_13be0f9e626641f99d110edd67db6b29",
            "max": 548105171,
            "min": 0,
            "orientation": "horizontal",
            "style": "IPY_MODEL_582ab292d1334d43867f5ef7229d3844",
            "value": 548105171
          }
        },
        "4e6f3ebfe20144eaa5668e100a849be6": {
          "model_module": "@jupyter-widgets/controls",
          "model_name": "HTMLModel",
          "model_module_version": "1.5.0",
          "state": {
            "_dom_classes": [],
            "_model_module": "@jupyter-widgets/controls",
            "_model_module_version": "1.5.0",
            "_model_name": "HTMLModel",
            "_view_count": null,
            "_view_module": "@jupyter-widgets/controls",
            "_view_module_version": "1.5.0",
            "_view_name": "HTMLView",
            "description": "",
            "description_tooltip": null,
            "layout": "IPY_MODEL_b203bac676aa4d6ab06cb76af2ad3255",
            "placeholder": "​",
            "style": "IPY_MODEL_244476abf35d46a48d8be3297b813a81",
            "value": " 548M/548M [00:03&lt;00:00, 190MB/s]"
          }
        },
        "4a15ea5254f747f49b56e3925e3cb13b": {
          "model_module": "@jupyter-widgets/base",
          "model_name": "LayoutModel",
          "model_module_version": "1.2.0",
          "state": {
            "_model_module": "@jupyter-widgets/base",
            "_model_module_version": "1.2.0",
            "_model_name": "LayoutModel",
            "_view_count": null,
            "_view_module": "@jupyter-widgets/base",
            "_view_module_version": "1.2.0",
            "_view_name": "LayoutView",
            "align_content": null,
            "align_items": null,
            "align_self": null,
            "border": null,
            "bottom": null,
            "display": null,
            "flex": null,
            "flex_flow": null,
            "grid_area": null,
            "grid_auto_columns": null,
            "grid_auto_flow": null,
            "grid_auto_rows": null,
            "grid_column": null,
            "grid_gap": null,
            "grid_row": null,
            "grid_template_areas": null,
            "grid_template_columns": null,
            "grid_template_rows": null,
            "height": null,
            "justify_content": null,
            "justify_items": null,
            "left": null,
            "margin": null,
            "max_height": null,
            "max_width": null,
            "min_height": null,
            "min_width": null,
            "object_fit": null,
            "object_position": null,
            "order": null,
            "overflow": null,
            "overflow_x": null,
            "overflow_y": null,
            "padding": null,
            "right": null,
            "top": null,
            "visibility": null,
            "width": null
          }
        },
        "c92c50f2b9694b6ca637cb6b979104db": {
          "model_module": "@jupyter-widgets/base",
          "model_name": "LayoutModel",
          "model_module_version": "1.2.0",
          "state": {
            "_model_module": "@jupyter-widgets/base",
            "_model_module_version": "1.2.0",
            "_model_name": "LayoutModel",
            "_view_count": null,
            "_view_module": "@jupyter-widgets/base",
            "_view_module_version": "1.2.0",
            "_view_name": "LayoutView",
            "align_content": null,
            "align_items": null,
            "align_self": null,
            "border": null,
            "bottom": null,
            "display": null,
            "flex": null,
            "flex_flow": null,
            "grid_area": null,
            "grid_auto_columns": null,
            "grid_auto_flow": null,
            "grid_auto_rows": null,
            "grid_column": null,
            "grid_gap": null,
            "grid_row": null,
            "grid_template_areas": null,
            "grid_template_columns": null,
            "grid_template_rows": null,
            "height": null,
            "justify_content": null,
            "justify_items": null,
            "left": null,
            "margin": null,
            "max_height": null,
            "max_width": null,
            "min_height": null,
            "min_width": null,
            "object_fit": null,
            "object_position": null,
            "order": null,
            "overflow": null,
            "overflow_x": null,
            "overflow_y": null,
            "padding": null,
            "right": null,
            "top": null,
            "visibility": null,
            "width": null
          }
        },
        "b41e56373628409088de3c6e5513fa8d": {
          "model_module": "@jupyter-widgets/controls",
          "model_name": "DescriptionStyleModel",
          "model_module_version": "1.5.0",
          "state": {
            "_model_module": "@jupyter-widgets/controls",
            "_model_module_version": "1.5.0",
            "_model_name": "DescriptionStyleModel",
            "_view_count": null,
            "_view_module": "@jupyter-widgets/base",
            "_view_module_version": "1.2.0",
            "_view_name": "StyleView",
            "description_width": ""
          }
        },
        "13be0f9e626641f99d110edd67db6b29": {
          "model_module": "@jupyter-widgets/base",
          "model_name": "LayoutModel",
          "model_module_version": "1.2.0",
          "state": {
            "_model_module": "@jupyter-widgets/base",
            "_model_module_version": "1.2.0",
            "_model_name": "LayoutModel",
            "_view_count": null,
            "_view_module": "@jupyter-widgets/base",
            "_view_module_version": "1.2.0",
            "_view_name": "LayoutView",
            "align_content": null,
            "align_items": null,
            "align_self": null,
            "border": null,
            "bottom": null,
            "display": null,
            "flex": null,
            "flex_flow": null,
            "grid_area": null,
            "grid_auto_columns": null,
            "grid_auto_flow": null,
            "grid_auto_rows": null,
            "grid_column": null,
            "grid_gap": null,
            "grid_row": null,
            "grid_template_areas": null,
            "grid_template_columns": null,
            "grid_template_rows": null,
            "height": null,
            "justify_content": null,
            "justify_items": null,
            "left": null,
            "margin": null,
            "max_height": null,
            "max_width": null,
            "min_height": null,
            "min_width": null,
            "object_fit": null,
            "object_position": null,
            "order": null,
            "overflow": null,
            "overflow_x": null,
            "overflow_y": null,
            "padding": null,
            "right": null,
            "top": null,
            "visibility": null,
            "width": null
          }
        },
        "582ab292d1334d43867f5ef7229d3844": {
          "model_module": "@jupyter-widgets/controls",
          "model_name": "ProgressStyleModel",
          "model_module_version": "1.5.0",
          "state": {
            "_model_module": "@jupyter-widgets/controls",
            "_model_module_version": "1.5.0",
            "_model_name": "ProgressStyleModel",
            "_view_count": null,
            "_view_module": "@jupyter-widgets/base",
            "_view_module_version": "1.2.0",
            "_view_name": "StyleView",
            "bar_color": null,
            "description_width": ""
          }
        },
        "b203bac676aa4d6ab06cb76af2ad3255": {
          "model_module": "@jupyter-widgets/base",
          "model_name": "LayoutModel",
          "model_module_version": "1.2.0",
          "state": {
            "_model_module": "@jupyter-widgets/base",
            "_model_module_version": "1.2.0",
            "_model_name": "LayoutModel",
            "_view_count": null,
            "_view_module": "@jupyter-widgets/base",
            "_view_module_version": "1.2.0",
            "_view_name": "LayoutView",
            "align_content": null,
            "align_items": null,
            "align_self": null,
            "border": null,
            "bottom": null,
            "display": null,
            "flex": null,
            "flex_flow": null,
            "grid_area": null,
            "grid_auto_columns": null,
            "grid_auto_flow": null,
            "grid_auto_rows": null,
            "grid_column": null,
            "grid_gap": null,
            "grid_row": null,
            "grid_template_areas": null,
            "grid_template_columns": null,
            "grid_template_rows": null,
            "height": null,
            "justify_content": null,
            "justify_items": null,
            "left": null,
            "margin": null,
            "max_height": null,
            "max_width": null,
            "min_height": null,
            "min_width": null,
            "object_fit": null,
            "object_position": null,
            "order": null,
            "overflow": null,
            "overflow_x": null,
            "overflow_y": null,
            "padding": null,
            "right": null,
            "top": null,
            "visibility": null,
            "width": null
          }
        },
        "244476abf35d46a48d8be3297b813a81": {
          "model_module": "@jupyter-widgets/controls",
          "model_name": "DescriptionStyleModel",
          "model_module_version": "1.5.0",
          "state": {
            "_model_module": "@jupyter-widgets/controls",
            "_model_module_version": "1.5.0",
            "_model_name": "DescriptionStyleModel",
            "_view_count": null,
            "_view_module": "@jupyter-widgets/base",
            "_view_module_version": "1.2.0",
            "_view_name": "StyleView",
            "description_width": ""
          }
        },
        "4e383a5ce86543cebc8e4e40900e04e4": {
          "model_module": "@jupyter-widgets/controls",
          "model_name": "HBoxModel",
          "model_module_version": "1.5.0",
          "state": {
            "_dom_classes": [],
            "_model_module": "@jupyter-widgets/controls",
            "_model_module_version": "1.5.0",
            "_model_name": "HBoxModel",
            "_view_count": null,
            "_view_module": "@jupyter-widgets/controls",
            "_view_module_version": "1.5.0",
            "_view_name": "HBoxView",
            "box_style": "",
            "children": [
              "IPY_MODEL_ac131074604a49679e785d5b3a4940f3",
              "IPY_MODEL_8f89c8f851704a11af8ce4f6ba0f8c18",
              "IPY_MODEL_55c85344e34e4fc7983aa2216357d276"
            ],
            "layout": "IPY_MODEL_1d653dd3846a453094680f87fe1c78bf"
          }
        },
        "ac131074604a49679e785d5b3a4940f3": {
          "model_module": "@jupyter-widgets/controls",
          "model_name": "HTMLModel",
          "model_module_version": "1.5.0",
          "state": {
            "_dom_classes": [],
            "_model_module": "@jupyter-widgets/controls",
            "_model_module_version": "1.5.0",
            "_model_name": "HTMLModel",
            "_view_count": null,
            "_view_module": "@jupyter-widgets/controls",
            "_view_module_version": "1.5.0",
            "_view_name": "HTMLView",
            "description": "",
            "description_tooltip": null,
            "layout": "IPY_MODEL_100272f14bac42a8b989fbc9dc6ad229",
            "placeholder": "​",
            "style": "IPY_MODEL_cd5d9de0dae4445889c5b2a8328a9102",
            "value": "generation_config.json: 100%"
          }
        },
        "8f89c8f851704a11af8ce4f6ba0f8c18": {
          "model_module": "@jupyter-widgets/controls",
          "model_name": "FloatProgressModel",
          "model_module_version": "1.5.0",
          "state": {
            "_dom_classes": [],
            "_model_module": "@jupyter-widgets/controls",
            "_model_module_version": "1.5.0",
            "_model_name": "FloatProgressModel",
            "_view_count": null,
            "_view_module": "@jupyter-widgets/controls",
            "_view_module_version": "1.5.0",
            "_view_name": "ProgressView",
            "bar_style": "success",
            "description": "",
            "description_tooltip": null,
            "layout": "IPY_MODEL_748c1e37a6d04e8a84378c5ebd87ea23",
            "max": 124,
            "min": 0,
            "orientation": "horizontal",
            "style": "IPY_MODEL_42eedf74acd54524aea7c173a6ed942c",
            "value": 124
          }
        },
        "55c85344e34e4fc7983aa2216357d276": {
          "model_module": "@jupyter-widgets/controls",
          "model_name": "HTMLModel",
          "model_module_version": "1.5.0",
          "state": {
            "_dom_classes": [],
            "_model_module": "@jupyter-widgets/controls",
            "_model_module_version": "1.5.0",
            "_model_name": "HTMLModel",
            "_view_count": null,
            "_view_module": "@jupyter-widgets/controls",
            "_view_module_version": "1.5.0",
            "_view_name": "HTMLView",
            "description": "",
            "description_tooltip": null,
            "layout": "IPY_MODEL_592ba128a3bb45faa048344e7e0c5a64",
            "placeholder": "​",
            "style": "IPY_MODEL_e3e885f52d4a48aeb2211eedce53c9ba",
            "value": " 124/124 [00:00&lt;00:00, 6.12kB/s]"
          }
        },
        "1d653dd3846a453094680f87fe1c78bf": {
          "model_module": "@jupyter-widgets/base",
          "model_name": "LayoutModel",
          "model_module_version": "1.2.0",
          "state": {
            "_model_module": "@jupyter-widgets/base",
            "_model_module_version": "1.2.0",
            "_model_name": "LayoutModel",
            "_view_count": null,
            "_view_module": "@jupyter-widgets/base",
            "_view_module_version": "1.2.0",
            "_view_name": "LayoutView",
            "align_content": null,
            "align_items": null,
            "align_self": null,
            "border": null,
            "bottom": null,
            "display": null,
            "flex": null,
            "flex_flow": null,
            "grid_area": null,
            "grid_auto_columns": null,
            "grid_auto_flow": null,
            "grid_auto_rows": null,
            "grid_column": null,
            "grid_gap": null,
            "grid_row": null,
            "grid_template_areas": null,
            "grid_template_columns": null,
            "grid_template_rows": null,
            "height": null,
            "justify_content": null,
            "justify_items": null,
            "left": null,
            "margin": null,
            "max_height": null,
            "max_width": null,
            "min_height": null,
            "min_width": null,
            "object_fit": null,
            "object_position": null,
            "order": null,
            "overflow": null,
            "overflow_x": null,
            "overflow_y": null,
            "padding": null,
            "right": null,
            "top": null,
            "visibility": null,
            "width": null
          }
        },
        "100272f14bac42a8b989fbc9dc6ad229": {
          "model_module": "@jupyter-widgets/base",
          "model_name": "LayoutModel",
          "model_module_version": "1.2.0",
          "state": {
            "_model_module": "@jupyter-widgets/base",
            "_model_module_version": "1.2.0",
            "_model_name": "LayoutModel",
            "_view_count": null,
            "_view_module": "@jupyter-widgets/base",
            "_view_module_version": "1.2.0",
            "_view_name": "LayoutView",
            "align_content": null,
            "align_items": null,
            "align_self": null,
            "border": null,
            "bottom": null,
            "display": null,
            "flex": null,
            "flex_flow": null,
            "grid_area": null,
            "grid_auto_columns": null,
            "grid_auto_flow": null,
            "grid_auto_rows": null,
            "grid_column": null,
            "grid_gap": null,
            "grid_row": null,
            "grid_template_areas": null,
            "grid_template_columns": null,
            "grid_template_rows": null,
            "height": null,
            "justify_content": null,
            "justify_items": null,
            "left": null,
            "margin": null,
            "max_height": null,
            "max_width": null,
            "min_height": null,
            "min_width": null,
            "object_fit": null,
            "object_position": null,
            "order": null,
            "overflow": null,
            "overflow_x": null,
            "overflow_y": null,
            "padding": null,
            "right": null,
            "top": null,
            "visibility": null,
            "width": null
          }
        },
        "cd5d9de0dae4445889c5b2a8328a9102": {
          "model_module": "@jupyter-widgets/controls",
          "model_name": "DescriptionStyleModel",
          "model_module_version": "1.5.0",
          "state": {
            "_model_module": "@jupyter-widgets/controls",
            "_model_module_version": "1.5.0",
            "_model_name": "DescriptionStyleModel",
            "_view_count": null,
            "_view_module": "@jupyter-widgets/base",
            "_view_module_version": "1.2.0",
            "_view_name": "StyleView",
            "description_width": ""
          }
        },
        "748c1e37a6d04e8a84378c5ebd87ea23": {
          "model_module": "@jupyter-widgets/base",
          "model_name": "LayoutModel",
          "model_module_version": "1.2.0",
          "state": {
            "_model_module": "@jupyter-widgets/base",
            "_model_module_version": "1.2.0",
            "_model_name": "LayoutModel",
            "_view_count": null,
            "_view_module": "@jupyter-widgets/base",
            "_view_module_version": "1.2.0",
            "_view_name": "LayoutView",
            "align_content": null,
            "align_items": null,
            "align_self": null,
            "border": null,
            "bottom": null,
            "display": null,
            "flex": null,
            "flex_flow": null,
            "grid_area": null,
            "grid_auto_columns": null,
            "grid_auto_flow": null,
            "grid_auto_rows": null,
            "grid_column": null,
            "grid_gap": null,
            "grid_row": null,
            "grid_template_areas": null,
            "grid_template_columns": null,
            "grid_template_rows": null,
            "height": null,
            "justify_content": null,
            "justify_items": null,
            "left": null,
            "margin": null,
            "max_height": null,
            "max_width": null,
            "min_height": null,
            "min_width": null,
            "object_fit": null,
            "object_position": null,
            "order": null,
            "overflow": null,
            "overflow_x": null,
            "overflow_y": null,
            "padding": null,
            "right": null,
            "top": null,
            "visibility": null,
            "width": null
          }
        },
        "42eedf74acd54524aea7c173a6ed942c": {
          "model_module": "@jupyter-widgets/controls",
          "model_name": "ProgressStyleModel",
          "model_module_version": "1.5.0",
          "state": {
            "_model_module": "@jupyter-widgets/controls",
            "_model_module_version": "1.5.0",
            "_model_name": "ProgressStyleModel",
            "_view_count": null,
            "_view_module": "@jupyter-widgets/base",
            "_view_module_version": "1.2.0",
            "_view_name": "StyleView",
            "bar_color": null,
            "description_width": ""
          }
        },
        "592ba128a3bb45faa048344e7e0c5a64": {
          "model_module": "@jupyter-widgets/base",
          "model_name": "LayoutModel",
          "model_module_version": "1.2.0",
          "state": {
            "_model_module": "@jupyter-widgets/base",
            "_model_module_version": "1.2.0",
            "_model_name": "LayoutModel",
            "_view_count": null,
            "_view_module": "@jupyter-widgets/base",
            "_view_module_version": "1.2.0",
            "_view_name": "LayoutView",
            "align_content": null,
            "align_items": null,
            "align_self": null,
            "border": null,
            "bottom": null,
            "display": null,
            "flex": null,
            "flex_flow": null,
            "grid_area": null,
            "grid_auto_columns": null,
            "grid_auto_flow": null,
            "grid_auto_rows": null,
            "grid_column": null,
            "grid_gap": null,
            "grid_row": null,
            "grid_template_areas": null,
            "grid_template_columns": null,
            "grid_template_rows": null,
            "height": null,
            "justify_content": null,
            "justify_items": null,
            "left": null,
            "margin": null,
            "max_height": null,
            "max_width": null,
            "min_height": null,
            "min_width": null,
            "object_fit": null,
            "object_position": null,
            "order": null,
            "overflow": null,
            "overflow_x": null,
            "overflow_y": null,
            "padding": null,
            "right": null,
            "top": null,
            "visibility": null,
            "width": null
          }
        },
        "e3e885f52d4a48aeb2211eedce53c9ba": {
          "model_module": "@jupyter-widgets/controls",
          "model_name": "DescriptionStyleModel",
          "model_module_version": "1.5.0",
          "state": {
            "_model_module": "@jupyter-widgets/controls",
            "_model_module_version": "1.5.0",
            "_model_name": "DescriptionStyleModel",
            "_view_count": null,
            "_view_module": "@jupyter-widgets/base",
            "_view_module_version": "1.2.0",
            "_view_name": "StyleView",
            "description_width": ""
          }
        }
      }
    }
  },
  "nbformat": 4,
  "nbformat_minor": 0
}