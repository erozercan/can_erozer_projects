{
  "nbformat": 4,
  "nbformat_minor": 0,
  "metadata": {
    "colab": {
      "provenance": [],
      "gpuType": "T4"
    },
    "kernelspec": {
      "name": "python3",
      "display_name": "Python 3"
    },
    "language_info": {
      "name": "python"
    },
    "accelerator": "GPU",
    "widgets": {
      "application/vnd.jupyter.widget-state+json": {
        "870c4ba4b82d4764ac33d5658a556d68": {
          "model_module": "@jupyter-widgets/controls",
          "model_name": "HBoxModel",
          "model_module_version": "1.5.0",
          "state": {
            "_dom_classes": [],
            "_model_module": "@jupyter-widgets/controls",
            "_model_module_version": "1.5.0",
            "_model_name": "HBoxModel",
            "_view_count": null,
            "_view_module": "@jupyter-widgets/controls",
            "_view_module_version": "1.5.0",
            "_view_name": "HBoxView",
            "box_style": "",
            "children": [
              "IPY_MODEL_8219aadc4d49445fabc89699ee6e0d15",
              "IPY_MODEL_6881fc09e9c54fb3b753b68d8ef512c7",
              "IPY_MODEL_6224497d0c26428ea11ae1027d50157a"
            ],
            "layout": "IPY_MODEL_f2ece392bb824f3eb4d0a99e288fae59"
          }
        },
        "8219aadc4d49445fabc89699ee6e0d15": {
          "model_module": "@jupyter-widgets/controls",
          "model_name": "HTMLModel",
          "model_module_version": "1.5.0",
          "state": {
            "_dom_classes": [],
            "_model_module": "@jupyter-widgets/controls",
            "_model_module_version": "1.5.0",
            "_model_name": "HTMLModel",
            "_view_count": null,
            "_view_module": "@jupyter-widgets/controls",
            "_view_module_version": "1.5.0",
            "_view_name": "HTMLView",
            "description": "",
            "description_tooltip": null,
            "layout": "IPY_MODEL_a77992196b804a6c8f83be6476b40b38",
            "placeholder": "​",
            "style": "IPY_MODEL_023a06d0af54427b9c9e1d0951bae7cc",
            "value": "vocab.json: 100%"
          }
        },
        "6881fc09e9c54fb3b753b68d8ef512c7": {
          "model_module": "@jupyter-widgets/controls",
          "model_name": "FloatProgressModel",
          "model_module_version": "1.5.0",
          "state": {
            "_dom_classes": [],
            "_model_module": "@jupyter-widgets/controls",
            "_model_module_version": "1.5.0",
            "_model_name": "FloatProgressModel",
            "_view_count": null,
            "_view_module": "@jupyter-widgets/controls",
            "_view_module_version": "1.5.0",
            "_view_name": "ProgressView",
            "bar_style": "success",
            "description": "",
            "description_tooltip": null,
            "layout": "IPY_MODEL_c71b09b4267b476d98c821e0ee9ed6de",
            "max": 1042301,
            "min": 0,
            "orientation": "horizontal",
            "style": "IPY_MODEL_4bef2e74033d46ad97bd3a01b0311961",
            "value": 1042301
          }
        },
        "6224497d0c26428ea11ae1027d50157a": {
          "model_module": "@jupyter-widgets/controls",
          "model_name": "HTMLModel",
          "model_module_version": "1.5.0",
          "state": {
            "_dom_classes": [],
            "_model_module": "@jupyter-widgets/controls",
            "_model_module_version": "1.5.0",
            "_model_name": "HTMLModel",
            "_view_count": null,
            "_view_module": "@jupyter-widgets/controls",
            "_view_module_version": "1.5.0",
            "_view_name": "HTMLView",
            "description": "",
            "description_tooltip": null,
            "layout": "IPY_MODEL_7af35741ec7748de824e31b93d084dba",
            "placeholder": "​",
            "style": "IPY_MODEL_4eacce10a4f042ebad82f6c1e38afc99",
            "value": " 1.04M/1.04M [00:00&lt;00:00, 11.4MB/s]"
          }
        },
        "f2ece392bb824f3eb4d0a99e288fae59": {
          "model_module": "@jupyter-widgets/base",
          "model_name": "LayoutModel",
          "model_module_version": "1.2.0",
          "state": {
            "_model_module": "@jupyter-widgets/base",
            "_model_module_version": "1.2.0",
            "_model_name": "LayoutModel",
            "_view_count": null,
            "_view_module": "@jupyter-widgets/base",
            "_view_module_version": "1.2.0",
            "_view_name": "LayoutView",
            "align_content": null,
            "align_items": null,
            "align_self": null,
            "border": null,
            "bottom": null,
            "display": null,
            "flex": null,
            "flex_flow": null,
            "grid_area": null,
            "grid_auto_columns": null,
            "grid_auto_flow": null,
            "grid_auto_rows": null,
            "grid_column": null,
            "grid_gap": null,
            "grid_row": null,
            "grid_template_areas": null,
            "grid_template_columns": null,
            "grid_template_rows": null,
            "height": null,
            "justify_content": null,
            "justify_items": null,
            "left": null,
            "margin": null,
            "max_height": null,
            "max_width": null,
            "min_height": null,
            "min_width": null,
            "object_fit": null,
            "object_position": null,
            "order": null,
            "overflow": null,
            "overflow_x": null,
            "overflow_y": null,
            "padding": null,
            "right": null,
            "top": null,
            "visibility": null,
            "width": null
          }
        },
        "a77992196b804a6c8f83be6476b40b38": {
          "model_module": "@jupyter-widgets/base",
          "model_name": "LayoutModel",
          "model_module_version": "1.2.0",
          "state": {
            "_model_module": "@jupyter-widgets/base",
            "_model_module_version": "1.2.0",
            "_model_name": "LayoutModel",
            "_view_count": null,
            "_view_module": "@jupyter-widgets/base",
            "_view_module_version": "1.2.0",
            "_view_name": "LayoutView",
            "align_content": null,
            "align_items": null,
            "align_self": null,
            "border": null,
            "bottom": null,
            "display": null,
            "flex": null,
            "flex_flow": null,
            "grid_area": null,
            "grid_auto_columns": null,
            "grid_auto_flow": null,
            "grid_auto_rows": null,
            "grid_column": null,
            "grid_gap": null,
            "grid_row": null,
            "grid_template_areas": null,
            "grid_template_columns": null,
            "grid_template_rows": null,
            "height": null,
            "justify_content": null,
            "justify_items": null,
            "left": null,
            "margin": null,
            "max_height": null,
            "max_width": null,
            "min_height": null,
            "min_width": null,
            "object_fit": null,
            "object_position": null,
            "order": null,
            "overflow": null,
            "overflow_x": null,
            "overflow_y": null,
            "padding": null,
            "right": null,
            "top": null,
            "visibility": null,
            "width": null
          }
        },
        "023a06d0af54427b9c9e1d0951bae7cc": {
          "model_module": "@jupyter-widgets/controls",
          "model_name": "DescriptionStyleModel",
          "model_module_version": "1.5.0",
          "state": {
            "_model_module": "@jupyter-widgets/controls",
            "_model_module_version": "1.5.0",
            "_model_name": "DescriptionStyleModel",
            "_view_count": null,
            "_view_module": "@jupyter-widgets/base",
            "_view_module_version": "1.2.0",
            "_view_name": "StyleView",
            "description_width": ""
          }
        },
        "c71b09b4267b476d98c821e0ee9ed6de": {
          "model_module": "@jupyter-widgets/base",
          "model_name": "LayoutModel",
          "model_module_version": "1.2.0",
          "state": {
            "_model_module": "@jupyter-widgets/base",
            "_model_module_version": "1.2.0",
            "_model_name": "LayoutModel",
            "_view_count": null,
            "_view_module": "@jupyter-widgets/base",
            "_view_module_version": "1.2.0",
            "_view_name": "LayoutView",
            "align_content": null,
            "align_items": null,
            "align_self": null,
            "border": null,
            "bottom": null,
            "display": null,
            "flex": null,
            "flex_flow": null,
            "grid_area": null,
            "grid_auto_columns": null,
            "grid_auto_flow": null,
            "grid_auto_rows": null,
            "grid_column": null,
            "grid_gap": null,
            "grid_row": null,
            "grid_template_areas": null,
            "grid_template_columns": null,
            "grid_template_rows": null,
            "height": null,
            "justify_content": null,
            "justify_items": null,
            "left": null,
            "margin": null,
            "max_height": null,
            "max_width": null,
            "min_height": null,
            "min_width": null,
            "object_fit": null,
            "object_position": null,
            "order": null,
            "overflow": null,
            "overflow_x": null,
            "overflow_y": null,
            "padding": null,
            "right": null,
            "top": null,
            "visibility": null,
            "width": null
          }
        },
        "4bef2e74033d46ad97bd3a01b0311961": {
          "model_module": "@jupyter-widgets/controls",
          "model_name": "ProgressStyleModel",
          "model_module_version": "1.5.0",
          "state": {
            "_model_module": "@jupyter-widgets/controls",
            "_model_module_version": "1.5.0",
            "_model_name": "ProgressStyleModel",
            "_view_count": null,
            "_view_module": "@jupyter-widgets/base",
            "_view_module_version": "1.2.0",
            "_view_name": "StyleView",
            "bar_color": null,
            "description_width": ""
          }
        },
        "7af35741ec7748de824e31b93d084dba": {
          "model_module": "@jupyter-widgets/base",
          "model_name": "LayoutModel",
          "model_module_version": "1.2.0",
          "state": {
            "_model_module": "@jupyter-widgets/base",
            "_model_module_version": "1.2.0",
            "_model_name": "LayoutModel",
            "_view_count": null,
            "_view_module": "@jupyter-widgets/base",
            "_view_module_version": "1.2.0",
            "_view_name": "LayoutView",
            "align_content": null,
            "align_items": null,
            "align_self": null,
            "border": null,
            "bottom": null,
            "display": null,
            "flex": null,
            "flex_flow": null,
            "grid_area": null,
            "grid_auto_columns": null,
            "grid_auto_flow": null,
            "grid_auto_rows": null,
            "grid_column": null,
            "grid_gap": null,
            "grid_row": null,
            "grid_template_areas": null,
            "grid_template_columns": null,
            "grid_template_rows": null,
            "height": null,
            "justify_content": null,
            "justify_items": null,
            "left": null,
            "margin": null,
            "max_height": null,
            "max_width": null,
            "min_height": null,
            "min_width": null,
            "object_fit": null,
            "object_position": null,
            "order": null,
            "overflow": null,
            "overflow_x": null,
            "overflow_y": null,
            "padding": null,
            "right": null,
            "top": null,
            "visibility": null,
            "width": null
          }
        },
        "4eacce10a4f042ebad82f6c1e38afc99": {
          "model_module": "@jupyter-widgets/controls",
          "model_name": "DescriptionStyleModel",
          "model_module_version": "1.5.0",
          "state": {
            "_model_module": "@jupyter-widgets/controls",
            "_model_module_version": "1.5.0",
            "_model_name": "DescriptionStyleModel",
            "_view_count": null,
            "_view_module": "@jupyter-widgets/base",
            "_view_module_version": "1.2.0",
            "_view_name": "StyleView",
            "description_width": ""
          }
        },
        "c6143edade4744bfa253a31cf700a6ec": {
          "model_module": "@jupyter-widgets/controls",
          "model_name": "HBoxModel",
          "model_module_version": "1.5.0",
          "state": {
            "_dom_classes": [],
            "_model_module": "@jupyter-widgets/controls",
            "_model_module_version": "1.5.0",
            "_model_name": "HBoxModel",
            "_view_count": null,
            "_view_module": "@jupyter-widgets/controls",
            "_view_module_version": "1.5.0",
            "_view_name": "HBoxView",
            "box_style": "",
            "children": [
              "IPY_MODEL_0f87767966784a20bf160aef07f3b8b7",
              "IPY_MODEL_558a72229df24f51905cf1d956f719c4",
              "IPY_MODEL_cd4a8bc45dfa4c39bbf91808c015e407"
            ],
            "layout": "IPY_MODEL_81b287f88c8c489bb793f230c09f7cea"
          }
        },
        "0f87767966784a20bf160aef07f3b8b7": {
          "model_module": "@jupyter-widgets/controls",
          "model_name": "HTMLModel",
          "model_module_version": "1.5.0",
          "state": {
            "_dom_classes": [],
            "_model_module": "@jupyter-widgets/controls",
            "_model_module_version": "1.5.0",
            "_model_name": "HTMLModel",
            "_view_count": null,
            "_view_module": "@jupyter-widgets/controls",
            "_view_module_version": "1.5.0",
            "_view_name": "HTMLView",
            "description": "",
            "description_tooltip": null,
            "layout": "IPY_MODEL_f1b0f22be7a746f1b1c6ca72f3c815ff",
            "placeholder": "​",
            "style": "IPY_MODEL_5374e0393c1e4d4c838a0721559436af",
            "value": "merges.txt: 100%"
          }
        },
        "558a72229df24f51905cf1d956f719c4": {
          "model_module": "@jupyter-widgets/controls",
          "model_name": "FloatProgressModel",
          "model_module_version": "1.5.0",
          "state": {
            "_dom_classes": [],
            "_model_module": "@jupyter-widgets/controls",
            "_model_module_version": "1.5.0",
            "_model_name": "FloatProgressModel",
            "_view_count": null,
            "_view_module": "@jupyter-widgets/controls",
            "_view_module_version": "1.5.0",
            "_view_name": "ProgressView",
            "bar_style": "success",
            "description": "",
            "description_tooltip": null,
            "layout": "IPY_MODEL_c27f0caadaaa49cd9dea8b398a2e89d3",
            "max": 456318,
            "min": 0,
            "orientation": "horizontal",
            "style": "IPY_MODEL_7b963548ec8a4c04a370c5082bdb58b8",
            "value": 456318
          }
        },
        "cd4a8bc45dfa4c39bbf91808c015e407": {
          "model_module": "@jupyter-widgets/controls",
          "model_name": "HTMLModel",
          "model_module_version": "1.5.0",
          "state": {
            "_dom_classes": [],
            "_model_module": "@jupyter-widgets/controls",
            "_model_module_version": "1.5.0",
            "_model_name": "HTMLModel",
            "_view_count": null,
            "_view_module": "@jupyter-widgets/controls",
            "_view_module_version": "1.5.0",
            "_view_name": "HTMLView",
            "description": "",
            "description_tooltip": null,
            "layout": "IPY_MODEL_90b6986a6bfb44ffad34071fb1c5fdfd",
            "placeholder": "​",
            "style": "IPY_MODEL_da3d77d766eb4e2ab130af8d0c91a30f",
            "value": " 456k/456k [00:00&lt;00:00, 6.98MB/s]"
          }
        },
        "81b287f88c8c489bb793f230c09f7cea": {
          "model_module": "@jupyter-widgets/base",
          "model_name": "LayoutModel",
          "model_module_version": "1.2.0",
          "state": {
            "_model_module": "@jupyter-widgets/base",
            "_model_module_version": "1.2.0",
            "_model_name": "LayoutModel",
            "_view_count": null,
            "_view_module": "@jupyter-widgets/base",
            "_view_module_version": "1.2.0",
            "_view_name": "LayoutView",
            "align_content": null,
            "align_items": null,
            "align_self": null,
            "border": null,
            "bottom": null,
            "display": null,
            "flex": null,
            "flex_flow": null,
            "grid_area": null,
            "grid_auto_columns": null,
            "grid_auto_flow": null,
            "grid_auto_rows": null,
            "grid_column": null,
            "grid_gap": null,
            "grid_row": null,
            "grid_template_areas": null,
            "grid_template_columns": null,
            "grid_template_rows": null,
            "height": null,
            "justify_content": null,
            "justify_items": null,
            "left": null,
            "margin": null,
            "max_height": null,
            "max_width": null,
            "min_height": null,
            "min_width": null,
            "object_fit": null,
            "object_position": null,
            "order": null,
            "overflow": null,
            "overflow_x": null,
            "overflow_y": null,
            "padding": null,
            "right": null,
            "top": null,
            "visibility": null,
            "width": null
          }
        },
        "f1b0f22be7a746f1b1c6ca72f3c815ff": {
          "model_module": "@jupyter-widgets/base",
          "model_name": "LayoutModel",
          "model_module_version": "1.2.0",
          "state": {
            "_model_module": "@jupyter-widgets/base",
            "_model_module_version": "1.2.0",
            "_model_name": "LayoutModel",
            "_view_count": null,
            "_view_module": "@jupyter-widgets/base",
            "_view_module_version": "1.2.0",
            "_view_name": "LayoutView",
            "align_content": null,
            "align_items": null,
            "align_self": null,
            "border": null,
            "bottom": null,
            "display": null,
            "flex": null,
            "flex_flow": null,
            "grid_area": null,
            "grid_auto_columns": null,
            "grid_auto_flow": null,
            "grid_auto_rows": null,
            "grid_column": null,
            "grid_gap": null,
            "grid_row": null,
            "grid_template_areas": null,
            "grid_template_columns": null,
            "grid_template_rows": null,
            "height": null,
            "justify_content": null,
            "justify_items": null,
            "left": null,
            "margin": null,
            "max_height": null,
            "max_width": null,
            "min_height": null,
            "min_width": null,
            "object_fit": null,
            "object_position": null,
            "order": null,
            "overflow": null,
            "overflow_x": null,
            "overflow_y": null,
            "padding": null,
            "right": null,
            "top": null,
            "visibility": null,
            "width": null
          }
        },
        "5374e0393c1e4d4c838a0721559436af": {
          "model_module": "@jupyter-widgets/controls",
          "model_name": "DescriptionStyleModel",
          "model_module_version": "1.5.0",
          "state": {
            "_model_module": "@jupyter-widgets/controls",
            "_model_module_version": "1.5.0",
            "_model_name": "DescriptionStyleModel",
            "_view_count": null,
            "_view_module": "@jupyter-widgets/base",
            "_view_module_version": "1.2.0",
            "_view_name": "StyleView",
            "description_width": ""
          }
        },
        "c27f0caadaaa49cd9dea8b398a2e89d3": {
          "model_module": "@jupyter-widgets/base",
          "model_name": "LayoutModel",
          "model_module_version": "1.2.0",
          "state": {
            "_model_module": "@jupyter-widgets/base",
            "_model_module_version": "1.2.0",
            "_model_name": "LayoutModel",
            "_view_count": null,
            "_view_module": "@jupyter-widgets/base",
            "_view_module_version": "1.2.0",
            "_view_name": "LayoutView",
            "align_content": null,
            "align_items": null,
            "align_self": null,
            "border": null,
            "bottom": null,
            "display": null,
            "flex": null,
            "flex_flow": null,
            "grid_area": null,
            "grid_auto_columns": null,
            "grid_auto_flow": null,
            "grid_auto_rows": null,
            "grid_column": null,
            "grid_gap": null,
            "grid_row": null,
            "grid_template_areas": null,
            "grid_template_columns": null,
            "grid_template_rows": null,
            "height": null,
            "justify_content": null,
            "justify_items": null,
            "left": null,
            "margin": null,
            "max_height": null,
            "max_width": null,
            "min_height": null,
            "min_width": null,
            "object_fit": null,
            "object_position": null,
            "order": null,
            "overflow": null,
            "overflow_x": null,
            "overflow_y": null,
            "padding": null,
            "right": null,
            "top": null,
            "visibility": null,
            "width": null
          }
        },
        "7b963548ec8a4c04a370c5082bdb58b8": {
          "model_module": "@jupyter-widgets/controls",
          "model_name": "ProgressStyleModel",
          "model_module_version": "1.5.0",
          "state": {
            "_model_module": "@jupyter-widgets/controls",
            "_model_module_version": "1.5.0",
            "_model_name": "ProgressStyleModel",
            "_view_count": null,
            "_view_module": "@jupyter-widgets/base",
            "_view_module_version": "1.2.0",
            "_view_name": "StyleView",
            "bar_color": null,
            "description_width": ""
          }
        },
        "90b6986a6bfb44ffad34071fb1c5fdfd": {
          "model_module": "@jupyter-widgets/base",
          "model_name": "LayoutModel",
          "model_module_version": "1.2.0",
          "state": {
            "_model_module": "@jupyter-widgets/base",
            "_model_module_version": "1.2.0",
            "_model_name": "LayoutModel",
            "_view_count": null,
            "_view_module": "@jupyter-widgets/base",
            "_view_module_version": "1.2.0",
            "_view_name": "LayoutView",
            "align_content": null,
            "align_items": null,
            "align_self": null,
            "border": null,
            "bottom": null,
            "display": null,
            "flex": null,
            "flex_flow": null,
            "grid_area": null,
            "grid_auto_columns": null,
            "grid_auto_flow": null,
            "grid_auto_rows": null,
            "grid_column": null,
            "grid_gap": null,
            "grid_row": null,
            "grid_template_areas": null,
            "grid_template_columns": null,
            "grid_template_rows": null,
            "height": null,
            "justify_content": null,
            "justify_items": null,
            "left": null,
            "margin": null,
            "max_height": null,
            "max_width": null,
            "min_height": null,
            "min_width": null,
            "object_fit": null,
            "object_position": null,
            "order": null,
            "overflow": null,
            "overflow_x": null,
            "overflow_y": null,
            "padding": null,
            "right": null,
            "top": null,
            "visibility": null,
            "width": null
          }
        },
        "da3d77d766eb4e2ab130af8d0c91a30f": {
          "model_module": "@jupyter-widgets/controls",
          "model_name": "DescriptionStyleModel",
          "model_module_version": "1.5.0",
          "state": {
            "_model_module": "@jupyter-widgets/controls",
            "_model_module_version": "1.5.0",
            "_model_name": "DescriptionStyleModel",
            "_view_count": null,
            "_view_module": "@jupyter-widgets/base",
            "_view_module_version": "1.2.0",
            "_view_name": "StyleView",
            "description_width": ""
          }
        },
        "396a17da777846ca968ab212040c0fe8": {
          "model_module": "@jupyter-widgets/controls",
          "model_name": "HBoxModel",
          "model_module_version": "1.5.0",
          "state": {
            "_dom_classes": [],
            "_model_module": "@jupyter-widgets/controls",
            "_model_module_version": "1.5.0",
            "_model_name": "HBoxModel",
            "_view_count": null,
            "_view_module": "@jupyter-widgets/controls",
            "_view_module_version": "1.5.0",
            "_view_name": "HBoxView",
            "box_style": "",
            "children": [
              "IPY_MODEL_f0f0ffbb2629449998233cd37e966519",
              "IPY_MODEL_ac1e5c58f8f546ba876226e0acec7ab2",
              "IPY_MODEL_b5f57f5c11ca443483ba076c58e110a0"
            ],
            "layout": "IPY_MODEL_00bb800b4f464dcf80aff685dc9064a5"
          }
        },
        "f0f0ffbb2629449998233cd37e966519": {
          "model_module": "@jupyter-widgets/controls",
          "model_name": "HTMLModel",
          "model_module_version": "1.5.0",
          "state": {
            "_dom_classes": [],
            "_model_module": "@jupyter-widgets/controls",
            "_model_module_version": "1.5.0",
            "_model_name": "HTMLModel",
            "_view_count": null,
            "_view_module": "@jupyter-widgets/controls",
            "_view_module_version": "1.5.0",
            "_view_name": "HTMLView",
            "description": "",
            "description_tooltip": null,
            "layout": "IPY_MODEL_d928c3e5941f4f5d8cfb1708fbcdfe21",
            "placeholder": "​",
            "style": "IPY_MODEL_d7485ac2172c4a3f8b8128d104322a78",
            "value": "tokenizer.json: 100%"
          }
        },
        "ac1e5c58f8f546ba876226e0acec7ab2": {
          "model_module": "@jupyter-widgets/controls",
          "model_name": "FloatProgressModel",
          "model_module_version": "1.5.0",
          "state": {
            "_dom_classes": [],
            "_model_module": "@jupyter-widgets/controls",
            "_model_module_version": "1.5.0",
            "_model_name": "FloatProgressModel",
            "_view_count": null,
            "_view_module": "@jupyter-widgets/controls",
            "_view_module_version": "1.5.0",
            "_view_name": "ProgressView",
            "bar_style": "success",
            "description": "",
            "description_tooltip": null,
            "layout": "IPY_MODEL_ebeb80b2b01943a3bea37be198e4edce",
            "max": 1355256,
            "min": 0,
            "orientation": "horizontal",
            "style": "IPY_MODEL_5056ee0e075543a3ae7202cdf5f729fa",
            "value": 1355256
          }
        },
        "b5f57f5c11ca443483ba076c58e110a0": {
          "model_module": "@jupyter-widgets/controls",
          "model_name": "HTMLModel",
          "model_module_version": "1.5.0",
          "state": {
            "_dom_classes": [],
            "_model_module": "@jupyter-widgets/controls",
            "_model_module_version": "1.5.0",
            "_model_name": "HTMLModel",
            "_view_count": null,
            "_view_module": "@jupyter-widgets/controls",
            "_view_module_version": "1.5.0",
            "_view_name": "HTMLView",
            "description": "",
            "description_tooltip": null,
            "layout": "IPY_MODEL_4a1a46814ef24cafb1611baaa23f99e8",
            "placeholder": "​",
            "style": "IPY_MODEL_d356652d81834a79b753b5d9af2b4a5d",
            "value": " 1.36M/1.36M [00:00&lt;00:00, 27.1MB/s]"
          }
        },
        "00bb800b4f464dcf80aff685dc9064a5": {
          "model_module": "@jupyter-widgets/base",
          "model_name": "LayoutModel",
          "model_module_version": "1.2.0",
          "state": {
            "_model_module": "@jupyter-widgets/base",
            "_model_module_version": "1.2.0",
            "_model_name": "LayoutModel",
            "_view_count": null,
            "_view_module": "@jupyter-widgets/base",
            "_view_module_version": "1.2.0",
            "_view_name": "LayoutView",
            "align_content": null,
            "align_items": null,
            "align_self": null,
            "border": null,
            "bottom": null,
            "display": null,
            "flex": null,
            "flex_flow": null,
            "grid_area": null,
            "grid_auto_columns": null,
            "grid_auto_flow": null,
            "grid_auto_rows": null,
            "grid_column": null,
            "grid_gap": null,
            "grid_row": null,
            "grid_template_areas": null,
            "grid_template_columns": null,
            "grid_template_rows": null,
            "height": null,
            "justify_content": null,
            "justify_items": null,
            "left": null,
            "margin": null,
            "max_height": null,
            "max_width": null,
            "min_height": null,
            "min_width": null,
            "object_fit": null,
            "object_position": null,
            "order": null,
            "overflow": null,
            "overflow_x": null,
            "overflow_y": null,
            "padding": null,
            "right": null,
            "top": null,
            "visibility": null,
            "width": null
          }
        },
        "d928c3e5941f4f5d8cfb1708fbcdfe21": {
          "model_module": "@jupyter-widgets/base",
          "model_name": "LayoutModel",
          "model_module_version": "1.2.0",
          "state": {
            "_model_module": "@jupyter-widgets/base",
            "_model_module_version": "1.2.0",
            "_model_name": "LayoutModel",
            "_view_count": null,
            "_view_module": "@jupyter-widgets/base",
            "_view_module_version": "1.2.0",
            "_view_name": "LayoutView",
            "align_content": null,
            "align_items": null,
            "align_self": null,
            "border": null,
            "bottom": null,
            "display": null,
            "flex": null,
            "flex_flow": null,
            "grid_area": null,
            "grid_auto_columns": null,
            "grid_auto_flow": null,
            "grid_auto_rows": null,
            "grid_column": null,
            "grid_gap": null,
            "grid_row": null,
            "grid_template_areas": null,
            "grid_template_columns": null,
            "grid_template_rows": null,
            "height": null,
            "justify_content": null,
            "justify_items": null,
            "left": null,
            "margin": null,
            "max_height": null,
            "max_width": null,
            "min_height": null,
            "min_width": null,
            "object_fit": null,
            "object_position": null,
            "order": null,
            "overflow": null,
            "overflow_x": null,
            "overflow_y": null,
            "padding": null,
            "right": null,
            "top": null,
            "visibility": null,
            "width": null
          }
        },
        "d7485ac2172c4a3f8b8128d104322a78": {
          "model_module": "@jupyter-widgets/controls",
          "model_name": "DescriptionStyleModel",
          "model_module_version": "1.5.0",
          "state": {
            "_model_module": "@jupyter-widgets/controls",
            "_model_module_version": "1.5.0",
            "_model_name": "DescriptionStyleModel",
            "_view_count": null,
            "_view_module": "@jupyter-widgets/base",
            "_view_module_version": "1.2.0",
            "_view_name": "StyleView",
            "description_width": ""
          }
        },
        "ebeb80b2b01943a3bea37be198e4edce": {
          "model_module": "@jupyter-widgets/base",
          "model_name": "LayoutModel",
          "model_module_version": "1.2.0",
          "state": {
            "_model_module": "@jupyter-widgets/base",
            "_model_module_version": "1.2.0",
            "_model_name": "LayoutModel",
            "_view_count": null,
            "_view_module": "@jupyter-widgets/base",
            "_view_module_version": "1.2.0",
            "_view_name": "LayoutView",
            "align_content": null,
            "align_items": null,
            "align_self": null,
            "border": null,
            "bottom": null,
            "display": null,
            "flex": null,
            "flex_flow": null,
            "grid_area": null,
            "grid_auto_columns": null,
            "grid_auto_flow": null,
            "grid_auto_rows": null,
            "grid_column": null,
            "grid_gap": null,
            "grid_row": null,
            "grid_template_areas": null,
            "grid_template_columns": null,
            "grid_template_rows": null,
            "height": null,
            "justify_content": null,
            "justify_items": null,
            "left": null,
            "margin": null,
            "max_height": null,
            "max_width": null,
            "min_height": null,
            "min_width": null,
            "object_fit": null,
            "object_position": null,
            "order": null,
            "overflow": null,
            "overflow_x": null,
            "overflow_y": null,
            "padding": null,
            "right": null,
            "top": null,
            "visibility": null,
            "width": null
          }
        },
        "5056ee0e075543a3ae7202cdf5f729fa": {
          "model_module": "@jupyter-widgets/controls",
          "model_name": "ProgressStyleModel",
          "model_module_version": "1.5.0",
          "state": {
            "_model_module": "@jupyter-widgets/controls",
            "_model_module_version": "1.5.0",
            "_model_name": "ProgressStyleModel",
            "_view_count": null,
            "_view_module": "@jupyter-widgets/base",
            "_view_module_version": "1.2.0",
            "_view_name": "StyleView",
            "bar_color": null,
            "description_width": ""
          }
        },
        "4a1a46814ef24cafb1611baaa23f99e8": {
          "model_module": "@jupyter-widgets/base",
          "model_name": "LayoutModel",
          "model_module_version": "1.2.0",
          "state": {
            "_model_module": "@jupyter-widgets/base",
            "_model_module_version": "1.2.0",
            "_model_name": "LayoutModel",
            "_view_count": null,
            "_view_module": "@jupyter-widgets/base",
            "_view_module_version": "1.2.0",
            "_view_name": "LayoutView",
            "align_content": null,
            "align_items": null,
            "align_self": null,
            "border": null,
            "bottom": null,
            "display": null,
            "flex": null,
            "flex_flow": null,
            "grid_area": null,
            "grid_auto_columns": null,
            "grid_auto_flow": null,
            "grid_auto_rows": null,
            "grid_column": null,
            "grid_gap": null,
            "grid_row": null,
            "grid_template_areas": null,
            "grid_template_columns": null,
            "grid_template_rows": null,
            "height": null,
            "justify_content": null,
            "justify_items": null,
            "left": null,
            "margin": null,
            "max_height": null,
            "max_width": null,
            "min_height": null,
            "min_width": null,
            "object_fit": null,
            "object_position": null,
            "order": null,
            "overflow": null,
            "overflow_x": null,
            "overflow_y": null,
            "padding": null,
            "right": null,
            "top": null,
            "visibility": null,
            "width": null
          }
        },
        "d356652d81834a79b753b5d9af2b4a5d": {
          "model_module": "@jupyter-widgets/controls",
          "model_name": "DescriptionStyleModel",
          "model_module_version": "1.5.0",
          "state": {
            "_model_module": "@jupyter-widgets/controls",
            "_model_module_version": "1.5.0",
            "_model_name": "DescriptionStyleModel",
            "_view_count": null,
            "_view_module": "@jupyter-widgets/base",
            "_view_module_version": "1.2.0",
            "_view_name": "StyleView",
            "description_width": ""
          }
        },
        "91b737cc5a7242e1a62638ff667a1151": {
          "model_module": "@jupyter-widgets/controls",
          "model_name": "HBoxModel",
          "model_module_version": "1.5.0",
          "state": {
            "_dom_classes": [],
            "_model_module": "@jupyter-widgets/controls",
            "_model_module_version": "1.5.0",
            "_model_name": "HBoxModel",
            "_view_count": null,
            "_view_module": "@jupyter-widgets/controls",
            "_view_module_version": "1.5.0",
            "_view_name": "HBoxView",
            "box_style": "",
            "children": [
              "IPY_MODEL_2899d4afb1ad4456bf8d17c3467e61fc",
              "IPY_MODEL_5ea05086d99744f7b7017f329cec6200",
              "IPY_MODEL_d4b7413435fa46fca7e09850ee48991e"
            ],
            "layout": "IPY_MODEL_716fd179cb174aeebffd0eb24e81e938"
          }
        },
        "2899d4afb1ad4456bf8d17c3467e61fc": {
          "model_module": "@jupyter-widgets/controls",
          "model_name": "HTMLModel",
          "model_module_version": "1.5.0",
          "state": {
            "_dom_classes": [],
            "_model_module": "@jupyter-widgets/controls",
            "_model_module_version": "1.5.0",
            "_model_name": "HTMLModel",
            "_view_count": null,
            "_view_module": "@jupyter-widgets/controls",
            "_view_module_version": "1.5.0",
            "_view_name": "HTMLView",
            "description": "",
            "description_tooltip": null,
            "layout": "IPY_MODEL_57384d04fa7940119e6c7a50728e31ad",
            "placeholder": "​",
            "style": "IPY_MODEL_b7ee48f61bbc4d6d8b01026739371426",
            "value": "config.json: 100%"
          }
        },
        "5ea05086d99744f7b7017f329cec6200": {
          "model_module": "@jupyter-widgets/controls",
          "model_name": "FloatProgressModel",
          "model_module_version": "1.5.0",
          "state": {
            "_dom_classes": [],
            "_model_module": "@jupyter-widgets/controls",
            "_model_module_version": "1.5.0",
            "_model_name": "FloatProgressModel",
            "_view_count": null,
            "_view_module": "@jupyter-widgets/controls",
            "_view_module_version": "1.5.0",
            "_view_name": "ProgressView",
            "bar_style": "success",
            "description": "",
            "description_tooltip": null,
            "layout": "IPY_MODEL_1a8f5d799d9a4cc19b75390ddff4497b",
            "max": 665,
            "min": 0,
            "orientation": "horizontal",
            "style": "IPY_MODEL_8f5b99a857ef46b280b13c37df6dc219",
            "value": 665
          }
        },
        "d4b7413435fa46fca7e09850ee48991e": {
          "model_module": "@jupyter-widgets/controls",
          "model_name": "HTMLModel",
          "model_module_version": "1.5.0",
          "state": {
            "_dom_classes": [],
            "_model_module": "@jupyter-widgets/controls",
            "_model_module_version": "1.5.0",
            "_model_name": "HTMLModel",
            "_view_count": null,
            "_view_module": "@jupyter-widgets/controls",
            "_view_module_version": "1.5.0",
            "_view_name": "HTMLView",
            "description": "",
            "description_tooltip": null,
            "layout": "IPY_MODEL_b8e6b233d7df4408a5deec0c05e3ad9f",
            "placeholder": "​",
            "style": "IPY_MODEL_28e94e37e7e3422bafbd464d676f9085",
            "value": " 665/665 [00:00&lt;00:00, 49.2kB/s]"
          }
        },
        "716fd179cb174aeebffd0eb24e81e938": {
          "model_module": "@jupyter-widgets/base",
          "model_name": "LayoutModel",
          "model_module_version": "1.2.0",
          "state": {
            "_model_module": "@jupyter-widgets/base",
            "_model_module_version": "1.2.0",
            "_model_name": "LayoutModel",
            "_view_count": null,
            "_view_module": "@jupyter-widgets/base",
            "_view_module_version": "1.2.0",
            "_view_name": "LayoutView",
            "align_content": null,
            "align_items": null,
            "align_self": null,
            "border": null,
            "bottom": null,
            "display": null,
            "flex": null,
            "flex_flow": null,
            "grid_area": null,
            "grid_auto_columns": null,
            "grid_auto_flow": null,
            "grid_auto_rows": null,
            "grid_column": null,
            "grid_gap": null,
            "grid_row": null,
            "grid_template_areas": null,
            "grid_template_columns": null,
            "grid_template_rows": null,
            "height": null,
            "justify_content": null,
            "justify_items": null,
            "left": null,
            "margin": null,
            "max_height": null,
            "max_width": null,
            "min_height": null,
            "min_width": null,
            "object_fit": null,
            "object_position": null,
            "order": null,
            "overflow": null,
            "overflow_x": null,
            "overflow_y": null,
            "padding": null,
            "right": null,
            "top": null,
            "visibility": null,
            "width": null
          }
        },
        "57384d04fa7940119e6c7a50728e31ad": {
          "model_module": "@jupyter-widgets/base",
          "model_name": "LayoutModel",
          "model_module_version": "1.2.0",
          "state": {
            "_model_module": "@jupyter-widgets/base",
            "_model_module_version": "1.2.0",
            "_model_name": "LayoutModel",
            "_view_count": null,
            "_view_module": "@jupyter-widgets/base",
            "_view_module_version": "1.2.0",
            "_view_name": "LayoutView",
            "align_content": null,
            "align_items": null,
            "align_self": null,
            "border": null,
            "bottom": null,
            "display": null,
            "flex": null,
            "flex_flow": null,
            "grid_area": null,
            "grid_auto_columns": null,
            "grid_auto_flow": null,
            "grid_auto_rows": null,
            "grid_column": null,
            "grid_gap": null,
            "grid_row": null,
            "grid_template_areas": null,
            "grid_template_columns": null,
            "grid_template_rows": null,
            "height": null,
            "justify_content": null,
            "justify_items": null,
            "left": null,
            "margin": null,
            "max_height": null,
            "max_width": null,
            "min_height": null,
            "min_width": null,
            "object_fit": null,
            "object_position": null,
            "order": null,
            "overflow": null,
            "overflow_x": null,
            "overflow_y": null,
            "padding": null,
            "right": null,
            "top": null,
            "visibility": null,
            "width": null
          }
        },
        "b7ee48f61bbc4d6d8b01026739371426": {
          "model_module": "@jupyter-widgets/controls",
          "model_name": "DescriptionStyleModel",
          "model_module_version": "1.5.0",
          "state": {
            "_model_module": "@jupyter-widgets/controls",
            "_model_module_version": "1.5.0",
            "_model_name": "DescriptionStyleModel",
            "_view_count": null,
            "_view_module": "@jupyter-widgets/base",
            "_view_module_version": "1.2.0",
            "_view_name": "StyleView",
            "description_width": ""
          }
        },
        "1a8f5d799d9a4cc19b75390ddff4497b": {
          "model_module": "@jupyter-widgets/base",
          "model_name": "LayoutModel",
          "model_module_version": "1.2.0",
          "state": {
            "_model_module": "@jupyter-widgets/base",
            "_model_module_version": "1.2.0",
            "_model_name": "LayoutModel",
            "_view_count": null,
            "_view_module": "@jupyter-widgets/base",
            "_view_module_version": "1.2.0",
            "_view_name": "LayoutView",
            "align_content": null,
            "align_items": null,
            "align_self": null,
            "border": null,
            "bottom": null,
            "display": null,
            "flex": null,
            "flex_flow": null,
            "grid_area": null,
            "grid_auto_columns": null,
            "grid_auto_flow": null,
            "grid_auto_rows": null,
            "grid_column": null,
            "grid_gap": null,
            "grid_row": null,
            "grid_template_areas": null,
            "grid_template_columns": null,
            "grid_template_rows": null,
            "height": null,
            "justify_content": null,
            "justify_items": null,
            "left": null,
            "margin": null,
            "max_height": null,
            "max_width": null,
            "min_height": null,
            "min_width": null,
            "object_fit": null,
            "object_position": null,
            "order": null,
            "overflow": null,
            "overflow_x": null,
            "overflow_y": null,
            "padding": null,
            "right": null,
            "top": null,
            "visibility": null,
            "width": null
          }
        },
        "8f5b99a857ef46b280b13c37df6dc219": {
          "model_module": "@jupyter-widgets/controls",
          "model_name": "ProgressStyleModel",
          "model_module_version": "1.5.0",
          "state": {
            "_model_module": "@jupyter-widgets/controls",
            "_model_module_version": "1.5.0",
            "_model_name": "ProgressStyleModel",
            "_view_count": null,
            "_view_module": "@jupyter-widgets/base",
            "_view_module_version": "1.2.0",
            "_view_name": "StyleView",
            "bar_color": null,
            "description_width": ""
          }
        },
        "b8e6b233d7df4408a5deec0c05e3ad9f": {
          "model_module": "@jupyter-widgets/base",
          "model_name": "LayoutModel",
          "model_module_version": "1.2.0",
          "state": {
            "_model_module": "@jupyter-widgets/base",
            "_model_module_version": "1.2.0",
            "_model_name": "LayoutModel",
            "_view_count": null,
            "_view_module": "@jupyter-widgets/base",
            "_view_module_version": "1.2.0",
            "_view_name": "LayoutView",
            "align_content": null,
            "align_items": null,
            "align_self": null,
            "border": null,
            "bottom": null,
            "display": null,
            "flex": null,
            "flex_flow": null,
            "grid_area": null,
            "grid_auto_columns": null,
            "grid_auto_flow": null,
            "grid_auto_rows": null,
            "grid_column": null,
            "grid_gap": null,
            "grid_row": null,
            "grid_template_areas": null,
            "grid_template_columns": null,
            "grid_template_rows": null,
            "height": null,
            "justify_content": null,
            "justify_items": null,
            "left": null,
            "margin": null,
            "max_height": null,
            "max_width": null,
            "min_height": null,
            "min_width": null,
            "object_fit": null,
            "object_position": null,
            "order": null,
            "overflow": null,
            "overflow_x": null,
            "overflow_y": null,
            "padding": null,
            "right": null,
            "top": null,
            "visibility": null,
            "width": null
          }
        },
        "28e94e37e7e3422bafbd464d676f9085": {
          "model_module": "@jupyter-widgets/controls",
          "model_name": "DescriptionStyleModel",
          "model_module_version": "1.5.0",
          "state": {
            "_model_module": "@jupyter-widgets/controls",
            "_model_module_version": "1.5.0",
            "_model_name": "DescriptionStyleModel",
            "_view_count": null,
            "_view_module": "@jupyter-widgets/base",
            "_view_module_version": "1.2.0",
            "_view_name": "StyleView",
            "description_width": ""
          }
        },
        "95aaa5f345a647f5b2c229a430aa639f": {
          "model_module": "@jupyter-widgets/controls",
          "model_name": "HBoxModel",
          "model_module_version": "1.5.0",
          "state": {
            "_dom_classes": [],
            "_model_module": "@jupyter-widgets/controls",
            "_model_module_version": "1.5.0",
            "_model_name": "HBoxModel",
            "_view_count": null,
            "_view_module": "@jupyter-widgets/controls",
            "_view_module_version": "1.5.0",
            "_view_name": "HBoxView",
            "box_style": "",
            "children": [
              "IPY_MODEL_aec484db079b49dfb2792c697748b7b9",
              "IPY_MODEL_ba4eedd245314e5184c083d265ab6d44",
              "IPY_MODEL_79e255f5f5fb4f2caed48a1e10cad512"
            ],
            "layout": "IPY_MODEL_e5521d3305284afebba9d708edf5122d"
          }
        },
        "aec484db079b49dfb2792c697748b7b9": {
          "model_module": "@jupyter-widgets/controls",
          "model_name": "HTMLModel",
          "model_module_version": "1.5.0",
          "state": {
            "_dom_classes": [],
            "_model_module": "@jupyter-widgets/controls",
            "_model_module_version": "1.5.0",
            "_model_name": "HTMLModel",
            "_view_count": null,
            "_view_module": "@jupyter-widgets/controls",
            "_view_module_version": "1.5.0",
            "_view_name": "HTMLView",
            "description": "",
            "description_tooltip": null,
            "layout": "IPY_MODEL_e6d2d61dd7a444709781ba44244b3f8e",
            "placeholder": "​",
            "style": "IPY_MODEL_1b835d6643f9417fa9a23521597a8568",
            "value": "model.safetensors: 100%"
          }
        },
        "ba4eedd245314e5184c083d265ab6d44": {
          "model_module": "@jupyter-widgets/controls",
          "model_name": "FloatProgressModel",
          "model_module_version": "1.5.0",
          "state": {
            "_dom_classes": [],
            "_model_module": "@jupyter-widgets/controls",
            "_model_module_version": "1.5.0",
            "_model_name": "FloatProgressModel",
            "_view_count": null,
            "_view_module": "@jupyter-widgets/controls",
            "_view_module_version": "1.5.0",
            "_view_name": "ProgressView",
            "bar_style": "success",
            "description": "",
            "description_tooltip": null,
            "layout": "IPY_MODEL_7d11d4a574bf461183f8aabe0ae34d45",
            "max": 548105171,
            "min": 0,
            "orientation": "horizontal",
            "style": "IPY_MODEL_498c1032f4bd4645b498618ab376e646",
            "value": 548105171
          }
        },
        "79e255f5f5fb4f2caed48a1e10cad512": {
          "model_module": "@jupyter-widgets/controls",
          "model_name": "HTMLModel",
          "model_module_version": "1.5.0",
          "state": {
            "_dom_classes": [],
            "_model_module": "@jupyter-widgets/controls",
            "_model_module_version": "1.5.0",
            "_model_name": "HTMLModel",
            "_view_count": null,
            "_view_module": "@jupyter-widgets/controls",
            "_view_module_version": "1.5.0",
            "_view_name": "HTMLView",
            "description": "",
            "description_tooltip": null,
            "layout": "IPY_MODEL_ee11c2d7d4464c698215e968f8c3a354",
            "placeholder": "​",
            "style": "IPY_MODEL_e6aa32170d8c4a8cb7a9b0e65439baae",
            "value": " 548M/548M [00:05&lt;00:00, 59.0MB/s]"
          }
        },
        "e5521d3305284afebba9d708edf5122d": {
          "model_module": "@jupyter-widgets/base",
          "model_name": "LayoutModel",
          "model_module_version": "1.2.0",
          "state": {
            "_model_module": "@jupyter-widgets/base",
            "_model_module_version": "1.2.0",
            "_model_name": "LayoutModel",
            "_view_count": null,
            "_view_module": "@jupyter-widgets/base",
            "_view_module_version": "1.2.0",
            "_view_name": "LayoutView",
            "align_content": null,
            "align_items": null,
            "align_self": null,
            "border": null,
            "bottom": null,
            "display": null,
            "flex": null,
            "flex_flow": null,
            "grid_area": null,
            "grid_auto_columns": null,
            "grid_auto_flow": null,
            "grid_auto_rows": null,
            "grid_column": null,
            "grid_gap": null,
            "grid_row": null,
            "grid_template_areas": null,
            "grid_template_columns": null,
            "grid_template_rows": null,
            "height": null,
            "justify_content": null,
            "justify_items": null,
            "left": null,
            "margin": null,
            "max_height": null,
            "max_width": null,
            "min_height": null,
            "min_width": null,
            "object_fit": null,
            "object_position": null,
            "order": null,
            "overflow": null,
            "overflow_x": null,
            "overflow_y": null,
            "padding": null,
            "right": null,
            "top": null,
            "visibility": null,
            "width": null
          }
        },
        "e6d2d61dd7a444709781ba44244b3f8e": {
          "model_module": "@jupyter-widgets/base",
          "model_name": "LayoutModel",
          "model_module_version": "1.2.0",
          "state": {
            "_model_module": "@jupyter-widgets/base",
            "_model_module_version": "1.2.0",
            "_model_name": "LayoutModel",
            "_view_count": null,
            "_view_module": "@jupyter-widgets/base",
            "_view_module_version": "1.2.0",
            "_view_name": "LayoutView",
            "align_content": null,
            "align_items": null,
            "align_self": null,
            "border": null,
            "bottom": null,
            "display": null,
            "flex": null,
            "flex_flow": null,
            "grid_area": null,
            "grid_auto_columns": null,
            "grid_auto_flow": null,
            "grid_auto_rows": null,
            "grid_column": null,
            "grid_gap": null,
            "grid_row": null,
            "grid_template_areas": null,
            "grid_template_columns": null,
            "grid_template_rows": null,
            "height": null,
            "justify_content": null,
            "justify_items": null,
            "left": null,
            "margin": null,
            "max_height": null,
            "max_width": null,
            "min_height": null,
            "min_width": null,
            "object_fit": null,
            "object_position": null,
            "order": null,
            "overflow": null,
            "overflow_x": null,
            "overflow_y": null,
            "padding": null,
            "right": null,
            "top": null,
            "visibility": null,
            "width": null
          }
        },
        "1b835d6643f9417fa9a23521597a8568": {
          "model_module": "@jupyter-widgets/controls",
          "model_name": "DescriptionStyleModel",
          "model_module_version": "1.5.0",
          "state": {
            "_model_module": "@jupyter-widgets/controls",
            "_model_module_version": "1.5.0",
            "_model_name": "DescriptionStyleModel",
            "_view_count": null,
            "_view_module": "@jupyter-widgets/base",
            "_view_module_version": "1.2.0",
            "_view_name": "StyleView",
            "description_width": ""
          }
        },
        "7d11d4a574bf461183f8aabe0ae34d45": {
          "model_module": "@jupyter-widgets/base",
          "model_name": "LayoutModel",
          "model_module_version": "1.2.0",
          "state": {
            "_model_module": "@jupyter-widgets/base",
            "_model_module_version": "1.2.0",
            "_model_name": "LayoutModel",
            "_view_count": null,
            "_view_module": "@jupyter-widgets/base",
            "_view_module_version": "1.2.0",
            "_view_name": "LayoutView",
            "align_content": null,
            "align_items": null,
            "align_self": null,
            "border": null,
            "bottom": null,
            "display": null,
            "flex": null,
            "flex_flow": null,
            "grid_area": null,
            "grid_auto_columns": null,
            "grid_auto_flow": null,
            "grid_auto_rows": null,
            "grid_column": null,
            "grid_gap": null,
            "grid_row": null,
            "grid_template_areas": null,
            "grid_template_columns": null,
            "grid_template_rows": null,
            "height": null,
            "justify_content": null,
            "justify_items": null,
            "left": null,
            "margin": null,
            "max_height": null,
            "max_width": null,
            "min_height": null,
            "min_width": null,
            "object_fit": null,
            "object_position": null,
            "order": null,
            "overflow": null,
            "overflow_x": null,
            "overflow_y": null,
            "padding": null,
            "right": null,
            "top": null,
            "visibility": null,
            "width": null
          }
        },
        "498c1032f4bd4645b498618ab376e646": {
          "model_module": "@jupyter-widgets/controls",
          "model_name": "ProgressStyleModel",
          "model_module_version": "1.5.0",
          "state": {
            "_model_module": "@jupyter-widgets/controls",
            "_model_module_version": "1.5.0",
            "_model_name": "ProgressStyleModel",
            "_view_count": null,
            "_view_module": "@jupyter-widgets/base",
            "_view_module_version": "1.2.0",
            "_view_name": "StyleView",
            "bar_color": null,
            "description_width": ""
          }
        },
        "ee11c2d7d4464c698215e968f8c3a354": {
          "model_module": "@jupyter-widgets/base",
          "model_name": "LayoutModel",
          "model_module_version": "1.2.0",
          "state": {
            "_model_module": "@jupyter-widgets/base",
            "_model_module_version": "1.2.0",
            "_model_name": "LayoutModel",
            "_view_count": null,
            "_view_module": "@jupyter-widgets/base",
            "_view_module_version": "1.2.0",
            "_view_name": "LayoutView",
            "align_content": null,
            "align_items": null,
            "align_self": null,
            "border": null,
            "bottom": null,
            "display": null,
            "flex": null,
            "flex_flow": null,
            "grid_area": null,
            "grid_auto_columns": null,
            "grid_auto_flow": null,
            "grid_auto_rows": null,
            "grid_column": null,
            "grid_gap": null,
            "grid_row": null,
            "grid_template_areas": null,
            "grid_template_columns": null,
            "grid_template_rows": null,
            "height": null,
            "justify_content": null,
            "justify_items": null,
            "left": null,
            "margin": null,
            "max_height": null,
            "max_width": null,
            "min_height": null,
            "min_width": null,
            "object_fit": null,
            "object_position": null,
            "order": null,
            "overflow": null,
            "overflow_x": null,
            "overflow_y": null,
            "padding": null,
            "right": null,
            "top": null,
            "visibility": null,
            "width": null
          }
        },
        "e6aa32170d8c4a8cb7a9b0e65439baae": {
          "model_module": "@jupyter-widgets/controls",
          "model_name": "DescriptionStyleModel",
          "model_module_version": "1.5.0",
          "state": {
            "_model_module": "@jupyter-widgets/controls",
            "_model_module_version": "1.5.0",
            "_model_name": "DescriptionStyleModel",
            "_view_count": null,
            "_view_module": "@jupyter-widgets/base",
            "_view_module_version": "1.2.0",
            "_view_name": "StyleView",
            "description_width": ""
          }
        },
        "24265e89a4154dda84cadd22cdf9c2c7": {
          "model_module": "@jupyter-widgets/controls",
          "model_name": "HBoxModel",
          "model_module_version": "1.5.0",
          "state": {
            "_dom_classes": [],
            "_model_module": "@jupyter-widgets/controls",
            "_model_module_version": "1.5.0",
            "_model_name": "HBoxModel",
            "_view_count": null,
            "_view_module": "@jupyter-widgets/controls",
            "_view_module_version": "1.5.0",
            "_view_name": "HBoxView",
            "box_style": "",
            "children": [
              "IPY_MODEL_d6526331a00e4d3383ac8a3d94d098fe",
              "IPY_MODEL_8b5026526271414b9c93b367da69bb25",
              "IPY_MODEL_43bd2d9133b74b76ad6ef258b3050a30"
            ],
            "layout": "IPY_MODEL_05858fdfc8994643affe0e3e455aeb48"
          }
        },
        "d6526331a00e4d3383ac8a3d94d098fe": {
          "model_module": "@jupyter-widgets/controls",
          "model_name": "HTMLModel",
          "model_module_version": "1.5.0",
          "state": {
            "_dom_classes": [],
            "_model_module": "@jupyter-widgets/controls",
            "_model_module_version": "1.5.0",
            "_model_name": "HTMLModel",
            "_view_count": null,
            "_view_module": "@jupyter-widgets/controls",
            "_view_module_version": "1.5.0",
            "_view_name": "HTMLView",
            "description": "",
            "description_tooltip": null,
            "layout": "IPY_MODEL_5864056447124ccc9d23370707b19e86",
            "placeholder": "​",
            "style": "IPY_MODEL_98ed0e7e76a447a98057108298309ea6",
            "value": "generation_config.json: 100%"
          }
        },
        "8b5026526271414b9c93b367da69bb25": {
          "model_module": "@jupyter-widgets/controls",
          "model_name": "FloatProgressModel",
          "model_module_version": "1.5.0",
          "state": {
            "_dom_classes": [],
            "_model_module": "@jupyter-widgets/controls",
            "_model_module_version": "1.5.0",
            "_model_name": "FloatProgressModel",
            "_view_count": null,
            "_view_module": "@jupyter-widgets/controls",
            "_view_module_version": "1.5.0",
            "_view_name": "ProgressView",
            "bar_style": "success",
            "description": "",
            "description_tooltip": null,
            "layout": "IPY_MODEL_1896e4f118514a0db20f77f937889e23",
            "max": 124,
            "min": 0,
            "orientation": "horizontal",
            "style": "IPY_MODEL_e4990e3b16d54e9c922075c3335c3b02",
            "value": 124
          }
        },
        "43bd2d9133b74b76ad6ef258b3050a30": {
          "model_module": "@jupyter-widgets/controls",
          "model_name": "HTMLModel",
          "model_module_version": "1.5.0",
          "state": {
            "_dom_classes": [],
            "_model_module": "@jupyter-widgets/controls",
            "_model_module_version": "1.5.0",
            "_model_name": "HTMLModel",
            "_view_count": null,
            "_view_module": "@jupyter-widgets/controls",
            "_view_module_version": "1.5.0",
            "_view_name": "HTMLView",
            "description": "",
            "description_tooltip": null,
            "layout": "IPY_MODEL_2d90fff2b85443dc83f7620144de2f50",
            "placeholder": "​",
            "style": "IPY_MODEL_1f66a3384cae497ca6655536ad57cb81",
            "value": " 124/124 [00:00&lt;00:00, 7.91kB/s]"
          }
        },
        "05858fdfc8994643affe0e3e455aeb48": {
          "model_module": "@jupyter-widgets/base",
          "model_name": "LayoutModel",
          "model_module_version": "1.2.0",
          "state": {
            "_model_module": "@jupyter-widgets/base",
            "_model_module_version": "1.2.0",
            "_model_name": "LayoutModel",
            "_view_count": null,
            "_view_module": "@jupyter-widgets/base",
            "_view_module_version": "1.2.0",
            "_view_name": "LayoutView",
            "align_content": null,
            "align_items": null,
            "align_self": null,
            "border": null,
            "bottom": null,
            "display": null,
            "flex": null,
            "flex_flow": null,
            "grid_area": null,
            "grid_auto_columns": null,
            "grid_auto_flow": null,
            "grid_auto_rows": null,
            "grid_column": null,
            "grid_gap": null,
            "grid_row": null,
            "grid_template_areas": null,
            "grid_template_columns": null,
            "grid_template_rows": null,
            "height": null,
            "justify_content": null,
            "justify_items": null,
            "left": null,
            "margin": null,
            "max_height": null,
            "max_width": null,
            "min_height": null,
            "min_width": null,
            "object_fit": null,
            "object_position": null,
            "order": null,
            "overflow": null,
            "overflow_x": null,
            "overflow_y": null,
            "padding": null,
            "right": null,
            "top": null,
            "visibility": null,
            "width": null
          }
        },
        "5864056447124ccc9d23370707b19e86": {
          "model_module": "@jupyter-widgets/base",
          "model_name": "LayoutModel",
          "model_module_version": "1.2.0",
          "state": {
            "_model_module": "@jupyter-widgets/base",
            "_model_module_version": "1.2.0",
            "_model_name": "LayoutModel",
            "_view_count": null,
            "_view_module": "@jupyter-widgets/base",
            "_view_module_version": "1.2.0",
            "_view_name": "LayoutView",
            "align_content": null,
            "align_items": null,
            "align_self": null,
            "border": null,
            "bottom": null,
            "display": null,
            "flex": null,
            "flex_flow": null,
            "grid_area": null,
            "grid_auto_columns": null,
            "grid_auto_flow": null,
            "grid_auto_rows": null,
            "grid_column": null,
            "grid_gap": null,
            "grid_row": null,
            "grid_template_areas": null,
            "grid_template_columns": null,
            "grid_template_rows": null,
            "height": null,
            "justify_content": null,
            "justify_items": null,
            "left": null,
            "margin": null,
            "max_height": null,
            "max_width": null,
            "min_height": null,
            "min_width": null,
            "object_fit": null,
            "object_position": null,
            "order": null,
            "overflow": null,
            "overflow_x": null,
            "overflow_y": null,
            "padding": null,
            "right": null,
            "top": null,
            "visibility": null,
            "width": null
          }
        },
        "98ed0e7e76a447a98057108298309ea6": {
          "model_module": "@jupyter-widgets/controls",
          "model_name": "DescriptionStyleModel",
          "model_module_version": "1.5.0",
          "state": {
            "_model_module": "@jupyter-widgets/controls",
            "_model_module_version": "1.5.0",
            "_model_name": "DescriptionStyleModel",
            "_view_count": null,
            "_view_module": "@jupyter-widgets/base",
            "_view_module_version": "1.2.0",
            "_view_name": "StyleView",
            "description_width": ""
          }
        },
        "1896e4f118514a0db20f77f937889e23": {
          "model_module": "@jupyter-widgets/base",
          "model_name": "LayoutModel",
          "model_module_version": "1.2.0",
          "state": {
            "_model_module": "@jupyter-widgets/base",
            "_model_module_version": "1.2.0",
            "_model_name": "LayoutModel",
            "_view_count": null,
            "_view_module": "@jupyter-widgets/base",
            "_view_module_version": "1.2.0",
            "_view_name": "LayoutView",
            "align_content": null,
            "align_items": null,
            "align_self": null,
            "border": null,
            "bottom": null,
            "display": null,
            "flex": null,
            "flex_flow": null,
            "grid_area": null,
            "grid_auto_columns": null,
            "grid_auto_flow": null,
            "grid_auto_rows": null,
            "grid_column": null,
            "grid_gap": null,
            "grid_row": null,
            "grid_template_areas": null,
            "grid_template_columns": null,
            "grid_template_rows": null,
            "height": null,
            "justify_content": null,
            "justify_items": null,
            "left": null,
            "margin": null,
            "max_height": null,
            "max_width": null,
            "min_height": null,
            "min_width": null,
            "object_fit": null,
            "object_position": null,
            "order": null,
            "overflow": null,
            "overflow_x": null,
            "overflow_y": null,
            "padding": null,
            "right": null,
            "top": null,
            "visibility": null,
            "width": null
          }
        },
        "e4990e3b16d54e9c922075c3335c3b02": {
          "model_module": "@jupyter-widgets/controls",
          "model_name": "ProgressStyleModel",
          "model_module_version": "1.5.0",
          "state": {
            "_model_module": "@jupyter-widgets/controls",
            "_model_module_version": "1.5.0",
            "_model_name": "ProgressStyleModel",
            "_view_count": null,
            "_view_module": "@jupyter-widgets/base",
            "_view_module_version": "1.2.0",
            "_view_name": "StyleView",
            "bar_color": null,
            "description_width": ""
          }
        },
        "2d90fff2b85443dc83f7620144de2f50": {
          "model_module": "@jupyter-widgets/base",
          "model_name": "LayoutModel",
          "model_module_version": "1.2.0",
          "state": {
            "_model_module": "@jupyter-widgets/base",
            "_model_module_version": "1.2.0",
            "_model_name": "LayoutModel",
            "_view_count": null,
            "_view_module": "@jupyter-widgets/base",
            "_view_module_version": "1.2.0",
            "_view_name": "LayoutView",
            "align_content": null,
            "align_items": null,
            "align_self": null,
            "border": null,
            "bottom": null,
            "display": null,
            "flex": null,
            "flex_flow": null,
            "grid_area": null,
            "grid_auto_columns": null,
            "grid_auto_flow": null,
            "grid_auto_rows": null,
            "grid_column": null,
            "grid_gap": null,
            "grid_row": null,
            "grid_template_areas": null,
            "grid_template_columns": null,
            "grid_template_rows": null,
            "height": null,
            "justify_content": null,
            "justify_items": null,
            "left": null,
            "margin": null,
            "max_height": null,
            "max_width": null,
            "min_height": null,
            "min_width": null,
            "object_fit": null,
            "object_position": null,
            "order": null,
            "overflow": null,
            "overflow_x": null,
            "overflow_y": null,
            "padding": null,
            "right": null,
            "top": null,
            "visibility": null,
            "width": null
          }
        },
        "1f66a3384cae497ca6655536ad57cb81": {
          "model_module": "@jupyter-widgets/controls",
          "model_name": "DescriptionStyleModel",
          "model_module_version": "1.5.0",
          "state": {
            "_model_module": "@jupyter-widgets/controls",
            "_model_module_version": "1.5.0",
            "_model_name": "DescriptionStyleModel",
            "_view_count": null,
            "_view_module": "@jupyter-widgets/base",
            "_view_module_version": "1.2.0",
            "_view_name": "StyleView",
            "description_width": ""
          }
        }
      }
    }
  },
  "cells": [
    {
      "cell_type": "code",
      "execution_count": null,
      "metadata": {
        "colab": {
          "base_uri": "https://localhost:8080/"
        },
        "id": "tGoNuajud9Tr",
        "outputId": "705f187f-0e4d-4550-f784-94b4f86f7b99"
      },
      "outputs": [
        {
          "output_type": "stream",
          "name": "stderr",
          "text": [
            "[nltk_data] Downloading package punkt to /root/nltk_data...\n",
            "[nltk_data]   Unzipping tokenizers/punkt.zip.\n"
          ]
        },
        {
          "output_type": "execute_result",
          "data": {
            "text/plain": [
              "True"
            ]
          },
          "metadata": {},
          "execution_count": 2
        }
      ],
      "source": [
        "import os\n",
        "import time\n",
        "import datetime\n",
        "from google.colab import drive\n",
        "\n",
        "import pandas as pd\n",
        "import seaborn as sns\n",
        "import numpy as np\n",
        "import random\n",
        "\n",
        "import matplotlib.pyplot as plt\n",
        "%matplotlib inline\n",
        "\n",
        "import torch\n",
        "from torch.utils.data import Dataset, DataLoader, random_split, RandomSampler, SequentialSampler\n",
        "torch.manual_seed(42)\n",
        "\n",
        "from transformers import GPT2LMHeadModel,  GPT2Tokenizer, GPT2Config, GPT2LMHeadModel\n",
        "from transformers import AdamW, get_linear_schedule_with_warmup\n",
        "\n",
        "import nltk\n",
        "nltk.download('punkt')"
      ]
    },
    {
      "cell_type": "code",
      "source": [
        "cd .."
      ],
      "metadata": {
        "colab": {
          "base_uri": "https://localhost:8080/"
        },
        "id": "R63ubkbGeviO",
        "outputId": "e464e6b1-ca27-4c41-8558-aa752c74b766"
      },
      "execution_count": null,
      "outputs": [
        {
          "output_type": "stream",
          "name": "stdout",
          "text": [
            "/\n"
          ]
        }
      ]
    },
    {
      "cell_type": "code",
      "source": [
        "df = pd.read_csv(\"./df_class2.csv\")\n",
        "#\"/Users/canerozer/Desktop/BU/FALL2023/CS505/Final_Project/data/df_class1.csv\""
      ],
      "metadata": {
        "id": "aQhg3QWieBm8"
      },
      "execution_count": null,
      "outputs": []
    },
    {
      "cell_type": "code",
      "source": [
        "df.head()"
      ],
      "metadata": {
        "colab": {
          "base_uri": "https://localhost:8080/",
          "height": 204
        },
        "id": "Epa3YERjeBpf",
        "outputId": "df04e204-ac3c-4087-c7c4-036988cdc89c"
      },
      "execution_count": null,
      "outputs": [
        {
          "output_type": "execute_result",
          "data": {
            "text/plain": [
              "        Id                                               Text\n",
              "0   195370  An Unexplained Anime Review I was very anxious...\n",
              "1  1213850  Disappointing Night Saw this film recently on ...\n",
              "2   280462  It was just okay. The end of the film has mode...\n",
              "3  1002289  Not my pick on a good pilates workout I would ...\n",
              "4  1393851  Has it's share of laughs, but goes overboard w..."
            ],
            "text/html": [
              "\n",
              "  <div id=\"df-de451e2e-4054-4561-b7a5-759935292bfe\" class=\"colab-df-container\">\n",
              "    <div>\n",
              "<style scoped>\n",
              "    .dataframe tbody tr th:only-of-type {\n",
              "        vertical-align: middle;\n",
              "    }\n",
              "\n",
              "    .dataframe tbody tr th {\n",
              "        vertical-align: top;\n",
              "    }\n",
              "\n",
              "    .dataframe thead th {\n",
              "        text-align: right;\n",
              "    }\n",
              "</style>\n",
              "<table border=\"1\" class=\"dataframe\">\n",
              "  <thead>\n",
              "    <tr style=\"text-align: right;\">\n",
              "      <th></th>\n",
              "      <th>Id</th>\n",
              "      <th>Text</th>\n",
              "    </tr>\n",
              "  </thead>\n",
              "  <tbody>\n",
              "    <tr>\n",
              "      <th>0</th>\n",
              "      <td>195370</td>\n",
              "      <td>An Unexplained Anime Review I was very anxious...</td>\n",
              "    </tr>\n",
              "    <tr>\n",
              "      <th>1</th>\n",
              "      <td>1213850</td>\n",
              "      <td>Disappointing Night Saw this film recently on ...</td>\n",
              "    </tr>\n",
              "    <tr>\n",
              "      <th>2</th>\n",
              "      <td>280462</td>\n",
              "      <td>It was just okay. The end of the film has mode...</td>\n",
              "    </tr>\n",
              "    <tr>\n",
              "      <th>3</th>\n",
              "      <td>1002289</td>\n",
              "      <td>Not my pick on a good pilates workout I would ...</td>\n",
              "    </tr>\n",
              "    <tr>\n",
              "      <th>4</th>\n",
              "      <td>1393851</td>\n",
              "      <td>Has it's share of laughs, but goes overboard w...</td>\n",
              "    </tr>\n",
              "  </tbody>\n",
              "</table>\n",
              "</div>\n",
              "    <div class=\"colab-df-buttons\">\n",
              "\n",
              "  <div class=\"colab-df-container\">\n",
              "    <button class=\"colab-df-convert\" onclick=\"convertToInteractive('df-de451e2e-4054-4561-b7a5-759935292bfe')\"\n",
              "            title=\"Convert this dataframe to an interactive table.\"\n",
              "            style=\"display:none;\">\n",
              "\n",
              "  <svg xmlns=\"http://www.w3.org/2000/svg\" height=\"24px\" viewBox=\"0 -960 960 960\">\n",
              "    <path d=\"M120-120v-720h720v720H120Zm60-500h600v-160H180v160Zm220 220h160v-160H400v160Zm0 220h160v-160H400v160ZM180-400h160v-160H180v160Zm440 0h160v-160H620v160ZM180-180h160v-160H180v160Zm440 0h160v-160H620v160Z\"/>\n",
              "  </svg>\n",
              "    </button>\n",
              "\n",
              "  <style>\n",
              "    .colab-df-container {\n",
              "      display:flex;\n",
              "      gap: 12px;\n",
              "    }\n",
              "\n",
              "    .colab-df-convert {\n",
              "      background-color: #E8F0FE;\n",
              "      border: none;\n",
              "      border-radius: 50%;\n",
              "      cursor: pointer;\n",
              "      display: none;\n",
              "      fill: #1967D2;\n",
              "      height: 32px;\n",
              "      padding: 0 0 0 0;\n",
              "      width: 32px;\n",
              "    }\n",
              "\n",
              "    .colab-df-convert:hover {\n",
              "      background-color: #E2EBFA;\n",
              "      box-shadow: 0px 1px 2px rgba(60, 64, 67, 0.3), 0px 1px 3px 1px rgba(60, 64, 67, 0.15);\n",
              "      fill: #174EA6;\n",
              "    }\n",
              "\n",
              "    .colab-df-buttons div {\n",
              "      margin-bottom: 4px;\n",
              "    }\n",
              "\n",
              "    [theme=dark] .colab-df-convert {\n",
              "      background-color: #3B4455;\n",
              "      fill: #D2E3FC;\n",
              "    }\n",
              "\n",
              "    [theme=dark] .colab-df-convert:hover {\n",
              "      background-color: #434B5C;\n",
              "      box-shadow: 0px 1px 3px 1px rgba(0, 0, 0, 0.15);\n",
              "      filter: drop-shadow(0px 1px 2px rgba(0, 0, 0, 0.3));\n",
              "      fill: #FFFFFF;\n",
              "    }\n",
              "  </style>\n",
              "\n",
              "    <script>\n",
              "      const buttonEl =\n",
              "        document.querySelector('#df-de451e2e-4054-4561-b7a5-759935292bfe button.colab-df-convert');\n",
              "      buttonEl.style.display =\n",
              "        google.colab.kernel.accessAllowed ? 'block' : 'none';\n",
              "\n",
              "      async function convertToInteractive(key) {\n",
              "        const element = document.querySelector('#df-de451e2e-4054-4561-b7a5-759935292bfe');\n",
              "        const dataTable =\n",
              "          await google.colab.kernel.invokeFunction('convertToInteractive',\n",
              "                                                    [key], {});\n",
              "        if (!dataTable) return;\n",
              "\n",
              "        const docLinkHtml = 'Like what you see? Visit the ' +\n",
              "          '<a target=\"_blank\" href=https://colab.research.google.com/notebooks/data_table.ipynb>data table notebook</a>'\n",
              "          + ' to learn more about interactive tables.';\n",
              "        element.innerHTML = '';\n",
              "        dataTable['output_type'] = 'display_data';\n",
              "        await google.colab.output.renderOutput(dataTable, element);\n",
              "        const docLink = document.createElement('div');\n",
              "        docLink.innerHTML = docLinkHtml;\n",
              "        element.appendChild(docLink);\n",
              "      }\n",
              "    </script>\n",
              "  </div>\n",
              "\n",
              "\n",
              "<div id=\"df-6a4caf00-2c53-40f6-bd39-a034a1592254\">\n",
              "  <button class=\"colab-df-quickchart\" onclick=\"quickchart('df-6a4caf00-2c53-40f6-bd39-a034a1592254')\"\n",
              "            title=\"Suggest charts\"\n",
              "            style=\"display:none;\">\n",
              "\n",
              "<svg xmlns=\"http://www.w3.org/2000/svg\" height=\"24px\"viewBox=\"0 0 24 24\"\n",
              "     width=\"24px\">\n",
              "    <g>\n",
              "        <path d=\"M19 3H5c-1.1 0-2 .9-2 2v14c0 1.1.9 2 2 2h14c1.1 0 2-.9 2-2V5c0-1.1-.9-2-2-2zM9 17H7v-7h2v7zm4 0h-2V7h2v10zm4 0h-2v-4h2v4z\"/>\n",
              "    </g>\n",
              "</svg>\n",
              "  </button>\n",
              "\n",
              "<style>\n",
              "  .colab-df-quickchart {\n",
              "      --bg-color: #E8F0FE;\n",
              "      --fill-color: #1967D2;\n",
              "      --hover-bg-color: #E2EBFA;\n",
              "      --hover-fill-color: #174EA6;\n",
              "      --disabled-fill-color: #AAA;\n",
              "      --disabled-bg-color: #DDD;\n",
              "  }\n",
              "\n",
              "  [theme=dark] .colab-df-quickchart {\n",
              "      --bg-color: #3B4455;\n",
              "      --fill-color: #D2E3FC;\n",
              "      --hover-bg-color: #434B5C;\n",
              "      --hover-fill-color: #FFFFFF;\n",
              "      --disabled-bg-color: #3B4455;\n",
              "      --disabled-fill-color: #666;\n",
              "  }\n",
              "\n",
              "  .colab-df-quickchart {\n",
              "    background-color: var(--bg-color);\n",
              "    border: none;\n",
              "    border-radius: 50%;\n",
              "    cursor: pointer;\n",
              "    display: none;\n",
              "    fill: var(--fill-color);\n",
              "    height: 32px;\n",
              "    padding: 0;\n",
              "    width: 32px;\n",
              "  }\n",
              "\n",
              "  .colab-df-quickchart:hover {\n",
              "    background-color: var(--hover-bg-color);\n",
              "    box-shadow: 0 1px 2px rgba(60, 64, 67, 0.3), 0 1px 3px 1px rgba(60, 64, 67, 0.15);\n",
              "    fill: var(--button-hover-fill-color);\n",
              "  }\n",
              "\n",
              "  .colab-df-quickchart-complete:disabled,\n",
              "  .colab-df-quickchart-complete:disabled:hover {\n",
              "    background-color: var(--disabled-bg-color);\n",
              "    fill: var(--disabled-fill-color);\n",
              "    box-shadow: none;\n",
              "  }\n",
              "\n",
              "  .colab-df-spinner {\n",
              "    border: 2px solid var(--fill-color);\n",
              "    border-color: transparent;\n",
              "    border-bottom-color: var(--fill-color);\n",
              "    animation:\n",
              "      spin 1s steps(1) infinite;\n",
              "  }\n",
              "\n",
              "  @keyframes spin {\n",
              "    0% {\n",
              "      border-color: transparent;\n",
              "      border-bottom-color: var(--fill-color);\n",
              "      border-left-color: var(--fill-color);\n",
              "    }\n",
              "    20% {\n",
              "      border-color: transparent;\n",
              "      border-left-color: var(--fill-color);\n",
              "      border-top-color: var(--fill-color);\n",
              "    }\n",
              "    30% {\n",
              "      border-color: transparent;\n",
              "      border-left-color: var(--fill-color);\n",
              "      border-top-color: var(--fill-color);\n",
              "      border-right-color: var(--fill-color);\n",
              "    }\n",
              "    40% {\n",
              "      border-color: transparent;\n",
              "      border-right-color: var(--fill-color);\n",
              "      border-top-color: var(--fill-color);\n",
              "    }\n",
              "    60% {\n",
              "      border-color: transparent;\n",
              "      border-right-color: var(--fill-color);\n",
              "    }\n",
              "    80% {\n",
              "      border-color: transparent;\n",
              "      border-right-color: var(--fill-color);\n",
              "      border-bottom-color: var(--fill-color);\n",
              "    }\n",
              "    90% {\n",
              "      border-color: transparent;\n",
              "      border-bottom-color: var(--fill-color);\n",
              "    }\n",
              "  }\n",
              "</style>\n",
              "\n",
              "  <script>\n",
              "    async function quickchart(key) {\n",
              "      const quickchartButtonEl =\n",
              "        document.querySelector('#' + key + ' button');\n",
              "      quickchartButtonEl.disabled = true;  // To prevent multiple clicks.\n",
              "      quickchartButtonEl.classList.add('colab-df-spinner');\n",
              "      try {\n",
              "        const charts = await google.colab.kernel.invokeFunction(\n",
              "            'suggestCharts', [key], {});\n",
              "      } catch (error) {\n",
              "        console.error('Error during call to suggestCharts:', error);\n",
              "      }\n",
              "      quickchartButtonEl.classList.remove('colab-df-spinner');\n",
              "      quickchartButtonEl.classList.add('colab-df-quickchart-complete');\n",
              "    }\n",
              "    (() => {\n",
              "      let quickchartButtonEl =\n",
              "        document.querySelector('#df-6a4caf00-2c53-40f6-bd39-a034a1592254 button');\n",
              "      quickchartButtonEl.style.display =\n",
              "        google.colab.kernel.accessAllowed ? 'block' : 'none';\n",
              "    })();\n",
              "  </script>\n",
              "</div>\n",
              "\n",
              "    </div>\n",
              "  </div>\n"
            ]
          },
          "metadata": {},
          "execution_count": 7
        }
      ]
    },
    {
      "cell_type": "code",
      "source": [
        "docs= df[\"Text\"].to_list()\n",
        "\n",
        "docs[:10]"
      ],
      "metadata": {
        "colab": {
          "base_uri": "https://localhost:8080/"
        },
        "id": "N-vFqmiseBrq",
        "outputId": "82072a85-96db-4b83-e597-7ea46d4b7a4b"
      },
      "execution_count": null,
      "outputs": [
        {
          "output_type": "execute_result",
          "data": {
            "text/plain": [
              "[\"An Unexplained Anime Review I was very anxious to see the Uncut version of Kite, or kee-tay as I called it, and I finally manage to see that Anime, but when I see the entire movie.man, it was very hard to explain. First off, the plot is very questionable, this movie has got to be the first I've ever seen that deals with a lot of.'DEPTH'. There are still many things in this movie that I still don't understand What's the real reason that Akai wants Sawa to assasinate certain innocent people, why can Sawa just have the heart to decide not to kill those people and find a solution to that, and mainly, why Akai killed Sawa's parents? There are many more questions unanswered, but I don't want to spoil it to the people, all I can say is that none of this makes sense, except for the fact that Akai is a perverted, child-raping nutcase! The animation and characters in this anime is good, but not at a same level as 'Ghost In The Shell', and everything else..just forget it!Overall.this is very hard to give the final result for 'Kite' uncensored. I watched it so many times, and this whole excessive-meaningless gory violence and the whole child pornography of this Anime still doesn't help me understand this. For now, I give this  stars, because.well I don't know. This movie is just too much for me.\",\n",
              " \"Disappointing Night Saw this film recently on Showtime and it was based on the fact that John Malkovich was in it but unfortunately it is primarily a cameo of about  minutes of screen time. The kidnapping of a little girl from her San Diego home was harrowing to say the least and the acting from Tom Arnold as the abductor and Jeremy Sisto, Harold Perrineau as his confederates was also very good but the film just dragged on to its dismal conclusion. I often wonder what the filmmakers intent was to have such an un resolved ending? I was hoping that the female, now a teenager would slowly be indoctrinated back into her family. What's also missing from this disappointing film is that we are not shown what the abductors did when she reached the teen age or how she was dumped back into society. So basically the blame is on the writer and director of this film rather than the actors the actress playing grown teenage girl lacks a center in her acting.\",\n",
              " \"It was just okay. The end of the film has modern commentary that the director wanted to make a film of Jesus without commentary or additions but that's exactly what he did. For example, with the adulterous woman, Jesus never said You've judged her correctly; she has sinned. He only writes on the ground and says whomever has not sinned to stone her first. Is this significant? Could be. Remember that they only brought the woman, where was the man with whom she was allegedly caught? God's Law requires that TWO witnesses be presented and that BOTH adulterers be stoned. Were there two witnesses? Where was the man? Something to think about.Those kinds of little things happened througout the movie and bothered me as a believer. Why not just stick to the original text?! The modern film The Gospel of John, I'd recommend instead.\",\n",
              " 'Not my pick on a good pilates workout I would not recommend this to a beginner or anyone else.unless you have done pilates and know the exact form.The Rapid Results Pilates video is comprised of  sections  Super toned buns and thighs Arms and shoulder shaper Waist slimmer Total body blast Slim and sleek stretchSeeming like an aerobics video performed horizontally on a mat, there was no talk of pilates principles or breathing. A few exercises were too advanced to not include instruction on alignment which could result in injury for the newcomer.The second section uses light weights which gives an extra challenge. However, I would never recommend anyone watch a pilates video which utilizes weights but forgoes pilates principles about alignment. Not only will the viewers not gain all that they can out of their workout, but it is dangerous.In sum not recommended. Pace Good Level Intermediate Clear breath cuing No Inclusion of pilates principles No Explanation of the goals of an exercise No What you get out of doing an exercise No Target muscles Very few Common errors in specific exercises None',\n",
              " \"Has it's share of laughs, but goes overboard with Carell's character The first  minutes of this film are very very funny and seemed to indicate that this film was moving in a positive direction. However, soon after Rudd meets Carell's character the idiot formula gets very stale very quickly. Carell's character is so bad in fact, that he can only be tolerated in small doses, something lost on the scriptwriter and director of this movie.This movie should have been primarily about Rudd interspersed with smatterings of Carell, the bumbling idiot, at his side. However, once Carell comes on screen he never leaves for the rest of the movie. And that is really what brings the movie down to the point of being almost unwatchable. Thankfully it manages to tie things together nicely at the end in a cute and humorous way, but it still doesn't make up for half the movie being some of the worst film making I've ever seen.I was tempted to deliver a one star rating on this one, but I have to be honest and say that some moments are genuinely funny and I found myself laughing quite a bit. However, I found myself equally cursing the film during it's midpoint lull of horrible comedy that few would find funny. I recommend renting this one so you can fast forward through these painfully bad scenes.Strangely enough, the feel good message of the film seemed to be lost on the audience. There was something highly ironic about a film teaching us to be kind to idiots while using those same idiots to generate all of it's laughs.Honestly there was a great film somewhere amidst the rubble, but it just got completely bungled by moving the focus too much on Carell's stupidity and not enough on Judd's transformative journey.On a final note I also want to add that Jemaine Clement is, as always, completely brilliant in this film in the role of Kieran.\",\n",
              " \"A Rare Miss for Will Will Ferrell launched a  and missed with Semi-Pro. The trailer for this movie actually looked great and I was very excited to see it. but the movie was slow, and unappealing for the most part. Like all Will Ferrell movies, it had some fantastic moments. A couple of LOL moments, but overall, the movie was pretty bad. It's funny, because I hadn't seen a Will Ferrell movie I didn't like, so I watched it again  days later to make sure I wasn't missing something! Sadly, I liked it even less the  time. \",\n",
              " 'OK Dinosaurs The dinosaurs in this film are a cut above those in Asylum films. That said the overall quality of the film suffers from the technique used on such cult hits as The Blair Witch Project and Cloverfield both of which I personally found unwatchable. Rent this if you must and watch it by fast-forwarding to the dinosaurs.',\n",
              " 'disappointed Started very slowly into movie and jumped all over the place. The last  minutes was the best out of this whole entire movie. Some of the acting was poorly done.',\n",
              " \"It's was intresting.until Natalie Portman's character showed up. I didn't like this movie. It's really prediable and sort of boring. Besides thor and his father, there is no chemistry in anyone relationship. The movie started out pretty good, but after he was sent down to earth we found out that Thor and Portman's character had zero chemisrty and the brother twist was revealed, it got really boring. Natalie Portman is a sure way to dull up your movie. Z\",\n",
              " \"Too much I like horror films, always have, and I've seen my fair share of gore. But this movie seemed to be made ONLY to show gore. I didn't even finish watching it.\"]"
            ]
          },
          "metadata": {},
          "execution_count": 8
        }
      ]
    },
    {
      "cell_type": "code",
      "source": [
        "doc_lengths = []\n",
        "\n",
        "for doc in docs:\n",
        "\n",
        "    # get rough token count distribution\n",
        "    tokens = nltk.word_tokenize(doc)\n",
        "\n",
        "    doc_lengths.append(len(tokens))\n",
        "\n",
        "doc_lengths = np.array(doc_lengths)\n",
        "\n",
        "sns.distplot(doc_lengths)"
      ],
      "metadata": {
        "colab": {
          "base_uri": "https://localhost:8080/",
          "height": 634
        },
        "id": "G7yARiBSeBt7",
        "outputId": "23670460-7f6e-4334-8dee-c304b3580697"
      },
      "execution_count": null,
      "outputs": [
        {
          "output_type": "stream",
          "name": "stderr",
          "text": [
            "<ipython-input-9-0dc1d487ac7d>:12: UserWarning: \n",
            "\n",
            "`distplot` is a deprecated function and will be removed in seaborn v0.14.0.\n",
            "\n",
            "Please adapt your code to use either `displot` (a figure-level function with\n",
            "similar flexibility) or `histplot` (an axes-level function for histograms).\n",
            "\n",
            "For a guide to updating your code to use the new functions, please see\n",
            "https://gist.github.com/mwaskom/de44147ed2974457ad6372750bbe5751\n",
            "\n",
            "  sns.distplot(doc_lengths)\n"
          ]
        },
        {
          "output_type": "execute_result",
          "data": {
            "text/plain": [
              "<Axes: ylabel='Density'>"
            ]
          },
          "metadata": {},
          "execution_count": 9
        },
        {
          "output_type": "display_data",
          "data": {
            "text/plain": [
              "<Figure size 640x480 with 1 Axes>"
            ],
            "image/png": "[encoded data removed]"
          },
          "metadata": {}
        }
      ]
    },
    {
      "cell_type": "code",
      "source": [
        "np.average(doc_lengths)"
      ],
      "metadata": {
        "colab": {
          "base_uri": "https://localhost:8080/"
        },
        "id": "W7_Jq594eBv2",
        "outputId": "8c469847-81e9-4820-f112-a53cdc14ed07"
      },
      "execution_count": null,
      "outputs": [
        {
          "output_type": "execute_result",
          "data": {
            "text/plain": [
              "223.11136954439732"
            ]
          },
          "metadata": {},
          "execution_count": 10
        }
      ]
    },
    {
      "cell_type": "code",
      "source": [
        "# the max token length\n",
        "len(doc_lengths[doc_lengths > 768])/len(doc_lengths)"
      ],
      "metadata": {
        "colab": {
          "base_uri": "https://localhost:8080/"
        },
        "id": "yAmRoMJAeBx2",
        "outputId": "f72b776d-acc7-4ab8-cde6-1d312eacf2d1"
      },
      "execution_count": null,
      "outputs": [
        {
          "output_type": "execute_result",
          "data": {
            "text/plain": [
              "0.03447804077165139"
            ]
          },
          "metadata": {},
          "execution_count": 11
        }
      ]
    },
    {
      "cell_type": "markdown",
      "source": [
        "Even though the average words in texts is too much there are still not too much texts that have more than 768 words."
      ],
      "metadata": {
        "id": "37YK7m25fRF_"
      }
    },
    {
      "cell_type": "code",
      "source": [
        "# Load the GPT tokenizer.\n",
        "tokenizer = GPT2Tokenizer.from_pretrained('gpt2', bos_token='<|startoftext|>', eos_token='<|endoftext|>', pad_token='<|pad|>') #gpt2-medium\n",
        "\n"
      ],
      "metadata": {
        "colab": {
          "base_uri": "https://localhost:8080/",
          "height": 145,
          "referenced_widgets": [
            "870c4ba4b82d4764ac33d5658a556d68",
            "8219aadc4d49445fabc89699ee6e0d15",
            "6881fc09e9c54fb3b753b68d8ef512c7",
            "6224497d0c26428ea11ae1027d50157a",
            "f2ece392bb824f3eb4d0a99e288fae59",
            "a77992196b804a6c8f83be6476b40b38",
            "023a06d0af54427b9c9e1d0951bae7cc",
            "c71b09b4267b476d98c821e0ee9ed6de",
            "4bef2e74033d46ad97bd3a01b0311961",
            "7af35741ec7748de824e31b93d084dba",
            "4eacce10a4f042ebad82f6c1e38afc99",
            "c6143edade4744bfa253a31cf700a6ec",
            "0f87767966784a20bf160aef07f3b8b7",
            "558a72229df24f51905cf1d956f719c4",
            "cd4a8bc45dfa4c39bbf91808c015e407",
            "81b287f88c8c489bb793f230c09f7cea",
            "f1b0f22be7a746f1b1c6ca72f3c815ff",
            "5374e0393c1e4d4c838a0721559436af",
            "c27f0caadaaa49cd9dea8b398a2e89d3",
            "7b963548ec8a4c04a370c5082bdb58b8",
            "90b6986a6bfb44ffad34071fb1c5fdfd",
            "da3d77d766eb4e2ab130af8d0c91a30f",
            "396a17da777846ca968ab212040c0fe8",
            "f0f0ffbb2629449998233cd37e966519",
            "ac1e5c58f8f546ba876226e0acec7ab2",
            "b5f57f5c11ca443483ba076c58e110a0",
            "00bb800b4f464dcf80aff685dc9064a5",
            "d928c3e5941f4f5d8cfb1708fbcdfe21",
            "d7485ac2172c4a3f8b8128d104322a78",
            "ebeb80b2b01943a3bea37be198e4edce",
            "5056ee0e075543a3ae7202cdf5f729fa",
            "4a1a46814ef24cafb1611baaa23f99e8",
            "d356652d81834a79b753b5d9af2b4a5d",
            "91b737cc5a7242e1a62638ff667a1151",
            "2899d4afb1ad4456bf8d17c3467e61fc",
            "5ea05086d99744f7b7017f329cec6200",
            "d4b7413435fa46fca7e09850ee48991e",
            "716fd179cb174aeebffd0eb24e81e938",
            "57384d04fa7940119e6c7a50728e31ad",
            "b7ee48f61bbc4d6d8b01026739371426",
            "1a8f5d799d9a4cc19b75390ddff4497b",
            "8f5b99a857ef46b280b13c37df6dc219",
            "b8e6b233d7df4408a5deec0c05e3ad9f",
            "28e94e37e7e3422bafbd464d676f9085"
          ]
        },
        "id": "vqNWp7xVeBzq",
        "outputId": "62a40076-d133-461e-cc15-3faba002494c"
      },
      "execution_count": null,
      "outputs": [
        {
          "output_type": "display_data",
          "data": {
            "text/plain": [
              "vocab.json:   0%|          | 0.00/1.04M [00:00<?, ?B/s]"
            ],
            "application/vnd.jupyter.widget-view+json": {
              "version_major": 2,
              "version_minor": 0,
              "model_id": "870c4ba4b82d4764ac33d5658a556d68"
            }
          },
          "metadata": {}
        },
        {
          "output_type": "display_data",
          "data": {
            "text/plain": [
              "merges.txt:   0%|          | 0.00/456k [00:00<?, ?B/s]"
            ],
            "application/vnd.jupyter.widget-view+json": {
              "version_major": 2,
              "version_minor": 0,
              "model_id": "c6143edade4744bfa253a31cf700a6ec"
            }
          },
          "metadata": {}
        },
        {
          "output_type": "display_data",
          "data": {
            "text/plain": [
              "tokenizer.json:   0%|          | 0.00/1.36M [00:00<?, ?B/s]"
            ],
            "application/vnd.jupyter.widget-view+json": {
              "version_major": 2,
              "version_minor": 0,
              "model_id": "396a17da777846ca968ab212040c0fe8"
            }
          },
          "metadata": {}
        },
        {
          "output_type": "display_data",
          "data": {
            "text/plain": [
              "config.json:   0%|          | 0.00/665 [00:00<?, ?B/s]"
            ],
            "application/vnd.jupyter.widget-view+json": {
              "version_major": 2,
              "version_minor": 0,
              "model_id": "91b737cc5a7242e1a62638ff667a1151"
            }
          },
          "metadata": {}
        }
      ]
    },
    {
      "cell_type": "code",
      "source": [
        "print(\"The max model length is {} for this model, although the actual embedding size for GPT small is 768\".format(tokenizer.model_max_length))\n",
        "print(\"The beginning of sequence token {} token has the id {}\".format(tokenizer.convert_ids_to_tokens(tokenizer.bos_token_id), tokenizer.bos_token_id))\n",
        "print(\"The end of sequence token {} has the id {}\".format(tokenizer.convert_ids_to_tokens(tokenizer.eos_token_id), tokenizer.eos_token_id))\n",
        "print(\"The padding token {} has the id {}\".format(tokenizer.convert_ids_to_tokens(tokenizer.pad_token_id), tokenizer.pad_token_id))\n",
        "\n"
      ],
      "metadata": {
        "colab": {
          "base_uri": "https://localhost:8080/"
        },
        "id": "iJtlPK5neB1p",
        "outputId": "e0073b16-23ca-4ff7-81ea-29e6819b3189"
      },
      "execution_count": null,
      "outputs": [
        {
          "output_type": "stream",
          "name": "stdout",
          "text": [
            "The max model length is 1024 for this model, although the actual embedding size for GPT small is 768\n",
            "The beginning of sequence token <|startoftext|> token has the id 50257\n",
            "The end of sequence token <|endoftext|> has the id 50256\n",
            "The padding token <|pad|> has the id 50258\n"
          ]
        }
      ]
    },
    {
      "cell_type": "code",
      "source": [
        "batch_size=2"
      ],
      "metadata": {
        "id": "EkmERo1VfifW"
      },
      "execution_count": null,
      "outputs": []
    },
    {
      "cell_type": "code",
      "source": [
        "class GPT2Dataset(Dataset):\n",
        "\n",
        "    def __init__(self, txt_list, tokenizer, gpt2_type=\"gpt2\", max_length=768):\n",
        "\n",
        "        self.tokenizer = tokenizer\n",
        "        self.input_ids = []\n",
        "        self.attn_masks = []\n",
        "\n",
        "        for txt in txt_list:\n",
        "\n",
        "            encodings_dict = tokenizer('<|startoftext|>'+ txt + '<|endoftext|>', truncation=True, max_length=max_length, padding=\"max_length\")\n",
        "\n",
        "            self.input_ids.append(torch.tensor(encodings_dict['input_ids']))\n",
        "            self.attn_masks.append(torch.tensor(encodings_dict['attention_mask']))\n",
        "\n",
        "    def __len__(self):\n",
        "        return len(self.input_ids)\n",
        "\n",
        "    def __getitem__(self, idx):\n",
        "        return self.input_ids[idx], self.attn_masks[idx]\n"
      ],
      "metadata": {
        "id": "wWJQyJpafih6"
      },
      "execution_count": null,
      "outputs": []
    },
    {
      "cell_type": "code",
      "source": [
        "dataset = GPT2Dataset(docs, tokenizer, max_length=768)\n",
        "\n",
        "# Split into training and validation sets\n",
        "train_size = int(0.9 * len(dataset))\n",
        "val_size = len(dataset) - train_size\n",
        "\n",
        "train_dataset, val_dataset = random_split(dataset, [train_size, val_size])\n",
        "\n",
        "print('{:>5,} training samples'.format(train_size))\n",
        "print('{:>5,} validation samples'.format(val_size))"
      ],
      "metadata": {
        "colab": {
          "base_uri": "https://localhost:8080/"
        },
        "id": "pcFizz5afika",
        "outputId": "6738c6df-c523-4c7c-88b2-f0c7396e279f"
      },
      "execution_count": null,
      "outputs": [
        {
          "output_type": "stream",
          "name": "stdout",
          "text": [
            "6,578 training samples\n",
            "  731 validation samples\n"
          ]
        }
      ]
    },
    {
      "cell_type": "code",
      "source": [
        "# Create the DataLoaders for our training and validation datasets.\n",
        "# We'll take training samples in random order.\n",
        "train_dataloader = DataLoader(\n",
        "            train_dataset,  # The training samples.\n",
        "            sampler = RandomSampler(train_dataset), # Select batches randomly\n",
        "            batch_size = batch_size # Trains with this batch size.\n",
        "        )\n",
        "\n",
        "# For validation the order doesn't matter, so we'll just read them sequentially.\n",
        "validation_dataloader = DataLoader(\n",
        "            val_dataset, # The validation samples.\n",
        "            sampler = SequentialSampler(val_dataset), # Pull out batches sequentially.\n",
        "            batch_size = batch_size # Evaluate with this batch size.\n",
        "        )"
      ],
      "metadata": {
        "id": "GMkr-2Z4fim4"
      },
      "execution_count": null,
      "outputs": []
    },
    {
      "cell_type": "code",
      "source": [
        "# I'm not really doing anything with the config buheret\n",
        "configuration = GPT2Config.from_pretrained('gpt2', output_hidden_states=False)\n",
        "\n",
        "# instantiate the model\n",
        "model = GPT2LMHeadModel.from_pretrained(\"gpt2\", config=configuration)\n",
        "\n",
        "# this step is necessary because I've added some tokens (bos_token, etc) to the embeddings\n",
        "# otherwise the tokenizer and model tensors won't match up\n",
        "model.resize_token_embeddings(len(tokenizer))\n",
        "\n",
        "# Tell pytorch to run this model on the GPU.\n",
        "device = torch.device(\"cuda\")\n",
        "model.cuda()\n",
        "\n",
        "# Set the seed value all over the place to make this reproducible.\n",
        "seed_val = 42\n",
        "\n",
        "random.seed(seed_val)\n",
        "np.random.seed(seed_val)\n",
        "torch.manual_seed(seed_val)\n",
        "torch.cuda.manual_seed_all(seed_val)"
      ],
      "metadata": {
        "colab": {
          "base_uri": "https://localhost:8080/",
          "height": 81,
          "referenced_widgets": [
            "95aaa5f345a647f5b2c229a430aa639f",
            "aec484db079b49dfb2792c697748b7b9",
            "ba4eedd245314e5184c083d265ab6d44",
            "79e255f5f5fb4f2caed48a1e10cad512",
            "e5521d3305284afebba9d708edf5122d",
            "e6d2d61dd7a444709781ba44244b3f8e",
            "1b835d6643f9417fa9a23521597a8568",
            "7d11d4a574bf461183f8aabe0ae34d45",
            "498c1032f4bd4645b498618ab376e646",
            "ee11c2d7d4464c698215e968f8c3a354",
            "e6aa32170d8c4a8cb7a9b0e65439baae",
            "24265e89a4154dda84cadd22cdf9c2c7",
            "d6526331a00e4d3383ac8a3d94d098fe",
            "8b5026526271414b9c93b367da69bb25",
            "43bd2d9133b74b76ad6ef258b3050a30",
            "05858fdfc8994643affe0e3e455aeb48",
            "5864056447124ccc9d23370707b19e86",
            "98ed0e7e76a447a98057108298309ea6",
            "1896e4f118514a0db20f77f937889e23",
            "e4990e3b16d54e9c922075c3335c3b02",
            "2d90fff2b85443dc83f7620144de2f50",
            "1f66a3384cae497ca6655536ad57cb81"
          ]
        },
        "id": "7W5o5mwKfipc",
        "outputId": "3cadbe69-bc2d-4eba-9de9-184f1ea8f558"
      },
      "execution_count": null,
      "outputs": [
        {
          "output_type": "display_data",
          "data": {
            "text/plain": [
              "model.safetensors:   0%|          | 0.00/548M [00:00<?, ?B/s]"
            ],
            "application/vnd.jupyter.widget-view+json": {
              "version_major": 2,
              "version_minor": 0,
              "model_id": "95aaa5f345a647f5b2c229a430aa639f"
            }
          },
          "metadata": {}
        },
        {
          "output_type": "display_data",
          "data": {
            "text/plain": [
              "generation_config.json:   0%|          | 0.00/124 [00:00<?, ?B/s]"
            ],
            "application/vnd.jupyter.widget-view+json": {
              "version_major": 2,
              "version_minor": 0,
              "model_id": "24265e89a4154dda84cadd22cdf9c2c7"
            }
          },
          "metadata": {}
        }
      ]
    },
    {
      "cell_type": "code",
      "source": [
        "# some parameters I cooked up that work reasonably well\n",
        "\n",
        "epochs = 4 #YOU MAY LOWER THIS\n",
        "learning_rate = 5e-4\n",
        "warmup_steps = 1e2\n",
        "epsilon = 1e-8\n",
        "\n",
        "# this produces sample output every 100 steps\n",
        "sample_every = 100"
      ],
      "metadata": {
        "id": "1fKINX9bfirl"
      },
      "execution_count": null,
      "outputs": []
    },
    {
      "cell_type": "code",
      "source": [
        "# Note: AdamW is a class from the huggingface library (as opposed to pytorch)\n",
        "optimizer = AdamW(model.parameters(),\n",
        "                  lr = learning_rate,\n",
        "                  eps = epsilon\n",
        "                )"
      ],
      "metadata": {
        "colab": {
          "base_uri": "https://localhost:8080/"
        },
        "id": "QKimdv5HfhqQ",
        "outputId": "70bc45b1-9611-48d7-a0dd-3888df97b029"
      },
      "execution_count": null,
      "outputs": [
        {
          "output_type": "stream",
          "name": "stderr",
          "text": [
            "/usr/local/lib/python3.10/dist-packages/transformers/optimization.py:411: FutureWarning: This implementation of AdamW is deprecated and will be removed in a future version. Use the PyTorch implementation torch.optim.AdamW instead, or set `no_deprecation_warning=True` to disable this warning\n",
            "  warnings.warn(\n"
          ]
        }
      ]
    },
    {
      "cell_type": "code",
      "source": [
        "# Total number of training steps is [number of batches] x [number of epochs].\n",
        "# (Note that this is not the same as the number of training samples).\n",
        "total_steps = len(train_dataloader) * epochs\n",
        "\n",
        "# Create the learning rate scheduler.\n",
        "# This changes the learning rate as the training loop progresses\n",
        "scheduler = get_linear_schedule_with_warmup(optimizer,\n",
        "                                            num_warmup_steps = warmup_steps,\n",
        "                                            num_training_steps = total_steps)"
      ],
      "metadata": {
        "id": "QWCJlbevfhs6"
      },
      "execution_count": null,
      "outputs": []
    },
    {
      "cell_type": "code",
      "source": [
        "def format_time(elapsed):\n",
        "    return str(datetime.timedelta(seconds=int(round((elapsed)))))"
      ],
      "metadata": {
        "id": "VTYQTktdfhvQ"
      },
      "execution_count": null,
      "outputs": []
    },
    {
      "cell_type": "code",
      "source": [
        "total_t0 = time.time()\n",
        "\n",
        "training_stats = []\n",
        "\n",
        "model = model.to(device)\n",
        "\n",
        "for epoch_i in range(0, epochs):\n",
        "\n",
        "    # ========================================\n",
        "    #               Training\n",
        "    # ========================================\n",
        "\n",
        "    print(\"\")\n",
        "    print('======== Epoch {:} / {:} ========'.format(epoch_i + 1, epochs))\n",
        "    print('Training...')\n",
        "\n",
        "    t0 = time.time()\n",
        "\n",
        "    total_train_loss = 0\n",
        "\n",
        "    model.train()\n",
        "\n",
        "    for step, batch in enumerate(train_dataloader):\n",
        "\n",
        "        b_input_ids = batch[0].to(device)\n",
        "        b_labels = batch[0].to(device)\n",
        "        b_masks = batch[1].to(device)\n",
        "\n",
        "        model.zero_grad()\n",
        "\n",
        "        outputs = model(  b_input_ids,\n",
        "                          labels=b_labels,\n",
        "                          attention_mask = b_masks,\n",
        "                          token_type_ids=None\n",
        "                        )\n",
        "\n",
        "        loss = outputs[0]\n",
        "\n",
        "        batch_loss = loss.item()\n",
        "        total_train_loss += batch_loss\n",
        "\n",
        "        # Get sample every x batches.\n",
        "        if step % sample_every == 0 and not step == 0:\n",
        "\n",
        "            elapsed = format_time(time.time() - t0)\n",
        "            print('  Batch {:>5,}  of  {:>5,}. Loss: {:>5,}.   Elapsed: {:}.'.format(step, len(train_dataloader), batch_loss, elapsed))\n",
        "\n",
        "            model.eval()\n",
        "\n",
        "            sample_outputs = model.generate(\n",
        "                                    bos_token_id=random.randint(1,30000),\n",
        "                                    do_sample=True,\n",
        "                                    top_k=50,\n",
        "                                    max_length = 200,\n",
        "                                    top_p=0.95,\n",
        "                                    num_return_sequences=1\n",
        "                                )\n",
        "            for i, sample_output in enumerate(sample_outputs):\n",
        "                  print(\"{}: {}\".format(i, tokenizer.decode(sample_output, skip_special_tokens=True)))\n",
        "\n",
        "            model.train()\n",
        "\n",
        "        loss.backward()\n",
        "\n",
        "        optimizer.step()\n",
        "\n",
        "        scheduler.step()\n",
        "\n",
        "    # Calculate the average loss over all of the batches.\n",
        "    avg_train_loss = total_train_loss / len(train_dataloader)\n",
        "\n",
        "    # Measure how long this epoch took.\n",
        "    training_time = format_time(time.time() - t0)\n",
        "\n",
        "    print(\"\")\n",
        "    print(\"  Average training loss: {0:.2f}\".format(avg_train_loss))\n",
        "    print(\"  Training epoch took: {:}\".format(training_time))\n",
        "\n",
        "    # ========================================\n",
        "    #               Validation\n",
        "    # ========================================\n",
        "\n",
        "    print(\"\")\n",
        "    print(\"Running Validation...\")\n",
        "\n",
        "    t0 = time.time()\n",
        "\n",
        "    model.eval()\n",
        "\n",
        "    total_eval_loss = 0\n",
        "    nb_eval_steps = 0\n",
        "\n",
        "    # Evaluate data for one epoch\n",
        "    for batch in validation_dataloader:\n",
        "\n",
        "        b_input_ids = batch[0].to(device)\n",
        "        b_labels = batch[0].to(device)\n",
        "        b_masks = batch[1].to(device)\n",
        "\n",
        "        with torch.no_grad():\n",
        "\n",
        "            outputs  = model(b_input_ids,\n",
        "#                            token_type_ids=None,\n",
        "                             attention_mask = b_masks,\n",
        "                            labels=b_labels)\n",
        "\n",
        "            loss = outputs[0]\n",
        "\n",
        "        batch_loss = loss.item()\n",
        "        total_eval_loss += batch_loss\n",
        "\n",
        "    avg_val_loss = total_eval_loss / len(validation_dataloader)\n",
        "\n",
        "    validation_time = format_time(time.time() - t0)\n",
        "\n",
        "    print(\"  Validation Loss: {0:.2f}\".format(avg_val_loss))\n",
        "    print(\"  Validation took: {:}\".format(validation_time))\n",
        "\n",
        "    # Record all statistics from this epoch.\n",
        "    training_stats.append(\n",
        "        {\n",
        "            'epoch': epoch_i + 1,\n",
        "            'Training Loss': avg_train_loss,\n",
        "            'Valid. Loss': avg_val_loss,\n",
        "            'Training Time': training_time,\n",
        "            'Validation Time': validation_time\n",
        "        }\n",
        "    )\n",
        "\n",
        "print(\"\")\n",
        "print(\"Training complete!\")\n",
        "print(\"Total training took {:} (h:mm:ss)\".format(format_time(time.time()-total_t0)))"
      ],
      "metadata": {
        "colab": {
          "base_uri": "https://localhost:8080/"
        },
        "id": "Eh3S7mGofhxk",
        "outputId": "d2843ca4-692b-4d0c-ecb8-5f9bb3559d00"
      },
      "execution_count": null,
      "outputs": [
        {
          "output_type": "stream",
          "name": "stdout",
          "text": [
            "\n",
            "======== Epoch 1 / 4 ========\n",
            "Training...\n"
          ]
        },
        {
          "output_type": "stream",
          "name": "stderr",
          "text": [
            "The attention mask and the pad token id were not set. As a consequence, you may observe unexpected behavior. Please pass your input's `attention_mask` to obtain reliable results.\n",
            "Setting `pad_token_id` to `eos_token_id`:50256 for open-end generation.\n"
          ]
        },
        {
          "output_type": "stream",
          "name": "stdout",
          "text": [
            "  Batch   100  of  3,289. Loss: 1.9134312868118286.   Elapsed: 0:00:53.\n",
            "0:  bipartisan,y.gov, he would find it difficult to keep the door open for you to get through your taxes. He wants to know if you get a lot of money from a donor or an unknown donor, he wants to know how much you spend on things.\n"
          ]
        },
        {
          "output_type": "stream",
          "name": "stderr",
          "text": [
            "The attention mask and the pad token id were not set. As a consequence, you may observe unexpected behavior. Please pass your input's `attention_mask` to obtain reliable results.\n",
            "Setting `pad_token_id` to `eos_token_id`:50256 for open-end generation.\n"
          ]
        },
        {
          "output_type": "stream",
          "name": "stdout",
          "text": [
            "  Batch   200  of  3,289. Loss: 0.5344114303588867.   Elapsed: 0:01:48.\n",
            "0:  increasingThis is theennial season of summer here on Broadway. In the summer it is called 'The Dance of Hamlet' and 'Songs of Hamlet' or 'Songs of Hamlet'. There are many such things. There is a Shakespearean, or the Hamlet plays of Hamlet. It is in the summer, and the songs are mostly of the Hamlet variety which is to be admired at an event. The performances are mainly of the Hamlet type as they are very well remembered, but there are many more such plays in the theatres and there is also a Hamlet play, called 'Hamlet's Comedy' and a Hamlet play, called 'The Dance of Hamlet'.It is this season that it is said that Hamlet's Comedy plays are very good at a performance which could be done at any given time. The main problem is that Hamlet is played only in the Broadway plays of Hamlet, which are very good at a Comedy,\n"
          ]
        },
        {
          "output_type": "stream",
          "name": "stderr",
          "text": [
            "The attention mask and the pad token id were not set. As a consequence, you may observe unexpected behavior. Please pass your input's `attention_mask` to obtain reliable results.\n",
            "Setting `pad_token_id` to `eos_token_id`:50256 for open-end generation.\n"
          ]
        },
        {
          "output_type": "stream",
          "name": "stdout",
          "text": [
            "  Batch   300  of  3,289. Loss: 0.9062079787254333.   Elapsed: 0:02:43.\n",
            "0: dayIf you want to run, don't do it! If you want to run, don't get your hands dirty! It's not fair, and your goal may not be met!\n"
          ]
        },
        {
          "output_type": "stream",
          "name": "stderr",
          "text": [
            "The attention mask and the pad token id were not set. As a consequence, you may observe unexpected behavior. Please pass your input's `attention_mask` to obtain reliable results.\n",
            "Setting `pad_token_id` to `eos_token_id`:50256 for open-end generation.\n"
          ]
        },
        {
          "output_type": "stream",
          "name": "stdout",
          "text": [
            "  Batch   400  of  3,289. Loss: 1.1410884857177734.   Elapsed: 0:03:35.\n",
            "0:  Hanga to me for having some amazing lines!I'll definitely recommend this movie!I hope they can find some quality footage from this movie and make it a worthwhile movie.\n"
          ]
        },
        {
          "output_type": "stream",
          "name": "stderr",
          "text": [
            "The attention mask and the pad token id were not set. As a consequence, you may observe unexpected behavior. Please pass your input's `attention_mask` to obtain reliable results.\n",
            "Setting `pad_token_id` to `eos_token_id`:50256 for open-end generation.\n"
          ]
        },
        {
          "output_type": "stream",
          "name": "stdout",
          "text": [
            "  Batch   500  of  3,289. Loss: 2.1036102771759033.   Elapsed: 0:04:28.\n",
            "0:  foodsWe should know this film and film star Donald Pleasent does not make good movies, as seen in the trailer. He looks and acts exactly like a comic relief. It is really just a big, silly movie, that does not have its moments, or do it's good. Maybe its just a shame that people didn't see these movies before.\n"
          ]
        },
        {
          "output_type": "stream",
          "name": "stderr",
          "text": [
            "The attention mask and the pad token id were not set. As a consequence, you may observe unexpected behavior. Please pass your input's `attention_mask` to obtain reliable results.\n",
            "Setting `pad_token_id` to `eos_token_id`:50256 for open-end generation.\n"
          ]
        },
        {
          "output_type": "stream",
          "name": "stdout",
          "text": [
            "  Batch   600  of  3,289. Loss: 0.6910409331321716.   Elapsed: 0:05:20.\n",
            "0:  trailThis is a wonderful DVD with great acting by the cast. Great extras. This must be a DVD.\n"
          ]
        },
        {
          "output_type": "stream",
          "name": "stderr",
          "text": [
            "The attention mask and the pad token id were not set. As a consequence, you may observe unexpected behavior. Please pass your input's `attention_mask` to obtain reliable results.\n",
            "Setting `pad_token_id` to `eos_token_id`:50256 for open-end generation.\n"
          ]
        },
        {
          "output_type": "stream",
          "name": "stdout",
          "text": [
            "  Batch   700  of  3,289. Loss: 1.7527543306350708.   Elapsed: 0:06:11.\n",
            "0: intendThe original  had lots of problems, not the least of which was that this movie had an all out war scene.\n"
          ]
        },
        {
          "output_type": "stream",
          "name": "stderr",
          "text": [
            "The attention mask and the pad token id were not set. As a consequence, you may observe unexpected behavior. Please pass your input's `attention_mask` to obtain reliable results.\n",
            "Setting `pad_token_id` to `eos_token_id`:50256 for open-end generation.\n"
          ]
        },
        {
          "output_type": "stream",
          "name": "stdout",
          "text": [
            "  Batch   800  of  3,289. Loss: 2.9205400943756104.   Elapsed: 0:07:02.\n",
            "0:  surroundThe film is a total waste If this review has you in a good mood, you will fall in love with a certain piece of action film. In fact, I would have loved it to be the best movie ever produced. The film is full of a good mix of slapstick humor, action sequences and intense fighting. It's an example of when the filmmakers tried to make a story for each genre to be one with the other, and to connect each film with reality. This is what makes the entire film so funny and so funny. It works with my tastes. The characters are pretty predictable, and the action is very short and almost pointless, though the rest of the time it doesn't bother my tastes. There is little in the movie that could make you fall asleep with any interest. I could watch this as soon as I get on it. It just doesn't make it worth buying. It goes nowhere fast.It is a movie about the effects. You don't see it any\n"
          ]
        },
        {
          "output_type": "stream",
          "name": "stderr",
          "text": [
            "The attention mask and the pad token id were not set. As a consequence, you may observe unexpected behavior. Please pass your input's `attention_mask` to obtain reliable results.\n",
            "Setting `pad_token_id` to `eos_token_id`:50256 for open-end generation.\n"
          ]
        },
        {
          "output_type": "stream",
          "name": "stdout",
          "text": [
            "  Batch   900  of  3,289. Loss: 1.611754059791565.   Elapsed: 0:07:56.\n",
            "0:  reflexNot so good as hoped- Well, I don't know if it's meant to be a positive or a negative reaction- Well, maybe to remind myself that I love reading and watching movies and I like movies that make up my attention. I like to laugh, too. As someone who like a good story, I really wanted to like this one as soon as possible. And so, I gave it two stars instead of one; so, it was a bit more fun seeing the movie from the other viewpoint. That was probably enough for me to give it two stars, because it's not going to bring as many laughs as a popcorn flick. If I don't like this movie, I won't get it again. But I won't waste my time on buying the extra.\n"
          ]
        },
        {
          "output_type": "stream",
          "name": "stderr",
          "text": [
            "The attention mask and the pad token id were not set. As a consequence, you may observe unexpected behavior. Please pass your input's `attention_mask` to obtain reliable results.\n",
            "Setting `pad_token_id` to `eos_token_id`:50256 for open-end generation.\n"
          ]
        },
        {
          "output_type": "stream",
          "name": "stdout",
          "text": [
            "  Batch 1,000  of  3,289. Loss: 0.5731262564659119.   Elapsed: 0:08:48.\n",
            "0:  displayDoor to door to door\n",
            "umbers and traps\n"
          ]
        },
        {
          "output_type": "stream",
          "name": "stderr",
          "text": [
            "The attention mask and the pad token id were not set. As a consequence, you may observe unexpected behavior. Please pass your input's `attention_mask` to obtain reliable results.\n",
            "Setting `pad_token_id` to `eos_token_id`:50256 for open-end generation.\n"
          ]
        },
        {
          "output_type": "stream",
          "name": "stdout",
          "text": [
            "  Batch 1,100  of  3,289. Loss: 0.319905161857605.   Elapsed: 0:09:39.\n",
            "0:  pastorNot very good I bought this on a low budget and after the video was played it was good looking. Unfortunately I can't recommend it to anyone. The video was edited badly with too much detail and too much padding for the camera to do a decent job. A lot of it did not look good, and the subtitles used to be annoying. The audio is low quality, but I couldn't find anything I wanted, or even understood the subtitles.\n"
          ]
        },
        {
          "output_type": "stream",
          "name": "stderr",
          "text": [
            "The attention mask and the pad token id were not set. As a consequence, you may observe unexpected behavior. Please pass your input's `attention_mask` to obtain reliable results.\n",
            "Setting `pad_token_id` to `eos_token_id`:50256 for open-end generation.\n"
          ]
        },
        {
          "output_type": "stream",
          "name": "stdout",
          "text": [
            "  Batch 1,200  of  3,289. Loss: 1.1371746063232422.   Elapsed: 0:10:31.\n",
            "0:  illicitA great story with nothing new to tell is an intriguing piece of filmmaking. But it is not, in fact, the story of all films of Hollywood. When the studio was first introduced the story involved a family of three friends who were taking care of their three young daughters in their new home. They were told that they were going to rent out their home which the children had already purchased. That the family was getting so close to being killed. They saw something happen to the family and left them, thinking that it was all about a young girl, who would help them get away from the house. It seems that this story is only being told to a small circle of film students, who do not have money and who do not have room or even a living room and living room. That's why the film students do not get much screen time. In order to get to the film students, they meet the young girl. Their mother, who is trying to help the family, decides to send\n"
          ]
        },
        {
          "output_type": "stream",
          "name": "stderr",
          "text": [
            "The attention mask and the pad token id were not set. As a consequence, you may observe unexpected behavior. Please pass your input's `attention_mask` to obtain reliable results.\n",
            "Setting `pad_token_id` to `eos_token_id`:50256 for open-end generation.\n"
          ]
        },
        {
          "output_type": "stream",
          "name": "stdout",
          "text": [
            "  Batch 1,300  of  3,289. Loss: 1.0590291023254395.   Elapsed: 0:11:24.\n",
            "0:  LiberationIt's not funny at all The movie was well acted, the dialogue and visuals well done and that's all I paid all the hype. I'd only liked it to the point where it didn't really feel to me at all. I would never rent it again. If I had loved it then it would have been better. The script was bad and it didn't have that type of dialogue that I find myself used to.The acting was good, especially after seeing the movie the other day. The acting is not bad in this film, however, and the movie has good material as well as a good story line. If you love this movie then there should be a movie about the two boys who go out into the desert to avoid any problems. The ending is very good but it's not funny at all, and the movie is only about  hours. If you enjoy that type of movie then go elsewhere.\n"
          ]
        },
        {
          "output_type": "stream",
          "name": "stderr",
          "text": [
            "The attention mask and the pad token id were not set. As a consequence, you may observe unexpected behavior. Please pass your input's `attention_mask` to obtain reliable results.\n",
            "Setting `pad_token_id` to `eos_token_id`:50256 for open-end generation.\n"
          ]
        },
        {
          "output_type": "stream",
          "name": "stdout",
          "text": [
            "  Batch 1,400  of  3,289. Loss: 0.37289074063301086.   Elapsed: 0:12:17.\n",
            "0:  NamI have been looking forward to buying this movie so I did, and after much hesitation, finally decided to return. So excited I just thought, this movie wasn't my cup of tea. I don't mean to brag about it, but the movie isn't the best, because the scenes are so obvious. The rest of the movie is about a bunch of people who aren't really rich and working hard and do nothing. In most movies, if you've seen the film you'll know that, and you can be sure about what's going on.I also just want to say that I'm giving the movie  stars, but I didn't enjoy it. I did like the opening sequence which wasn't too much of a big reveal as the main character was wearing the glasses, but then the rest of the film wasn't much better. I wanted to say it was not my cup of tea that got me down. Instead of saying that I would hate on anybody who tried to tell\n"
          ]
        },
        {
          "output_type": "stream",
          "name": "stderr",
          "text": [
            "The attention mask and the pad token id were not set. As a consequence, you may observe unexpected behavior. Please pass your input's `attention_mask` to obtain reliable results.\n",
            "Setting `pad_token_id` to `eos_token_id`:50256 for open-end generation.\n"
          ]
        },
        {
          "output_type": "stream",
          "name": "stdout",
          "text": [
            "  Batch 1,500  of  3,289. Loss: 0.11010880768299103.   Elapsed: 0:13:11.\n",
            "0: IONThe Ultimate Series One of my favorite series of all time was the Ultimate Series, which was a show that was released in the  and  Century. Its a show that was released and released back in the  and  of the. It was such a joy and delight that my wife and I watched. We didn't feel like we were watching this show until the end of the show, and then there was the moment when I heard the final word on what to say.The Ultimate Series is a series that has no real continuity. It was a series that was released in the  and  Century. The series ended when it ended. I was so happy to see that a great show was finally being released in the series.This show looks like it had been on the air from time to time. They had a very big time release. I have no idea what is going on here.This show appears to be going over the head of the series, and it is not that that\n"
          ]
        },
        {
          "output_type": "stream",
          "name": "stderr",
          "text": [
            "The attention mask and the pad token id were not set. As a consequence, you may observe unexpected behavior. Please pass your input's `attention_mask` to obtain reliable results.\n",
            "Setting `pad_token_id` to `eos_token_id`:50256 for open-end generation.\n"
          ]
        },
        {
          "output_type": "stream",
          "name": "stdout",
          "text": [
            "  Batch 1,600  of  3,289. Loss: 2.9812071323394775.   Elapsed: 0:14:05.\n",
            "0:  glimpseThe Beginning Of A New Dawn So many people, including myself, are writing reviews about this movie, and I am not going to go into exactly what the first  minutes or so is in terms of how the movie started, but I am going to point out that it was the first movie to be released in  years ago in the US, and then to be released in  DVDs, which has really come into the way in the past half-baked. However, to say that the movie was good was a let down, and the movie itself was not the best either, it certainly was not the best either. Unfortunately, one star, perhaps more, and one star is enough to help make this flick a decent movie, and one star simply isn't enough. And a lot of that is based on the trailer, which is certainly not to get you started, but I have to start at one note. What a terrible ending. First off, a little hint of the first \n"
          ]
        },
        {
          "output_type": "stream",
          "name": "stderr",
          "text": [
            "The attention mask and the pad token id were not set. As a consequence, you may observe unexpected behavior. Please pass your input's `attention_mask` to obtain reliable results.\n",
            "Setting `pad_token_id` to `eos_token_id`:50256 for open-end generation.\n"
          ]
        },
        {
          "output_type": "stream",
          "name": "stdout",
          "text": [
            "  Batch 1,700  of  3,289. Loss: 0.32143765687942505.   Elapsed: 0:14:58.\n",
            "0:  LaureDrummond, R.I.A.M., I don't know any good actors. I know how they feel, how they talk, talk, talk. Maybe the only reason I haven't been so dissapointed is because one guy in my department was a great actor, so when I saw him in the DVD, I couldn't get enough sense of who he was. I watched him at a different theater and he played a few others. At the time, I found it more interesting to see him, who was no different to any other director. This is my review of the film.\n"
          ]
        },
        {
          "output_type": "stream",
          "name": "stderr",
          "text": [
            "The attention mask and the pad token id were not set. As a consequence, you may observe unexpected behavior. Please pass your input's `attention_mask` to obtain reliable results.\n",
            "Setting `pad_token_id` to `eos_token_id`:50256 for open-end generation.\n"
          ]
        },
        {
          "output_type": "stream",
          "name": "stdout",
          "text": [
            "  Batch 1,800  of  3,289. Loss: 0.8041324615478516.   Elapsed: 0:15:51.\n",
            "0: ismNot an excellent film. It was an abysmal film, and the story is weak. I had seen more than one other horror film and this one was not worth it in my opinion. But it was an absolute waste of time. I had seen a couple of other horror films like this and this one was just plain awful, that's a huge shame.\n"
          ]
        },
        {
          "output_type": "stream",
          "name": "stderr",
          "text": [
            "The attention mask and the pad token id were not set. As a consequence, you may observe unexpected behavior. Please pass your input's `attention_mask` to obtain reliable results.\n",
            "Setting `pad_token_id` to `eos_token_id`:50256 for open-end generation.\n"
          ]
        },
        {
          "output_type": "stream",
          "name": "stdout",
          "text": [
            "  Batch 1,900  of  3,289. Loss: 1.03279447555542.   Elapsed: 0:16:43.\n",
            "0: ounA great show I bought this for  and it's a great show. So I didn't like it too much. The only bad thing about this show is that it's not as enjoyable to watch as it's meant to be.I didn't like it much. I really enjoyed the story and acting. The plot, like all the other shows, is rather lame. As a comedy show, it's sort of like the usual fare you see from shows like Full House, The Rock and Scorsese. And I think the other people here just kind of lost interest in the story, which is why. This show was really disappointing because it's so boring. But like I said, you gotta watch it anyway, unless you like the rest of the shows. If it's interesting, I hope you enjoy it too. I'm giving it  stars because the acting was good, as was the humor.I mean, it was funny a lot. But it's not interesting, and\n"
          ]
        },
        {
          "output_type": "stream",
          "name": "stderr",
          "text": [
            "The attention mask and the pad token id were not set. As a consequence, you may observe unexpected behavior. Please pass your input's `attention_mask` to obtain reliable results.\n",
            "Setting `pad_token_id` to `eos_token_id`:50256 for open-end generation.\n"
          ]
        },
        {
          "output_type": "stream",
          "name": "stdout",
          "text": [
            "  Batch 2,000  of  3,289. Loss: 0.8602174520492554.   Elapsed: 0:17:36.\n",
            "0:  electionI would have been a little more critical of those of us with a real understanding of what we're doing, what's going on and who's involved. But, I don't think that this film is being dishonest, just plain bad. I didn't have a clue what the plot was coming to, I had no idea what the main premise was, what was going on, what was the main message, etc. So I'm trying to judge the rest by my own observation and feeling; as I watched it, I thought that the characters were moving so fast they were getting the joke out of them. That said, there really wasn't enough to be much of a plot, and most of the supporting cast was either stupid or, rather, not very good, no good reason to mention they were in it. There was something very wrong with the film's direction, and I was very disappointed with the way the film went about that. The film was very poorly shot and it went into\n"
          ]
        },
        {
          "output_type": "stream",
          "name": "stderr",
          "text": [
            "The attention mask and the pad token id were not set. As a consequence, you may observe unexpected behavior. Please pass your input's `attention_mask` to obtain reliable results.\n",
            "Setting `pad_token_id` to `eos_token_id`:50256 for open-end generation.\n"
          ]
        },
        {
          "output_type": "stream",
          "name": "stdout",
          "text": [
            "  Batch 2,100  of  3,289. Loss: 1.363754391670227.   Elapsed: 0:18:29.\n",
            "0:  crazyBad acting This film is not worth owning. While I can't fault it, I just didn't get it to watch this movie. I can only think, they did a very good job.\n"
          ]
        },
        {
          "output_type": "stream",
          "name": "stderr",
          "text": [
            "The attention mask and the pad token id were not set. As a consequence, you may observe unexpected behavior. Please pass your input's `attention_mask` to obtain reliable results.\n",
            "Setting `pad_token_id` to `eos_token_id`:50256 for open-end generation.\n"
          ]
        },
        {
          "output_type": "stream",
          "name": "stdout",
          "text": [
            "  Batch 2,200  of  3,289. Loss: 1.1994670629501343.   Elapsed: 0:19:20.\n",
            "0:  benchWWE vs. Ricoc vs. Chucky Vinnie Jones vs. Kurt Angle vs. Steve Austin vs. Steve Austin vs. Ricoc vs. Goldberg vs. Steve Austin vs. Kurt Angle vs. Steve Austin vs. Goldberg vs. Goldberg vs. Kurt Angle vs. Goldberg vs. Kurt Angle vs. Goldberg vs. Goldberg vs. Goldberg vs. Goldberg vs. Goldberg vs. Goldberg vs. Goldberg vs. Goldberg vs. Goldberg vs. Goldberg vs. Goldberg vs. Goldberg vs. Goldberg vs. Goldberg vs. Goldberg vs. Goldberg vs. Goldberg vs. Goldberg vs. Goldberg vs. Goldberg vs. Goldberg vs. Goldberg vs. Goldberg vs. Goldberg vs. Goldberg vs Goldberg vs. Goldberg vs. Goldberg vs. Goldberg vs Goldberg vs Goldberg vs. Goldberg vs Goldberg vs. Goldberg vs Goldberg vs. Goldberg vs. Goldberg vs. Goldberg vs. Goldberg vs. Goldberg vs. Goldberg vs. Goldberg vs. Goldberg vs. Goldberg vs. Goldberg vs. Goldberg vs. Goldberg vs.\n"
          ]
        },
        {
          "output_type": "stream",
          "name": "stderr",
          "text": [
            "The attention mask and the pad token id were not set. As a consequence, you may observe unexpected behavior. Please pass your input's `attention_mask` to obtain reliable results.\n",
            "Setting `pad_token_id` to `eos_token_id`:50256 for open-end generation.\n"
          ]
        },
        {
          "output_type": "stream",
          "name": "stdout",
          "text": [
            "  Batch 2,300  of  3,289. Loss: 0.46533989906311035.   Elapsed: 0:20:13.\n",
            "0:  incorporatedTakes two stars for being a good film The film is worth seeing on DVD or Blu ray because the special effects are wonderful. You don't have to view the entire film or sit through a sequence. That just makes it worth seeing. I'd recommend not being a casual DVD collector.\n"
          ]
        },
        {
          "output_type": "stream",
          "name": "stderr",
          "text": [
            "The attention mask and the pad token id were not set. As a consequence, you may observe unexpected behavior. Please pass your input's `attention_mask` to obtain reliable results.\n",
            "Setting `pad_token_id` to `eos_token_id`:50256 for open-end generation.\n"
          ]
        },
        {
          "output_type": "stream",
          "name": "stdout",
          "text": [
            "  Batch 2,400  of  3,289. Loss: 1.6932551860809326.   Elapsed: 0:21:05.\n",
            "0: PeterA film like this deserves far more respect. They tried to make us believe the story. I don't even think they thought the film should be titled the Omen-Beneath a la The Birds and The Seeker at all. In truth, this is a pretty standard version of a film like that, and a little bit like the previous two films made about the same theme, and a lot of people have taken that idea and applied it to the film, and just not really thought there was much room for them in making a movie like this.So I was happy to hear out the reviews that I was involved with, and the acting did really well and I liked the idea of the two. But then the movie itself was just another story like that, and the ending was totally wrong. The whole thing was just lame at best and the story was just not really interesting and very confusing, and nothing really interesting, it was just just too confusing and not really interesting to care much\n"
          ]
        },
        {
          "output_type": "stream",
          "name": "stderr",
          "text": [
            "The attention mask and the pad token id were not set. As a consequence, you may observe unexpected behavior. Please pass your input's `attention_mask` to obtain reliable results.\n",
            "Setting `pad_token_id` to `eos_token_id`:50256 for open-end generation.\n"
          ]
        },
        {
          "output_type": "stream",
          "name": "stdout",
          "text": [
            "  Batch 2,500  of  3,289. Loss: 0.6776725649833679.   Elapsed: 0:21:58.\n",
            "0: uringGood premise, not good acting The plot is good and the acting a little short. The directing is good and the story is interesting. This is a TV show not for everybody.\n"
          ]
        },
        {
          "output_type": "stream",
          "name": "stderr",
          "text": [
            "The attention mask and the pad token id were not set. As a consequence, you may observe unexpected behavior. Please pass your input's `attention_mask` to obtain reliable results.\n",
            "Setting `pad_token_id` to `eos_token_id`:50256 for open-end generation.\n"
          ]
        },
        {
          "output_type": "stream",
          "name": "stdout",
          "text": [
            "  Batch 2,600  of  3,289. Loss: 1.6763402223587036.   Elapsed: 0:22:50.\n",
            "0:  reproductiveCouple of Stars The acting is great as always, the story is decent, the animation is pretty fun, and the soundtrack is pretty cool. I am not sure why, I didn't like the end result. I do not want to spoil it too much. But I digress.\n"
          ]
        },
        {
          "output_type": "stream",
          "name": "stderr",
          "text": [
            "The attention mask and the pad token id were not set. As a consequence, you may observe unexpected behavior. Please pass your input's `attention_mask` to obtain reliable results.\n",
            "Setting `pad_token_id` to `eos_token_id`:50256 for open-end generation.\n"
          ]
        },
        {
          "output_type": "stream",
          "name": "stdout",
          "text": [
            "  Batch 2,700  of  3,289. Loss: 0.2888369858264923.   Elapsed: 0:23:42.\n",
            "0:  zoneA great movie but not worth it My brother and I were both looking forward to this movie. My brother and I liked The Day the Earth Stood Still and this movie is perfect.\n"
          ]
        },
        {
          "output_type": "stream",
          "name": "stderr",
          "text": [
            "The attention mask and the pad token id were not set. As a consequence, you may observe unexpected behavior. Please pass your input's `attention_mask` to obtain reliable results.\n",
            "Setting `pad_token_id` to `eos_token_id`:50256 for open-end generation.\n"
          ]
        },
        {
          "output_type": "stream",
          "name": "stdout",
          "text": [
            "  Batch 2,800  of  3,289. Loss: 1.7394739389419556.   Elapsed: 0:24:33.\n",
            "0:  commitsNot a bad thing, but nothing spectacular. This movie seemed somewhat amusing. The basic idea of the plot was funny. The production values were good but it was not that good. Also the characters were not much likable and the script was very dark and drawn out. The only real character to save this movie is the mother, who is actually a true person.\n"
          ]
        },
        {
          "output_type": "stream",
          "name": "stderr",
          "text": [
            "The attention mask and the pad token id were not set. As a consequence, you may observe unexpected behavior. Please pass your input's `attention_mask` to obtain reliable results.\n",
            "Setting `pad_token_id` to `eos_token_id`:50256 for open-end generation.\n"
          ]
        },
        {
          "output_type": "stream",
          "name": "stdout",
          "text": [
            "  Batch 2,900  of  3,289. Loss: 1.456239938735962.   Elapsed: 0:25:25.\n",
            "0:  ironyThe Film Gets A Space This movie got a little silly by the end. The movie, however, can barely hold my interest. I'm not trying to be preachy to tell, but it's not my intention to give away anything in this series, so I thought we could skip through the beginning.I got to see the first four episodes, and it's still the main focus of the film, but the film is still in  or  chapters, with a few scenes where you notice something weird happening and then move on to follow the rest of the main plot. After that, there's a story at which one of the five main characters was attacked or something, and that's enough for me, but I'm not going to give away anything in this series.The only thing in this series that I love is the battle scenes, and I thought these were just a lot of action.If you've got any desire for a movie with lots of action and good story, try this\n"
          ]
        },
        {
          "output_type": "stream",
          "name": "stderr",
          "text": [
            "The attention mask and the pad token id were not set. As a consequence, you may observe unexpected behavior. Please pass your input's `attention_mask` to obtain reliable results.\n",
            "Setting `pad_token_id` to `eos_token_id`:50256 for open-end generation.\n"
          ]
        },
        {
          "output_type": "stream",
          "name": "stdout",
          "text": [
            "  Batch 3,000  of  3,289. Loss: 0.480526328086853.   Elapsed: 0:26:18.\n",
            "0:  SahPredictable, Boring and Uninspiring. There is no easy answers for the question, does the movie have too much political commentary and is poorly written and poorly written. A little of the background material is interesting, but most of the dialogue is boring. The music is uninspiring, and the actors are not good. I don't recommend anyone else to recommend this film.\n"
          ]
        },
        {
          "output_type": "stream",
          "name": "stderr",
          "text": [
            "The attention mask and the pad token id were not set. As a consequence, you may observe unexpected behavior. Please pass your input's `attention_mask` to obtain reliable results.\n",
            "Setting `pad_token_id` to `eos_token_id`:50256 for open-end generation.\n"
          ]
        },
        {
          "output_type": "stream",
          "name": "stdout",
          "text": [
            "  Batch 3,100  of  3,289. Loss: 0.9893348217010498.   Elapsed: 0:27:10.\n",
            "0:  BryanDisappointing! I was really looking forward to this movie. It had some good aspects in it, but as soon as my  year old son came home. I have no complaints.\n"
          ]
        },
        {
          "output_type": "stream",
          "name": "stderr",
          "text": [
            "The attention mask and the pad token id were not set. As a consequence, you may observe unexpected behavior. Please pass your input's `attention_mask` to obtain reliable results.\n",
            "Setting `pad_token_id` to `eos_token_id`:50256 for open-end generation.\n"
          ]
        },
        {
          "output_type": "stream",
          "name": "stdout",
          "text": [
            "  Batch 3,200  of  3,289. Loss: 2.1878228187561035.   Elapsed: 0:28:01.\n",
            "0:  spiritsHow could this have been made into a movie? I think it's all too easy to think of people who actually liked the movie but they obviously didn't like the movie because it was a romantic comedy and some of the scenes were so dramatic, so predictable. The whole thing seemed to be built on a hodgepodge of ideas, just a flaccid script about a gay dude who must be mad at himself, only to later realize it wasn't a romance, only romance. They tried to go all the way back into the romantic-themed fantasy with a young couple who are not all that into love, but with great depth and depth. But they also went over the top with some very interesting scenes that went from so-so love scenes to too-so love scenes, or just that-too-so love scenes, with a couple who don't really think about any other relationships and only care about the ones in which they really are involved. The idea that they tried to\n",
            "\n",
            "  Average training loss: 1.33\n",
            "  Training epoch took: 0:28:49\n",
            "\n",
            "Running Validation...\n",
            "  Validation Loss: 1.19\n",
            "  Validation took: 0:01:00\n",
            "\n",
            "======== Epoch 2 / 4 ========\n",
            "Training...\n"
          ]
        },
        {
          "output_type": "stream",
          "name": "stderr",
          "text": [
            "The attention mask and the pad token id were not set. As a consequence, you may observe unexpected behavior. Please pass your input's `attention_mask` to obtain reliable results.\n",
            "Setting `pad_token_id` to `eos_token_id`:50256 for open-end generation.\n"
          ]
        },
        {
          "output_type": "stream",
          "name": "stdout",
          "text": [
            "  Batch   100  of  3,289. Loss: 1.596066951751709.   Elapsed: 0:00:51.\n",
            "0:  seesDated, but I have seen enough good, low-budget films to remember what a good film it is, but I would have loved to see something truly different, but a movie that is truly original, at least that is how I prefer seeing low-budget films of the era.\n"
          ]
        },
        {
          "output_type": "stream",
          "name": "stderr",
          "text": [
            "The attention mask and the pad token id were not set. As a consequence, you may observe unexpected behavior. Please pass your input's `attention_mask` to obtain reliable results.\n",
            "Setting `pad_token_id` to `eos_token_id`:50256 for open-end generation.\n"
          ]
        },
        {
          "output_type": "stream",
          "name": "stdout",
          "text": [
            "  Batch   200  of  3,289. Loss: 0.3815470337867737.   Elapsed: 0:01:43.\n",
            "0:  hungryA waste of time I can't imagine anybody reading this on the internet, and I doubt that anyone is reading this on cable. But I'm not going to let it stand up against the people who said I should never watch a movie like this. I have seen worse movies from my father, but he said I should watch a TV movie with all the problems listed. Now they have to make the mistake of getting it in and out of my case.\n"
          ]
        },
        {
          "output_type": "stream",
          "name": "stderr",
          "text": [
            "The attention mask and the pad token id were not set. As a consequence, you may observe unexpected behavior. Please pass your input's `attention_mask` to obtain reliable results.\n",
            "Setting `pad_token_id` to `eos_token_id`:50256 for open-end generation.\n"
          ]
        },
        {
          "output_type": "stream",
          "name": "stdout",
          "text": [
            "  Batch   300  of  3,289. Loss: 0.6989410519599915.   Elapsed: 0:02:35.\n",
            "0:  PTWaste of Time If you've been reading this a long time ago, you might be more forgiving about the  minute rule. I'm a huge fan of all of the great books I've read, especially by John Wayne, but I can't abide an over-the-top plot and a plot that undermines a book by way of acting. I'm not against taking the least bit of advice from friends, but this series is far from my cup of tea. Wayne seems to be more concerned with creating suspense rather than suspense, with his usual calm demeanor and a natural intelligence quot;hearing quot; the quot;humor quot; and this time he just doesn't seem to have the brain cells to listen to his new friends' comments. Wayne simply doesn't get that psychological resonance throughout the series which would probably prove to be what this series was all about. The problem is that this shows no subtlety or intelligence. The plot involves two leads being held in by one of them\n"
          ]
        },
        {
          "output_type": "stream",
          "name": "stderr",
          "text": [
            "The attention mask and the pad token id were not set. As a consequence, you may observe unexpected behavior. Please pass your input's `attention_mask` to obtain reliable results.\n",
            "Setting `pad_token_id` to `eos_token_id`:50256 for open-end generation.\n"
          ]
        },
        {
          "output_type": "stream",
          "name": "stdout",
          "text": [
            "  Batch   400  of  3,289. Loss: 0.39098548889160156.   Elapsed: 0:03:29.\n",
            "0: üRant for the sake of drama This movie was terrible, if you have seen quot;The Graduatequot; then this was an acceptable movie. The only redeeming quality was the production of the DVD version. The movie was well acted and choreographed so if you're a fan of all the good films of  then it might appeal to you. If you're a film completist then this might be worthwhile, for all of your die-hard fans and those for the film's sake fans, it's probably worth a rental.\n"
          ]
        },
        {
          "output_type": "stream",
          "name": "stderr",
          "text": [
            "The attention mask and the pad token id were not set. As a consequence, you may observe unexpected behavior. Please pass your input's `attention_mask` to obtain reliable results.\n",
            "Setting `pad_token_id` to `eos_token_id`:50256 for open-end generation.\n"
          ]
        },
        {
          "output_type": "stream",
          "name": "stdout",
          "text": [
            "  Batch   500  of  3,289. Loss: 0.5323424339294434.   Elapsed: 0:04:22.\n",
            "0: ruceIt was alright. I am not into that kind of film. The only reason I decided to see this movie was because I am a huge fan of Robert Redford.\n"
          ]
        },
        {
          "output_type": "stream",
          "name": "stderr",
          "text": [
            "The attention mask and the pad token id were not set. As a consequence, you may observe unexpected behavior. Please pass your input's `attention_mask` to obtain reliable results.\n",
            "Setting `pad_token_id` to `eos_token_id`:50256 for open-end generation.\n"
          ]
        },
        {
          "output_type": "stream",
          "name": "stdout",
          "text": [
            "  Batch   600  of  3,289. Loss: 0.5709964632987976.   Elapsed: 0:05:13.\n",
            "0:  derivativesnot like  movies, but it was a good first movie to me. and it was decent to see how it turned out. but not in the way you thought it would. The story line in this movie is kind of old and it is definitely not a good one. the movie is pretty forgettable and it is not worth watching at all.\n"
          ]
        },
        {
          "output_type": "stream",
          "name": "stderr",
          "text": [
            "The attention mask and the pad token id were not set. As a consequence, you may observe unexpected behavior. Please pass your input's `attention_mask` to obtain reliable results.\n",
            "Setting `pad_token_id` to `eos_token_id`:50256 for open-end generation.\n"
          ]
        },
        {
          "output_type": "stream",
          "name": "stdout",
          "text": [
            "  Batch   700  of  3,289. Loss: 0.7831114530563354.   Elapsed: 0:06:05.\n",
            "0: \u0019Too many characters in the wrong order This movie is so boring and annoying, because I found it almost too pointless and boring. I will admit it had some entertaining moments, but the overall message of the movie was just wrong and repetitive. Too many characters were introduced that way, and what they did, it was just not what I found to be funny or funny. I gave it two stars for the acting, and not the fact the main character did not die or receive any mental illness.\n"
          ]
        },
        {
          "output_type": "stream",
          "name": "stderr",
          "text": [
            "The attention mask and the pad token id were not set. As a consequence, you may observe unexpected behavior. Please pass your input's `attention_mask` to obtain reliable results.\n",
            "Setting `pad_token_id` to `eos_token_id`:50256 for open-end generation.\n"
          ]
        },
        {
          "output_type": "stream",
          "name": "stdout",
          "text": [
            "  Batch   800  of  3,289. Loss: 0.731020987033844.   Elapsed: 0:06:57.\n",
            "0:  rememberingNot the worst I've seen I thought the best thing was the  DVD transfer, in my opinion. I used to play on the DVD player in the   that was a bit slow, for the most part. I wanted the best part to be used, and I was disappointed. I'm glad I didn't spend all of the money I just spent purchasing the DVD. The movie did have a few funny moments and was very entertaining. I will admit, my opinion hasn't changed much. I don't think it would be fair on a film with such a bad film. That's the problem I have with it. It does not hold me in the mind.The DVD transfer itself was OK. The film had a  disc image, but it only had  disc space. They went on and on about  minutes at the end but in the DVD transfer itself the transfer was ok for the most part. I like the picture and did not waste anything on the DVD transfer itself.\n"
          ]
        },
        {
          "output_type": "stream",
          "name": "stderr",
          "text": [
            "The attention mask and the pad token id were not set. As a consequence, you may observe unexpected behavior. Please pass your input's `attention_mask` to obtain reliable results.\n",
            "Setting `pad_token_id` to `eos_token_id`:50256 for open-end generation.\n"
          ]
        },
        {
          "output_type": "stream",
          "name": "stdout",
          "text": [
            "  Batch   900  of  3,289. Loss: 0.7309009432792664.   Elapsed: 0:07:50.\n",
            "0:  SourcesA classic story I really wanted to like This I know it was a classic story. I don't think this was that good. It was just a bit of a bore.\n"
          ]
        },
        {
          "output_type": "stream",
          "name": "stderr",
          "text": [
            "The attention mask and the pad token id were not set. As a consequence, you may observe unexpected behavior. Please pass your input's `attention_mask` to obtain reliable results.\n",
            "Setting `pad_token_id` to `eos_token_id`:50256 for open-end generation.\n"
          ]
        },
        {
          "output_type": "stream",
          "name": "stdout",
          "text": [
            "  Batch 1,000  of  3,289. Loss: 2.3156590461730957.   Elapsed: 0:08:42.\n",
            "0: emsGood, not terrible I love Horror Horror Horror Horror Horror Horror Horror Horror Horror Horror Horror Horror Horror Horror Horror Horror Horror Horror Horror Horror Horror Horror Horror Horror Horror Horror Horror Horror Horror Horror Horror Horror Horror Horror Horror Horror Horror Horror Horror Horror Horror Horror Horror Horror Horror Horror Horror Horror Horror Horror Horror Horror Horror Horror Horror Horror Horror Horror Horror Horror Horror Horror Horror Horror Horror Horror Horror Horror Horror Horror Horror Horror Horror Horror Horror Horror Horror Horror Horror Horror Horror Horror Horror Horror Horror Horror Horror Horror Horror Horror Horror Horror Horror Horror Horror Horror Horror Horror Horror Horror Horror Horror Horror Horror Horror Horror Horror Horror Horror Horror Horror Horror Horror Horror Horror Horror Horror Horror Horror Horror Horror Horror Horror Horror Horror Horror Horror Horror Horror Horror Horror Horror Horror Horror Horror Horror Horror Horror Horror Horror Horror Horror Horror Horror Horror Horror Horror Horror Horror Horror Horror Horror Horror Horror Horror Horror Horror Horror Horror Horror Horror Horror Horror Horror Horror Horror Horror Horror Horror Horror Horror Horror Horror Horror Horror Horror Horror Horror Horror Horror Horror Horror Horror Horror Horror Horror Horror Horror Horror Horror Horror Horror Horror\n"
          ]
        },
        {
          "output_type": "stream",
          "name": "stderr",
          "text": [
            "The attention mask and the pad token id were not set. As a consequence, you may observe unexpected behavior. Please pass your input's `attention_mask` to obtain reliable results.\n",
            "Setting `pad_token_id` to `eos_token_id`:50256 for open-end generation.\n"
          ]
        },
        {
          "output_type": "stream",
          "name": "stdout",
          "text": [
            "  Batch 1,100  of  3,289. Loss: 0.9395409226417542.   Elapsed: 0:09:35.\n",
            "0: tzNot as bad as I expected..but not much..and not bad either..no one likes bad movies and I never got bored with it.\n"
          ]
        },
        {
          "output_type": "stream",
          "name": "stderr",
          "text": [
            "The attention mask and the pad token id were not set. As a consequence, you may observe unexpected behavior. Please pass your input's `attention_mask` to obtain reliable results.\n",
            "Setting `pad_token_id` to `eos_token_id`:50256 for open-end generation.\n"
          ]
        },
        {
          "output_type": "stream",
          "name": "stdout",
          "text": [
            "  Batch 1,200  of  3,289. Loss: 3.892313241958618.   Elapsed: 0:10:26.\n",
            "0: maticThe End of The Story. I am a film student and like many of the classic and classic directors and storyboard artists and filmmakers I like to work with directors like I am from England. The film was produced in the mid  and was filmed in  which is why the main focus is primarily on The Lord of the Rings movies and this movie is the epic version. A LOT of the scenes are very cool and well done, but the other scenes of this film are terrible and the story is far more simplistic and melodramatic. The Lord of the Rings trilogy is so much better and easier to appreciate in the first place, but I would not recommend this film.\n"
          ]
        },
        {
          "output_type": "stream",
          "name": "stderr",
          "text": [
            "The attention mask and the pad token id were not set. As a consequence, you may observe unexpected behavior. Please pass your input's `attention_mask` to obtain reliable results.\n",
            "Setting `pad_token_id` to `eos_token_id`:50256 for open-end generation.\n"
          ]
        },
        {
          "output_type": "stream",
          "name": "stdout",
          "text": [
            "  Batch 1,300  of  3,289. Loss: 0.5741400122642517.   Elapsed: 0:11:19.\n",
            "0:  syndCliche After All, A Train Wasted It wasn't really the movie that I thought it was. Instead, the movie was just plain plain bad. Even if the whole thing was a great idea, the writers didn't really have the creative flair that was necessary for a story to have the characters involved, like quot;The Ringquot; or quot;Dolby's Dreamquot; I guess. While it tries to be more realistic in the hands of the older generation audience, this movie isn't so good either. You find your way to the end in the movie and get to see quot;What could have been an exciting and scary ending is ruined by a weak and a plot that I would have given this movie one star. However, quot;My Boss's Babyquot; is not my favorite movie.\n"
          ]
        },
        {
          "output_type": "stream",
          "name": "stderr",
          "text": [
            "The attention mask and the pad token id were not set. As a consequence, you may observe unexpected behavior. Please pass your input's `attention_mask` to obtain reliable results.\n",
            "Setting `pad_token_id` to `eos_token_id`:50256 for open-end generation.\n"
          ]
        },
        {
          "output_type": "stream",
          "name": "stdout",
          "text": [
            "  Batch 1,400  of  3,289. Loss: 1.0871106386184692.   Elapsed: 0:12:12.\n",
            "0:  gamI could watch it again. but I watched it first.  stars. But the first  minutes didn't even help. They would have been more interesting with a better script. I don't think there were  minutes in between when the credits rolled.\n"
          ]
        },
        {
          "output_type": "stream",
          "name": "stderr",
          "text": [
            "The attention mask and the pad token id were not set. As a consequence, you may observe unexpected behavior. Please pass your input's `attention_mask` to obtain reliable results.\n",
            "Setting `pad_token_id` to `eos_token_id`:50256 for open-end generation.\n"
          ]
        },
        {
          "output_type": "stream",
          "name": "stdout",
          "text": [
            "  Batch 1,500  of  3,289. Loss: 0.4754944145679474.   Elapsed: 0:13:03.\n",
            "0:  injuryI really wanted to love this movie, but. It wasn't what I thought it would be, unless you're a die-hard fan of the original movie. A big disappointment.\n"
          ]
        },
        {
          "output_type": "stream",
          "name": "stderr",
          "text": [
            "The attention mask and the pad token id were not set. As a consequence, you may observe unexpected behavior. Please pass your input's `attention_mask` to obtain reliable results.\n",
            "Setting `pad_token_id` to `eos_token_id`:50256 for open-end generation.\n"
          ]
        },
        {
          "output_type": "stream",
          "name": "stdout",
          "text": [
            "  Batch 1,600  of  3,289. Loss: 0.7181514501571655.   Elapsed: 0:13:55.\n",
            "0: azaToo much effort to give it its good points I thought this would be a great documentary. I just watched it again, thinking it was gonna be good. The acting could be better and the camera could have a nice edge. The soundtrack also had some weird words which seemed more like the kids from Ohio were coming to this house. The story was too contrived for me to follow, and that's not a complaint. This DVD did have some really cool effects, but I just felt it was a  DVD. The acting really weak and there wasn't enough of a good edge to do anything. The film just really didn't click. I'd give it  stars instead of a  I've seen a  to try and really think you'll like it, and if you're like me, I'm just giving  stars.\n"
          ]
        },
        {
          "output_type": "stream",
          "name": "stderr",
          "text": [
            "The attention mask and the pad token id were not set. As a consequence, you may observe unexpected behavior. Please pass your input's `attention_mask` to obtain reliable results.\n",
            "Setting `pad_token_id` to `eos_token_id`:50256 for open-end generation.\n"
          ]
        },
        {
          "output_type": "stream",
          "name": "stdout",
          "text": [
            "  Batch 1,700  of  3,289. Loss: 1.39979887008667.   Elapsed: 0:14:48.\n",
            "0:  membraneGreat Movie, Bad Version This version has absolutely no subtitles, no subtitles at all! It was ok, but the quality seemed lost during the middle of the movie. The video quality was poor at best. It was just OK, it just made it seem a good movie.\n"
          ]
        },
        {
          "output_type": "stream",
          "name": "stderr",
          "text": [
            "The attention mask and the pad token id were not set. As a consequence, you may observe unexpected behavior. Please pass your input's `attention_mask` to obtain reliable results.\n",
            "Setting `pad_token_id` to `eos_token_id`:50256 for open-end generation.\n"
          ]
        },
        {
          "output_type": "stream",
          "name": "stdout",
          "text": [
            "  Batch 1,800  of  3,289. Loss: 0.6108060479164124.   Elapsed: 0:15:39.\n",
            "0: ijingI just don't get it The acting is poor and it's not interesting. I hate watching movies like this. I'm so bored that I just don't understand how I feel. I found it to be boring at the beginning and I just can't get to the finale. The ending was sad but I don't want to give it away for that alone. I really wish it could have a stronger twist. I wish I could have ended the movie in  Instead of telling you what to do about the ending and that's fine. This was pretty predictable and I had to just watch at my convenience. I'd never watched it after a while and it was clear. The acting and story are not great and really just not good. You just don't see a lot of emotion and emotion and even more emotion. What happened to the kids? Their kids were really just a drugged out loser, who don't really have a problem with drugs. Their parents were really just a bunch of\n"
          ]
        },
        {
          "output_type": "stream",
          "name": "stderr",
          "text": [
            "The attention mask and the pad token id were not set. As a consequence, you may observe unexpected behavior. Please pass your input's `attention_mask` to obtain reliable results.\n",
            "Setting `pad_token_id` to `eos_token_id`:50256 for open-end generation.\n"
          ]
        },
        {
          "output_type": "stream",
          "name": "stdout",
          "text": [
            "  Batch 1,900  of  3,289. Loss: 0.8481358289718628.   Elapsed: 0:16:32.\n",
            "0:  castBad special effects. Bad video game. Bad effects. No trailers. No reviews. I am an avid Blu-ray player which has watched all of the classic games. So i thought this video would be a great video game for me. I bought the Blu-ray set and i bought a copy of the game.I love watching this movie. They always have a nice video-on-DVD program on their sets. They made one version last summer. Unfortunately, they made the video game blu-ray too close to the end of the game.\n"
          ]
        },
        {
          "output_type": "stream",
          "name": "stderr",
          "text": [
            "The attention mask and the pad token id were not set. As a consequence, you may observe unexpected behavior. Please pass your input's `attention_mask` to obtain reliable results.\n",
            "Setting `pad_token_id` to `eos_token_id`:50256 for open-end generation.\n"
          ]
        },
        {
          "output_type": "stream",
          "name": "stdout",
          "text": [
            "  Batch 2,000  of  3,289. Loss: 0.2513476312160492.   Elapsed: 0:17:24.\n",
            "0:  purchA beautiful film but poor production value I have the only reason I gave this movie two stars, the story is beautiful, the dialogues very good, and you'll see me watch the film.I was very disappointed in the purchase. I do wish they had at least tried to be something like the original. The story line was poorly written and the movie is not as well done.\n"
          ]
        },
        {
          "output_type": "stream",
          "name": "stderr",
          "text": [
            "The attention mask and the pad token id were not set. As a consequence, you may observe unexpected behavior. Please pass your input's `attention_mask` to obtain reliable results.\n",
            "Setting `pad_token_id` to `eos_token_id`:50256 for open-end generation.\n"
          ]
        },
        {
          "output_type": "stream",
          "name": "stdout",
          "text": [
            "  Batch 2,100  of  3,289. Loss: 1.3483940362930298.   Elapsed: 0:18:16.\n",
            "0:  shouldersThe only reason this movie gets  stars was because I watched quot;Spidersquot; and it was very similar to quot;The Adventures of Greyie thespian. I watched quot;The Adventures of Spidermanquot; but the two movies are very similar. This is one of those movies that tries to be witty. It has a  star rating but a  star one star. It is a pretty lame movie. There are a couple of jokes that do not hold my interest. I like the Hulk, but his character is not so likable. There is a small scene where he tells his girlfriend that he needs to just get his butt up, go ahead, and then when he says that phrase quot;I have a feeling that is more than one, quot;Sorry, what is I doing when I do this quot;it's time for me to see  stars. quot;The Spidermanquot; will probably get  or  stars here. If\n"
          ]
        },
        {
          "output_type": "stream",
          "name": "stderr",
          "text": [
            "The attention mask and the pad token id were not set. As a consequence, you may observe unexpected behavior. Please pass your input's `attention_mask` to obtain reliable results.\n",
            "Setting `pad_token_id` to `eos_token_id`:50256 for open-end generation.\n"
          ]
        },
        {
          "output_type": "stream",
          "name": "stdout",
          "text": [
            "  Batch 2,200  of  3,289. Loss: 0.41589826345443726.   Elapsed: 0:19:09.\n",
            "0:  builtIf you enjoy the show, I'd give you two stars here for some of the acting. However, I found this movie dull and boring. The plot was boring and it wasn't nearly what I had expected. The only reason I gave this film stars was because it had a potential for a great deal.\n"
          ]
        },
        {
          "output_type": "stream",
          "name": "stderr",
          "text": [
            "The attention mask and the pad token id were not set. As a consequence, you may observe unexpected behavior. Please pass your input's `attention_mask` to obtain reliable results.\n",
            "Setting `pad_token_id` to `eos_token_id`:50256 for open-end generation.\n"
          ]
        },
        {
          "output_type": "stream",
          "name": "stdout",
          "text": [
            "  Batch 2,300  of  3,289. Loss: 1.129938006401062.   Elapsed: 0:20:02.\n",
            "0:  openlyVery Poor Adaptation of Jane Austen's Novel. This adaptation of Jane Austen's novel, is quite terrible. I found it difficult to accept the original version of the story. My review is two-dimensional. One can appreciate it and wonder why. The only reason I can see it is because I'm very forgiving of the use of the language in the novel. This version seems very poor.The script is an adaptation from Austen's novel. The two key characters who are in the novel are played very poorly. One, Lord Doran, who is reading an Austen novel. The second, Dorian, who is reading an M.A.S. novel. Dorian is quite wooden. Dorian is the most wooden character. One is Dorian, one is Dorian's sister Dorian's friend Dorian's step daughter Dorian's father Dorian's father. Dorian's sister Dorian's boyfriend Dorian is the only one who looks interesting in\n"
          ]
        },
        {
          "output_type": "stream",
          "name": "stderr",
          "text": [
            "The attention mask and the pad token id were not set. As a consequence, you may observe unexpected behavior. Please pass your input's `attention_mask` to obtain reliable results.\n",
            "Setting `pad_token_id` to `eos_token_id`:50256 for open-end generation.\n"
          ]
        },
        {
          "output_type": "stream",
          "name": "stdout",
          "text": [
            "  Batch 2,400  of  3,289. Loss: 0.7719930410385132.   Elapsed: 0:20:55.\n",
            "0:  haltedWhat is 'Gravity' supposed to be?The 'Gravity' is a simple and uninspired movie, with a few very brief moments worth exploring. However, this movie has many moments of fantastic action, great special effects and great special effects. In fact, it's the very last movie I have read. The most interesting part of the movie, I think, is the battle between the two aliens, the ones who are destroying the world they inhabited in the  years ago. What does 'Gravity' even have? The first of the movie had a very brief, well acted battle with the Alien Predator, and the battle between the Predator, Predator and Predator-Zebra. Then, they cut the movie entirely in half. The first of the movie had a really good fight, but it's a turkey, not a good movie. The last two minutes, however, are better than the last two minutes of the movie. The biggest reason why 'Gravity' ended up\n"
          ]
        },
        {
          "output_type": "stream",
          "name": "stderr",
          "text": [
            "The attention mask and the pad token id were not set. As a consequence, you may observe unexpected behavior. Please pass your input's `attention_mask` to obtain reliable results.\n",
            "Setting `pad_token_id` to `eos_token_id`:50256 for open-end generation.\n"
          ]
        },
        {
          "output_type": "stream",
          "name": "stdout",
          "text": [
            "  Batch 2,500  of  3,289. Loss: 0.5308791995048523.   Elapsed: 0:21:49.\n",
            "0:  NikA Strange Strange Act Of Prejudice One man in this otherwise-kind film, Jack Sholder, a young man who is a very good young man, decides to take a young girl hostage by having sex with her. The girl is not so sure what to do after this encounter. In this version, Jack Sholder plays Jack, the bad guy who lives in a mansion and does not know what he is doing. The only thing in this film that he seems to do was take all the money the town gives him and toss it away in a private motel. It becomes a bit of a challenge to pay for thiserous, cruel and insensitive act of mind.The story of Jack Sholder starts with his brother who, after finding a book online at his local college, decides to read the novel. Since he reads it, he believes he can find someone worthy to steal him. The story follows, however, throughout his days. There is no way to tell who he is.\n"
          ]
        },
        {
          "output_type": "stream",
          "name": "stderr",
          "text": [
            "The attention mask and the pad token id were not set. As a consequence, you may observe unexpected behavior. Please pass your input's `attention_mask` to obtain reliable results.\n",
            "Setting `pad_token_id` to `eos_token_id`:50256 for open-end generation.\n"
          ]
        },
        {
          "output_type": "stream",
          "name": "stdout",
          "text": [
            "  Batch 2,600  of  3,289. Loss: 0.6120721697807312.   Elapsed: 0:22:42.\n",
            "0:  tinA waste of time. The quality isn't as bad as the others. A waste of time. If you can see fit within my review, rent this one before you buy, it may be a good movie for you to watch.\n"
          ]
        },
        {
          "output_type": "stream",
          "name": "stderr",
          "text": [
            "The attention mask and the pad token id were not set. As a consequence, you may observe unexpected behavior. Please pass your input's `attention_mask` to obtain reliable results.\n",
            "Setting `pad_token_id` to `eos_token_id`:50256 for open-end generation.\n"
          ]
        },
        {
          "output_type": "stream",
          "name": "stdout",
          "text": [
            "  Batch 2,700  of  3,289. Loss: 2.2541849613189697.   Elapsed: 0:23:33.\n",
            "0:  clinicalI know this film is supposed to be taken seriously. The reason I kept coming back to it, however, was I thought I was watching a really bad romantic comedy. I actually laughed out loud the first  minutes of it. The chemistry between Mark and Amy wasn't enough for me, I didn't feel the need to watch a romantic comedy or the lack of the romance elements, which was the thing that made it work in a romantic comedy and in a romantic comedy I found it totally unbelievable. The ending really disappointed me.\n"
          ]
        },
        {
          "output_type": "stream",
          "name": "stderr",
          "text": [
            "The attention mask and the pad token id were not set. As a consequence, you may observe unexpected behavior. Please pass your input's `attention_mask` to obtain reliable results.\n",
            "Setting `pad_token_id` to `eos_token_id`:50256 for open-end generation.\n"
          ]
        },
        {
          "output_type": "stream",
          "name": "stdout",
          "text": [
            "  Batch 2,800  of  3,289. Loss: 1.7723736763000488.   Elapsed: 0:24:26.\n",
            "0: lectionsBought this because of the bad reviews. I guess I'm being paid more than my fair share for this film.I wish someone would say something besides I'm a  I. But I thought I'd watch a bunch of movies and I knew what I was talking about when I heard this was a film about this film. I would only comment that I thought I'll see this one first. I found it very boring.The characters are pretty wooden and the story is too slow. I wouldn't recommend wasting your time with the movie. I would instead keep it with a friends. That way if you want to see this boring, if you want to watch someone else's movie, then your all-in-one movie.I wouldn't recommend renting the movie. The acting is average. I wouldn't recommend buying this movie. Rent if you want to see the life of a man who goes to war, and how tough it was.\n"
          ]
        },
        {
          "output_type": "stream",
          "name": "stderr",
          "text": [
            "The attention mask and the pad token id were not set. As a consequence, you may observe unexpected behavior. Please pass your input's `attention_mask` to obtain reliable results.\n",
            "Setting `pad_token_id` to `eos_token_id`:50256 for open-end generation.\n"
          ]
        },
        {
          "output_type": "stream",
          "name": "stdout",
          "text": [
            "  Batch 2,900  of  3,289. Loss: 2.3061487674713135.   Elapsed: 0:25:19.\n",
            "0: elsToo Much to Overkill, but Still Good As a movie that deals with the supernatural elements, this one is definitely not great. While I generally enjoy stories that focus on the supernatural elements, this film takes so much more into it that I wish I had saved some time. I'd recommend avoiding this one.\n"
          ]
        },
        {
          "output_type": "stream",
          "name": "stderr",
          "text": [
            "The attention mask and the pad token id were not set. As a consequence, you may observe unexpected behavior. Please pass your input's `attention_mask` to obtain reliable results.\n",
            "Setting `pad_token_id` to `eos_token_id`:50256 for open-end generation.\n"
          ]
        },
        {
          "output_type": "stream",
          "name": "stdout",
          "text": [
            "  Batch 3,000  of  3,289. Loss: 0.41696497797966003.   Elapsed: 0:26:11.\n",
            "0: labOne of the Worst Films of  years I gave this  star because of the cast. But I am still not sure how it came together in a straight forward fashion. There are a few good parts that are put together, but nothing that is the best or even best together. There is so little originality and that I felt I must give it two stars.\n"
          ]
        },
        {
          "output_type": "stream",
          "name": "stderr",
          "text": [
            "The attention mask and the pad token id were not set. As a consequence, you may observe unexpected behavior. Please pass your input's `attention_mask` to obtain reliable results.\n",
            "Setting `pad_token_id` to `eos_token_id`:50256 for open-end generation.\n"
          ]
        },
        {
          "output_type": "stream",
          "name": "stdout",
          "text": [
            "  Batch 3,100  of  3,289. Loss: 0.5303388237953186.   Elapsed: 0:27:03.\n",
            "0:  tripleI was thinking. This wasn't about a script, but this was about a screenplay. I'd read  reviews and thought this was a great movie, but the only reason I decided to buy it again was because I saw this in my youth or maybe other cults and that's how I know this thing is true and what it should be. A group of friends got to know this film from the age of  but were unable to get past the fact that it wasn't true. Not only was it not based on true events, but it was based on true events. I have read the book by Michael Jackson but, in this movie, it's  facts of truth the father of a girl and the mother of a man are in the  century. Both of the characters are true because I just don't know them. They were not given information in this movie either. It was a fact that the children were the most politically correct, intellectually challenged and intellectually deficient characters. The only\n"
          ]
        },
        {
          "output_type": "stream",
          "name": "stderr",
          "text": [
            "The attention mask and the pad token id were not set. As a consequence, you may observe unexpected behavior. Please pass your input's `attention_mask` to obtain reliable results.\n",
            "Setting `pad_token_id` to `eos_token_id`:50256 for open-end generation.\n"
          ]
        },
        {
          "output_type": "stream",
          "name": "stdout",
          "text": [
            "  Batch 3,200  of  3,289. Loss: 2.2297863960266113.   Elapsed: 0:27:56.\n",
            "0: 220No action with a lot of action with an uninteresting ending, but nothing but a weak one. The cast is mediocre at best, but it's really not one of the best.\n",
            "\n",
            "  Average training loss: 1.12\n",
            "  Training epoch took: 0:28:42\n",
            "\n",
            "Running Validation...\n",
            "  Validation Loss: 1.21\n",
            "  Validation took: 0:01:00\n",
            "\n",
            "======== Epoch 3 / 4 ========\n",
            "Training...\n"
          ]
        },
        {
          "output_type": "stream",
          "name": "stderr",
          "text": [
            "The attention mask and the pad token id were not set. As a consequence, you may observe unexpected behavior. Please pass your input's `attention_mask` to obtain reliable results.\n",
            "Setting `pad_token_id` to `eos_token_id`:50256 for open-end generation.\n"
          ]
        },
        {
          "output_type": "stream",
          "name": "stdout",
          "text": [
            "  Batch   100  of  3,289. Loss: 1.1582669019699097.   Elapsed: 0:00:51.\n",
            "0:  SeeNot an okay movie This movie is a bit boring and not like the first one I found interesting. This is my advice only.\n"
          ]
        },
        {
          "output_type": "stream",
          "name": "stderr",
          "text": [
            "The attention mask and the pad token id were not set. As a consequence, you may observe unexpected behavior. Please pass your input's `attention_mask` to obtain reliable results.\n",
            "Setting `pad_token_id` to `eos_token_id`:50256 for open-end generation.\n"
          ]
        },
        {
          "output_type": "stream",
          "name": "stdout",
          "text": [
            "  Batch   200  of  3,289. Loss: 1.8072527647018433.   Elapsed: 0:01:43.\n",
            "0: @@A good thing.but what about some of the acting?? The first movie was a solid horror movie and at that point it was a pretty good one. Not a great acting but not bad movies.\n"
          ]
        },
        {
          "output_type": "stream",
          "name": "stderr",
          "text": [
            "The attention mask and the pad token id were not set. As a consequence, you may observe unexpected behavior. Please pass your input's `attention_mask` to obtain reliable results.\n",
            "Setting `pad_token_id` to `eos_token_id`:50256 for open-end generation.\n"
          ]
        },
        {
          "output_type": "stream",
          "name": "stdout",
          "text": [
            "  Batch   300  of  3,289. Loss: 0.7521103620529175.   Elapsed: 0:02:34.\n",
            "0:  hostNot a good sign. I only gave this a second star because the film is interesting and interesting. My biggest complaint is with the acting. I feel like a  film, and I feel like I was missing the story and had no idea what the hell was going to happen. I don't know if there is a reason for the ending, or if it was the producers or any director trying to make the story better.The way the film is, the two main characters are a total train wreck and the characters are stupid. I only gave it two stars because the film itself deserves more than just about \n"
          ]
        },
        {
          "output_type": "stream",
          "name": "stderr",
          "text": [
            "The attention mask and the pad token id were not set. As a consequence, you may observe unexpected behavior. Please pass your input's `attention_mask` to obtain reliable results.\n",
            "Setting `pad_token_id` to `eos_token_id`:50256 for open-end generation.\n"
          ]
        },
        {
          "output_type": "stream",
          "name": "stdout",
          "text": [
            "  Batch   400  of  3,289. Loss: 0.6901300549507141.   Elapsed: 0:03:27.\n",
            "0: roleBoring to begin with This movie was about a guy that lost a car when his car broke down. The movie wasn't that interesting. The only redeeming thing was his dad.\n"
          ]
        },
        {
          "output_type": "stream",
          "name": "stderr",
          "text": [
            "The attention mask and the pad token id were not set. As a consequence, you may observe unexpected behavior. Please pass your input's `attention_mask` to obtain reliable results.\n",
            "Setting `pad_token_id` to `eos_token_id`:50256 for open-end generation.\n"
          ]
        },
        {
          "output_type": "stream",
          "name": "stdout",
          "text": [
            "  Batch   500  of  3,289. Loss: 1.0645612478256226.   Elapsed: 0:04:18.\n",
            "0: iacThe most overrated film in recent memory. Although I can't give the movie five stars, it just couldnt possibly pass as high art.I guess the only reason for it's  stars is to put it mildly on the back shelf of a DVD. It is really just another quot;Distant Dreamquot; movie, but there is a much better quot;Sistersquot; in the whole history series.\n"
          ]
        },
        {
          "output_type": "stream",
          "name": "stderr",
          "text": [
            "The attention mask and the pad token id were not set. As a consequence, you may observe unexpected behavior. Please pass your input's `attention_mask` to obtain reliable results.\n",
            "Setting `pad_token_id` to `eos_token_id`:50256 for open-end generation.\n"
          ]
        },
        {
          "output_type": "stream",
          "name": "stdout",
          "text": [
            "  Batch   600  of  3,289. Loss: 0.31247392296791077.   Elapsed: 0:05:10.\n",
            "0:  LDNot the best, but watchable While I'm a fan of the show, I wanted to give it a two. It wasn't the best, but it was fairly entertaining.\n"
          ]
        },
        {
          "output_type": "stream",
          "name": "stderr",
          "text": [
            "The attention mask and the pad token id were not set. As a consequence, you may observe unexpected behavior. Please pass your input's `attention_mask` to obtain reliable results.\n",
            "Setting `pad_token_id` to `eos_token_id`:50256 for open-end generation.\n"
          ]
        },
        {
          "output_type": "stream",
          "name": "stdout",
          "text": [
            "  Batch   700  of  3,289. Loss: 1.8552674055099487.   Elapsed: 0:06:02.\n",
            "0:  ListenDisappointing I love it though it could never quite reach my attention in this movie. It is a mystery so, like any mystery book, it fails. The story lacks the subtlety and charm that was found in any other genre which makes it less engaging. For some reason the only redeeming value of the movie was its beautiful cinematography, the beautiful photography and cinematography. It didn't matter to me that it took two hours of my life to get through this movie, I was still glad when it ended.\n"
          ]
        },
        {
          "output_type": "stream",
          "name": "stderr",
          "text": [
            "The attention mask and the pad token id were not set. As a consequence, you may observe unexpected behavior. Please pass your input's `attention_mask` to obtain reliable results.\n",
            "Setting `pad_token_id` to `eos_token_id`:50256 for open-end generation.\n"
          ]
        },
        {
          "output_type": "stream",
          "name": "stdout",
          "text": [
            "  Batch   800  of  3,289. Loss: 0.8206096887588501.   Elapsed: 0:06:54.\n",
            "0:  dyNot very good. My wife and I looked at each other and looked at each other and said, You're just a fool, man. I love sci-fi. I love the music, the setting, the premise. It's about two Americans, a female and a man. I said. What are you guys thinking? Like it's an alien invasion, a military-industrial complex, the only kind of cool thing you'll see right away. That's where you are coming in, huh? Well, not right away. There is some interesting science there, right from the start. There are a few cool things in the film, but nothing I could think of. First, the acting. There are some pretty campy stuff as far as the story goes. The actor's range of personality is not limited to what they do, and in some cases just so, they do it. I couldn't help myself because the material they did was a bit over-developed. They could\n"
          ]
        },
        {
          "output_type": "stream",
          "name": "stderr",
          "text": [
            "The attention mask and the pad token id were not set. As a consequence, you may observe unexpected behavior. Please pass your input's `attention_mask` to obtain reliable results.\n",
            "Setting `pad_token_id` to `eos_token_id`:50256 for open-end generation.\n"
          ]
        },
        {
          "output_type": "stream",
          "name": "stdout",
          "text": [
            "  Batch   900  of  3,289. Loss: 0.5875328779220581.   Elapsed: 0:07:48.\n",
            "0:  DomesticBad video? No, bad production designs? There's a bad sign about a DVD's. They are always better when you have a VHS tape to work with. And some of the early VHS tapes are actually quite good, the early ones are very entertaining, the early ones are downright fun.The basic problem with the DVD is that the sound is terrible. It's not the worst movie ever made, but it is very limited to a very small number of  and  mono. Audio is okay, but you'd think that every other DVD release, especially one that sounds like it belongs on at least  or  mixes. The reason for that is that a lot of the sound in the film is so bad that the VHS copies of the early movies are very low-budget. It's not because they're restored tapes. It's because the sound is terrible.Bad video? No, no, it's a bad video. It's also a bad DVD if you have\n"
          ]
        },
        {
          "output_type": "stream",
          "name": "stderr",
          "text": [
            "The attention mask and the pad token id were not set. As a consequence, you may observe unexpected behavior. Please pass your input's `attention_mask` to obtain reliable results.\n",
            "Setting `pad_token_id` to `eos_token_id`:50256 for open-end generation.\n"
          ]
        },
        {
          "output_type": "stream",
          "name": "stdout",
          "text": [
            "  Batch 1,000  of  3,289. Loss: 1.673810601234436.   Elapsed: 0:08:41.\n",
            "0:  beneficiariesPoor and incomplete story We really cared about the development of the characters, except for their relationship, which we should have cared about not having another story. It seemed like the first  or  minutes or so of this film just didn't take itself too seriously. The two leads were good enough, I just couldn't get into the whole film. They made it sound like a big movie. There is one  minute and twenty minutes worth of story. A lot of it takes itself too seriously. We expected some decent dialogue and some very cute costumes. We just couldn't get into any of these characters. There is one saving grace of this film.\n"
          ]
        },
        {
          "output_type": "stream",
          "name": "stderr",
          "text": [
            "The attention mask and the pad token id were not set. As a consequence, you may observe unexpected behavior. Please pass your input's `attention_mask` to obtain reliable results.\n",
            "Setting `pad_token_id` to `eos_token_id`:50256 for open-end generation.\n"
          ]
        },
        {
          "output_type": "stream",
          "name": "stdout",
          "text": [
            "  Batch 1,100  of  3,289. Loss: 0.8133394718170166.   Elapsed: 0:09:33.\n",
            "0:  TitleWhy? Why the sudden popularity of this film? What film did the film makers make as a sequel to, and how? Well, this could have easily been a comedy, with a better story and a better plot.The best thing about this film is that the actors did their best to make the film about the importance of the death of someone who is not only the victim of an act. In fact, I find myself rooting for them to die. This has a very similar effect to the way Michael Douglas plays an old Scottish, played by Richard Jenkins, plays the same role played by Peter Sellers, in The Graduate. In the latter role, the actor plays a young man, played by Patrick Wilson, who is a young man living with his grandmother. He gets on well with Wilson, and he figures out a way to save the father's life. The movie is not about the death of the young man, but it is about the suicide of the mother. Why is that so\n"
          ]
        },
        {
          "output_type": "stream",
          "name": "stderr",
          "text": [
            "The attention mask and the pad token id were not set. As a consequence, you may observe unexpected behavior. Please pass your input's `attention_mask` to obtain reliable results.\n",
            "Setting `pad_token_id` to `eos_token_id`:50256 for open-end generation.\n"
          ]
        },
        {
          "output_type": "stream",
          "name": "stdout",
          "text": [
            "  Batch 1,200  of  3,289. Loss: 0.17418773472309113.   Elapsed: 0:10:26.\n",
            "0:  μI really do not care. My two star review contains spoilers.First spoiler I was thinking, was this supposed to be a romantic comedy so why do I keep it? Well, I didn't. It is based around the story of a lesbian couple who is lost in the middle of nowhere. The story is about a couple of lonely men who go to Paris with their beautiful women in tow and have issues about intimacy. But it is not realistic and this is not an enjoyable romantic comedy. It is the story of the couple that I wanted to like and they have a nice little apartment. So they go back to looking for a real connection and that part of it is taken seriously. It was hard to follow what was going on with this movie. It's really the story of a woman struggling with a loss of her intimacy with other men. It was hard to follow any of the characters because they were unlikable and not as appealing as they could be. The story was about the relationship\n"
          ]
        },
        {
          "output_type": "stream",
          "name": "stderr",
          "text": [
            "The attention mask and the pad token id were not set. As a consequence, you may observe unexpected behavior. Please pass your input's `attention_mask` to obtain reliable results.\n",
            "Setting `pad_token_id` to `eos_token_id`:50256 for open-end generation.\n"
          ]
        },
        {
          "output_type": "stream",
          "name": "stdout",
          "text": [
            "  Batch 1,300  of  3,289. Loss: 1.5221484899520874.   Elapsed: 0:11:20.\n",
            "0:  sellingNot as good as the first one This movie has a lot of potential but it is so mediocre that it is not so good. The main reason is for it being a little too dull and not interesting enough and it goes without saying that the animation is top-rate. If you enjoy this then you will probably like this. If you don't, you will probably like it less and less. The only reason it fails is the poor decision of the cast. It is a simple storyline which should not be in any way a bad thing because it is not very well written. The characters are weak. The acting is stiff. The storyline is weak. It is not very innovative. Some things are not really thought out much but they are thrown together in the hopes of creating a better movie. The action is slow and lacks a sense of urgency. I will be watching more and wanting to finish watching something. For example the death of the main character at the end, I was watching it expecting more\n"
          ]
        },
        {
          "output_type": "stream",
          "name": "stderr",
          "text": [
            "The attention mask and the pad token id were not set. As a consequence, you may observe unexpected behavior. Please pass your input's `attention_mask` to obtain reliable results.\n",
            "Setting `pad_token_id` to `eos_token_id`:50256 for open-end generation.\n"
          ]
        },
        {
          "output_type": "stream",
          "name": "stdout",
          "text": [
            "  Batch 1,400  of  3,289. Loss: 0.5594273805618286.   Elapsed: 0:12:13.\n",
            "0:  migrantLazy, loud, poorly executed and poorly thought out storyline. I did enjoy the movie, but.I am a huge Ralph fan and his creation, a movie that only one person can actually say he loves. I'm glad he was put it in his contract.\n"
          ]
        },
        {
          "output_type": "stream",
          "name": "stderr",
          "text": [
            "The attention mask and the pad token id were not set. As a consequence, you may observe unexpected behavior. Please pass your input's `attention_mask` to obtain reliable results.\n",
            "Setting `pad_token_id` to `eos_token_id`:50256 for open-end generation.\n"
          ]
        },
        {
          "output_type": "stream",
          "name": "stdout",
          "text": [
            "  Batch 1,500  of  3,289. Loss: 1.1803810596466064.   Elapsed: 0:13:04.\n",
            "0: ivelyDon't watch it. Don't waste your time I was very disappointed in this movie. I'd never watched a movie so boring, so boring. And this movie is just not good at all. The girl, played by Sophie, is the best at being a part of a film. She can't act, can't act, and can't act. She doesn't think she's attracted to the same guy, so she's afraid of it. I don't know if it's because she hasn't been with a girl that she is attracted to. It's because she doesn't feel much connection to the real woman. I love Sophie, I really like her character. But I feel she is an actress that I can't. Sorry.\n"
          ]
        },
        {
          "output_type": "stream",
          "name": "stderr",
          "text": [
            "The attention mask and the pad token id were not set. As a consequence, you may observe unexpected behavior. Please pass your input's `attention_mask` to obtain reliable results.\n",
            "Setting `pad_token_id` to `eos_token_id`:50256 for open-end generation.\n"
          ]
        },
        {
          "output_type": "stream",
          "name": "stdout",
          "text": [
            "  Batch 1,600  of  3,289. Loss: 1.0340344905853271.   Elapsed: 0:13:57.\n",
            "0:  orderWhat are you thinking?  A good cast, bad script, and mediocre ending. I've enjoyed you guys' films for awhile. I just wanted to know if I'd like this film. I'd also like to give you some good news and news. Well, I don't. They just didn't make it. The story wasn't believable, the acting wasn't up to par with what could have been. The ending is a bit of a disappointment.  and a half stars is for the good stuff, not the bad stuff. You'd think this would be a good movie, but it isn't. I found it boring. The ending wasn't very satisfying. The ending was just kind of predictable. This movie is rated R for the violence content. Some people might disagree with it. I'm rating it at an  level. If you can give  stars for this plot, it's very important. Some might say I did. In fact, that is one of the\n"
          ]
        },
        {
          "output_type": "stream",
          "name": "stderr",
          "text": [
            "The attention mask and the pad token id were not set. As a consequence, you may observe unexpected behavior. Please pass your input's `attention_mask` to obtain reliable results.\n",
            "Setting `pad_token_id` to `eos_token_id`:50256 for open-end generation.\n"
          ]
        },
        {
          "output_type": "stream",
          "name": "stdout",
          "text": [
            "  Batch 1,700  of  3,289. Loss: 1.7495899200439453.   Elapsed: 0:14:50.\n",
            "0:  VPNThe Final Act of a Major Flop, It's All About the Soundtrack And Performance As the director of this film, I was expecting a bit too much from this film to the story. After all, the final act of this film is almost always the same; it just takes a major budget, doesn't follow the plot perfectly, and just feels as though it was done with the intention of adding some depth.The story begins with a young man named Joshua Van, who is engaged with a beautiful young woman who is going to be in the world after school breaks up with her and her beautiful fianceacute;e. Joshua is an avid follower of a music career who has a huge concert and a major concert to attend. Joshua's girlfriend Sarah Michelle Gellar is also his friend who works with Joshua, and she believes that her sister wants Joshua to commit suicide to her. Joshua's big bandmate, Dylan Baker is Joshua's only rival to the powerful metal band. The band mates\n"
          ]
        },
        {
          "output_type": "stream",
          "name": "stderr",
          "text": [
            "The attention mask and the pad token id were not set. As a consequence, you may observe unexpected behavior. Please pass your input's `attention_mask` to obtain reliable results.\n",
            "Setting `pad_token_id` to `eos_token_id`:50256 for open-end generation.\n"
          ]
        },
        {
          "output_type": "stream",
          "name": "stdout",
          "text": [
            "  Batch 1,800  of  3,289. Loss: 0.5958535075187683.   Elapsed: 0:15:44.\n",
            "0:  explanationJust one of the worst Blu-ray Movies Of All Time! This movie was just awful. The Blu-ray looked like they ran out of space. Very boring. The acting was fine. The movie just dragged on. But the DVD quality is just ok. You have to watch it. Otherwise just stick with what you are already done.\n"
          ]
        },
        {
          "output_type": "stream",
          "name": "stderr",
          "text": [
            "The attention mask and the pad token id were not set. As a consequence, you may observe unexpected behavior. Please pass your input's `attention_mask` to obtain reliable results.\n",
            "Setting `pad_token_id` to `eos_token_id`:50256 for open-end generation.\n"
          ]
        },
        {
          "output_type": "stream",
          "name": "stdout",
          "text": [
            "  Batch 1,900  of  3,289. Loss: 1.3038383722305298.   Elapsed: 0:16:36.\n",
            "0:  BachFitting and dated With a few exceptions, the 'Fitting and dated' genre has been replaced by a far more modern, and superior derivative  film. While some have noted the success of such films as 'Bubbinghausen' and 'La Reunion' among others, they're not all that great. If you were looking for a film from  in which one could argue endlessly, imagine 'An American Beauty.'The 'Fitting and dated' genre has often been referred to as 'fitting and dated.' It certainly hasn't aged quite well, and as a result has become much less enjoyable than it has with just a few of the recent films, particularly 'Mansfather's Run' and 'Dear Mr. G, You're All Right.'The 'Fitting and dated' films, like 'The Naked Mile' and 'Spirited Away' have been replaced by far more dated films such as 'The Cell' 'The Cell' and 'The\n"
          ]
        },
        {
          "output_type": "stream",
          "name": "stderr",
          "text": [
            "The attention mask and the pad token id were not set. As a consequence, you may observe unexpected behavior. Please pass your input's `attention_mask` to obtain reliable results.\n",
            "Setting `pad_token_id` to `eos_token_id`:50256 for open-end generation.\n"
          ]
        },
        {
          "output_type": "stream",
          "name": "stdout",
          "text": [
            "  Batch 2,000  of  3,289. Loss: 1.023154377937317.   Elapsed: 0:17:30.\n",
            "0:  folderBad movie.but not nearly that Good idea idea. The story is bad, no plot. It really wasn't worth my time. But it didn't matter much. I'd say this film had potential at least if you are a fan of the  or  Anniversary Special Collection, you will hate this piece of garbage. I will say this film had potential but sadly did not deliver. I won't let anyone else else rate it.\n"
          ]
        },
        {
          "output_type": "stream",
          "name": "stderr",
          "text": [
            "The attention mask and the pad token id were not set. As a consequence, you may observe unexpected behavior. Please pass your input's `attention_mask` to obtain reliable results.\n",
            "Setting `pad_token_id` to `eos_token_id`:50256 for open-end generation.\n"
          ]
        },
        {
          "output_type": "stream",
          "name": "stdout",
          "text": [
            "  Batch 2,100  of  3,289. Loss: 0.9774554371833801.   Elapsed: 0:18:22.\n",
            "0:  buildingIt was pretty slow for me to turn this movie into a  hour waste of time..no way would anyone recommend this film to the masses..it was pretty slow for me to turn this movie into a  hour waste of time..no way would anyone wanna tell this movie was a  hour waste of time..no way would anybody wanna be entertained by  hours of watching. this was not what I would want to do, I don't think I would spend  to spend on this movie..no way would anyone wanna waste time to make it to the end of the day..no way would people wanna watch this movie again..no way..no way what was the purpose to do?\n"
          ]
        },
        {
          "output_type": "stream",
          "name": "stderr",
          "text": [
            "The attention mask and the pad token id were not set. As a consequence, you may observe unexpected behavior. Please pass your input's `attention_mask` to obtain reliable results.\n",
            "Setting `pad_token_id` to `eos_token_id`:50256 for open-end generation.\n"
          ]
        },
        {
          "output_type": "stream",
          "name": "stdout",
          "text": [
            "  Batch 2,200  of  3,289. Loss: 2.205660343170166.   Elapsed: 0:19:14.\n",
            "0:  BabylonA very bad remake, BEWARE! I am sorry to say this movie is horrible. If this movie was supposed to be an original, it would have been. As it is, there are thousands of holes in the plot and many inconsistencies in plot so in my opinion I can't get away from the movie. If this movie was meant to be a good remake, it should have looked better. If it was supposed to be an original, then it would have looked great and great. It lacks all the personality of the original and almost never achieves its original look and feel. There are NO vampires in the original  flick, which means that I feel less like a vampire and less like a real person. If this film was supposed to be made to appeal to a new generation, like me, it is not.\n"
          ]
        },
        {
          "output_type": "stream",
          "name": "stderr",
          "text": [
            "The attention mask and the pad token id were not set. As a consequence, you may observe unexpected behavior. Please pass your input's `attention_mask` to obtain reliable results.\n",
            "Setting `pad_token_id` to `eos_token_id`:50256 for open-end generation.\n"
          ]
        },
        {
          "output_type": "stream",
          "name": "stdout",
          "text": [
            "  Batch 2,300  of  3,289. Loss: 0.44702520966529846.   Elapsed: 0:20:07.\n",
            "0: perialThe Breakthrough Of This Epic Long is a pointless action film that drags on, loses ideas, and then finally ruins it. From the action scenes to the music, I was struck by the lack of action in this film. I couldn't wait for it to end and I simply could not wait for it to end. You've got to be kidding me.\n"
          ]
        },
        {
          "output_type": "stream",
          "name": "stderr",
          "text": [
            "The attention mask and the pad token id were not set. As a consequence, you may observe unexpected behavior. Please pass your input's `attention_mask` to obtain reliable results.\n",
            "Setting `pad_token_id` to `eos_token_id`:50256 for open-end generation.\n"
          ]
        },
        {
          "output_type": "stream",
          "name": "stdout",
          "text": [
            "  Batch 2,400  of  3,289. Loss: 0.6263067722320557.   Elapsed: 0:20:59.\n",
            "0:  rentsThe plot is great. I have never seen such a lousy movie. This movie was just horrible. It's just pathetic. I hate to see such rubbish turned into a bad movie. Not my cup of tea.\n"
          ]
        },
        {
          "output_type": "stream",
          "name": "stderr",
          "text": [
            "The attention mask and the pad token id were not set. As a consequence, you may observe unexpected behavior. Please pass your input's `attention_mask` to obtain reliable results.\n",
            "Setting `pad_token_id` to `eos_token_id`:50256 for open-end generation.\n"
          ]
        },
        {
          "output_type": "stream",
          "name": "stdout",
          "text": [
            "  Batch 2,500  of  3,289. Loss: 0.7930083274841309.   Elapsed: 0:21:51.\n",
            "0:  RegI had to admit I was somewhat bored with this film. It seemed like a series of bad decisions made by some poor script writer. I had some doubts about the film even after watching it.The film begins with a car crash and is followed by a policeman whose identity is lost. A witness to the accident begins questioning whether the driver has an idea as to where his identity lies after the accident. The cop says  a number number is assigned to this suspect who is not a criminal. He refuses to give up his life without a trial. The policeman has all the evidence to show the truth but the murderer's identity is not the suspect in this case.The cop who is also questioning the identity of the suspect is not in this case and therefore gets a false confession. The detective is trying to keep up a false confession, but the suspect is not. The confession must have been written by the woman who wrote the confession.The police had to pay the price for this and it cost the\n"
          ]
        },
        {
          "output_type": "stream",
          "name": "stderr",
          "text": [
            "The attention mask and the pad token id were not set. As a consequence, you may observe unexpected behavior. Please pass your input's `attention_mask` to obtain reliable results.\n",
            "Setting `pad_token_id` to `eos_token_id`:50256 for open-end generation.\n"
          ]
        },
        {
          "output_type": "stream",
          "name": "stdout",
          "text": [
            "  Batch 2,600  of  3,289. Loss: 2.9453933238983154.   Elapsed: 0:22:44.\n",
            "0: olasGreat idea but not a very compelling movie The idea that the characters of the book were to be the same as in real life is interesting and well acted. However, unlike with so many of the other main characters of this book, the actors do a very poor job and are all way too stereotypic in their stereotypes to give this flick any chance of saving it for me. They should have gotten some serious literary work out of this. If you really wish to find a story that is worth reading and for the most part you can find it here. Otherwise if you want a movie that you can watch over and over, but not long enough to have fun, then this movie might be for you.\n"
          ]
        },
        {
          "output_type": "stream",
          "name": "stderr",
          "text": [
            "The attention mask and the pad token id were not set. As a consequence, you may observe unexpected behavior. Please pass your input's `attention_mask` to obtain reliable results.\n",
            "Setting `pad_token_id` to `eos_token_id`:50256 for open-end generation.\n"
          ]
        },
        {
          "output_type": "stream",
          "name": "stdout",
          "text": [
            "  Batch 2,700  of  3,289. Loss: 0.14150892198085785.   Elapsed: 0:23:37.\n",
            "0:  responsesA little too much I'm not usually a fan of any musical in my life. I had read about it many years ago but I can't think of any musicals that I can recommend it this much. It's nothing spectacular and the score is cheesy, but it's also the worst I've ever seen in a long time. The storyline of the opera is a bit corny for the most part and that's the reason for the low level of my intelligence quot;taken outquot;. If your looking for a good opera musical or worth paying homage to classic opera musicals, this is probably the one to pick.\n"
          ]
        },
        {
          "output_type": "stream",
          "name": "stderr",
          "text": [
            "The attention mask and the pad token id were not set. As a consequence, you may observe unexpected behavior. Please pass your input's `attention_mask` to obtain reliable results.\n",
            "Setting `pad_token_id` to `eos_token_id`:50256 for open-end generation.\n"
          ]
        },
        {
          "output_type": "stream",
          "name": "stdout",
          "text": [
            "  Batch 2,800  of  3,289. Loss: 1.1970181465148926.   Elapsed: 0:24:29.\n",
            "0:  attendanceGood actors, but terrible direction A classic of American comedies, THE GOOD ASKERS is an international sensation. It starts out on the bad-guy side and goes downhill and the bad guy is very much like a giant spider, one with one sided intelligence and a very sadistic personality. Well, this doesn't mean he is a bad actor, but as he ages, the bad guy begins to change. What's the reason the bad guy becomes sympathetic? Some of the actors are playing against stereotypes, but they can't stay close to their characters. Maybe this is a fault of the director, as the film is set in the present day, but that's all it has. There's a nice shot of a robot doing what it's built to do, but the plot of THE GOOD ASKERS is way out of control that is hard to understand. The lead characters have no chemistry at all with the rest of the cast, and the writing is poor. The BAD guy is\n"
          ]
        },
        {
          "output_type": "stream",
          "name": "stderr",
          "text": [
            "The attention mask and the pad token id were not set. As a consequence, you may observe unexpected behavior. Please pass your input's `attention_mask` to obtain reliable results.\n",
            "Setting `pad_token_id` to `eos_token_id`:50256 for open-end generation.\n"
          ]
        },
        {
          "output_type": "stream",
          "name": "stdout",
          "text": [
            "  Batch 2,900  of  3,289. Loss: 0.9049118161201477.   Elapsed: 0:25:23.\n",
            "0:  rigidA weak movie If you are going to take a movie seriously, remember The Big Lebowski The  Best of the Worst of the Worst in the Worst Best Actor list of film directors? This movie does not give you the faintest sense of realism or believability. It is a flimsy film that is presented with absolutely no resemblance to the actual events that took place. The most compelling and most surprising thing about this film, is to see it originally as a feature film, not a theatrical film. I suppose it is this realization that makes it a very worthwhile experience.\n"
          ]
        },
        {
          "output_type": "stream",
          "name": "stderr",
          "text": [
            "The attention mask and the pad token id were not set. As a consequence, you may observe unexpected behavior. Please pass your input's `attention_mask` to obtain reliable results.\n",
            "Setting `pad_token_id` to `eos_token_id`:50256 for open-end generation.\n"
          ]
        },
        {
          "output_type": "stream",
          "name": "stdout",
          "text": [
            "  Batch 3,000  of  3,289. Loss: 1.8063942193984985.   Elapsed: 0:26:15.\n",
            "0: groDidn't get the rave reviews I was let down. I've watched several shows with the same premise, but this one left a great impression. The dialogues were decent, the plot was decent, the actors were all well cast, but not enough. There is NO doubt that it was written by someone that worked on Sesame Street in the  but in this day and age, they look to have been more into education than much of what they used to have been. I found myself wondering why some kids did what they did, while others were clueless about what they did. So, I'd hope that at some point they'd be more open to making a living of learning by doing this.\n"
          ]
        },
        {
          "output_type": "stream",
          "name": "stderr",
          "text": [
            "The attention mask and the pad token id were not set. As a consequence, you may observe unexpected behavior. Please pass your input's `attention_mask` to obtain reliable results.\n",
            "Setting `pad_token_id` to `eos_token_id`:50256 for open-end generation.\n"
          ]
        },
        {
          "output_type": "stream",
          "name": "stdout",
          "text": [
            "  Batch 3,100  of  3,289. Loss: 2.500948190689087.   Elapsed: 0:27:08.\n",
            "0:  GreWhy Hollywood Should Be Trying This Guy is like watching a different movie.You can understand it is trying. It tries to be funny as opposed to making this movie.I really loved it but it is not funny at all. Just to say the film is just trying to make you feel and it will make you feel like a complete whiner.\n"
          ]
        },
        {
          "output_type": "stream",
          "name": "stderr",
          "text": [
            "The attention mask and the pad token id were not set. As a consequence, you may observe unexpected behavior. Please pass your input's `attention_mask` to obtain reliable results.\n",
            "Setting `pad_token_id` to `eos_token_id`:50256 for open-end generation.\n"
          ]
        },
        {
          "output_type": "stream",
          "name": "stdout",
          "text": [
            "  Batch 3,200  of  3,289. Loss: 0.9383644461631775.   Elapsed: 0:27:59.\n",
            "0: uraDinner Serves  of the Worst DVD B movies released by Disney.It's been a long time since I saw the Disney Vacation, so I thought I would check this movie out. I finally did, and I still don't find it really enjoyable. Unfortunately, if you've never seen a DVD this lame, and I still can't recommend it, check out Avatar or Cinderella II, but if you have, look elsewhere. The story is pretty shallow, the animation is okay, and the scenery is pretty good. Disney's Vacation, by itself, is actually quite decent, but don't expect to be entertained by the rest of the terrible DVD- distribution. Rent and watch Avatar or Cinderella I as I had nothing better to do with it, and it's not really worth it.\n",
            "\n",
            "  Average training loss: 0.98\n",
            "  Training epoch took: 0:28:46\n",
            "\n",
            "Running Validation...\n",
            "  Validation Loss: 1.23\n",
            "  Validation took: 0:01:00\n",
            "\n",
            "======== Epoch 4 / 4 ========\n",
            "Training...\n"
          ]
        },
        {
          "output_type": "stream",
          "name": "stderr",
          "text": [
            "The attention mask and the pad token id were not set. As a consequence, you may observe unexpected behavior. Please pass your input's `attention_mask` to obtain reliable results.\n",
            "Setting `pad_token_id` to `eos_token_id`:50256 for open-end generation.\n"
          ]
        },
        {
          "output_type": "stream",
          "name": "stdout",
          "text": [
            "  Batch   100  of  3,289. Loss: 0.21687932312488556.   Elapsed: 0:00:51.\n",
            "0:  2020It's NOT a movie I'll keep it simple The acting is sub-par and the jokes are just not original. If you're looking for something to watch and have fun with your friends, this is not it.\n"
          ]
        },
        {
          "output_type": "stream",
          "name": "stderr",
          "text": [
            "The attention mask and the pad token id were not set. As a consequence, you may observe unexpected behavior. Please pass your input's `attention_mask` to obtain reliable results.\n",
            "Setting `pad_token_id` to `eos_token_id`:50256 for open-end generation.\n"
          ]
        },
        {
          "output_type": "stream",
          "name": "stdout",
          "text": [
            "  Batch   200  of  3,289. Loss: 0.6000874638557434.   Elapsed: 0:01:42.\n",
            "0:  chargingFailed remake of classic Disney classic. Starring Charlie Sheen, this latest effort from director Rob Reiner, this sequel is simply too tired and uninspired. In my opinion, it's just too much fun for this type of movie. Not to mention, it's not the kind of movie I'd want to remember watching back in the day  when all these classic stars were around, but back then I thought they were all actors and were all the rage drawins to classic movies like `Toy Story', `Snow White', and even `The Wisher'.I don't recommend this movie unless you truly love Robert De Niro as the lead and want to see what happened to that classic hero over the decades and over and over again.\n"
          ]
        },
        {
          "output_type": "stream",
          "name": "stderr",
          "text": [
            "The attention mask and the pad token id were not set. As a consequence, you may observe unexpected behavior. Please pass your input's `attention_mask` to obtain reliable results.\n",
            "Setting `pad_token_id` to `eos_token_id`:50256 for open-end generation.\n"
          ]
        },
        {
          "output_type": "stream",
          "name": "stdout",
          "text": [
            "  Batch   300  of  3,289. Loss: 0.3980763554573059.   Elapsed: 0:02:35.\n",
            "0:  SarDisappointing. The first film was excellent, the second film was disappointing and the third film did not make a whole lot of sense. The characters were flat. They were almost childlike characters. It was an oddball story. The dialogue was just too juvenile for me, and it left me feeling sick.I had high hopes for this movie and the story line was great, the acting was top notch. I did think the final one was kind of weak. I felt the ending was so contrived. It didn't make sense.If you are a fan of the first film, this will be a classic, and the ending confirms that. I wish I had rented a second film so I could see how it ended.\n"
          ]
        },
        {
          "output_type": "stream",
          "name": "stderr",
          "text": [
            "The attention mask and the pad token id were not set. As a consequence, you may observe unexpected behavior. Please pass your input's `attention_mask` to obtain reliable results.\n",
            "Setting `pad_token_id` to `eos_token_id`:50256 for open-end generation.\n"
          ]
        },
        {
          "output_type": "stream",
          "name": "stdout",
          "text": [
            "  Batch   400  of  3,289. Loss: 0.6834867000579834.   Elapsed: 0:03:28.\n",
            "0:  JasNot nearly as good as it could have been I didn't really enjoy the movie. I am a big James Bond fan and I like the character. I was thinking of renting it when it was released, but I'm glad it was free on Prime. The movie is a disappointment to me, because I can't rate it as a B movie. I've already had good experiences with him in other movies like this and this one but it's just not my cup of tea. I'll just have to watch it once to see if I can find a better movie, or just stick to my initial opinion. The special effects are quite good and I think that's what makes these movies worth picking up.However, it wouldn't be a good movie if you don't like James Bond.\n"
          ]
        },
        {
          "output_type": "stream",
          "name": "stderr",
          "text": [
            "The attention mask and the pad token id were not set. As a consequence, you may observe unexpected behavior. Please pass your input's `attention_mask` to obtain reliable results.\n",
            "Setting `pad_token_id` to `eos_token_id`:50256 for open-end generation.\n"
          ]
        },
        {
          "output_type": "stream",
          "name": "stdout",
          "text": [
            "  Batch   500  of  3,289. Loss: 0.741783082485199.   Elapsed: 0:04:21.\n",
            "0:  permitDisappointing film, but still interesting. I got to see this film because I enjoyed Seinfeld on TV. It was not a horrible film, but it was still interesting.I think most people would say that this film has great potential, but I disagree.I did think it has great potential. The sets were excellent, but the story was very poor. The cast did a phenomenal job, but I think a lot of those cast members were forced into a role that they were forced to play as if nothing was planned. This film had some potential in a couple of key spots, but overall it failed in many key places.There are two things that I was really looking forward to in this film was seeing Jeremy Piven on television, and seeing that he was available as the lead in the new comedy SEinfeld. If you don't think about it, don't. It's not a great film, but it still has potential.\n"
          ]
        },
        {
          "output_type": "stream",
          "name": "stderr",
          "text": [
            "The attention mask and the pad token id were not set. As a consequence, you may observe unexpected behavior. Please pass your input's `attention_mask` to obtain reliable results.\n",
            "Setting `pad_token_id` to `eos_token_id`:50256 for open-end generation.\n"
          ]
        },
        {
          "output_type": "stream",
          "name": "stdout",
          "text": [
            "  Batch   600  of  3,289. Loss: 1.572619915008545.   Elapsed: 0:05:14.\n",
            "0:  AdministratorSerenity! The  Anniversary Edition is the  anniversary Blu-ray release of Stargate, the  anniversary of what really happened in the Stargate universe. Sadly, this is an excuse to destroy the  anniversary, since the original  release of Stargate Atlantis looks like a Blu-ray.Unfortunately, since this Blu-ray release, the Blu-ray looks completely compromised. It looks like the Blu-ray has been riddled with dust and scratches. In fact, the film's only highlight seems to be the opening sequence of Stargate, which seems to be shot on video cassette rather than the standard DVD format. The film looks even worse when compared to what was on the  DVD release.Sadly, the  Blu-ray is the Blu-ray. Although it includes some extras like deleted scenes, deleted scenes and a short bit of a commentary, it basically lacks anything worthy of comment. As a viewer, I found myself wondering why so many people were watching it. When\n"
          ]
        },
        {
          "output_type": "stream",
          "name": "stderr",
          "text": [
            "The attention mask and the pad token id were not set. As a consequence, you may observe unexpected behavior. Please pass your input's `attention_mask` to obtain reliable results.\n",
            "Setting `pad_token_id` to `eos_token_id`:50256 for open-end generation.\n"
          ]
        },
        {
          "output_type": "stream",
          "name": "stdout",
          "text": [
            "  Batch   700  of  3,289. Loss: 0.6787794232368469.   Elapsed: 0:06:07.\n",
            "0:  EVENTSPardon the pun intended The title doesn't seem to be all that different from any other movie. A good idea should not confuse the two when they are simply good movie plots. The title may confuse, but these are just facts. A bad idea should not confuse at all.When reading some of the reviews it seems to be all these days that a bad idea comes along with a good idea.The most common misnomer is that a movie doesn't keep it fresh. This happens almost daily. If the premise sounds fresh it is not. If it's not fresh it's boring. In this day and age of tired gags it's hard to see how any writer could get away from the idea of a fresh idea.If it was fresh there might be a positive reaction on this release. However, once the fresh idea is brought up for some time it doesn't hold true. The concepts are again used to its advantage, but the pace is a little slow. If you haven\n"
          ]
        },
        {
          "output_type": "stream",
          "name": "stderr",
          "text": [
            "The attention mask and the pad token id were not set. As a consequence, you may observe unexpected behavior. Please pass your input's `attention_mask` to obtain reliable results.\n",
            "Setting `pad_token_id` to `eos_token_id`:50256 for open-end generation.\n"
          ]
        },
        {
          "output_type": "stream",
          "name": "stdout",
          "text": [
            "  Batch   800  of  3,289. Loss: 1.3882150650024414.   Elapsed: 0:07:01.\n",
            "0:  MentalOnly mildly amusing In case you don't already know THE SAME person who's name is smurf.\n"
          ]
        },
        {
          "output_type": "stream",
          "name": "stderr",
          "text": [
            "The attention mask and the pad token id were not set. As a consequence, you may observe unexpected behavior. Please pass your input's `attention_mask` to obtain reliable results.\n",
            "Setting `pad_token_id` to `eos_token_id`:50256 for open-end generation.\n"
          ]
        },
        {
          "output_type": "stream",
          "name": "stdout",
          "text": [
            "  Batch   900  of  3,289. Loss: 0.9012473225593567.   Elapsed: 0:07:52.\n",
            "0: idsBad casting This was a terrible casting choice for any male role, especially since Eddie Murphy and Matt Damon usually have a great chemistry together. Unfortunately, this film was terrible to begin with. If he ever takes the fall, it will probably mean the franchise will end, and the fact that the film's ending made no sense and is likely not worth the time or energy that might have been spent developing the storyline. The film's message, rather than the actors and their intentions, is that the success of the movie depends upon you having fun and having fun. This film is even worse.\n"
          ]
        },
        {
          "output_type": "stream",
          "name": "stderr",
          "text": [
            "The attention mask and the pad token id were not set. As a consequence, you may observe unexpected behavior. Please pass your input's `attention_mask` to obtain reliable results.\n",
            "Setting `pad_token_id` to `eos_token_id`:50256 for open-end generation.\n"
          ]
        },
        {
          "output_type": "stream",
          "name": "stdout",
          "text": [
            "  Batch 1,000  of  3,289. Loss: 0.6957839727401733.   Elapsed: 0:08:45.\n",
            "0: ceansWhat a disappointment This movie has a very simplistic plot, a very good lead and an intriguing premise. Yet if all you're looking for is bad CGI, then this movie is for you. But if you like high effects, then you will too, I mean you won't find any here. The problem is really the lead actress, a very attractive kid and some kind of evil eye of hers.The storyline is quite weak, however I feel like I was watching some great B-movies or a B-grade movie with a very good director.\n"
          ]
        },
        {
          "output_type": "stream",
          "name": "stderr",
          "text": [
            "The attention mask and the pad token id were not set. As a consequence, you may observe unexpected behavior. Please pass your input's `attention_mask` to obtain reliable results.\n",
            "Setting `pad_token_id` to `eos_token_id`:50256 for open-end generation.\n"
          ]
        },
        {
          "output_type": "stream",
          "name": "stdout",
          "text": [
            "  Batch 1,100  of  3,289. Loss: 0.4568837285041809.   Elapsed: 0:09:37.\n",
            "0:  geneticallyWell. This is not a movie I'm in for. This movie has a plot that could've worked with a script that kept the jokes from happening, but instead it just ruined the movie for me. It didn't make sense, it was stupid, and it had no idea about what to expect.\n"
          ]
        },
        {
          "output_type": "stream",
          "name": "stderr",
          "text": [
            "The attention mask and the pad token id were not set. As a consequence, you may observe unexpected behavior. Please pass your input's `attention_mask` to obtain reliable results.\n",
            "Setting `pad_token_id` to `eos_token_id`:50256 for open-end generation.\n"
          ]
        },
        {
          "output_type": "stream",
          "name": "stdout",
          "text": [
            "  Batch 1,200  of  3,289. Loss: 0.6954677700996399.   Elapsed: 0:10:29.\n",
            "0:  adviceIt seems like  at a time. After  hours I'm still not interested in this film. I have watched every SyFy and Efron film I have purchased, and have to say that I am NOT disappointed! Even though I love all three of them as SyFy is a great actor, I cannot believe the other two can actually be this bad. The acting is terrible, and the fight sequences are just not very good. The most memorable scene of the film is the fight in a restaurant. The last  minutes of the film are so bad it is laughable. In the end I have to give it  stars just for this performance and that is what could have made this film great.\n"
          ]
        },
        {
          "output_type": "stream",
          "name": "stderr",
          "text": [
            "The attention mask and the pad token id were not set. As a consequence, you may observe unexpected behavior. Please pass your input's `attention_mask` to obtain reliable results.\n",
            "Setting `pad_token_id` to `eos_token_id`:50256 for open-end generation.\n"
          ]
        },
        {
          "output_type": "stream",
          "name": "stdout",
          "text": [
            "  Batch 1,300  of  3,289. Loss: 0.5754473209381104.   Elapsed: 0:11:21.\n",
            "0:  incompleteWhat a waste. Bad Acting, Weak Script. Weak Script. I liked this movie. Wasn't sure what I was expecting at the end. I thought it was going to be a psychological thriller. But, all in all I got was a pointless snooze. I knew that this was going to be one long movie after the last one.\n"
          ]
        },
        {
          "output_type": "stream",
          "name": "stderr",
          "text": [
            "The attention mask and the pad token id were not set. As a consequence, you may observe unexpected behavior. Please pass your input's `attention_mask` to obtain reliable results.\n",
            "Setting `pad_token_id` to `eos_token_id`:50256 for open-end generation.\n"
          ]
        },
        {
          "output_type": "stream",
          "name": "stdout",
          "text": [
            "  Batch 1,400  of  3,289. Loss: 0.3296472728252411.   Elapsed: 0:12:13.\n",
            "0: commentNot a very deep story I'm glad I did not go to the trouble of finding this great movie and just seeing what I liked. However, I could not help falling asleep. I was also somewhat unimpressed with this movie because it seemed to have very long stretches where you barely get a good look into what is going on. I am not usually a fan of the supernatural, but I had a hard time watching it. The only other movie that did have a good story was Paranormal Activity I, which contained some interesting creepy scenes and although I am not quite sure what it was, I could not quite figure out why it was even there. After talking to people about the ending, I finally felt that the movie was a little bit over-acted and just a little too much hype.I am not saying this is everything you expect from a scary movie, but I will warn you that it is very bad, just not very good. The hype just seemed to be getting way too\n"
          ]
        },
        {
          "output_type": "stream",
          "name": "stderr",
          "text": [
            "The attention mask and the pad token id were not set. As a consequence, you may observe unexpected behavior. Please pass your input's `attention_mask` to obtain reliable results.\n",
            "Setting `pad_token_id` to `eos_token_id`:50256 for open-end generation.\n"
          ]
        },
        {
          "output_type": "stream",
          "name": "stdout",
          "text": [
            "  Batch 1,500  of  3,289. Loss: 1.1735012531280518.   Elapsed: 0:13:06.\n",
            "0:  pilotWhat you get is a poor quality transfer. I purchased the Blu-ray and am glad I did not spend money buying the Blu-ray of this set. The quality is poor, but the transfer is done fine and there are no artifacts at all. If you are buying this DVD without the Blu-ray, please see your local video or cable provider. I am not.\n"
          ]
        },
        {
          "output_type": "stream",
          "name": "stderr",
          "text": [
            "The attention mask and the pad token id were not set. As a consequence, you may observe unexpected behavior. Please pass your input's `attention_mask` to obtain reliable results.\n",
            "Setting `pad_token_id` to `eos_token_id`:50256 for open-end generation.\n"
          ]
        },
        {
          "output_type": "stream",
          "name": "stdout",
          "text": [
            "  Batch 1,600  of  3,289. Loss: 1.0229310989379883.   Elapsed: 0:13:58.\n",
            "0: gersI really liked this movie.but you can't trust it\n"
          ]
        },
        {
          "output_type": "stream",
          "name": "stderr",
          "text": [
            "The attention mask and the pad token id were not set. As a consequence, you may observe unexpected behavior. Please pass your input's `attention_mask` to obtain reliable results.\n",
            "Setting `pad_token_id` to `eos_token_id`:50256 for open-end generation.\n"
          ]
        },
        {
          "output_type": "stream",
          "name": "stdout",
          "text": [
            "  Batch 1,700  of  3,289. Loss: 1.6581571102142334.   Elapsed: 0:14:50.\n",
            "0:  mutationBORING AND OVERATED! This movie is a bore. If you saw this in the theater, you are very familiar with it. This movie is just plain overated. I expected some more humor and character development. Instead, it just felt like a bad soap opera. It has poor acting and dialog. This movie is so overated it makes you ask yourself why? I didn't know that this was a movie of teenagers when it was made. Maybe it was because it was rated R for gore and not for nudity. Either that or this movie was really just a bore to sit through for several hours. If you like this type of movie, get this one, but if you're still bored, you will be bored.\n"
          ]
        },
        {
          "output_type": "stream",
          "name": "stderr",
          "text": [
            "The attention mask and the pad token id were not set. As a consequence, you may observe unexpected behavior. Please pass your input's `attention_mask` to obtain reliable results.\n",
            "Setting `pad_token_id` to `eos_token_id`:50256 for open-end generation.\n"
          ]
        },
        {
          "output_type": "stream",
          "name": "stdout",
          "text": [
            "  Batch 1,800  of  3,289. Loss: 0.24949339032173157.   Elapsed: 0:15:43.\n",
            "0:  DriverGood Acting This is a great movie, but I had bad expectations for it. The performances were good and it is clear that this is not an average movie. The script is awful, the dialogue is terrible and that it is a waste of time. Don't bother with this movie.\n"
          ]
        },
        {
          "output_type": "stream",
          "name": "stderr",
          "text": [
            "The attention mask and the pad token id were not set. As a consequence, you may observe unexpected behavior. Please pass your input's `attention_mask` to obtain reliable results.\n",
            "Setting `pad_token_id` to `eos_token_id`:50256 for open-end generation.\n"
          ]
        },
        {
          "output_type": "stream",
          "name": "stdout",
          "text": [
            "  Batch 1,900  of  3,289. Loss: 0.35135555267333984.   Elapsed: 0:16:35.\n",
            "0: itiI wish I hadn't purchased it The sets were good but the story line wasn't all that good The animation was terrible and the characters were stupid!\n"
          ]
        },
        {
          "output_type": "stream",
          "name": "stderr",
          "text": [
            "The attention mask and the pad token id were not set. As a consequence, you may observe unexpected behavior. Please pass your input's `attention_mask` to obtain reliable results.\n",
            "Setting `pad_token_id` to `eos_token_id`:50256 for open-end generation.\n"
          ]
        },
        {
          "output_type": "stream",
          "name": "stdout",
          "text": [
            "  Batch 2,000  of  3,289. Loss: 1.6683343648910522.   Elapsed: 0:17:26.\n",
            "0: fffBoring This was boring with a very lame plot and some extremely uninteresting characters.\n"
          ]
        },
        {
          "output_type": "stream",
          "name": "stderr",
          "text": [
            "The attention mask and the pad token id were not set. As a consequence, you may observe unexpected behavior. Please pass your input's `attention_mask` to obtain reliable results.\n",
            "Setting `pad_token_id` to `eos_token_id`:50256 for open-end generation.\n"
          ]
        },
        {
          "output_type": "stream",
          "name": "stdout",
          "text": [
            "  Batch 2,100  of  3,289. Loss: 0.6002168655395508.   Elapsed: 0:18:18.\n",
            "0: riminationDon't bother Slow build up to an exciting climax with a predictable ending that has lots of nudity and horrible sex scenes. The director missed that opportunity when filming the climax. Skip this movie. The ending was predictable with lots of violence and sexual tension between the two main characters.\n"
          ]
        },
        {
          "output_type": "stream",
          "name": "stderr",
          "text": [
            "The attention mask and the pad token id were not set. As a consequence, you may observe unexpected behavior. Please pass your input's `attention_mask` to obtain reliable results.\n",
            "Setting `pad_token_id` to `eos_token_id`:50256 for open-end generation.\n"
          ]
        },
        {
          "output_type": "stream",
          "name": "stdout",
          "text": [
            "  Batch 2,200  of  3,289. Loss: 1.7209200859069824.   Elapsed: 0:19:10.\n",
            "0: aqueLives in the  I didn't mind a bunch of guys doing goofy, goofy stuff but this was totally unnecessary. It's hard not to laugh at stuff but the humor was just okay. It's not funny at all. It's not really like it's supposed to be funny. So it wasn't even worth watching the first time.\n"
          ]
        },
        {
          "output_type": "stream",
          "name": "stderr",
          "text": [
            "The attention mask and the pad token id were not set. As a consequence, you may observe unexpected behavior. Please pass your input's `attention_mask` to obtain reliable results.\n",
            "Setting `pad_token_id` to `eos_token_id`:50256 for open-end generation.\n"
          ]
        },
        {
          "output_type": "stream",
          "name": "stdout",
          "text": [
            "  Batch 2,300  of  3,289. Loss: 0.8677980303764343.   Elapsed: 0:20:02.\n",
            "0: leeIt's worth the rental. The only reason I gave this two stars instead of one, is because it's shot well. It's worth renting. The whole production is shot in a small part of the city, which makes for some nice outdoor scenes as well as some action scenes.The script, as told by the film's producers, is also pretty bad. While not horrible, the film is pretty bad. There's a couple of times when I found myself looking out for a new character to replace a scene from the original, especially in the final scene, that was pretty much what I was looking for, but they dropped the ball on this one. This one is worth renting.\n"
          ]
        },
        {
          "output_type": "stream",
          "name": "stderr",
          "text": [
            "The attention mask and the pad token id were not set. As a consequence, you may observe unexpected behavior. Please pass your input's `attention_mask` to obtain reliable results.\n",
            "Setting `pad_token_id` to `eos_token_id`:50256 for open-end generation.\n"
          ]
        },
        {
          "output_type": "stream",
          "name": "stdout",
          "text": [
            "  Batch 2,400  of  3,289. Loss: 0.43031045794487.   Elapsed: 0:20:55.\n",
            "0:  AlzheimerWhy Does Hollywood Need More Cliche-Like Episodes? It doesn't really matter what kind of Hollywood the media is catering to. For instance, why was this ever made? The answer, in my opinion, is simple. Why did Fox decide to toss out this series? For what it is worth, I believe, a Fox News Channel or the Discovery Channel would have been more entertaining and more interesting. For now. They can only run  minutes of it. Why? Because Fox News Channel didn't want to. The series just had to get rid of the last few episodes. Why? Because it is  BBC series called quot;Full Frontal.quot; They could've just gone away with a better series to make more money. I think Fox News channel could have chosen a good series like quot;Full Frontalquot; which would have been more intriguing. But even then they didn't.I have heard wonderful things about quot;The Four Seasons.qu\n"
          ]
        },
        {
          "output_type": "stream",
          "name": "stderr",
          "text": [
            "The attention mask and the pad token id were not set. As a consequence, you may observe unexpected behavior. Please pass your input's `attention_mask` to obtain reliable results.\n",
            "Setting `pad_token_id` to `eos_token_id`:50256 for open-end generation.\n"
          ]
        },
        {
          "output_type": "stream",
          "name": "stdout",
          "text": [
            "  Batch 2,500  of  3,289. Loss: 0.6637133359909058.   Elapsed: 0:21:48.\n",
            "0:  checkingBoring There was this weird and boring movie. The main character is a man with mental problems who finds his sister who has been killed by someone, and then finds out he has a daughter that needs him. The storyline then picks up, and it's only a matter of minutes when the girls fall in love. This should have been a decent movie, but a boring one.\n"
          ]
        },
        {
          "output_type": "stream",
          "name": "stderr",
          "text": [
            "The attention mask and the pad token id were not set. As a consequence, you may observe unexpected behavior. Please pass your input's `attention_mask` to obtain reliable results.\n",
            "Setting `pad_token_id` to `eos_token_id`:50256 for open-end generation.\n"
          ]
        },
        {
          "output_type": "stream",
          "name": "stdout",
          "text": [
            "  Batch 2,600  of  3,289. Loss: 0.2818630039691925.   Elapsed: 0:22:40.\n",
            "0: nesiumI will not be purchasing anymore. This show had potential, but they dropped it in favour of putting in more commercials. It wasn't good, but overall did have moments.\n"
          ]
        },
        {
          "output_type": "stream",
          "name": "stderr",
          "text": [
            "The attention mask and the pad token id were not set. As a consequence, you may observe unexpected behavior. Please pass your input's `attention_mask` to obtain reliable results.\n",
            "Setting `pad_token_id` to `eos_token_id`:50256 for open-end generation.\n"
          ]
        },
        {
          "output_type": "stream",
          "name": "stdout",
          "text": [
            "  Batch 2,700  of  3,289. Loss: 1.771943211555481.   Elapsed: 0:23:32.\n",
            "0:  1957Disappointed With This Is So-so Film. Viewed The acting is great, the direction is good, and the film is about the same as quot;A Matter of Life and Deathquot; and quot;The Long Goodbye Mr. and Mrs. Smith. quot;Smith falls short of my expectations.I couldn't think of so many things I wanted to see in this  movie. Would you ever want to see this? Would you want to sit through the first  minutes of quot;Smith's Excellent Adventure?quot;? Would you want to watch the opening of the DVD with the picture on it? It's quot;A Matter of Life and Deathquot; on its own, but this is a great film with wonderful actors and wonderful direction.I am not saying this is a good film. I mean, like quot;A Matter of Life and Deathquot;, this is a great film with great actors, excellent directing, and I just wish that\n"
          ]
        },
        {
          "output_type": "stream",
          "name": "stderr",
          "text": [
            "The attention mask and the pad token id were not set. As a consequence, you may observe unexpected behavior. Please pass your input's `attention_mask` to obtain reliable results.\n",
            "Setting `pad_token_id` to `eos_token_id`:50256 for open-end generation.\n"
          ]
        },
        {
          "output_type": "stream",
          "name": "stdout",
          "text": [
            "  Batch 2,800  of  3,289. Loss: 0.7549285888671875.   Elapsed: 0:24:25.\n",
            "0: manshipToo much vulgarity, too much vulgarity Not really a good sign. Too much vulgarity, too much vulgarity.\n"
          ]
        },
        {
          "output_type": "stream",
          "name": "stderr",
          "text": [
            "The attention mask and the pad token id were not set. As a consequence, you may observe unexpected behavior. Please pass your input's `attention_mask` to obtain reliable results.\n",
            "Setting `pad_token_id` to `eos_token_id`:50256 for open-end generation.\n"
          ]
        },
        {
          "output_type": "stream",
          "name": "stdout",
          "text": [
            "  Batch 2,900  of  3,289. Loss: 0.4514758288860321.   Elapsed: 0:25:16.\n",
            "0:  understandCouldn't watch all the way thru and didn't like the ending. Should of had already seen all the way thru. Didn't do it much. Just tried to watch it. I didn't like it or didn't like it. Save your money or buy something else\n"
          ]
        },
        {
          "output_type": "stream",
          "name": "stderr",
          "text": [
            "The attention mask and the pad token id were not set. As a consequence, you may observe unexpected behavior. Please pass your input's `attention_mask` to obtain reliable results.\n",
            "Setting `pad_token_id` to `eos_token_id`:50256 for open-end generation.\n"
          ]
        },
        {
          "output_type": "stream",
          "name": "stdout",
          "text": [
            "  Batch 3,000  of  3,289. Loss: 0.9676603674888611.   Elapsed: 0:26:08.\n",
            "0:  passionThe Ultimate Movie Review!. tss The Bottom Line. The Tijuana Brass Band is not a bad movie but not good. It's interesting to see the youth generation going through some difficult times. I didn't like their antics, especially in the Mexican and American markets. There's a lot of drug and pornography, and they definitely weren't the ideal parents of their young kids. So as a result, I wasn't impressed and ultimately turned away from the Tijuana Brass Band. My daughter summed up the movie pretty succinctly. No kidding. No talking heads, no actual musicians playing, no nudity, none. This movie is nothing but a reaffirmation of the band's success. Not that it didn't succeed and I'm sorry that I did. But I'm not going to sit through this review again because I'll have to give the impression that it's mostly forgettable.\n"
          ]
        },
        {
          "output_type": "stream",
          "name": "stderr",
          "text": [
            "The attention mask and the pad token id were not set. As a consequence, you may observe unexpected behavior. Please pass your input's `attention_mask` to obtain reliable results.\n",
            "Setting `pad_token_id` to `eos_token_id`:50256 for open-end generation.\n"
          ]
        },
        {
          "output_type": "stream",
          "name": "stdout",
          "text": [
            "  Batch 3,100  of  3,289. Loss: 0.5330064296722412.   Elapsed: 0:27:01.\n",
            "0:  curvedLove these actors! What could be wrong with them? This movie had good special effects and decent character interaction.but its not enough to save this movie. If you like good comedy movie with no sarcasm and just lots of bad acting the acting could make you forgive this movie for it's poor story line. The acting is good and there's no violence as they act their parts fine but the plot is lame and the movie just fizzles out and there really isn't a reason to watch it and if you like it and hate it dont watch it.\n"
          ]
        },
        {
          "output_type": "stream",
          "name": "stderr",
          "text": [
            "The attention mask and the pad token id were not set. As a consequence, you may observe unexpected behavior. Please pass your input's `attention_mask` to obtain reliable results.\n",
            "Setting `pad_token_id` to `eos_token_id`:50256 for open-end generation.\n"
          ]
        },
        {
          "output_type": "stream",
          "name": "stdout",
          "text": [
            "  Batch 3,200  of  3,289. Loss: 0.6241793036460876.   Elapsed: 0:27:53.\n",
            "0:  AnBad Action Film The action scenes where a bunch of ragtag action fighters drive a truck through a shopping mall and the entire street is ruined by a truckload of bad camera work.\n",
            "\n",
            "  Average training loss: 0.81\n",
            "  Training epoch took: 0:28:39\n",
            "\n",
            "Running Validation...\n",
            "  Validation Loss: 1.28\n",
            "  Validation took: 0:01:00\n",
            "\n",
            "Training complete!\n",
            "Total training took 1:58:58 (h:mm:ss)\n"
          ]
        }
      ]
    },
    {
      "cell_type": "code",
      "source": [
        "# Display floats with two decimal places.\n",
        "pd.set_option('display.precision', 2)\n",
        "\n",
        "# Create a DataFrame from our training statistics.\n",
        "df_stats = pd.DataFrame(data=training_stats)\n",
        "\n",
        "# Use the 'epoch' as the row index.\n",
        "df_stats = df_stats.set_index('epoch')\n",
        "\n",
        "# A hack to force the column headers to wrap.\n",
        "#df = df.style.set_table_styles([dict(selector=\"th\",props=[('max-width', '70px')])])\n",
        "\n",
        "# Display the table.\n",
        "df_stats"
      ],
      "metadata": {
        "colab": {
          "base_uri": "https://localhost:8080/",
          "height": 204
        },
        "id": "GiE8lVQifh0i",
        "outputId": "fdc77cd6-17d2-472f-ab38-1ed6600c2529"
      },
      "execution_count": null,
      "outputs": [
        {
          "output_type": "execute_result",
          "data": {
            "text/plain": [
              "       Training Loss  Valid. Loss Training Time Validation Time\n",
              "epoch                                                          \n",
              "1               1.33         1.19       0:28:49         0:01:00\n",
              "2               1.12         1.21       0:28:42         0:01:00\n",
              "3               0.98         1.23       0:28:46         0:01:00\n",
              "4               0.81         1.28       0:28:39         0:01:00"
            ],
            "text/html": [
              "\n",
              "  <div id=\"df-338014e1-bbee-4868-abf8-bc65513c747f\" class=\"colab-df-container\">\n",
              "    <div>\n",
              "<style scoped>\n",
              "    .dataframe tbody tr th:only-of-type {\n",
              "        vertical-align: middle;\n",
              "    }\n",
              "\n",
              "    .dataframe tbody tr th {\n",
              "        vertical-align: top;\n",
              "    }\n",
              "\n",
              "    .dataframe thead th {\n",
              "        text-align: right;\n",
              "    }\n",
              "</style>\n",
              "<table border=\"1\" class=\"dataframe\">\n",
              "  <thead>\n",
              "    <tr style=\"text-align: right;\">\n",
              "      <th></th>\n",
              "      <th>Training Loss</th>\n",
              "      <th>Valid. Loss</th>\n",
              "      <th>Training Time</th>\n",
              "      <th>Validation Time</th>\n",
              "    </tr>\n",
              "    <tr>\n",
              "      <th>epoch</th>\n",
              "      <th></th>\n",
              "      <th></th>\n",
              "      <th></th>\n",
              "      <th></th>\n",
              "    </tr>\n",
              "  </thead>\n",
              "  <tbody>\n",
              "    <tr>\n",
              "      <th>1</th>\n",
              "      <td>1.33</td>\n",
              "      <td>1.19</td>\n",
              "      <td>0:28:49</td>\n",
              "      <td>0:01:00</td>\n",
              "    </tr>\n",
              "    <tr>\n",
              "      <th>2</th>\n",
              "      <td>1.12</td>\n",
              "      <td>1.21</td>\n",
              "      <td>0:28:42</td>\n",
              "      <td>0:01:00</td>\n",
              "    </tr>\n",
              "    <tr>\n",
              "      <th>3</th>\n",
              "      <td>0.98</td>\n",
              "      <td>1.23</td>\n",
              "      <td>0:28:46</td>\n",
              "      <td>0:01:00</td>\n",
              "    </tr>\n",
              "    <tr>\n",
              "      <th>4</th>\n",
              "      <td>0.81</td>\n",
              "      <td>1.28</td>\n",
              "      <td>0:28:39</td>\n",
              "      <td>0:01:00</td>\n",
              "    </tr>\n",
              "  </tbody>\n",
              "</table>\n",
              "</div>\n",
              "    <div class=\"colab-df-buttons\">\n",
              "\n",
              "  <div class=\"colab-df-container\">\n",
              "    <button class=\"colab-df-convert\" onclick=\"convertToInteractive('df-338014e1-bbee-4868-abf8-bc65513c747f')\"\n",
              "            title=\"Convert this dataframe to an interactive table.\"\n",
              "            style=\"display:none;\">\n",
              "\n",
              "  <svg xmlns=\"http://www.w3.org/2000/svg\" height=\"24px\" viewBox=\"0 -960 960 960\">\n",
              "    <path d=\"M120-120v-720h720v720H120Zm60-500h600v-160H180v160Zm220 220h160v-160H400v160Zm0 220h160v-160H400v160ZM180-400h160v-160H180v160Zm440 0h160v-160H620v160ZM180-180h160v-160H180v160Zm440 0h160v-160H620v160Z\"/>\n",
              "  </svg>\n",
              "    </button>\n",
              "\n",
              "  <style>\n",
              "    .colab-df-container {\n",
              "      display:flex;\n",
              "      gap: 12px;\n",
              "    }\n",
              "\n",
              "    .colab-df-convert {\n",
              "      background-color: #E8F0FE;\n",
              "      border: none;\n",
              "      border-radius: 50%;\n",
              "      cursor: pointer;\n",
              "      display: none;\n",
              "      fill: #1967D2;\n",
              "      height: 32px;\n",
              "      padding: 0 0 0 0;\n",
              "      width: 32px;\n",
              "    }\n",
              "\n",
              "    .colab-df-convert:hover {\n",
              "      background-color: #E2EBFA;\n",
              "      box-shadow: 0px 1px 2px rgba(60, 64, 67, 0.3), 0px 1px 3px 1px rgba(60, 64, 67, 0.15);\n",
              "      fill: #174EA6;\n",
              "    }\n",
              "\n",
              "    .colab-df-buttons div {\n",
              "      margin-bottom: 4px;\n",
              "    }\n",
              "\n",
              "    [theme=dark] .colab-df-convert {\n",
              "      background-color: #3B4455;\n",
              "      fill: #D2E3FC;\n",
              "    }\n",
              "\n",
              "    [theme=dark] .colab-df-convert:hover {\n",
              "      background-color: #434B5C;\n",
              "      box-shadow: 0px 1px 3px 1px rgba(0, 0, 0, 0.15);\n",
              "      filter: drop-shadow(0px 1px 2px rgba(0, 0, 0, 0.3));\n",
              "      fill: #FFFFFF;\n",
              "    }\n",
              "  </style>\n",
              "\n",
              "    <script>\n",
              "      const buttonEl =\n",
              "        document.querySelector('#df-338014e1-bbee-4868-abf8-bc65513c747f button.colab-df-convert');\n",
              "      buttonEl.style.display =\n",
              "        google.colab.kernel.accessAllowed ? 'block' : 'none';\n",
              "\n",
              "      async function convertToInteractive(key) {\n",
              "        const element = document.querySelector('#df-338014e1-bbee-4868-abf8-bc65513c747f');\n",
              "        const dataTable =\n",
              "          await google.colab.kernel.invokeFunction('convertToInteractive',\n",
              "                                                    [key], {});\n",
              "        if (!dataTable) return;\n",
              "\n",
              "        const docLinkHtml = 'Like what you see? Visit the ' +\n",
              "          '<a target=\"_blank\" href=https://colab.research.google.com/notebooks/data_table.ipynb>data table notebook</a>'\n",
              "          + ' to learn more about interactive tables.';\n",
              "        element.innerHTML = '';\n",
              "        dataTable['output_type'] = 'display_data';\n",
              "        await google.colab.output.renderOutput(dataTable, element);\n",
              "        const docLink = document.createElement('div');\n",
              "        docLink.innerHTML = docLinkHtml;\n",
              "        element.appendChild(docLink);\n",
              "      }\n",
              "    </script>\n",
              "  </div>\n",
              "\n",
              "\n",
              "<div id=\"df-09ebc31f-cafd-4263-8de0-2257e84b7b1c\">\n",
              "  <button class=\"colab-df-quickchart\" onclick=\"quickchart('df-09ebc31f-cafd-4263-8de0-2257e84b7b1c')\"\n",
              "            title=\"Suggest charts\"\n",
              "            style=\"display:none;\">\n",
              "\n",
              "<svg xmlns=\"http://www.w3.org/2000/svg\" height=\"24px\"viewBox=\"0 0 24 24\"\n",
              "     width=\"24px\">\n",
              "    <g>\n",
              "        <path d=\"M19 3H5c-1.1 0-2 .9-2 2v14c0 1.1.9 2 2 2h14c1.1 0 2-.9 2-2V5c0-1.1-.9-2-2-2zM9 17H7v-7h2v7zm4 0h-2V7h2v10zm4 0h-2v-4h2v4z\"/>\n",
              "    </g>\n",
              "</svg>\n",
              "  </button>\n",
              "\n",
              "<style>\n",
              "  .colab-df-quickchart {\n",
              "      --bg-color: #E8F0FE;\n",
              "      --fill-color: #1967D2;\n",
              "      --hover-bg-color: #E2EBFA;\n",
              "      --hover-fill-color: #174EA6;\n",
              "      --disabled-fill-color: #AAA;\n",
              "      --disabled-bg-color: #DDD;\n",
              "  }\n",
              "\n",
              "  [theme=dark] .colab-df-quickchart {\n",
              "      --bg-color: #3B4455;\n",
              "      --fill-color: #D2E3FC;\n",
              "      --hover-bg-color: #434B5C;\n",
              "      --hover-fill-color: #FFFFFF;\n",
              "      --disabled-bg-color: #3B4455;\n",
              "      --disabled-fill-color: #666;\n",
              "  }\n",
              "\n",
              "  .colab-df-quickchart {\n",
              "    background-color: var(--bg-color);\n",
              "    border: none;\n",
              "    border-radius: 50%;\n",
              "    cursor: pointer;\n",
              "    display: none;\n",
              "    fill: var(--fill-color);\n",
              "    height: 32px;\n",
              "    padding: 0;\n",
              "    width: 32px;\n",
              "  }\n",
              "\n",
              "  .colab-df-quickchart:hover {\n",
              "    background-color: var(--hover-bg-color);\n",
              "    box-shadow: 0 1px 2px rgba(60, 64, 67, 0.3), 0 1px 3px 1px rgba(60, 64, 67, 0.15);\n",
              "    fill: var(--button-hover-fill-color);\n",
              "  }\n",
              "\n",
              "  .colab-df-quickchart-complete:disabled,\n",
              "  .colab-df-quickchart-complete:disabled:hover {\n",
              "    background-color: var(--disabled-bg-color);\n",
              "    fill: var(--disabled-fill-color);\n",
              "    box-shadow: none;\n",
              "  }\n",
              "\n",
              "  .colab-df-spinner {\n",
              "    border: 2px solid var(--fill-color);\n",
              "    border-color: transparent;\n",
              "    border-bottom-color: var(--fill-color);\n",
              "    animation:\n",
              "      spin 1s steps(1) infinite;\n",
              "  }\n",
              "\n",
              "  @keyframes spin {\n",
              "    0% {\n",
              "      border-color: transparent;\n",
              "      border-bottom-color: var(--fill-color);\n",
              "      border-left-color: var(--fill-color);\n",
              "    }\n",
              "    20% {\n",
              "      border-color: transparent;\n",
              "      border-left-color: var(--fill-color);\n",
              "      border-top-color: var(--fill-color);\n",
              "    }\n",
              "    30% {\n",
              "      border-color: transparent;\n",
              "      border-left-color: var(--fill-color);\n",
              "      border-top-color: var(--fill-color);\n",
              "      border-right-color: var(--fill-color);\n",
              "    }\n",
              "    40% {\n",
              "      border-color: transparent;\n",
              "      border-right-color: var(--fill-color);\n",
              "      border-top-color: var(--fill-color);\n",
              "    }\n",
              "    60% {\n",
              "      border-color: transparent;\n",
              "      border-right-color: var(--fill-color);\n",
              "    }\n",
              "    80% {\n",
              "      border-color: transparent;\n",
              "      border-right-color: var(--fill-color);\n",
              "      border-bottom-color: var(--fill-color);\n",
              "    }\n",
              "    90% {\n",
              "      border-color: transparent;\n",
              "      border-bottom-color: var(--fill-color);\n",
              "    }\n",
              "  }\n",
              "</style>\n",
              "\n",
              "  <script>\n",
              "    async function quickchart(key) {\n",
              "      const quickchartButtonEl =\n",
              "        document.querySelector('#' + key + ' button');\n",
              "      quickchartButtonEl.disabled = true;  // To prevent multiple clicks.\n",
              "      quickchartButtonEl.classList.add('colab-df-spinner');\n",
              "      try {\n",
              "        const charts = await google.colab.kernel.invokeFunction(\n",
              "            'suggestCharts', [key], {});\n",
              "      } catch (error) {\n",
              "        console.error('Error during call to suggestCharts:', error);\n",
              "      }\n",
              "      quickchartButtonEl.classList.remove('colab-df-spinner');\n",
              "      quickchartButtonEl.classList.add('colab-df-quickchart-complete');\n",
              "    }\n",
              "    (() => {\n",
              "      let quickchartButtonEl =\n",
              "        document.querySelector('#df-09ebc31f-cafd-4263-8de0-2257e84b7b1c button');\n",
              "      quickchartButtonEl.style.display =\n",
              "        google.colab.kernel.accessAllowed ? 'block' : 'none';\n",
              "    })();\n",
              "  </script>\n",
              "</div>\n",
              "\n",
              "  <div id=\"id_67fc5b0f-4baf-4bf3-ae01-7ec55b684b0d\">\n",
              "    <style>\n",
              "      .colab-df-generate {\n",
              "        background-color: #E8F0FE;\n",
              "        border: none;\n",
              "        border-radius: 50%;\n",
              "        cursor: pointer;\n",
              "        display: none;\n",
              "        fill: #1967D2;\n",
              "        height: 32px;\n",
              "        padding: 0 0 0 0;\n",
              "        width: 32px;\n",
              "      }\n",
              "\n",
              "      .colab-df-generate:hover {\n",
              "        background-color: #E2EBFA;\n",
              "        box-shadow: 0px 1px 2px rgba(60, 64, 67, 0.3), 0px 1px 3px 1px rgba(60, 64, 67, 0.15);\n",
              "        fill: #174EA6;\n",
              "      }\n",
              "\n",
              "      [theme=dark] .colab-df-generate {\n",
              "        background-color: #3B4455;\n",
              "        fill: #D2E3FC;\n",
              "      }\n",
              "\n",
              "      [theme=dark] .colab-df-generate:hover {\n",
              "        background-color: #434B5C;\n",
              "        box-shadow: 0px 1px 3px 1px rgba(0, 0, 0, 0.15);\n",
              "        filter: drop-shadow(0px 1px 2px rgba(0, 0, 0, 0.3));\n",
              "        fill: #FFFFFF;\n",
              "      }\n",
              "    </style>\n",
              "    <button class=\"colab-df-generate\" onclick=\"generateWithVariable('df_stats')\"\n",
              "            title=\"Generate code using this dataframe.\"\n",
              "            style=\"display:none;\">\n",
              "\n",
              "  <svg xmlns=\"http://www.w3.org/2000/svg\" height=\"24px\"viewBox=\"0 0 24 24\"\n",
              "       width=\"24px\">\n",
              "    <path d=\"M7,19H8.4L18.45,9,17,7.55,7,17.6ZM5,21V16.75L18.45,3.32a2,2,0,0,1,2.83,0l1.4,1.43a1.91,1.91,0,0,1,.58,1.4,1.91,1.91,0,0,1-.58,1.4L9.25,21ZM18.45,9,17,7.55Zm-12,3A5.31,5.31,0,0,0,4.9,8.1,5.31,5.31,0,0,0,1,6.5,5.31,5.31,0,0,0,4.9,4.9,5.31,5.31,0,0,0,6.5,1,5.31,5.31,0,0,0,8.1,4.9,5.31,5.31,0,0,0,12,6.5,5.46,5.46,0,0,0,6.5,12Z\"/>\n",
              "  </svg>\n",
              "    </button>\n",
              "    <script>\n",
              "      (() => {\n",
              "      const buttonEl =\n",
              "        document.querySelector('#id_67fc5b0f-4baf-4bf3-ae01-7ec55b684b0d button.colab-df-generate');\n",
              "      buttonEl.style.display =\n",
              "        google.colab.kernel.accessAllowed ? 'block' : 'none';\n",
              "\n",
              "      buttonEl.onclick = () => {\n",
              "        google.colab.notebook.generateWithVariable('df_stats');\n",
              "      }\n",
              "      })();\n",
              "    </script>\n",
              "  </div>\n",
              "\n",
              "    </div>\n",
              "  </div>\n"
            ]
          },
          "metadata": {},
          "execution_count": 24
        }
      ]
    },
    {
      "cell_type": "code",
      "source": [
        "# Use plot styling from seaborn.\n",
        "sns.set(style='darkgrid')\n",
        "\n",
        "# Increase the plot size and font size.\n",
        "sns.set(font_scale=1.5)\n",
        "plt.rcParams[\"figure.figsize\"] = (12,6)\n",
        "\n",
        "# Plot the learning curve.\n",
        "plt.plot(df_stats['Training Loss'], 'b-o', label=\"Training\")\n",
        "plt.plot(df_stats['Valid. Loss'], 'g-o', label=\"Validation\")\n",
        "\n",
        "# Label the plot.\n",
        "plt.title(\"Training & Validation Loss\")\n",
        "plt.xlabel(\"Epoch\")\n",
        "plt.ylabel(\"Loss\")\n",
        "plt.legend()\n",
        "plt.xticks([1, 2, 3, 4])\n",
        "\n",
        "plt.show()"
      ],
      "metadata": {
        "colab": {
          "base_uri": "https://localhost:8080/",
          "height": 566
        },
        "id": "QGC9wtgffh3D",
        "outputId": "fbd00ffd-a60c-4ea7-be52-166b29f85ff4"
      },
      "execution_count": null,
      "outputs": [
        {
          "output_type": "display_data",
          "data": {
            "text/plain": [
              "<Figure size 1200x600 with 1 Axes>"
            ],
            "image/png": "[encoded data removed]"
          },
          "metadata": {}
        }
      ]
    },
    {
      "cell_type": "code",
      "source": [
        "# Get all of the model's parameters as a list of tuples.\n",
        "params = list(model.named_parameters())\n",
        "\n",
        "print('The GPT-2 model has {:} different named parameters.\\n'.format(len(params)))\n",
        "\n",
        "print('==== Embedding Layer ====\\n')\n",
        "\n",
        "for p in params[0:2]:\n",
        "    print(\"{:<55} {:>12}\".format(p[0], str(tuple(p[1].size()))))\n",
        "\n",
        "print('\\n==== First Transformer ====\\n')\n",
        "\n",
        "for p in params[2:14]:\n",
        "    print(\"{:<55} {:>12}\".format(p[0], str(tuple(p[1].size()))))\n",
        "\n",
        "print('\\n==== Output Layer ====\\n')\n",
        "\n",
        "for p in params[-2:]:\n",
        "    print(\"{:<55} {:>12}\".format(p[0], str(tuple(p[1].size()))))"
      ],
      "metadata": {
        "colab": {
          "base_uri": "https://localhost:8080/"
        },
        "id": "IDx6i-otfh5a",
        "outputId": "827cb35f-8c4a-4705-da5a-e49575c923c9"
      },
      "execution_count": null,
      "outputs": [
        {
          "output_type": "stream",
          "name": "stdout",
          "text": [
            "The GPT-2 model has 148 different named parameters.\n",
            "\n",
            "==== Embedding Layer ====\n",
            "\n",
            "transformer.wte.weight                                  (50259, 768)\n",
            "transformer.wpe.weight                                   (1024, 768)\n",
            "\n",
            "==== First Transformer ====\n",
            "\n",
            "transformer.h.0.ln_1.weight                                   (768,)\n",
            "transformer.h.0.ln_1.bias                                     (768,)\n",
            "transformer.h.0.attn.c_attn.weight                       (768, 2304)\n",
            "transformer.h.0.attn.c_attn.bias                             (2304,)\n",
            "transformer.h.0.attn.c_proj.weight                        (768, 768)\n",
            "transformer.h.0.attn.c_proj.bias                              (768,)\n",
            "transformer.h.0.ln_2.weight                                   (768,)\n",
            "transformer.h.0.ln_2.bias                                     (768,)\n",
            "transformer.h.0.mlp.c_fc.weight                          (768, 3072)\n",
            "transformer.h.0.mlp.c_fc.bias                                (3072,)\n",
            "transformer.h.0.mlp.c_proj.weight                        (3072, 768)\n",
            "transformer.h.0.mlp.c_proj.bias                               (768,)\n",
            "\n",
            "==== Output Layer ====\n",
            "\n",
            "transformer.ln_f.weight                                       (768,)\n",
            "transformer.ln_f.bias                                         (768,)\n"
          ]
        }
      ]
    },
    {
      "cell_type": "code",
      "source": [
        "# Saving best-practices: if you use defaults names for the model, you can reload it using from_pretrained()\n",
        "\n",
        "output_dir = './final_project_gpt2_textgen_class2'\n",
        "output_dir1 = './final_project_gpt2_tokenizer_class2'\n",
        "\n",
        "# Create output directory if needed\n",
        "if not os.path.exists(output_dir):\n",
        "    os.makedirs(output_dir)\n",
        "\n",
        "print(\"Saving model to %s\" % output_dir)\n",
        "\n",
        "# Save a trained model, configuration and tokenizer using `save_pretrained()`.\n",
        "# They can then be reloaded using `from_pretrained()`\n",
        "model_to_save = model.module if hasattr(model, 'module') else model  # Take care of distributed/parallel training\n",
        "model_to_save.save_pretrained(output_dir)\n",
        "tokenizer.save_pretrained(output_dir1)\n",
        "\n",
        "# Good practice: save your training arguments together with the trained model\n",
        "# torch.save(args, os.path.join(output_dir, 'training_args.bin'))\n"
      ],
      "metadata": {
        "colab": {
          "base_uri": "https://localhost:8080/"
        },
        "id": "xRrqhxYPfh7i",
        "outputId": "f433e631-8c76-4787-ee44-5cfd61f9a47e"
      },
      "execution_count": null,
      "outputs": [
        {
          "output_type": "stream",
          "name": "stdout",
          "text": [
            "Saving model to ./final_project_gpt2_textgen_class2\n"
          ]
        },
        {
          "output_type": "execute_result",
          "data": {
            "text/plain": [
              "('./final_project_gpt2_tokenizer_class2/tokenizer_config.json',\n",
              " './final_project_gpt2_tokenizer_class2/special_tokens_map.json',\n",
              " './final_project_gpt2_tokenizer_class2/vocab.json',\n",
              " './final_project_gpt2_tokenizer_class2/merges.txt',\n",
              " './final_project_gpt2_tokenizer_class2/added_tokens.json')"
            ]
          },
          "metadata": {},
          "execution_count": 27
        }
      ]
    },
    {
      "cell_type": "code",
      "source": [
        "import random\n",
        "\n",
        "print(\"Here are example of ten sentences from the original text:\")\n",
        "for x in range(10):\n",
        "  print(f\"{x}: {docs[random.randint(0,len(docs))]}\")\n"
      ],
      "metadata": {
        "colab": {
          "base_uri": "https://localhost:8080/"
        },
        "id": "TNW7UPDLhZDh",
        "outputId": "8b88539c-7434-4e1c-fe59-6d6aa4b79300"
      },
      "execution_count": null,
      "outputs": [
        {
          "output_type": "stream",
          "name": "stdout",
          "text": [
            "Here are example of ten sentences from the original text:\n",
            "0: Felt like propaganda Had intent and pushed the agenda rather than allowing one to draw one's own conclusions. I found this to overshadow the beauty of the cinematography.\n",
            "1:  star songs  star production This was a terrible production with no life and seemed jumpy and disjointed. It also felt thrown together and not well rehearsed with number dragging on longer than they should and others rushed. Rachel York was OK she was better in Scarlet Pimpernelbut this is not her best performance at all.All in all a disponting version and hard to see how it won a Tony for best revival..but then this isn't the original cast from that Tony winning revival so that may be the problem.\n",
            "2: Funny Nice set of laughs. Old TV version of medieval subjects are nearly as good as the new ones. Do any of the script writers do research on the original works or are they too intent on putting their own mark on traditional stories?\n",
            "3: scared me as a child,but it seams very creaky and tired today in  i saw this movie when it was released and it scared me to death,so when it came out on dvd i bought it,but something has changedmaybe i grew up but now the movie seams flat and the cast looks like they are sleepwalking through the movie.frank langella is good as the count but the movie is so off that the good job is lost in the hopeless script and mindless direction. all in all wasted chance.\n",
            "4: Film Needs A Vial of Billy Bob's LIfe Blood Lara Croft Angelina Jolie is entering a tomb, trying to get to a jewel placed on a pedestal. As she makes her way towards the jewel, a large metal creature unsurfaces and she has to fight it to the death. After she does disable the creature, she retrieves the jewel which is actually a computer chip containing 'Lara's Party Mix', which she plays on the sound system in her mansion. The tomb was actually a training room built in her large English mansion. Soon, Lara discovers a clock hidden under a staircase by her deceased father Jon Voight, Jolie's real father. The clock started ticking exactly one week before a complete solar eclipse is scheduled to happen. Inside the clock, she finds a dial, which when combined with a mythical triangle which has, incidentally, been broken in half, gives the holder power over time. The holder can move back and forth within history, changing things. Naturally, a mysterious society, the Illuminata, headquartered in Venice, Italy, wants the device and hires Manfred Powell Iain Glen to retrieve it. Manfred hires Alex Marrs Daniel Craig, Croft's former nemesis and fellow Tomb Raider to help him. Lara can't let the Illuminata gain control of the device.Lara Croft Tomb Raider is the latest example of why Hollywood should not adapt video games into films. No more successful than Super Mario Brothers, Tomb Raider will probably gross more than  million dollars because it caters so brilliantly to the pre-teen boy audience that loves the video game.The film is filled with action set pieces, which look incredibly like set pieces. Each of the scenes is shot on a set. Each begins with the characters entering a room, tomb, cave, etc. and then, voila, they start fighting something, someone, each other. This creates a very claustrophobic feel which does not translate well to the big screen.The film was reportedly shot on location in Greenland and a sacred temple in Thailand ?. If this is the case, the filmmakers did a very bad job of taking advantage of the natural scenery.Jolie certainly fits the physical description of Lara Croft. She has the same voluptuous curves that the video game vixen uses to make grown men addicts of her adventures. I have never played the video game, so I am unsure whether Lara Croft is supposed to look so bored throughout. Jolie smirks and does little else to make the character seem believable. It appears as though the vial of Billy Bob's blood that she reportedly carries around her neck was missing most days when she shot her part. Where would they hide it? Jolie wears a series of skin tight t-shirts and short-shorts to reveal all of her assets.It was no suprise to see that the filmmaker's managed to include a shower scene. After all, Croft is an archaeologist and needs to be squeaky clean for all of that roughhousing. I only wish they had managed to get a couple of shower scenes into the Indiana Jones films. NOT. As the film is PG, they only show Jolie from the neck up. Boy that water cascading down her hair and lips and neck looks sexy. Strangely, a little later in the film, Alex Marrs gets equal treatment. His shower scene is virtually identical to Croft's. Thank goodness for equal opportunity. I'm sure all of the little  year old boys in the audience will love to see a half naked man showering and then walking around his hotel room.The other big problem with Tomb Raider is that we never actually see Croft engaging in any archaeology or tomb raiding, until the climax. Why is she so famous? What special skills does she have? Apparently, she can jump around on bungee cords and kill metal beasts quite well, but what about archaeology draws her into it? Apparently, nothing.Oh, wait, there is another big problem. After the device is assembled big surprise, I'm sure, Croft is told that she can't use it for a personal reason and then does any way. Huh? I wasn't even aware that she liked the person she uses it for.Oh, oh, another problem. Oh, enough. Tomb Raider is a sloppy mess of an excuse for filmmaking. Will certainly join Pearl Harbor as one of the worst films of the summer if not the year.\n",
            "5: Disappointing Incomplete Seasons, no conclusions to multipart episodes. Horribly disappointing. Not complete seasons. Five episodes missing from Season  and Ten episodes missing from Season  Who decides which episodes get cut! UGh. Season  cliff hanger Chief kidnapped, never resolved. This  be continued episode is not finished. Season  cliff hanger is missing entirely.Season  missing The Family Secret, Hammer and the Glove, A trip Upstate, Sister Sister, Walkout strike.Season  missing Fairest of them all, Crack down, anniversary, My name is Hank, Kings Ransom, A loss of innocence, Home is where the heart is, Indiscretions, Citizen Trundel Part  and \n",
            "6: Not that great I liked the first X-Men, I thought it had great characters, acting, and direction. But X-Men  was just boring. In the first X-Men I really liked the villans, I mean who doesn't like Toad, you actually got cool battles and mutant vs. mutant. In X-Men  its weak army men vs. mutants. A bit lopsided. I found the battles boring and uninteresting. The Nightcrawler scene was pretty sweet and the invasion of the mutant school, but other than that the fight scenes were lameI didn't really enjoy the Deathstrike scene X-Men  looks like its returning to the first ones style. Bad mutants vs. Good mutants.HooRah!\n",
            "7: Harrison Ford still kicks butt but Firewall is basically what you've seen too many times before Harrison Ford Hollywood Homicide, Star Wars A New Hope plays Jack Stanfield who is the big CEO of the bank and whose world turns upside down when Bill Cox, played Paul Bettany The Reckoning, upcoming Da Vinci Code in a disappointing performance, and some of his men, take hostage Ford's wife, played by Virginia Madsen Sideways, Candyman, his daughter, played by Carly Schroeder Mean Creek and his son, played by Jimmy Bennett Hostage, Everwood. I guess Bettany wants Ford to hack into his own system so that he can steal some money and wire it to his offshore accountants and if Ford doesnt cooperate, what will happen? I dont know, I guess it's the old trick in the book, threaten to kill the family. Bascially it all leads up to a showdown between the badguy and the good guy. Predictable, sometimes really cheesy and hey, when havent you seen this? Also starring Robert Patrick Walk The Line, The X-Files, Alan Arkin The Jerky Boys Movie, Wait Until Dark, Robert Forster Jackie Brown, Mulholland Dr., Vince Vieluf Rat Race, Grind and Mary Lynn Rajskub Fox's  Harrison Ford does his usual Air Force One routine here, though he doesnt say Get off my plane!, he says You wont get a dime!.the man must of had serious backaches after those figh scenes.especially at the end.\n",
            "8: Magic Mike The bodies were good. The dancing was good. The acting was poor. Did not like Matthew McConaughey's role at all. He was a real sleeze. He is too good of and actor to play a role like that.\n",
            "9: You Have Be From Mars If You Like This Movie! When this movie first came out I had no interest at all in seeing this movie. It's not that I don't like Brian De Palma, because he's made some films I truly like, for example quot;The Untouchablesquot;, or quot;Mission Imposiblequot;. But this film didn't grab my attention. And after watching the movie, I can tell my instincts were right! Now if your one of the quot;smartquot; people who avoided this movie, and are thinking about renting it, after reading my review, you might change your mind. First lets start out with the acting. With the names involved you might think this will turn out to be a good movie, I mean we have Gary Sinise, Tim Robbins, Connie Nielsen Who was much better in quot;Gladiatorquot;,Don Cheadle, and Jerry O' Connell. But from everyone I mentioned, not one of them stand out. There's no memorble moments here. Nothing you see will stay with you after wards. Unlike Kubrick's quot; A Space Odysseyquot;, which is what this movie aims at. But I will refrain from comparing the two in my review. Since I am going to judge this movie purely on it's OWN merit. I can think of only one scene that sticks out in my head maybe because I just watched the movie lol, and I'm sure after  or  minutes that too will leave my memory. It deals with Nielsen and Robbins, I don't want to give it away, but it's full of emotion. Now, maybe the reason for such forgettable performances is due to this lack luster screenplay, which is written by Jim and John Thomas and Graham Yost. I personally have never heard of any of them, and I'm sure their names will not be remember by any for this screenplay. Some say it's too slow. I didn't see it that way, I just thought it was dumb, plain and simple. And I can't understand how they came up with the end of this movie. It left me shocked, but not in a good way. It wasn't something thought provoking. Watch the movie and you'll see what I'm talking about. The quot;ailenquot; in the movie is laughable. We see all these wonderful effects in this movie which is the ONLY good thing about this film! and then we see this quot;ailenquot;. Where did they go wrong! The ending is one of the worst I've ever seen, not THE worst but one of the worst. It's completely stupid! Now, if all this doesn't seem bad enough, I have to talk about De Palma's directing. The movie quot;feelsquot; like he wasn't even there. I can't imagine him directing this. It doesn't have his touch. All in all my opinion on this film is, while it's not the worst movie I've ever seen, it's certainly is far from one of the best. Good special effects, decent acting, and no memeorable scenes. If your looking for a good sci-fi movie get the obvious, quot; A Space Odysseyquot;.  out of \n"
          ]
        }
      ]
    },
    {
      "cell_type": "code",
      "source": [
        "model.eval()\n",
        "\n",
        "prompt = \"<|startoftext|>\"\n",
        "\n",
        "generated = torch.tensor(tokenizer.encode(prompt)).unsqueeze(0)\n",
        "generated = generated.to(device)\n",
        "\n",
        "print(generated)\n",
        "\n",
        "sample_outputs = model.generate(\n",
        "                                generated,\n",
        "                                #bos_token_id=random.randint(1,30000),\n",
        "                                do_sample=True,\n",
        "                                top_k=50,\n",
        "                                max_length = 300,\n",
        "                                top_p=0.95,\n",
        "                                num_return_sequences=10\n",
        "                                )\n",
        "\n",
        "for i, sample_output in enumerate(sample_outputs):\n",
        "  print(\"{}: {}\\n\\n\".format(i, tokenizer.decode(sample_output, skip_special_tokens=True)))"
      ],
      "metadata": {
        "colab": {
          "base_uri": "https://localhost:8080/"
        },
        "id": "osyFNN4qhZGt",
        "outputId": "d2085a24-0f28-4c53-a882-dec6e118ded9"
      },
      "execution_count": null,
      "outputs": [
        {
          "output_type": "stream",
          "name": "stderr",
          "text": [
            "The attention mask and the pad token id were not set. As a consequence, you may observe unexpected behavior. Please pass your input's `attention_mask` to obtain reliable results.\n",
            "Setting `pad_token_id` to `eos_token_id`:50256 for open-end generation.\n"
          ]
        },
        {
          "output_type": "stream",
          "name": "stdout",
          "text": [
            "tensor([[50257]], device='cuda:0')\n",
            "0: I will agree with the others I did not get the other  This film is too predictable and over the top. No real insight is given to anything and there is only one brief moment that makes it worth watching. It should not be used in a concert. Only when there is a long concert it is used by professional musicians.\n",
            "\n",
            "\n",
            "1: Only for fans of the show The series started out good with the first  episodes, but after  episodes, everything really fell apart. We've seen plenty of low budget sci-fi, but this one is nothing special. It has nothing original. It's basically a remake.\n",
            "\n",
            "\n",
            "2: Boring This was a depressing movie that should have been rated R because it left me with a little bit of a brain fog. I suppose they could have made it better without the sad ending.\n",
            "\n",
            "\n",
            "3: Not for me I bought this movie because I really like the actors, but the plot was so boring and I didn't care for it. It was like watching a James Bond movie. I didn't like the Bond at all.\n",
            "\n",
            "\n",
            "4: Good acting but it's not great story line This movie is not a good acting movie at all. I feel the cast wasted their time and money. I hope the people in this show would read other reviews. I hope someone uploads a story and tell me what the problem is and I'll be happy with it.\n",
            "\n",
            "\n",
            "5: Too much hype for little reward When you watch a documentary on the World of Darkness you know that much of what we want to know has been stolen away by the director who wants to make you believe the events that are happening. Without giving away too much too easily the filmmakers try to show you what could happen in real life. You do not believe the events that they show, but do not believe what they say or feel about those who are shown. Without giving away too much about some people who are shown the documentaries you do not believe. A documentary on the subject could tell us little about some people who live in America and live near the edge of the cities. Without giving away too much, the filmmakers show us a society where drugs are rampant, where violence is commonplace, where women are promiscuous, and where men feel inferior in every way because of the way they dress.In fact this documentary is far more interesting than any documentary on that subject. The film is shown in many small rooms with very little press and a very small room that contains a very thin but interesting documentary, on a separate disc. The movie takes a short cut for the most part and is told with much more urgency. In short this DVD is not worth a lot.\n",
            "\n",
            "\n",
            "6: The story was too simple For a story about love and romance, I expected to see a compelling character develop through some kind of a relationship. Instead, I was just a typical chick who thinks people don't really need to act. As a love story, there were few and far between.\n",
            "\n",
            "\n",
            "7: I never knew that this was good until now. I don't know where this movie is headed but if I was in it, I would want to see a book on the basis of one person's POV. I saw it once and I remembered it as a kid, but as I watch this, I just don't get that. I am  now so I am used to books which is why I fast forward through them, but in this movie, I was very disappointed. I know some people say that movie was funny and uplifting, but I was very disappointed in it.\n",
            "\n",
            "\n",
            "8: Not bad but not good This movie was an okay movie with the occasional interesting bits. I had a feeling I was watching a movie with two stars, but I would have given it at least one more star for the actors.\n",
            "\n",
            "\n",
            "9: Good idea, bad execution I got the idea for this movie from the beginning, so the idea was good.The movie itself was not a great idea. There was some promise, but the execution of the movie made it seem like it was rushed.To begin with the first couple of things I did not expect the movie to be well directed, and they didn't. The idea for the movie did not exist, and the story line didn't make much sense. There were a couple of scenes that stood out, but the rest of the movie fell way short.The biggest problem I had was with the ending. The ending was like it was written in a junior high school locker room. We then saw the movie for what it is, and the idea was good but it was rushed. The writers of this movie should have quit without the twist ending because this was the first movie in my movie group that had a twist that was not explained well.\n",
            "\n",
            "\n"
          ]
        }
      ]
    },
    {
      "cell_type": "code",
      "source": [],
      "metadata": {
        "id": "0d4CQDBRhZJv"
      },
      "execution_count": null,
      "outputs": []
    },
    {
      "cell_type": "code",
      "source": [],
      "metadata": {
        "id": "uWfcKj7thZMU"
      },
      "execution_count": null,
      "outputs": []
    },
    {
      "cell_type": "code",
      "source": [],
      "metadata": {
        "id": "hOfZwLvfhZO7"
      },
      "execution_count": null,
      "outputs": []
    },
    {
      "cell_type": "code",
      "source": [],
      "metadata": {
        "id": "kIwiRhnyhZRc"
      },
      "execution_count": null,
      "outputs": []
    }
  ]
}