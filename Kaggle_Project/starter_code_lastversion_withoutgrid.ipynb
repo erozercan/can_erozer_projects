{
 "cells": [
  {
   "cell_type": "markdown",
   "metadata": {},
   "source": [
    "## Exploration"
   ]
  },
  {
   "cell_type": "code",
   "execution_count": 1,
   "metadata": {
    "scrolled": true
   },
   "outputs": [
    {
     "name": "stdout",
     "output_type": "stream",
     "text": [
      "train.csv shape is  (139753, 9)\n",
      "test.csv shape is  (17470, 2)\n",
      "\n",
      "        Id   ProductId          UserId  HelpfulnessNumerator  \\\n",
      "0   195370  1890228583  A3VLX5Z090RQ0V                     1   \n",
      "1  1632470  B00BEIYSL4   AUDXDMFM49NGY                     0   \n",
      "2     9771  0767809335  A3LFIA97BUU5IE                     3   \n",
      "3   218855  6300215792  A1QZM75342ZQVQ                     1   \n",
      "4   936225  B000B5XOZW   ANM2SCEUL3WL1                     1   \n",
      "\n",
      "   HelpfulnessDenominator        Time  \\\n",
      "0                       2  1030838400   \n",
      "1                       1  1405036800   \n",
      "2                      36   983750400   \n",
      "3                       1  1394841600   \n",
      "4                       1  1163721600   \n",
      "\n",
      "                                             Summary  \\\n",
      "0                        An Unexplained Anime Review   \n",
      "1                                         not great.   \n",
      "2                    Technical problem with this DVD   \n",
      "3                          Heeeeyyyyy LAAAAADEEE!!!!   \n",
      "4  Herzog the Great Traveler of both natural and ...   \n",
      "\n",
      "                                                Text  Score  \n",
      "0  I was very anxious to see the Uncut version of...    2.0  \n",
      "1                        Movie was okay...not great.    3.0  \n",
      "2  Like the Dinosaur Collector's Edition DVD, thi...    1.0  \n",
      "3  Come on, now.....  this has to be, by far, the...    5.0  \n",
      "4  I've always been a great admirer of Herzog's o...    4.0  \n",
      "\n",
      "        Id  Score\n",
      "0   786781    NaN\n",
      "1    17153    NaN\n",
      "2  1557328    NaN\n",
      "3  1242666    NaN\n",
      "4  1359242    NaN\n",
      "\n",
      "                 Id  HelpfulnessNumerator  HelpfulnessDenominator  \\\n",
      "count  1.397530e+05         139753.000000           139753.000000   \n",
      "mean   8.497881e+05              3.601096                5.313246   \n",
      "std    4.896942e+05             20.101195               22.300962   \n",
      "min    8.000000e+00              0.000000                0.000000   \n",
      "25%    4.258660e+05              0.000000                0.000000   \n",
      "50%    8.510200e+05              1.000000                1.000000   \n",
      "75%    1.273392e+06              3.000000                5.000000   \n",
      "max    1.697519e+06           4646.000000             4682.000000   \n",
      "\n",
      "               Time          Score  \n",
      "count  1.397530e+05  122283.000000  \n",
      "mean   1.262516e+09       4.115552  \n",
      "std    1.287262e+08       1.191661  \n",
      "min    8.948448e+08       1.000000  \n",
      "25%    1.164758e+09       4.000000  \n",
      "50%    1.307318e+09       5.000000  \n",
      "75%    1.373155e+09       5.000000  \n",
      "max    1.406074e+09       5.000000  \n"
     ]
    },
    {
     "data": {
      "text/plain": [
       "'\\ntrainingSet[\\'Score\\'].value_counts().plot(kind=\\'bar\\', legend=True, alpha=.5)\\nplt.title(\"Count of Scores\")\\nplt.show()\\n\\ntrainingSet[\\'ProductId\\'].value_counts().nlargest(25).plot(kind=\\'bar\\', legend=True, alpha=.5)\\nplt.title(\"Top 25 most rated Products\")\\nplt.show()\\n\\ntrainingSet[\\'ProductId\\'].value_counts().nsmallest(25).plot(kind=\\'bar\\', legend=True, alpha=.5)\\nplt.title(\"Top 25 least rated Products\")\\nplt.show()\\n\\ntrainingSet[\\'UserId\\'].value_counts().nlargest(25).plot(kind=\\'bar\\', legend=True, alpha=.5)\\nplt.title(\"Top 25 Reviewers\")\\nplt.show()\\n\\ntrainingSet[\\'UserId\\'].value_counts().nsmallest(25).plot(kind=\\'bar\\', legend=True, alpha=.5)\\nplt.title(\"Lowest 25 Reviewers\")\\nplt.show()\\n\\ntrainingSet[[\\'Score\\', \\'HelpfulnessNumerator\\']].groupby(\\'Score\\').mean().plot(kind=\\'bar\\', legend=True, alpha=.5)\\nplt.title(\"Mean Helpfulness Numerator per Score\")\\nplt.show()\\n\\ntrainingSet[[\\'Score\\', \\'ProductId\\']].groupby(\\'ProductId\\').mean().nlargest(25, \\'Score\\').plot(kind=\\'bar\\', legend=True, alpha=.5)\\nplt.title(\"Top 25 best rated Products\")\\nplt.show()\\n\\ntrainingSet[[\\'Score\\', \\'ProductId\\']].groupby(\\'ProductId\\').mean().nsmallest(25, \\'Score\\').plot(kind=\\'bar\\', legend=True, alpha=.5)\\nplt.title(\"Top 25 worst rated Products\")\\nplt.show()\\n\\ntrainingSet[[\\'Score\\', \\'UserId\\']].groupby(\\'UserId\\').mean().nlargest(25, \\'Score\\').plot(kind=\\'bar\\', legend=True, alpha=.5)\\nplt.title(\"Top 25 kindest Reviewers\")\\nplt.show()\\n\\ntrainingSet[[\\'Score\\', \\'UserId\\']].groupby(\\'UserId\\').mean().nsmallest(25, \\'Score\\').plot(kind=\\'bar\\', legend=True, alpha=.5)\\nplt.title(\"Top 25 harshest Reviewers\")\\nplt.show()\\n\\ntrainingSet[trainingSet[\\'ProductId\\'].isin(trainingSet[\\'ProductId\\'].value_counts().nlargest(25).index.tolist())][[\\'Score\\', \\'ProductId\\']].groupby(\\'ProductId\\').mean().plot(kind=\\'bar\\', legend=True, alpha=.5)\\nplt.title(\"Mean of top 25 most rated Products\")\\nplt.show()\\n'"
      ]
     },
     "execution_count": 1,
     "metadata": {},
     "output_type": "execute_result"
    }
   ],
   "source": [
    "import pandas as pd\n",
    "import matplotlib.pyplot as plt\n",
    "\n",
    "trainingSet = pd.read_csv(\"./data/train.csv\")\n",
    "testingSet = pd.read_csv(\"./data/test.csv\")\n",
    "\n",
    "print(\"train.csv shape is \", trainingSet.shape)\n",
    "print(\"test.csv shape is \", testingSet.shape)\n",
    "\n",
    "print()\n",
    "\n",
    "print(trainingSet.head())\n",
    "print()\n",
    "print(testingSet.head())\n",
    "\n",
    "print()\n",
    "\n",
    "print(trainingSet.describe())\n",
    "\"\"\"\n",
    "trainingSet['Score'].value_counts().plot(kind='bar', legend=True, alpha=.5)\n",
    "plt.title(\"Count of Scores\")\n",
    "plt.show()\n",
    "\n",
    "trainingSet['ProductId'].value_counts().nlargest(25).plot(kind='bar', legend=True, alpha=.5)\n",
    "plt.title(\"Top 25 most rated Products\")\n",
    "plt.show()\n",
    "\n",
    "trainingSet['ProductId'].value_counts().nsmallest(25).plot(kind='bar', legend=True, alpha=.5)\n",
    "plt.title(\"Top 25 least rated Products\")\n",
    "plt.show()\n",
    "\n",
    "trainingSet['UserId'].value_counts().nlargest(25).plot(kind='bar', legend=True, alpha=.5)\n",
    "plt.title(\"Top 25 Reviewers\")\n",
    "plt.show()\n",
    "\n",
    "trainingSet['UserId'].value_counts().nsmallest(25).plot(kind='bar', legend=True, alpha=.5)\n",
    "plt.title(\"Lowest 25 Reviewers\")\n",
    "plt.show()\n",
    "\n",
    "trainingSet[['Score', 'HelpfulnessNumerator']].groupby('Score').mean().plot(kind='bar', legend=True, alpha=.5)\n",
    "plt.title(\"Mean Helpfulness Numerator per Score\")\n",
    "plt.show()\n",
    "\n",
    "trainingSet[['Score', 'ProductId']].groupby('ProductId').mean().nlargest(25, 'Score').plot(kind='bar', legend=True, alpha=.5)\n",
    "plt.title(\"Top 25 best rated Products\")\n",
    "plt.show()\n",
    "\n",
    "trainingSet[['Score', 'ProductId']].groupby('ProductId').mean().nsmallest(25, 'Score').plot(kind='bar', legend=True, alpha=.5)\n",
    "plt.title(\"Top 25 worst rated Products\")\n",
    "plt.show()\n",
    "\n",
    "trainingSet[['Score', 'UserId']].groupby('UserId').mean().nlargest(25, 'Score').plot(kind='bar', legend=True, alpha=.5)\n",
    "plt.title(\"Top 25 kindest Reviewers\")\n",
    "plt.show()\n",
    "\n",
    "trainingSet[['Score', 'UserId']].groupby('UserId').mean().nsmallest(25, 'Score').plot(kind='bar', legend=True, alpha=.5)\n",
    "plt.title(\"Top 25 harshest Reviewers\")\n",
    "plt.show()\n",
    "\n",
    "trainingSet[trainingSet['ProductId'].isin(trainingSet['ProductId'].value_counts().nlargest(25).index.tolist())][['Score', 'ProductId']].groupby('ProductId').mean().plot(kind='bar', legend=True, alpha=.5)\n",
    "plt.title(\"Mean of top 25 most rated Products\")\n",
    "plt.show()\n",
    "\"\"\""
   ]
  },
  {
   "cell_type": "markdown",
   "metadata": {},
   "source": [
    "## Feature Extraction"
   ]
  },
  {
   "cell_type": "code",
   "execution_count": 155,
   "metadata": {},
   "outputs": [],
   "source": [
    "import pandas as pd\n",
    "import numpy as np\n",
    "from sklearn.model_selection import train_test_split\n",
    "from collections import defaultdict \n",
    "from imblearn.under_sampling import RandomUnderSampler\n",
    "\n",
    "import re\n",
    "from sklearn.feature_extraction.text import TfidfVectorizer, CountVectorizer\n",
    "\n",
    "from sklearn.decomposition import PCA\n",
    "from sklearn.decomposition import TruncatedSVD\n",
    "\n",
    "import matplotlib.pyplot as plt \n",
    "from collections import Counter\n",
    "\n",
    "from nltk.stem import PorterStemmer\n",
    "from nltk.tokenize import word_tokenize\n",
    "from functools import reduce\n",
    "import nltk\n",
    "from nltk.corpus import stopwords\n",
    "import statsmodels.api as sm\n",
    "\n",
    "\n",
    "from sklearn.metrics import accuracy_score, precision_score, recall_score, f1_score\n",
    "from nltk.corpus import opinion_lexicon\n",
    "\n",
    "import xgboost as xgb\n",
    "\n",
    "from sklearn.utils.class_weight import compute_class_weight\n",
    "\n",
    "from textblob import TextBlob\n",
    "\n",
    "from afinn import Afinn\n",
    "\n",
    "from sklearn.linear_model import RidgeClassifier\n",
    "\n",
    "from scipy.sparse import hstack\n",
    "\n",
    "from scipy.sparse import csr_matrix\n",
    "\n",
    "from sklearn.preprocessing import MaxAbsScaler"
   ]
  },
  {
   "cell_type": "code",
   "execution_count": 3,
   "metadata": {},
   "outputs": [],
   "source": [
    "import pandas as pd\n",
    "\n",
    "def process(df):\n",
    "    # This is where you can do all your processing\n",
    "\n",
    "    df['Helpfulness'] = df['HelpfulnessNumerator'] / df['HelpfulnessDenominator']\n",
    "    df['Helpfulness'] = df['Helpfulness'].fillna(0)\n",
    "\n",
    "    df['ReviewLength'] = df.apply(lambda row : len(row['Text'].split()) if type(row['Text']) == str else 0, axis = 1)\n",
    "\n",
    "    return df\n",
    "\n",
    "\n",
    "def make_balanced(df):\n",
    "    \n",
    "    #df=df.dropna(subset=['Summary','Text','Score'], inplace=False)\n",
    "    \n",
    "    y_temp = df['Score']\n",
    "\n",
    "    undersample = RandomUnderSampler(random_state=42)\n",
    "\n",
    "    df_undersampled, _ = undersample.fit_resample(df, y_temp)\n",
    "    \n",
    "    return df_undersampled\n",
    "\n",
    "\n",
    "\n",
    "def fill_nas(df):\n",
    "    \n",
    "    df['Text'].fillna('', inplace=True)\n",
    "    df['Summary'].fillna('', inplace=True)\n",
    "    \n",
    "    return df\n",
    "\n",
    "\n",
    "def drop_nas(df):\n",
    "    \n",
    "    df=df.dropna(subset=['Score'], inplace=False)\n",
    "    \n",
    "    return df\n",
    "    \n",
    "    \n",
    "\n",
    "def product_popularity(df):\n",
    "    \n",
    "    popularity = defaultdict(lambda: 0)\n",
    "\n",
    "    for index in range(len(df)):\n",
    "   \n",
    "        popularity[df.iloc[index].ProductId] +=  1\n",
    "    \n",
    "    \n",
    "    prod_popularity=[]\n",
    "    \n",
    "    \n",
    "    for index in range(len(df)):\n",
    "        prod_popularity +=[popularity[df.iloc[index].ProductId]]\n",
    "    \n",
    "    df['Product_Popularity']=prod_popularity\n",
    "    \n",
    "    return df\n",
    "\n",
    "\n",
    "def user_popularity(df):\n",
    "    \n",
    "    user_popularity = defaultdict(lambda: 0)\n",
    "    \n",
    "    for index in range(len(df)):\n",
    "        user_popularity[df.iloc[index].UserId] +=1\n",
    "    \n",
    "    \n",
    "    user_pop=[]\n",
    "    \n",
    "    for index in range(len(df)):\n",
    "        user_pop +=[user_popularity[df.iloc[index].UserId]]\n",
    "    \n",
    "    df['User_Popularity']=user_pop\n",
    "    \n",
    "    return df\n",
    "    \n",
    "\n",
    "\n",
    "\n",
    "def add_mark_count(df, col_name, mark):\n",
    "    # count occurrences of 'mark' in 'col_name'\n",
    "    \n",
    "    df[f\"{mark}_count_{col_name}\"] = df[col_name].apply(lambda x: x.count(mark))\n",
    "    return df\n",
    "\n",
    "\n",
    "\n",
    "def add_capital_freq(df, col_name):\n",
    "    # calculate the frequency of uppercase letters in 'col_name'\n",
    "    \n",
    "    df[f\"capital_freq_{col_name}\"] = df[col_name].apply(lambda text: sum(1 for char in re.sub(' ', '',text) if char.isupper()) / len(re.sub(' ', '',text)) if len(text) > 0 else 0)\n",
    "    return df\n",
    "\n",
    "\n",
    "\n",
    "def sentiment_analysis1(df, col_name):\n",
    "    nltk.download('opinion_lexicon')\n",
    "    \n",
    "    positive_words = set(opinion_lexicon.positive())\n",
    "    negative_words = set(opinion_lexicon.negative())\n",
    "    \n",
    "    concat_lines = special_remove(df[col_name].tolist())\n",
    "    \n",
    "    num_positive_words = []\n",
    "    num_negative_words = []\n",
    "    \n",
    "    for line in concat_lines:\n",
    "        words = re.split(\"\\s+\", line)\n",
    "        \n",
    "        num_pos = 0\n",
    "        num_neg = 0\n",
    "        \n",
    "        for i, word in enumerate(words):\n",
    "            if word in positive_words:\n",
    "                if i > 0 and words[i - 1] != \"not\":\n",
    "                    num_pos += 1\n",
    "                elif i > 0 and words[i - 1] == \"not\":\n",
    "                    num_neg += 1\n",
    "                else:\n",
    "                    num_pos += 1\n",
    "            \n",
    "            if word in negative_words:\n",
    "                if i > 0 and words[i - 1] != \"not\":\n",
    "                    num_neg += 1\n",
    "                elif i > 0 and words[i - 1] == \"not\":\n",
    "                    num_pos += 1\n",
    "                else:\n",
    "                    num_neg += 1\n",
    "        \n",
    "        num_positive_words.append(num_pos)\n",
    "        num_negative_words.append(num_neg)\n",
    "    \n",
    "    df[f\"num_positive_words_{col_name}\"] = num_positive_words\n",
    "    df[f\"num_negative_words_{col_name}\"] = num_negative_words\n",
    "    \n",
    "    return df\n",
    "\n",
    "\n",
    "\n",
    "\n",
    "\n",
    "    \n",
    "\n",
    "def prevectorizer(df, col_name):\n",
    "    \n",
    "    concat_summary = df[col_name].tolist()\n",
    "    \n",
    "    concat_summary=special_remove(concat_summary)\n",
    "    \n",
    "    concat_summary=remove_stopwords(concat_summary)\n",
    "    \n",
    "    concat_summary=stem_tokenize(concat_summary)\n",
    "    \n",
    "    #if col_name=='Text':\n",
    "        #concat_summary=remove_less_frequent1(concat_summary)\n",
    "    \n",
    "    return concat_summary\n",
    "\n",
    "\n",
    "\n",
    "def special_remove(array):\n",
    "    \n",
    "    processed_array=[]\n",
    "    \n",
    "    for summary_str in array:\n",
    "        summary_str= summary_str.lower()\n",
    "\n",
    "        summary_str=re.sub('[!\"#$%&\\(\\)*+.,;<=>?@^_\\[\\]{|}~]+', '',summary_str)\n",
    "        summary_str=re.sub('[/:]', ' ',summary_str)\n",
    "        summary_str=re.sub(' - ', ' ',summary_str)\n",
    "        summary_str=re.sub('- ', ' ',summary_str)\n",
    "        summary_str=re.sub(' -', ' ',summary_str)\n",
    "        summary_str=re.sub('--', ' ',summary_str)\n",
    "        summary_str=re.sub('\\s+', ' ', summary_str)\n",
    "        summary_str=re.sub('(\\d+\\S*)', '', summary_str)\n",
    "        summary_str=re.sub('\\S+\\d+', '', summary_str)\n",
    "        summary_str=re.sub(r'(.)\\1{2,}', r'\\1', summary_str) #yooooo\n",
    "\n",
    "        summary_str=re.sub(r\"('\\S+')\", r'\\1', summary_str)\n",
    "        \n",
    "        summary_str=re.sub(r'\\\\', ' ', summary_str)\n",
    "\n",
    "        summary_str=re.sub(\"'ve\",\" have\",summary_str)\n",
    "        summary_str=re.sub(\"'t\",\" not\",summary_str)\n",
    "        summary_str=re.sub(\"'ll\",\" will\",summary_str)\n",
    "        summary_str=re.sub(\"'d\",\" would\",summary_str)\n",
    "        summary_str=re.sub(\"'re\",\" are\",summary_str)\n",
    "        summary_str=re.sub(\"'m\",\" am\",summary_str)\n",
    "        summary_str=re.sub(\"'s\",\"\",summary_str)\n",
    "\n",
    "\n",
    "        summary_str=re.sub(\" am \", \" be \",summary_str)\n",
    "        summary_str=re.sub(\" is \", \" be \",summary_str)\n",
    "        summary_str=re.sub(\" are \", \" be \",summary_str)\n",
    "        summary_str=re.sub(\" was \", \" be \",summary_str)\n",
    "        summary_str=re.sub(\" were \", \" be \",summary_str)\n",
    "        summary_str=re.sub(\" being \", \" be \",summary_str)\n",
    "        summary_str=re.sub(\" been \", \" be \",summary_str)\n",
    "\n",
    "        summary_str=re.sub(\"'\", \"\",summary_str)\n",
    "        \n",
    "        \n",
    "        processed_array +=[summary_str]\n",
    "        \n",
    "    return processed_array\n",
    "\n",
    "\n",
    "\n",
    "def remove_stopwords(array):\n",
    "    \n",
    "    new_array=[]\n",
    "    \n",
    "    nltk.download('stopwords')\n",
    "    stp_wrds=stopwords.words('english')\n",
    "    \n",
    "    \n",
    "    for line in array:\n",
    "        for word in stp_wrds:\n",
    "            line= re.sub(f\" {word} \", \" \",line)\n",
    "            \n",
    "        new_array +=[line]\n",
    "\n",
    "            \n",
    "    return new_array\n",
    "            \n",
    "    \n",
    "    \n",
    "def stem_tokenize(array):\n",
    "    \n",
    "    new_array=[]\n",
    "    \n",
    "    ps = PorterStemmer()\n",
    "    \n",
    "    for line in array:\n",
    "\n",
    "        words = word_tokenize(line)\n",
    "    \n",
    "        stemmed = reduce(lambda x, y: x + \" \" + ps.stem(y), words, \"\")\n",
    "        \n",
    "        new_array +=[stemmed]\n",
    "        \n",
    "    return new_array\n",
    "\n",
    "\n",
    "def remove_less_frequent(array):\n",
    "    \n",
    "    all_words=[]\n",
    "    words_to_remove=[]\n",
    "    new_array=[]\n",
    "    \n",
    "    \n",
    "    for line in array:\n",
    "        \n",
    "\n",
    "        word_list= re.split('\\s+', line)\n",
    "        \n",
    "        all_words += word_list\n",
    "        \n",
    "\n",
    "    counter = Counter(all_words)\n",
    "    \n",
    "    for key in dict(counter):\n",
    "        if len(key)< 2:\n",
    "            \n",
    "            words_to_remove +=[key]\n",
    "        \n",
    "        if counter[key]==1:\n",
    "            \n",
    "            words_to_remove +=[key]\n",
    "            \n",
    "    \n",
    "    for line in array:\n",
    "        for word in words_to_remove:\n",
    "            \n",
    "            if word=='' or word==' ':\n",
    "                continue\n",
    "        \n",
    "            try:\n",
    "                line =re.sub(f'{word} ', ' ', line)\n",
    "            except:\n",
    "                print(\"PROBLEM WORD IS:\", word)\n",
    "                return             \n",
    "            \n",
    "        line=re.sub('  +', ' ' ,line)\n",
    "        if line[0]==' ':\n",
    "            line=line[1:]\n",
    "            \n",
    "        new_array +=[line]\n",
    "        \n",
    "    return new_array\n",
    "\n",
    "def remove_less_frequent1(array):\n",
    "    all_words = ' '.join(array).split()  # Combine all strings, split into words\n",
    "    counter = Counter(all_words)  # Count occurrences of each word\n",
    "    \n",
    "    words_to_remove = {key for key, count in counter.items() if len(key) < 2 or count == 1}\n",
    "    \n",
    "    new_array = []\n",
    "    \n",
    "    for line in array:\n",
    "        line_words = re.findall(r'\\b\\w{2,}\\b', line)  # Extract words (at least 2 characters)\n",
    "        line_words = [word for word in line_words if word not in words_to_remove]\n",
    "        new_line = ' '.join(line_words)\n",
    "        new_array.append(new_line)\n",
    "    \n",
    "    return new_array\n",
    "\n",
    "\n",
    "\n",
    "\n",
    "def polarity_subject(df, col_name):\n",
    "\n",
    "    df[f\"{col_name}_polarity\"]= df[col_name].apply(lambda text: TextBlob(text).sentiment.polarity)\n",
    "    \n",
    "    df[f\"{col_name}_subjectivity\"]= df[col_name].apply(lambda text: TextBlob(text).sentiment.subjectivity)\n",
    "    \n",
    "    return df\n",
    "\n",
    "\n",
    "def add_time_year(df):\n",
    "    \n",
    "    \n",
    "    df['Time']=pd.to_datetime(df['Time'], unit='s')\n",
    "    \n",
    "    df['Year']=df['Time'].dt.year\n",
    "    \n",
    "    df['Time'].drop(columns=['Time'], inplace=True)\n",
    "    \n",
    "    return df\n",
    "\n",
    "\n",
    "\n",
    "def sentiment_score(df, col_name):\n",
    "    \n",
    "    \n",
    "    afn = Afinn()\n",
    "    \n",
    "    df[f\"{col_name}_sent_score\"]= df[col_name].apply(lambda text: afn.score(special_remove([text])[0]))\n",
    "    \n",
    "    return df\n",
    "\n",
    "\n"
   ]
  },
  {
   "cell_type": "code",
   "execution_count": 4,
   "metadata": {},
   "outputs": [],
   "source": [
    "# Load the dataset\n",
    "trainingSet = pd.read_csv(\"./data/train.csv\")\n",
    "\n",
    "train_processed=trainingSet"
   ]
  },
  {
   "cell_type": "code",
   "execution_count": 5,
   "metadata": {},
   "outputs": [
    {
     "data": {
      "text/plain": [
       "(139753, 9)"
      ]
     },
     "execution_count": 5,
     "metadata": {},
     "output_type": "execute_result"
    }
   ],
   "source": [
    "train_processed.shape"
   ]
  },
  {
   "cell_type": "code",
   "execution_count": 6,
   "metadata": {},
   "outputs": [
    {
     "name": "stdout",
     "output_type": "stream",
     "text": [
      "<class 'pandas.core.frame.DataFrame'>\n",
      "RangeIndex: 139753 entries, 0 to 139752\n",
      "Data columns (total 9 columns):\n",
      " #   Column                  Non-Null Count   Dtype  \n",
      "---  ------                  --------------   -----  \n",
      " 0   Id                      139753 non-null  int64  \n",
      " 1   ProductId               139753 non-null  object \n",
      " 2   UserId                  139753 non-null  object \n",
      " 3   HelpfulnessNumerator    139753 non-null  int64  \n",
      " 4   HelpfulnessDenominator  139753 non-null  int64  \n",
      " 5   Time                    139753 non-null  int64  \n",
      " 6   Summary                 139752 non-null  object \n",
      " 7   Text                    139752 non-null  object \n",
      " 8   Score                   122283 non-null  float64\n",
      "dtypes: float64(1), int64(4), object(4)\n",
      "memory usage: 9.6+ MB\n"
     ]
    }
   ],
   "source": [
    "trainingSet.info()"
   ]
  },
  {
   "cell_type": "code",
   "execution_count": 7,
   "metadata": {},
   "outputs": [],
   "source": [
    "train_processed= fill_nas(train_processed)"
   ]
  },
  {
   "cell_type": "code",
   "execution_count": 8,
   "metadata": {},
   "outputs": [
    {
     "data": {
      "text/plain": [
       "(139753, 9)"
      ]
     },
     "execution_count": 8,
     "metadata": {},
     "output_type": "execute_result"
    }
   ],
   "source": [
    "train_processed.shape"
   ]
  },
  {
   "cell_type": "code",
   "execution_count": 9,
   "metadata": {},
   "outputs": [
    {
     "name": "stdout",
     "output_type": "stream",
     "text": [
      "<class 'pandas.core.frame.DataFrame'>\n",
      "RangeIndex: 139753 entries, 0 to 139752\n",
      "Data columns (total 9 columns):\n",
      " #   Column                  Non-Null Count   Dtype  \n",
      "---  ------                  --------------   -----  \n",
      " 0   Id                      139753 non-null  int64  \n",
      " 1   ProductId               139753 non-null  object \n",
      " 2   UserId                  139753 non-null  object \n",
      " 3   HelpfulnessNumerator    139753 non-null  int64  \n",
      " 4   HelpfulnessDenominator  139753 non-null  int64  \n",
      " 5   Time                    139753 non-null  int64  \n",
      " 6   Summary                 139753 non-null  object \n",
      " 7   Text                    139753 non-null  object \n",
      " 8   Score                   122283 non-null  float64\n",
      "dtypes: float64(1), int64(4), object(4)\n",
      "memory usage: 9.6+ MB\n"
     ]
    }
   ],
   "source": [
    "train_processed.info()"
   ]
  },
  {
   "cell_type": "code",
   "execution_count": 10,
   "metadata": {},
   "outputs": [],
   "source": [
    "train_processed=process(train_processed)"
   ]
  },
  {
   "cell_type": "code",
   "execution_count": 11,
   "metadata": {},
   "outputs": [
    {
     "data": {
      "text/plain": [
       "(139753, 11)"
      ]
     },
     "execution_count": 11,
     "metadata": {},
     "output_type": "execute_result"
    }
   ],
   "source": [
    "train_processed.shape"
   ]
  },
  {
   "cell_type": "code",
   "execution_count": 12,
   "metadata": {},
   "outputs": [],
   "source": [
    "train_processed= product_popularity(train_processed)\n",
    "train_processed= user_popularity(train_processed)"
   ]
  },
  {
   "cell_type": "code",
   "execution_count": 13,
   "metadata": {},
   "outputs": [
    {
     "data": {
      "text/plain": [
       "(139753, 13)"
      ]
     },
     "execution_count": 13,
     "metadata": {},
     "output_type": "execute_result"
    }
   ],
   "source": [
    "train_processed.shape"
   ]
  },
  {
   "cell_type": "code",
   "execution_count": 14,
   "metadata": {},
   "outputs": [],
   "source": [
    "train_processed=add_mark_count(train_processed, 'Summary', \"!\")\n",
    "train_processed=add_mark_count(train_processed, 'Summary', \"?\")\n",
    "\n",
    "train_processed=add_mark_count(train_processed, 'Text', \"!\")\n",
    "train_processed=add_mark_count(train_processed, 'Text', \"?\")"
   ]
  },
  {
   "cell_type": "code",
   "execution_count": 15,
   "metadata": {},
   "outputs": [
    {
     "data": {
      "text/plain": [
       "(139753, 17)"
      ]
     },
     "execution_count": 15,
     "metadata": {},
     "output_type": "execute_result"
    }
   ],
   "source": [
    "train_processed.shape"
   ]
  },
  {
   "cell_type": "code",
   "execution_count": 16,
   "metadata": {},
   "outputs": [],
   "source": [
    "train_processed=add_capital_freq(train_processed, 'Summary')\n",
    "train_processed=add_capital_freq(train_processed, 'Text')"
   ]
  },
  {
   "cell_type": "code",
   "execution_count": 17,
   "metadata": {},
   "outputs": [
    {
     "data": {
      "text/plain": [
       "(139753, 19)"
      ]
     },
     "execution_count": 17,
     "metadata": {},
     "output_type": "execute_result"
    }
   ],
   "source": [
    "train_processed.shape"
   ]
  },
  {
   "cell_type": "code",
   "execution_count": 18,
   "metadata": {},
   "outputs": [
    {
     "name": "stderr",
     "output_type": "stream",
     "text": [
      "[nltk_data] Downloading package opinion_lexicon to\n",
      "[nltk_data]     /Users/canerozer/nltk_data...\n",
      "[nltk_data]   Package opinion_lexicon is already up-to-date!\n"
     ]
    }
   ],
   "source": [
    "train_processed=sentiment_analysis1(train_processed, 'Summary')"
   ]
  },
  {
   "cell_type": "code",
   "execution_count": 19,
   "metadata": {},
   "outputs": [
    {
     "data": {
      "text/plain": [
       "(139753, 21)"
      ]
     },
     "execution_count": 19,
     "metadata": {},
     "output_type": "execute_result"
    }
   ],
   "source": [
    "train_processed.shape"
   ]
  },
  {
   "cell_type": "code",
   "execution_count": 20,
   "metadata": {},
   "outputs": [
    {
     "name": "stderr",
     "output_type": "stream",
     "text": [
      "[nltk_data] Downloading package opinion_lexicon to\n",
      "[nltk_data]     /Users/canerozer/nltk_data...\n",
      "[nltk_data]   Package opinion_lexicon is already up-to-date!\n"
     ]
    }
   ],
   "source": [
    "train_processed=sentiment_analysis1(train_processed, 'Text')"
   ]
  },
  {
   "cell_type": "code",
   "execution_count": 21,
   "metadata": {},
   "outputs": [
    {
     "data": {
      "text/plain": [
       "(139753, 23)"
      ]
     },
     "execution_count": 21,
     "metadata": {},
     "output_type": "execute_result"
    }
   ],
   "source": [
    "train_processed.shape"
   ]
  },
  {
   "cell_type": "code",
   "execution_count": 22,
   "metadata": {},
   "outputs": [],
   "source": [
    "train_processed=polarity_subject(train_processed, 'Summary')"
   ]
  },
  {
   "cell_type": "code",
   "execution_count": 23,
   "metadata": {},
   "outputs": [
    {
     "data": {
      "text/plain": [
       "(139753, 25)"
      ]
     },
     "execution_count": 23,
     "metadata": {},
     "output_type": "execute_result"
    }
   ],
   "source": [
    "train_processed.shape"
   ]
  },
  {
   "cell_type": "code",
   "execution_count": 24,
   "metadata": {},
   "outputs": [],
   "source": [
    "train_processed=polarity_subject(train_processed, 'Text')"
   ]
  },
  {
   "cell_type": "code",
   "execution_count": 25,
   "metadata": {},
   "outputs": [
    {
     "data": {
      "text/plain": [
       "(139753, 27)"
      ]
     },
     "execution_count": 25,
     "metadata": {},
     "output_type": "execute_result"
    }
   ],
   "source": [
    "train_processed.shape"
   ]
  },
  {
   "cell_type": "code",
   "execution_count": 26,
   "metadata": {},
   "outputs": [],
   "source": [
    "train_processed=add_time_year(train_processed)"
   ]
  },
  {
   "cell_type": "code",
   "execution_count": null,
   "metadata": {},
   "outputs": [],
   "source": []
  },
  {
   "cell_type": "code",
   "execution_count": 27,
   "metadata": {},
   "outputs": [],
   "source": [
    "train_processed=sentiment_score(train_processed, 'Summary')"
   ]
  },
  {
   "cell_type": "code",
   "execution_count": 28,
   "metadata": {},
   "outputs": [
    {
     "data": {
      "text/plain": [
       "(139753, 29)"
      ]
     },
     "execution_count": 28,
     "metadata": {},
     "output_type": "execute_result"
    }
   ],
   "source": [
    "train_processed.shape"
   ]
  },
  {
   "cell_type": "code",
   "execution_count": 29,
   "metadata": {},
   "outputs": [],
   "source": [
    "train_processed=sentiment_score(train_processed, 'Text')"
   ]
  },
  {
   "cell_type": "code",
   "execution_count": 30,
   "metadata": {},
   "outputs": [
    {
     "data": {
      "text/plain": [
       "(139753, 30)"
      ]
     },
     "execution_count": 30,
     "metadata": {},
     "output_type": "execute_result"
    }
   ],
   "source": [
    "train_processed.shape"
   ]
  },
  {
   "cell_type": "code",
   "execution_count": 31,
   "metadata": {
    "scrolled": false
   },
   "outputs": [
    {
     "data": {
      "text/plain": [
       "Id                                     int64\n",
       "ProductId                             object\n",
       "UserId                                object\n",
       "HelpfulnessNumerator                   int64\n",
       "HelpfulnessDenominator                 int64\n",
       "Time                          datetime64[ns]\n",
       "Summary                               object\n",
       "Text                                  object\n",
       "Score                                float64\n",
       "Helpfulness                          float64\n",
       "ReviewLength                           int64\n",
       "Product_Popularity                     int64\n",
       "User_Popularity                        int64\n",
       "!_count_Summary                        int64\n",
       "?_count_Summary                        int64\n",
       "!_count_Text                           int64\n",
       "?_count_Text                           int64\n",
       "capital_freq_Summary                 float64\n",
       "capital_freq_Text                    float64\n",
       "num_positive_words_Summary             int64\n",
       "num_negative_words_Summary             int64\n",
       "num_positive_words_Text                int64\n",
       "num_negative_words_Text                int64\n",
       "Summary_polarity                     float64\n",
       "Summary_subjectivity                 float64\n",
       "Text_polarity                        float64\n",
       "Text_subjectivity                    float64\n",
       "Year                                   int64\n",
       "Summary_sent_score                   float64\n",
       "Text_sent_score                      float64\n",
       "dtype: object"
      ]
     },
     "execution_count": 31,
     "metadata": {},
     "output_type": "execute_result"
    }
   ],
   "source": [
    "train_processed.dtypes"
   ]
  },
  {
   "cell_type": "code",
   "execution_count": 32,
   "metadata": {
    "scrolled": false
   },
   "outputs": [
    {
     "name": "stdout",
     "output_type": "stream",
     "text": [
      "Id                           -0.051049\n",
      "HelpfulnessNumerator         -0.011531\n",
      "HelpfulnessDenominator       -0.092002\n",
      "Score                         1.000000\n",
      "Helpfulness                   0.026287\n",
      "ReviewLength                 -0.077605\n",
      "Product_Popularity            0.014023\n",
      "User_Popularity              -0.066537\n",
      "!_count_Summary               0.055343\n",
      "?_count_Summary              -0.063632\n",
      "!_count_Text                  0.031978\n",
      "?_count_Text                 -0.135268\n",
      "capital_freq_Summary          0.023661\n",
      "capital_freq_Text             0.034737\n",
      "num_positive_words_Summary    0.211055\n",
      "num_negative_words_Summary   -0.299500\n",
      "num_positive_words_Text       0.014764\n",
      "num_negative_words_Text      -0.183885\n",
      "Summary_polarity              0.354004\n",
      "Summary_subjectivity          0.052485\n",
      "Text_polarity                 0.417188\n",
      "Text_subjectivity             0.082722\n",
      "Year                          0.088850\n",
      "Summary_sent_score            0.318568\n",
      "Text_sent_score               0.221971\n",
      "Name: Score, dtype: float64\n"
     ]
    }
   ],
   "source": [
    "corre = train_processed.drop(columns=['ProductId', 'UserId', 'Text', 'Summary']).corr()['Score']\n",
    "print(corre)"
   ]
  },
  {
   "cell_type": "code",
   "execution_count": 140,
   "metadata": {},
   "outputs": [
    {
     "name": "stdout",
     "output_type": "stream",
     "text": [
      "number of numeric columns 22\n",
      "the number of linearly independent columns 22\n"
     ]
    }
   ],
   "source": [
    "numerical_columns1 =['HelpfulnessNumerator', 'HelpfulnessDenominator',\n",
    "         'ReviewLength', 'Product_Popularity', 'User_Popularity',\n",
    "       '!_count_Summary', '?_count_Summary', '!_count_Text', '?_count_Text',\n",
    "       'capital_freq_Summary', 'capital_freq_Text',\n",
    "       'num_positive_words_Summary', 'num_negative_words_Summary',\n",
    "       'num_positive_words_Text', 'num_negative_words_Text',\n",
    "       'Summary_polarity', 'Summary_subjectivity', 'Text_polarity',\n",
    "       'Text_subjectivity', 'Year', 'Summary_sent_score', 'Text_sent_score']\n",
    "\n",
    "numerical_array = train_processed[numerical_columns1].to_numpy()\n",
    "\n",
    "Q, R = np.linalg.qr(train_processed[numerical_columns1])\n",
    "rank = np.sum(np.abs(np.diagonal(R)) > 1e-10)\n",
    "print(\"number of numeric columns\", len(train_processed[numerical_columns1].columns))\n",
    "print(\"the number of linearly independent columns\", rank)"
   ]
  },
  {
   "cell_type": "code",
   "execution_count": 32,
   "metadata": {},
   "outputs": [],
   "source": [
    "#after analyzing correlation table I will drop unrelated columns\n",
    "\n",
    "#train_processed_clean=train_processed.drop(columns=['Year', 'Text_subjectivity','Summary_subjectivity','capital_freq_Text','capital_freq_Summary','!_count_Text','?_count_Summary','!_count_Summary','User_Popularity','Product_Popularity','ReviewLength','Helpfulness','HelpfulnessDenominator','HelpfulnessNumerator'], inplace=False)\n",
    "\n",
    "#train_processed_clean=train_processed.drop(columns=['Text_subjectivity','Summary_subjectivity','!_count_Text','?_count_Summary','!_count_Summary','ReviewLength','Helpfulness','HelpfulnessDenominator','HelpfulnessNumerator'], inplace=False)\n",
    "\n"
   ]
  },
  {
   "cell_type": "code",
   "execution_count": 33,
   "metadata": {},
   "outputs": [
    {
     "data": {
      "text/plain": [
       "(139753, 16)"
      ]
     },
     "execution_count": 33,
     "metadata": {},
     "output_type": "execute_result"
    }
   ],
   "source": [
    "train_processed_clean.shape"
   ]
  },
  {
   "cell_type": "code",
   "execution_count": 34,
   "metadata": {
    "scrolled": true
   },
   "outputs": [
    {
     "name": "stdout",
     "output_type": "stream",
     "text": [
      "Id                           -0.051049\n",
      "Score                         1.000000\n",
      "?_count_Text                 -0.135268\n",
      "num_positive_words_Summary    0.211055\n",
      "num_negative_words_Summary   -0.299500\n",
      "num_positive_words_Text       0.014764\n",
      "num_negative_words_Text      -0.183885\n",
      "Summary_polarity              0.354004\n",
      "Text_polarity                 0.417188\n",
      "Summary_sent_score            0.318568\n",
      "Text_sent_score               0.221971\n",
      "Name: Score, dtype: float64\n"
     ]
    }
   ],
   "source": [
    "corre = train_processed_clean.drop(columns=['ProductId', 'UserId', 'Text', 'Summary']).corr()['Score']\n",
    "print(corre)"
   ]
  },
  {
   "cell_type": "code",
   "execution_count": 33,
   "metadata": {},
   "outputs": [
    {
     "data": {
      "text/plain": [
       "(139753, 30)"
      ]
     },
     "execution_count": 33,
     "metadata": {},
     "output_type": "execute_result"
    }
   ],
   "source": [
    "train_processed.shape"
   ]
  },
  {
   "cell_type": "code",
   "execution_count": 34,
   "metadata": {},
   "outputs": [],
   "source": [
    "# Load test set\n",
    "submissionSet = pd.read_csv(\"./data/test.csv\")\n",
    "\n",
    "# Merge on Id so that the test set can have feature columns as well\n",
    "testX= pd.merge(train_processed, submissionSet, left_on='Id', right_on='Id')\n",
    "testX = testX.drop(columns=['Score_x'])\n",
    "testX = testX.rename(columns={'Score_y': 'Score'})\n",
    "\n",
    "# The training set is where the score is not null\n",
    "trainX =  train_processed[train_processed['Score'].notnull()]\n",
    "\n",
    "\n",
    "\n",
    "# Save the datasets with the new features for easy access later\n",
    "testX.to_csv(\"./data/X_test.csv\", index=False)\n",
    "trainX.to_csv(\"./data/X_train.csv\", index=False)"
   ]
  },
  {
   "cell_type": "code",
   "execution_count": 35,
   "metadata": {},
   "outputs": [
    {
     "data": {
      "text/plain": [
       "(17470, 30)"
      ]
     },
     "execution_count": 35,
     "metadata": {},
     "output_type": "execute_result"
    }
   ],
   "source": [
    "testX.shape"
   ]
  },
  {
   "cell_type": "code",
   "execution_count": 36,
   "metadata": {},
   "outputs": [
    {
     "data": {
      "text/plain": [
       "(122283, 30)"
      ]
     },
     "execution_count": 36,
     "metadata": {},
     "output_type": "execute_result"
    }
   ],
   "source": [
    "trainX.shape"
   ]
  },
  {
   "cell_type": "markdown",
   "metadata": {},
   "source": [
    "## Creating your model"
   ]
  },
  {
   "cell_type": "code",
   "execution_count": 100,
   "metadata": {},
   "outputs": [
    {
     "data": {
      "text/plain": [
       "\"param_grid = {\\n    'max_depth': [6,7,8],\\n    'learning_rate': [0.1, 0.01, 0.001],\\n    'n_estimators': [100, 200, 300],\\n    'gamma': [0, 0.1, 0.2],  # Minimum loss reduction required to make a further partition on a leaf node\\n    'subsample': [0.7, 0.8, 0.9],  # Subsample ratio of the training instances\\n    'colsample_bytree': [0.7, 0.8, 0.9],  # Subsample ratio of columns when constructing each tree\\n    'reg_alpha': [0, 0.1, 0.5],  # L1 regularization term on weights\\n    'reg_lambda': [1, 1.5, 2],  # L2 regularization term on weights\\n    'objective':['multi:softprob'],\\n    'num_class':[5]\\n}\""
      ]
     },
     "execution_count": 100,
     "metadata": {},
     "output_type": "execute_result"
    }
   ],
   "source": [
    "import pickle\n",
    "import pandas as pd\n",
    "import seaborn as sns\n",
    "import matplotlib.pyplot as plt\n",
    "from sklearn.neighbors import KNeighborsClassifier\n",
    "from sklearn.model_selection import train_test_split\n",
    "from sklearn.metrics import accuracy_score, confusion_matrix, mean_squared_error\n",
    "from sklearn.preprocessing import StandardScaler\n",
    "from sklearn.decomposition import TruncatedSVD\n",
    "\n",
    "import xgboost as xgb\n",
    "from sklearn.model_selection import GridSearchCV\n",
    "\n",
    "from sklearn.linear_model import LogisticRegression\n",
    "\n",
    "from sklearn import tree\n",
    "from sklearn import svm\n",
    "\n",
    "from scipy import stats\n",
    "\n",
    "from sklearn.utils import shuffle\n",
    "\n",
    "from sklearn.ensemble import RandomForestClassifier\n",
    "\n",
    "# Load training set with new features into DataFrame\n",
    "X_train = pd.read_csv(\"./data/X_train.csv\")\n",
    "\n",
    "X_train0 = X_train.sample(frac=1).reset_index(drop=True) #shuffling \n",
    "\n",
    "\n",
    "#X_train1 = X_train0.drop(columns=['Id', 'ProductId', 'UserId', 'Text', 'Summary','Time','HelpfulnessNumerator','HelpfulnessDenominator'])\n",
    "\n",
    "X_train0= drop_nas(X_train0)\n",
    "\n",
    "#IF HSTACK\n",
    "#X_train1 = X_train0[['Id','Text','?_count_Text','num_positive_words_Summary','num_negative_words_Summary','num_positive_words_Text','num_negative_words_Text','Summary_polarity','Text_polarity','Summary_sent_score','Text_sent_score','Score']]\n",
    "\n",
    "\n",
    "#to_add=['?_count_Text','num_positive_words_Summary','num_negative_words_Summary','num_positive_words_Text','num_negative_words_Text','Summary_polarity','Text_polarity','Summary_sent_score','Text_sent_score']\n",
    "\n",
    "#z_scores = stats.zscore(X_train0.select_dtypes(include=['float64', 'int64']))\n",
    "#threshold = 3\n",
    "#outlier_rows = (np.abs(z_scores) > threshold).any(axis=1)\n",
    "#X_train1 = X_train0[~outlier_rows]\n",
    "\n",
    "\n",
    "\n",
    "# This is where you can do more feature selection\n",
    "#X_train_processed = X_train.drop(columns=['Id', 'ProductId', 'UserId', 'Text', 'Summary','Time','HelpfulnessNumerator','HelpfulnessDenominator'])\n",
    "#X_test_processed = X_test.drop(columns=['Id', 'ProductId', 'UserId', 'Text', 'Summary','Time','HelpfulnessNumerator','HelpfulnessDenominator'])\n",
    "#,'!_count_Summary','?_count_Summary', '!_count_Text', '?_count_Text'\n",
    "\n",
    "\n",
    "#scaler = StandardScaler()\n",
    "\n",
    "#X_train_scaled = scaler.fit_transform(X_train_processed)\n",
    "#X_test_scaled = scaler.fit_transform(X_test_processed)\n",
    "\n",
    "\n",
    "\"\"\"param_grid = {\n",
    "    'max_depth': [6,7,8],\n",
    "    'learning_rate': [0.1, 0.01, 0.001],\n",
    "    'n_estimators': [100, 200, 300],\n",
    "    'gamma': [0, 0.1, 0.2],  # Minimum loss reduction required to make a further partition on a leaf node\n",
    "    'subsample': [0.7, 0.8, 0.9],  # Subsample ratio of the training instances\n",
    "    'colsample_bytree': [0.7, 0.8, 0.9],  # Subsample ratio of columns when constructing each tree\n",
    "    'reg_alpha': [0, 0.1, 0.5],  # L1 regularization term on weights\n",
    "    'reg_lambda': [1, 1.5, 2],  # L2 regularization term on weights\n",
    "    'objective':['multi:softprob'],\n",
    "    'num_class':[5]\n",
    "}\"\"\"\n",
    "\n",
    "\n",
    "#grid_search = GridSearchCV(estimator=xgb_model, param_grid=param_grid, cv=3, scoring='accuracy')\n",
    "#grid_search.fit(X_train_processed, Y_train)\n",
    "\n",
    "#best_params = grid_search.best_params_\n",
    "#best_score = grid_search.best_score_\n",
    "\n",
    "\n",
    "\n"
   ]
  },
  {
   "cell_type": "code",
   "execution_count": 101,
   "metadata": {},
   "outputs": [
    {
     "data": {
      "text/plain": [
       "Index(['Id', 'ProductId', 'UserId', 'HelpfulnessNumerator',\n",
       "       'HelpfulnessDenominator', 'Time', 'Summary', 'Text', 'Score',\n",
       "       'Helpfulness', 'ReviewLength', 'Product_Popularity', 'User_Popularity',\n",
       "       '!_count_Summary', '?_count_Summary', '!_count_Text', '?_count_Text',\n",
       "       'capital_freq_Summary', 'capital_freq_Text',\n",
       "       'num_positive_words_Summary', 'num_negative_words_Summary',\n",
       "       'num_positive_words_Text', 'num_negative_words_Text',\n",
       "       'Summary_polarity', 'Summary_subjectivity', 'Text_polarity',\n",
       "       'Text_subjectivity', 'Year', 'Summary_sent_score', 'Text_sent_score'],\n",
       "      dtype='object')"
      ]
     },
     "execution_count": 101,
     "metadata": {},
     "output_type": "execute_result"
    }
   ],
   "source": [
    "X_train0.columns"
   ]
  },
  {
   "cell_type": "code",
   "execution_count": 102,
   "metadata": {},
   "outputs": [],
   "source": [
    "X_train1 = X_train0"
   ]
  },
  {
   "cell_type": "code",
   "execution_count": 103,
   "metadata": {
    "scrolled": true
   },
   "outputs": [
    {
     "data": {
      "text/plain": [
       "Id                            0\n",
       "ProductId                     0\n",
       "UserId                        0\n",
       "HelpfulnessNumerator          0\n",
       "HelpfulnessDenominator        0\n",
       "Time                          0\n",
       "Summary                       1\n",
       "Text                          1\n",
       "Score                         0\n",
       "Helpfulness                   0\n",
       "ReviewLength                  0\n",
       "Product_Popularity            0\n",
       "User_Popularity               0\n",
       "!_count_Summary               0\n",
       "?_count_Summary               0\n",
       "!_count_Text                  0\n",
       "?_count_Text                  0\n",
       "capital_freq_Summary          0\n",
       "capital_freq_Text             0\n",
       "num_positive_words_Summary    0\n",
       "num_negative_words_Summary    0\n",
       "num_positive_words_Text       0\n",
       "num_negative_words_Text       0\n",
       "Summary_polarity              0\n",
       "Summary_subjectivity          0\n",
       "Text_polarity                 0\n",
       "Text_subjectivity             0\n",
       "Year                          0\n",
       "Summary_sent_score            0\n",
       "Text_sent_score               0\n",
       "dtype: int64"
      ]
     },
     "execution_count": 103,
     "metadata": {},
     "output_type": "execute_result"
    }
   ],
   "source": [
    "X_train1.isnull().sum()"
   ]
  },
  {
   "cell_type": "code",
   "execution_count": 104,
   "metadata": {},
   "outputs": [],
   "source": [
    "X_train1['Text'].fillna('', inplace=True)\n",
    "X_train1['Summary'].fillna('', inplace=True)"
   ]
  },
  {
   "cell_type": "code",
   "execution_count": 105,
   "metadata": {
    "scrolled": true
   },
   "outputs": [
    {
     "data": {
      "text/plain": [
       "Id                            0\n",
       "ProductId                     0\n",
       "UserId                        0\n",
       "HelpfulnessNumerator          0\n",
       "HelpfulnessDenominator        0\n",
       "Time                          0\n",
       "Summary                       0\n",
       "Text                          0\n",
       "Score                         0\n",
       "Helpfulness                   0\n",
       "ReviewLength                  0\n",
       "Product_Popularity            0\n",
       "User_Popularity               0\n",
       "!_count_Summary               0\n",
       "?_count_Summary               0\n",
       "!_count_Text                  0\n",
       "?_count_Text                  0\n",
       "capital_freq_Summary          0\n",
       "capital_freq_Text             0\n",
       "num_positive_words_Summary    0\n",
       "num_negative_words_Summary    0\n",
       "num_positive_words_Text       0\n",
       "num_negative_words_Text       0\n",
       "Summary_polarity              0\n",
       "Summary_subjectivity          0\n",
       "Text_polarity                 0\n",
       "Text_subjectivity             0\n",
       "Year                          0\n",
       "Summary_sent_score            0\n",
       "Text_sent_score               0\n",
       "dtype: int64"
      ]
     },
     "execution_count": 105,
     "metadata": {},
     "output_type": "execute_result"
    }
   ],
   "source": [
    "X_train1.isnull().sum()"
   ]
  },
  {
   "cell_type": "code",
   "execution_count": 106,
   "metadata": {},
   "outputs": [],
   "source": [
    "train_size = 0.8\n",
    "train_rows = int(len(X_train1) * train_size)\n",
    "\n",
    "X_train = X_train1.iloc[:train_rows] #DONT USE THIS\n",
    "X_test = X_train1.iloc[train_rows:]  #DONT USE THIS\n",
    "\n",
    "Y_train=X_train['Score']  #STORING THIS FOR LATER\n",
    "Y_test=X_test['Score']    #STORING THIS FOR LATER\n",
    "\n",
    "#BE SURE Y_train and Y_test CONTAINS ALL THE CLASSES. CHECK THIS WITH class_weights_dict\n"
   ]
  },
  {
   "cell_type": "code",
   "execution_count": 96,
   "metadata": {},
   "outputs": [],
   "source": [
    "#ONLY FOR XGBOOST\n",
    "\n",
    "class_weights = compute_class_weight('balanced', classes=np.unique(Y_train), y=Y_train)\n",
    "\n",
    "params = {\n",
    "    'max_depth': 6,\n",
    "    'learning_rate': 0.01,\n",
    "    'n_estimators': 200,\n",
    "    'objective':'multi:softprob',\n",
    "    'num_class':5,\n",
    "    'scale_pos_weight':class_weights\n",
    "}\n",
    "\n"
   ]
  },
  {
   "cell_type": "code",
   "execution_count": 46,
   "metadata": {},
   "outputs": [],
   "source": [
    "#ONLY FOR RANDOMFOREST\n",
    "\n",
    "class_labels = np.unique(Y_train)\n",
    "class_weights = compute_class_weight('balanced', classes=class_labels, y=Y_train)\n",
    "\n",
    "class_weights_dict = dict(zip(class_labels, class_weights))\n"
   ]
  },
  {
   "cell_type": "code",
   "execution_count": 47,
   "metadata": {},
   "outputs": [
    {
     "data": {
      "text/plain": [
       "{1.0: 3.3439070244402664,\n",
       " 2.0: 3.36866391184573,\n",
       " 3.0: 1.6946903421394544,\n",
       " 4.0: 0.8750480790733038,\n",
       " 5.0: 0.37436044620477205}"
      ]
     },
     "execution_count": 47,
     "metadata": {},
     "output_type": "execute_result"
    }
   ],
   "source": [
    "class_weights_dict"
   ]
  },
  {
   "cell_type": "code",
   "execution_count": 107,
   "metadata": {},
   "outputs": [
    {
     "data": {
      "text/plain": [
       "Index(['Id', 'ProductId', 'UserId', 'HelpfulnessNumerator',\n",
       "       'HelpfulnessDenominator', 'Time', 'Summary', 'Text', 'Score',\n",
       "       'Helpfulness', 'ReviewLength', 'Product_Popularity', 'User_Popularity',\n",
       "       '!_count_Summary', '?_count_Summary', '!_count_Text', '?_count_Text',\n",
       "       'capital_freq_Summary', 'capital_freq_Text',\n",
       "       'num_positive_words_Summary', 'num_negative_words_Summary',\n",
       "       'num_positive_words_Text', 'num_negative_words_Text',\n",
       "       'Summary_polarity', 'Summary_subjectivity', 'Text_polarity',\n",
       "       'Text_subjectivity', 'Year', 'Summary_sent_score', 'Text_sent_score'],\n",
       "      dtype='object')"
      ]
     },
     "execution_count": 107,
     "metadata": {},
     "output_type": "execute_result"
    }
   ],
   "source": [
    "X_train1.columns"
   ]
  },
  {
   "cell_type": "code",
   "execution_count": 108,
   "metadata": {},
   "outputs": [
    {
     "data": {
      "text/plain": [
       "Index(['Id', 'HelpfulnessNumerator', 'HelpfulnessDenominator', 'Score',\n",
       "       'Helpfulness', 'ReviewLength', 'Product_Popularity', 'User_Popularity',\n",
       "       '!_count_Summary', '?_count_Summary', '!_count_Text', '?_count_Text',\n",
       "       'capital_freq_Summary', 'capital_freq_Text',\n",
       "       'num_positive_words_Summary', 'num_negative_words_Summary',\n",
       "       'num_positive_words_Text', 'num_negative_words_Text',\n",
       "       'Summary_polarity', 'Summary_subjectivity', 'Text_polarity',\n",
       "       'Text_subjectivity', 'Year', 'Summary_sent_score', 'Text_sent_score'],\n",
       "      dtype='object')"
      ]
     },
     "execution_count": 108,
     "metadata": {},
     "output_type": "execute_result"
    }
   ],
   "source": [
    "columns_to_include0= X_train1.select_dtypes(include=['int64', 'float64']).columns\n",
    "columns_to_include0"
   ]
  },
  {
   "cell_type": "code",
   "execution_count": 109,
   "metadata": {},
   "outputs": [
    {
     "data": {
      "text/plain": [
       "(122283, 30)"
      ]
     },
     "execution_count": 109,
     "metadata": {},
     "output_type": "execute_result"
    }
   ],
   "source": [
    "X_train1.shape"
   ]
  },
  {
   "cell_type": "code",
   "execution_count": 110,
   "metadata": {},
   "outputs": [
    {
     "name": "stderr",
     "output_type": "stream",
     "text": [
      "[nltk_data] Downloading package stopwords to\n",
      "[nltk_data]     /Users/canerozer/nltk_data...\n",
      "[nltk_data]   Package stopwords is already up-to-date!\n"
     ]
    },
    {
     "name": "stdout",
     "output_type": "stream",
     "text": [
      "shape of df: (122283, 30)\n",
      "shape of dt_matrix: (122283, 271197)\n"
     ]
    }
   ],
   "source": [
    "concat_lines_train = prevectorizer(X_train1, \"Text\")\n",
    "\n",
    "tfidf_vectorizer = TfidfVectorizer()\n",
    "\n",
    "dt_matrix_train = tfidf_vectorizer.fit_transform(concat_lines_train)\n",
    "\n",
    "print(\"shape of df:\", X_train1.shape)\n",
    "print(\"shape of dt_matrix:\", dt_matrix_train.shape)\n",
    "\n"
   ]
  },
  {
   "cell_type": "code",
   "execution_count": 111,
   "metadata": {},
   "outputs": [],
   "source": [
    "columns_to_include=['HelpfulnessNumerator', 'HelpfulnessDenominator',\n",
    "         'ReviewLength', 'Product_Popularity', 'User_Popularity',\n",
    "       '!_count_Summary', '?_count_Summary', '!_count_Text', '?_count_Text',\n",
    "       'capital_freq_Summary', 'capital_freq_Text',\n",
    "       'num_positive_words_Summary', 'num_negative_words_Summary',\n",
    "       'num_positive_words_Text', 'num_negative_words_Text',\n",
    "       'Summary_polarity', 'Summary_subjectivity', 'Text_polarity',\n",
    "       'Text_subjectivity', 'Year', 'Summary_sent_score', 'Text_sent_score']\n",
    "\n",
    "\n",
    "\n",
    "if columns_to_include==[]:\n",
    "    X_train1=dt_matrix_train\n",
    "else:\n",
    "    X_train1 = hstack([X_train1[columns_to_include], dt_matrix_train])\n",
    "\n",
    "    "
   ]
  },
  {
   "cell_type": "code",
   "execution_count": 84,
   "metadata": {},
   "outputs": [],
   "source": [
    "#scaler = MaxAbsScaler() #because dt_matrix_train is a sparse matrix\n",
    "#X_train1 = scaler.fit_transform(X_train1)\n"
   ]
  },
  {
   "cell_type": "code",
   "execution_count": 112,
   "metadata": {},
   "outputs": [],
   "source": [
    "X_train1=csr_matrix(X_train1) #for faster training"
   ]
  },
  {
   "cell_type": "code",
   "execution_count": 113,
   "metadata": {},
   "outputs": [
    {
     "data": {
      "text/plain": [
       "(122283, 271219)"
      ]
     },
     "execution_count": 113,
     "metadata": {},
     "output_type": "execute_result"
    }
   ],
   "source": [
    "X_train1.shape # or len"
   ]
  },
  {
   "cell_type": "code",
   "execution_count": 50,
   "metadata": {},
   "outputs": [],
   "source": [
    "#DONT RUN THIS KILLS THE KERNEL\n",
    "#X_train1 =X_train1.toarray()"
   ]
  },
  {
   "cell_type": "code",
   "execution_count": 114,
   "metadata": {},
   "outputs": [],
   "source": [
    "#NOW USE THESE\n",
    "\n",
    "X_train = X_train1[:train_rows] \n",
    "X_test = X_train1[train_rows:]  "
   ]
  },
  {
   "cell_type": "code",
   "execution_count": 115,
   "metadata": {},
   "outputs": [
    {
     "data": {
      "text/plain": [
       "(97826, 271219)"
      ]
     },
     "execution_count": 115,
     "metadata": {},
     "output_type": "execute_result"
    }
   ],
   "source": [
    "X_train.shape"
   ]
  },
  {
   "cell_type": "code",
   "execution_count": 43,
   "metadata": {},
   "outputs": [],
   "source": [
    "#DONT USE SVD FOR NOW\n",
    "#svd = TruncatedSVD(n_components=1000) \n",
    "#X_train_svd=svd.fit_transform(X_train)\n",
    "#X_test_svd =svd.fit_transform(X_test)"
   ]
  },
  {
   "cell_type": "code",
   "execution_count": 142,
   "metadata": {},
   "outputs": [],
   "source": [
    "param_grid_ridge = {'alpha': [1.0, 5.0, 10.0]}\n",
    "\n",
    "model = RidgeClassifier()\n",
    "\n",
    "grid_search = GridSearchCV(model, param_grid_ridge , cv=5)\n"
   ]
  },
  {
   "cell_type": "code",
   "execution_count": 143,
   "metadata": {},
   "outputs": [
    {
     "data": {
      "text/html": [
       "<style>#sk-container-id-4 {color: black;background-color: white;}#sk-container-id-4 pre{padding: 0;}#sk-container-id-4 div.sk-toggleable {background-color: white;}#sk-container-id-4 label.sk-toggleable__label {cursor: pointer;display: block;width: 100%;margin-bottom: 0;padding: 0.3em;box-sizing: border-box;text-align: center;}#sk-container-id-4 label.sk-toggleable__label-arrow:before {content: \"▸\";float: left;margin-right: 0.25em;color: #696969;}#sk-container-id-4 label.sk-toggleable__label-arrow:hover:before {color: black;}#sk-container-id-4 div.sk-estimator:hover label.sk-toggleable__label-arrow:before {color: black;}#sk-container-id-4 div.sk-toggleable__content {max-height: 0;max-width: 0;overflow: hidden;text-align: left;background-color: #f0f8ff;}#sk-container-id-4 div.sk-toggleable__content pre {margin: 0.2em;color: black;border-radius: 0.25em;background-color: #f0f8ff;}#sk-container-id-4 input.sk-toggleable__control:checked~div.sk-toggleable__content {max-height: 200px;max-width: 100%;overflow: auto;}#sk-container-id-4 input.sk-toggleable__control:checked~label.sk-toggleable__label-arrow:before {content: \"▾\";}#sk-container-id-4 div.sk-estimator input.sk-toggleable__control:checked~label.sk-toggleable__label {background-color: #d4ebff;}#sk-container-id-4 div.sk-label input.sk-toggleable__control:checked~label.sk-toggleable__label {background-color: #d4ebff;}#sk-container-id-4 input.sk-hidden--visually {border: 0;clip: rect(1px 1px 1px 1px);clip: rect(1px, 1px, 1px, 1px);height: 1px;margin: -1px;overflow: hidden;padding: 0;position: absolute;width: 1px;}#sk-container-id-4 div.sk-estimator {font-family: monospace;background-color: #f0f8ff;border: 1px dotted black;border-radius: 0.25em;box-sizing: border-box;margin-bottom: 0.5em;}#sk-container-id-4 div.sk-estimator:hover {background-color: #d4ebff;}#sk-container-id-4 div.sk-parallel-item::after {content: \"\";width: 100%;border-bottom: 1px solid gray;flex-grow: 1;}#sk-container-id-4 div.sk-label:hover label.sk-toggleable__label {background-color: #d4ebff;}#sk-container-id-4 div.sk-serial::before {content: \"\";position: absolute;border-left: 1px solid gray;box-sizing: border-box;top: 0;bottom: 0;left: 50%;z-index: 0;}#sk-container-id-4 div.sk-serial {display: flex;flex-direction: column;align-items: center;background-color: white;padding-right: 0.2em;padding-left: 0.2em;position: relative;}#sk-container-id-4 div.sk-item {position: relative;z-index: 1;}#sk-container-id-4 div.sk-parallel {display: flex;align-items: stretch;justify-content: center;background-color: white;position: relative;}#sk-container-id-4 div.sk-item::before, #sk-container-id-4 div.sk-parallel-item::before {content: \"\";position: absolute;border-left: 1px solid gray;box-sizing: border-box;top: 0;bottom: 0;left: 50%;z-index: -1;}#sk-container-id-4 div.sk-parallel-item {display: flex;flex-direction: column;z-index: 1;position: relative;background-color: white;}#sk-container-id-4 div.sk-parallel-item:first-child::after {align-self: flex-end;width: 50%;}#sk-container-id-4 div.sk-parallel-item:last-child::after {align-self: flex-start;width: 50%;}#sk-container-id-4 div.sk-parallel-item:only-child::after {width: 0;}#sk-container-id-4 div.sk-dashed-wrapped {border: 1px dashed gray;margin: 0 0.4em 0.5em 0.4em;box-sizing: border-box;padding-bottom: 0.4em;background-color: white;}#sk-container-id-4 div.sk-label label {font-family: monospace;font-weight: bold;display: inline-block;line-height: 1.2em;}#sk-container-id-4 div.sk-label-container {text-align: center;}#sk-container-id-4 div.sk-container {/* jupyter's `normalize.less` sets `[hidden] { display: none; }` but bootstrap.min.css set `[hidden] { display: none !important; }` so we also need the `!important` here to be able to override the default hidden behavior on the sphinx rendered scikit-learn.org. See: https://github.com/scikit-learn/scikit-learn/issues/21755 */display: inline-block !important;position: relative;}#sk-container-id-4 div.sk-text-repr-fallback {display: none;}</style><div id=\"sk-container-id-4\" class=\"sk-top-container\"><div class=\"sk-text-repr-fallback\"><pre>GridSearchCV(cv=5, estimator=RidgeClassifier(),\n",
       "             param_grid={&#x27;alpha&#x27;: [1.0, 5.0, 10.0]})</pre><b>In a Jupyter environment, please rerun this cell to show the HTML representation or trust the notebook. <br />On GitHub, the HTML representation is unable to render, please try loading this page with nbviewer.org.</b></div><div class=\"sk-container\" hidden><div class=\"sk-item sk-dashed-wrapped\"><div class=\"sk-label-container\"><div class=\"sk-label sk-toggleable\"><input class=\"sk-toggleable__control sk-hidden--visually\" id=\"sk-estimator-id-4\" type=\"checkbox\" ><label for=\"sk-estimator-id-4\" class=\"sk-toggleable__label sk-toggleable__label-arrow\">GridSearchCV</label><div class=\"sk-toggleable__content\"><pre>GridSearchCV(cv=5, estimator=RidgeClassifier(),\n",
       "             param_grid={&#x27;alpha&#x27;: [1.0, 5.0, 10.0]})</pre></div></div></div><div class=\"sk-parallel\"><div class=\"sk-parallel-item\"><div class=\"sk-item\"><div class=\"sk-label-container\"><div class=\"sk-label sk-toggleable\"><input class=\"sk-toggleable__control sk-hidden--visually\" id=\"sk-estimator-id-5\" type=\"checkbox\" ><label for=\"sk-estimator-id-5\" class=\"sk-toggleable__label sk-toggleable__label-arrow\">estimator: RidgeClassifier</label><div class=\"sk-toggleable__content\"><pre>RidgeClassifier()</pre></div></div></div><div class=\"sk-serial\"><div class=\"sk-item\"><div class=\"sk-estimator sk-toggleable\"><input class=\"sk-toggleable__control sk-hidden--visually\" id=\"sk-estimator-id-6\" type=\"checkbox\" ><label for=\"sk-estimator-id-6\" class=\"sk-toggleable__label sk-toggleable__label-arrow\">RidgeClassifier</label><div class=\"sk-toggleable__content\"><pre>RidgeClassifier()</pre></div></div></div></div></div></div></div></div></div></div>"
      ],
      "text/plain": [
       "GridSearchCV(cv=5, estimator=RidgeClassifier(),\n",
       "             param_grid={'alpha': [1.0, 5.0, 10.0]})"
      ]
     },
     "execution_count": 143,
     "metadata": {},
     "output_type": "execute_result"
    }
   ],
   "source": [
    "grid_search.fit(X_train, Y_train)"
   ]
  },
  {
   "cell_type": "code",
   "execution_count": 144,
   "metadata": {},
   "outputs": [
    {
     "name": "stdout",
     "output_type": "stream",
     "text": [
      "Best alpha: 5.0\n",
      "Best score: 0.6169934211803235\n"
     ]
    }
   ],
   "source": [
    "best_alpha = grid_search.best_params_['alpha']\n",
    "best_score = grid_search.best_score_\n",
    "\n",
    "print(f\"Best alpha: {best_alpha}\")\n",
    "print(f\"Best score: {best_score}\")"
   ]
  },
  {
   "cell_type": "code",
   "execution_count": 145,
   "metadata": {},
   "outputs": [],
   "source": [
    "model=grid_search"
   ]
  },
  {
   "cell_type": "code",
   "execution_count": 116,
   "metadata": {},
   "outputs": [],
   "source": [
    "#model = xgb.XGBClassifier(**params)\n",
    "#model = RidgeClassifier(alpha=1.0)\n",
    "#model = RandomForestClassifier(class_weight=class_weights_dict)\n"
   ]
  },
  {
   "cell_type": "code",
   "execution_count": 117,
   "metadata": {},
   "outputs": [
    {
     "data": {
      "text/html": [
       "<style>#sk-container-id-3 {color: black;background-color: white;}#sk-container-id-3 pre{padding: 0;}#sk-container-id-3 div.sk-toggleable {background-color: white;}#sk-container-id-3 label.sk-toggleable__label {cursor: pointer;display: block;width: 100%;margin-bottom: 0;padding: 0.3em;box-sizing: border-box;text-align: center;}#sk-container-id-3 label.sk-toggleable__label-arrow:before {content: \"▸\";float: left;margin-right: 0.25em;color: #696969;}#sk-container-id-3 label.sk-toggleable__label-arrow:hover:before {color: black;}#sk-container-id-3 div.sk-estimator:hover label.sk-toggleable__label-arrow:before {color: black;}#sk-container-id-3 div.sk-toggleable__content {max-height: 0;max-width: 0;overflow: hidden;text-align: left;background-color: #f0f8ff;}#sk-container-id-3 div.sk-toggleable__content pre {margin: 0.2em;color: black;border-radius: 0.25em;background-color: #f0f8ff;}#sk-container-id-3 input.sk-toggleable__control:checked~div.sk-toggleable__content {max-height: 200px;max-width: 100%;overflow: auto;}#sk-container-id-3 input.sk-toggleable__control:checked~label.sk-toggleable__label-arrow:before {content: \"▾\";}#sk-container-id-3 div.sk-estimator input.sk-toggleable__control:checked~label.sk-toggleable__label {background-color: #d4ebff;}#sk-container-id-3 div.sk-label input.sk-toggleable__control:checked~label.sk-toggleable__label {background-color: #d4ebff;}#sk-container-id-3 input.sk-hidden--visually {border: 0;clip: rect(1px 1px 1px 1px);clip: rect(1px, 1px, 1px, 1px);height: 1px;margin: -1px;overflow: hidden;padding: 0;position: absolute;width: 1px;}#sk-container-id-3 div.sk-estimator {font-family: monospace;background-color: #f0f8ff;border: 1px dotted black;border-radius: 0.25em;box-sizing: border-box;margin-bottom: 0.5em;}#sk-container-id-3 div.sk-estimator:hover {background-color: #d4ebff;}#sk-container-id-3 div.sk-parallel-item::after {content: \"\";width: 100%;border-bottom: 1px solid gray;flex-grow: 1;}#sk-container-id-3 div.sk-label:hover label.sk-toggleable__label {background-color: #d4ebff;}#sk-container-id-3 div.sk-serial::before {content: \"\";position: absolute;border-left: 1px solid gray;box-sizing: border-box;top: 0;bottom: 0;left: 50%;z-index: 0;}#sk-container-id-3 div.sk-serial {display: flex;flex-direction: column;align-items: center;background-color: white;padding-right: 0.2em;padding-left: 0.2em;position: relative;}#sk-container-id-3 div.sk-item {position: relative;z-index: 1;}#sk-container-id-3 div.sk-parallel {display: flex;align-items: stretch;justify-content: center;background-color: white;position: relative;}#sk-container-id-3 div.sk-item::before, #sk-container-id-3 div.sk-parallel-item::before {content: \"\";position: absolute;border-left: 1px solid gray;box-sizing: border-box;top: 0;bottom: 0;left: 50%;z-index: -1;}#sk-container-id-3 div.sk-parallel-item {display: flex;flex-direction: column;z-index: 1;position: relative;background-color: white;}#sk-container-id-3 div.sk-parallel-item:first-child::after {align-self: flex-end;width: 50%;}#sk-container-id-3 div.sk-parallel-item:last-child::after {align-self: flex-start;width: 50%;}#sk-container-id-3 div.sk-parallel-item:only-child::after {width: 0;}#sk-container-id-3 div.sk-dashed-wrapped {border: 1px dashed gray;margin: 0 0.4em 0.5em 0.4em;box-sizing: border-box;padding-bottom: 0.4em;background-color: white;}#sk-container-id-3 div.sk-label label {font-family: monospace;font-weight: bold;display: inline-block;line-height: 1.2em;}#sk-container-id-3 div.sk-label-container {text-align: center;}#sk-container-id-3 div.sk-container {/* jupyter's `normalize.less` sets `[hidden] { display: none; }` but bootstrap.min.css set `[hidden] { display: none !important; }` so we also need the `!important` here to be able to override the default hidden behavior on the sphinx rendered scikit-learn.org. See: https://github.com/scikit-learn/scikit-learn/issues/21755 */display: inline-block !important;position: relative;}#sk-container-id-3 div.sk-text-repr-fallback {display: none;}</style><div id=\"sk-container-id-3\" class=\"sk-top-container\"><div class=\"sk-text-repr-fallback\"><pre>RidgeClassifier()</pre><b>In a Jupyter environment, please rerun this cell to show the HTML representation or trust the notebook. <br />On GitHub, the HTML representation is unable to render, please try loading this page with nbviewer.org.</b></div><div class=\"sk-container\" hidden><div class=\"sk-item\"><div class=\"sk-estimator sk-toggleable\"><input class=\"sk-toggleable__control sk-hidden--visually\" id=\"sk-estimator-id-3\" type=\"checkbox\" checked><label for=\"sk-estimator-id-3\" class=\"sk-toggleable__label sk-toggleable__label-arrow\">RidgeClassifier</label><div class=\"sk-toggleable__content\"><pre>RidgeClassifier()</pre></div></div></div></div></div>"
      ],
      "text/plain": [
       "RidgeClassifier()"
      ]
     },
     "execution_count": 117,
     "metadata": {},
     "output_type": "execute_result"
    }
   ],
   "source": [
    "#model.fit(X_train, Y_train)"
   ]
  },
  {
   "cell_type": "code",
   "execution_count": 158,
   "metadata": {
    "scrolled": false
   },
   "outputs": [
    {
     "name": "stdout",
     "output_type": "stream",
     "text": [
      "RMSE on testing set =  1.1087623175369015\n",
      "Accuracy: 0.6103773970642352\n"
     ]
    },
    {
     "data": {
      "image/png": "[encoded data removed]",
      "text/plain": [
       "<Figure size 640x480 with 2 Axes>"
      ]
     },
     "metadata": {},
     "output_type": "display_data"
    }
   ],
   "source": [
    "# pickle model - saves it so you can load it later\n",
    "with open('ridgereg_model.obj', 'wb') as f:\n",
    "        pickle.dump(model, f)\n",
    "# to load pickled model: \n",
    "# with open('filename', 'rb') as f:\n",
    "#    model = pickle.load(f)\n",
    "\n",
    "\n",
    "\n",
    "# Evaluate your model on the testing set\n",
    "Y_test_predictions = model.predict(X_test)\n",
    "#print(\"Accuracy on testing set = \", accuracy_score(Y_test, Y_test_predictions))\n",
    "print(\"RMSE on testing set = \", mean_squared_error(Y_test, Y_test_predictions))\n",
    "\n",
    "accuracy = model.score(X_test, Y_test)\n",
    "print(\"Accuracy:\", accuracy)\n",
    "\n",
    "\n",
    "# Plot a confusion matrix\n",
    "cm = confusion_matrix(Y_test, Y_test_predictions, normalize='true')\n",
    "sns.heatmap(cm, annot=True)\n",
    "plt.title('Confusion matrix of the classifier')\n",
    "plt.xlabel('Predicted')\n",
    "plt.ylabel('True')\n",
    "plt.show()\n"
   ]
  },
  {
   "cell_type": "markdown",
   "metadata": {},
   "source": [
    "## Create the Kaggle submission"
   ]
  },
  {
   "cell_type": "code",
   "execution_count": 147,
   "metadata": {},
   "outputs": [],
   "source": [
    "X_submission = pd.read_csv(\"./data/X_test.csv\")\n"
   ]
  },
  {
   "cell_type": "code",
   "execution_count": 148,
   "metadata": {},
   "outputs": [
    {
     "data": {
      "text/plain": [
       "Index(['Id', 'ProductId', 'UserId', 'HelpfulnessNumerator',\n",
       "       'HelpfulnessDenominator', 'Time', 'Summary', 'Text', 'Helpfulness',\n",
       "       'ReviewLength', 'Product_Popularity', 'User_Popularity',\n",
       "       '!_count_Summary', '?_count_Summary', '!_count_Text', '?_count_Text',\n",
       "       'capital_freq_Summary', 'capital_freq_Text',\n",
       "       'num_positive_words_Summary', 'num_negative_words_Summary',\n",
       "       'num_positive_words_Text', 'num_negative_words_Text',\n",
       "       'Summary_polarity', 'Summary_subjectivity', 'Text_polarity',\n",
       "       'Text_subjectivity', 'Year', 'Summary_sent_score', 'Text_sent_score',\n",
       "       'Score'],\n",
       "      dtype='object')"
      ]
     },
     "execution_count": 148,
     "metadata": {},
     "output_type": "execute_result"
    }
   ],
   "source": [
    "X_submission.columns"
   ]
  },
  {
   "cell_type": "code",
   "execution_count": 149,
   "metadata": {},
   "outputs": [
    {
     "data": {
      "text/plain": [
       "(17470, 30)"
      ]
     },
     "execution_count": 149,
     "metadata": {},
     "output_type": "execute_result"
    }
   ],
   "source": [
    "X_submission.shape"
   ]
  },
  {
   "cell_type": "code",
   "execution_count": 150,
   "metadata": {},
   "outputs": [],
   "source": [
    "#do the tfidf stuff here\n",
    "#LOOK IF THE VECTOR SIZE OF TFIDF IS DIFFERENT"
   ]
  },
  {
   "cell_type": "code",
   "execution_count": 151,
   "metadata": {},
   "outputs": [
    {
     "name": "stderr",
     "output_type": "stream",
     "text": [
      "[nltk_data] Downloading package stopwords to\n",
      "[nltk_data]     /Users/canerozer/nltk_data...\n",
      "[nltk_data]   Package stopwords is already up-to-date!\n"
     ]
    },
    {
     "name": "stdout",
     "output_type": "stream",
     "text": [
      "shape of df: (17470, 30)\n",
      "shape of dt_matrix: (17470, 271197)\n"
     ]
    }
   ],
   "source": [
    "concat_lines_submission = prevectorizer(X_submission, \"Text\")\n",
    "\n",
    "dt_matrix_submission = tfidf_vectorizer.transform(concat_lines_submission)\n",
    "\n",
    "\n",
    "print(\"shape of df:\", X_submission.shape)\n",
    "print(\"shape of dt_matrix:\", dt_matrix_submission.shape)\n",
    "\n",
    "#comment this if you are using hstack method\n",
    "\n",
    "columns_to_include=['HelpfulnessNumerator', 'HelpfulnessDenominator',\n",
    "         'ReviewLength', 'Product_Popularity', 'User_Popularity',\n",
    "       '!_count_Summary', '?_count_Summary', '!_count_Text', '?_count_Text',\n",
    "       'capital_freq_Summary', 'capital_freq_Text',\n",
    "       'num_positive_words_Summary', 'num_negative_words_Summary',\n",
    "       'num_positive_words_Text', 'num_negative_words_Text',\n",
    "       'Summary_polarity', 'Summary_subjectivity', 'Text_polarity',\n",
    "       'Text_subjectivity', 'Year', 'Summary_sent_score', 'Text_sent_score']\n",
    "\n",
    "\n",
    "if columns_to_include==[]:\n",
    "    X_submission_new=dt_matrix_submission\n",
    "else:\n",
    "    X_submission_new = hstack([X_submission[columns_to_include], dt_matrix_submission])\n",
    "    "
   ]
  },
  {
   "cell_type": "code",
   "execution_count": 96,
   "metadata": {},
   "outputs": [],
   "source": [
    "#scaler = MaxAbsScaler() #because dt_matrix_train is a sparse matrix\n",
    "#X_submission_new = scaler.fit_transform(X_submission_new)"
   ]
  },
  {
   "cell_type": "code",
   "execution_count": 152,
   "metadata": {},
   "outputs": [],
   "source": [
    "X_submission_new=csr_matrix(X_submission_new)"
   ]
  },
  {
   "cell_type": "code",
   "execution_count": 49,
   "metadata": {},
   "outputs": [],
   "source": [
    "#IGNORE THIS\n",
    "#svd = TruncatedSVD(n_components=100) \n",
    "#X_submission_svd=svd.fit_transform(X_submission_new)\n"
   ]
  },
  {
   "cell_type": "code",
   "execution_count": 125,
   "metadata": {},
   "outputs": [
    {
     "data": {
      "text/plain": [
       "(17470, 271219)"
      ]
     },
     "execution_count": 125,
     "metadata": {},
     "output_type": "execute_result"
    }
   ],
   "source": [
    "X_submission_new.shape"
   ]
  },
  {
   "cell_type": "code",
   "execution_count": null,
   "metadata": {},
   "outputs": [],
   "source": []
  },
  {
   "cell_type": "code",
   "execution_count": 68,
   "metadata": {},
   "outputs": [],
   "source": [
    "#X_submission_processed = X_submission.drop(columns=['Id', 'ProductId', 'UserId', 'Text', 'Summary', 'Score','Time','HelpfulnessNumerator','HelpfulnessDenominator'])\n"
   ]
  },
  {
   "cell_type": "code",
   "execution_count": 153,
   "metadata": {},
   "outputs": [],
   "source": [
    "X_submission['Score'] = model.predict(X_submission_new)\n",
    "\n",
    "submission = X_submission[['Id', 'Score']]\n",
    "submission.to_csv(\"./data/submission.csv\", index=False)"
   ]
  },
  {
   "cell_type": "code",
   "execution_count": null,
   "metadata": {},
   "outputs": [],
   "source": []
  },
  {
   "cell_type": "code",
   "execution_count": null,
   "metadata": {},
   "outputs": [],
   "source": []
  },
  {
   "cell_type": "code",
   "execution_count": null,
   "metadata": {},
   "outputs": [],
   "source": []
  }
 ],
 "metadata": {
  "kernelspec": {
   "display_name": "Python 3 (ipykernel)",
   "language": "python",
   "name": "python3"
  },
  "language_info": {
   "codemirror_mode": {
    "name": "ipython",
    "version": 3
   },
   "file_extension": ".py",
   "mimetype": "text/x-python",
   "name": "python",
   "nbconvert_exporter": "python",
   "pygments_lexer": "ipython3",
   "version": "3.8.3"
  }
 },
 "nbformat": 4,
 "nbformat_minor": 4
}
