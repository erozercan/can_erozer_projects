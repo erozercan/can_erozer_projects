{
 "cells": [
  {
   "cell_type": "code",
   "execution_count": 1,
   "metadata": {},
   "outputs": [
    {
     "name": "stderr",
     "output_type": "stream",
     "text": [
      "/Users/canerozer/opt/anaconda3/lib/python3.8/site-packages/torchvision/io/image.py:13: UserWarning: Failed to load image Python extension: 'dlopen(/Users/canerozer/opt/anaconda3/lib/python3.8/site-packages/torchvision/image.so, 6): Library not loaded: @rpath/libpng16.16.dylib\n",
      "  Referenced from: /Users/canerozer/opt/anaconda3/lib/python3.8/site-packages/torchvision/image.so\n",
      "  Reason: Incompatible library version: image.so requires version 56.0.0 or later, but libpng16.16.dylib provides version 54.0.0'If you don't plan on using image functionality from `torchvision.io`, you can ignore this warning. Otherwise, there might be something wrong with your environment. Did you have `libjpeg` or `libpng` installed before building `torchvision` from source?\n",
      "  warn(\n"
     ]
    }
   ],
   "source": [
    "import math\n",
    "import numpy as np\n",
    "from numpy.random import shuffle, seed, choice\n",
    "from tqdm import tqdm\n",
    "from collections import defaultdict, Counter\n",
    "import pandas as pd\n",
    "import re\n",
    "import matplotlib.pyplot as plt\n",
    "\n",
    "import torch\n",
    "from torch.utils.data import Dataset,DataLoader\n",
    "import torch.nn.functional as F\n",
    "from torch.utils.data import random_split,Dataset,DataLoader\n",
    "from torchvision import datasets, transforms\n",
    "from torch import nn, optim\n",
    "\n",
    "import torchvision.transforms as T\n",
    "\n",
    "from sklearn.decomposition import PCA, TruncatedSVD\n",
    "from sklearn.feature_extraction.text import TfidfVectorizer, CountVectorizer\n",
    "\n",
    "\n",
    "\n"
   ]
  },
  {
   "cell_type": "markdown",
   "metadata": {},
   "source": [
    "## Part-of-Speech Tagging \n",
    "\n",
    "\n"
   ]
  },
  {
   "cell_type": "markdown",
   "metadata": {},
   "source": [
    "Recall that the Brown Corpus has a list of all sentences tagged with parts of speech. The tags are\n",
    "a bit odd, and not generally used any more, so we will use a much simpler set of tags the `universal_tagset`. \n",
    "\n",
    "If you run the following cells, you will see that there are 57,340 sentences, tagged with 12 different tags. \n",
    " "
   ]
  },
  {
   "cell_type": "code",
   "execution_count": 2,
   "metadata": {},
   "outputs": [
    {
     "name": "stderr",
     "output_type": "stream",
     "text": [
      "[nltk_data] Downloading package brown to /Users/canerozer/nltk_data...\n",
      "[nltk_data]   Package brown is already up-to-date!\n",
      "[nltk_data] Downloading package universal_tagset to\n",
      "[nltk_data]     /Users/canerozer/nltk_data...\n",
      "[nltk_data]   Package universal_tagset is already up-to-date!\n"
     ]
    },
    {
     "name": "stdout",
     "output_type": "stream",
     "text": [
      "There are 57340 sentences tagged with universal POS tags in the Brown Corpus.\n",
      "\n",
      "Here is the first sentence with universal tags: [('The', 'DET'), ('Fulton', 'NOUN'), ('County', 'NOUN'), ('Grand', 'ADJ'), ('Jury', 'NOUN'), ('said', 'VERB'), ('Friday', 'NOUN'), ('an', 'DET'), ('investigation', 'NOUN'), ('of', 'ADP'), (\"Atlanta's\", 'NOUN'), ('recent', 'ADJ'), ('primary', 'NOUN'), ('election', 'NOUN'), ('produced', 'VERB'), ('``', '.'), ('no', 'DET'), ('evidence', 'NOUN'), (\"''\", '.'), ('that', 'ADP'), ('any', 'DET'), ('irregularities', 'NOUN'), ('took', 'VERB'), ('place', 'NOUN'), ('.', '.')]\n"
     ]
    }
   ],
   "source": [
    "import numpy as np\n",
    "import nltk\n",
    "\n",
    "# The first time you will need to download the corpus:\n",
    "\n",
    "from nltk.corpus import brown\n",
    " \n",
    "nltk.download('brown')\n",
    "nltk.download('universal_tagset')\n",
    "\n",
    "tagged_sentences = brown.tagged_sents(tagset='universal')\n",
    "\n",
    "print(f'There are {len(tagged_sentences)} sentences tagged with universal POS tags in the Brown Corpus.')\n",
    "print(\"\\nHere is the first sentence with universal tags:\",tagged_sentences[0])"
   ]
  },
  {
   "cell_type": "code",
   "execution_count": 3,
   "metadata": {},
   "outputs": [
    {
     "name": "stdout",
     "output_type": "stream",
     "text": [
      "There are 12 universal tags in the Brown Corpus.\n",
      "['.', 'ADJ', 'ADP', 'ADV', 'CONJ', 'DET', 'NOUN', 'NUM', 'PRON', 'PRT', 'VERB', 'X']\n",
      "\n"
     ]
    }
   ],
   "source": [
    "# Uncomment to see the complete list of tags. \n",
    "\n",
    "all_tagged_words = np.concatenate(tagged_sentences)\n",
    "all_tags = sorted(set([pos for (w,pos) in all_tagged_words]))\n",
    "print(f'There are {len(all_tags)} universal tags in the Brown Corpus.')\n",
    "print(all_tags)\n",
    "print()\n",
    "\n"
   ]
  },
  {
   "cell_type": "code",
   "execution_count": 4,
   "metadata": {},
   "outputs": [],
   "source": [
    "tagged_sentences=[sentence for sentence in tagged_sentences if len(sentence)<100]"
   ]
  },
  {
   "cell_type": "code",
   "execution_count": 5,
   "metadata": {},
   "outputs": [
    {
     "data": {
      "text/plain": [
       "57300"
      ]
     },
     "execution_count": 5,
     "metadata": {},
     "output_type": "execute_result"
    }
   ],
   "source": [
    "len(tagged_sentences)"
   ]
  },
  {
   "cell_type": "markdown",
   "metadata": {},
   "source": [
    "### Baseline for the task, using the naive method\n",
    "\n",
    "- Tagging every word with its most frequent POS tag (for example, if 'recent' is most frequently tagged as 'ADJ', then assume that every time 'recent' appears in a sentence, it should be tagged with 'ADJ'); \n",
    "- If a word has two or more most frequent tags, choosed the one that appears first in the list of sorted tags above. \n",
    "\n",
    "- Builded a dictionary mapping every word to its most frequent tag;\n",
    "- Went through the entire tagged corpus, and report the accuracy (percentage of correct tags) of this baseline method. \n"
   ]
  },
  {
   "cell_type": "code",
   "execution_count": 6,
   "metadata": {},
   "outputs": [],
   "source": [
    "from collections import defaultdict\n",
    "\n",
    "word_to_tag=dict()\n",
    "\n",
    "for sentences in tagged_sentences:\n",
    "    for pair in sentences:\n",
    "        word=pair[0]\n",
    "        if word not in word_to_tag:\n",
    "        \n",
    "            word_to_tag[word]=defaultdict(lambda : 0)\n",
    "        \n",
    "\n",
    "for sentences in tagged_sentences:\n",
    "    for pair in sentences:\n",
    "        word=pair[0]\n",
    "        tag=pair[1]\n",
    "        \n",
    "        word_to_tag[word][tag] +=1\n",
    "        \n",
    "        \n",
    "\n",
    "\n"
   ]
  },
  {
   "cell_type": "code",
   "execution_count": 7,
   "metadata": {},
   "outputs": [],
   "source": [
    "estimated_tagged_sentences=[]\n",
    "\n",
    "\n",
    "\n",
    "for sentences in tagged_sentences:\n",
    "    inner_array=[]\n",
    "    for pair in sentences:\n",
    "        \n",
    "        word=pair[0]\n",
    "        \n",
    "        tags_key= list(word_to_tag[word].keys())\n",
    "        tags_value= list(word_to_tag[word].values())\n",
    "        \n",
    "        tags_key_sorted= sorted(list(word_to_tag[word].keys()))\n",
    "        tags_value_sorted= sorted(list(word_to_tag[word].values()))\n",
    "        \n",
    "        \n",
    "        \n",
    "        #most_key=tags_key[0]\n",
    "        most_value=tags_value_sorted[-1]\n",
    "        \n",
    "        most_tags=[]\n",
    "        for val in range(len(tags_value)):\n",
    "            if tags_value[val]==most_value:\n",
    "                most_tags +=[tags_key[val]]\n",
    "            \n",
    "        most_key= sorted(most_tags)[0]\n",
    "        \n",
    "        inner_array +=[(word, most_key)]\n",
    "        \n",
    "    \n",
    "    estimated_tagged_sentences +=[inner_array]\n",
    "\n",
    "\n"
   ]
  },
  {
   "cell_type": "code",
   "execution_count": 8,
   "metadata": {},
   "outputs": [],
   "source": [
    "num_total=0\n",
    "num_correct=0\n",
    "\n",
    "for sent in range(len(tagged_sentences)):\n",
    "    for pair in range(len(tagged_sentences[sent])):\n",
    "        num_total +=1\n",
    "        \n",
    "        if tagged_sentences[sent][pair][1]==estimated_tagged_sentences[sent][pair][1]:\n",
    "            num_correct +=1\n",
    "            "
   ]
  },
  {
   "cell_type": "code",
   "execution_count": 9,
   "metadata": {},
   "outputs": [
    {
     "name": "stdout",
     "output_type": "stream",
     "text": [
      "The accuracy of the baseline model is 0.957103855144329\n"
     ]
    }
   ],
   "source": [
    "print(f\"The accuracy of the baseline model is {num_correct/num_total}\")"
   ]
  },
  {
   "cell_type": "markdown",
   "metadata": {},
   "source": [
    "### Viterbi Algorithm\n",
    "\n"
   ]
  },
  {
   "cell_type": "code",
   "execution_count": 10,
   "metadata": {},
   "outputs": [],
   "source": [
    "def viterbi(obs_sequence, obs, states, start_p, trans_p, emit_p,logspace=True):\n",
    "    \n",
    "    V = [{}]\n",
    "    for st in states:\n",
    "        if logspace:\n",
    "            V[0] [st] = {\"prob\": start_p[st] + emit_p[st][obs_sequence[0]], \"prev\": None}\n",
    "        else:\n",
    "            V[0] [st] = {\"prob\": start_p[st] * emit_p[st][obs_sequence[0]], \"prev\": None}\n",
    "        \n",
    "    # Run Viterbi when t > 0\n",
    "    \n",
    "    for t in range(1, len(obs_sequence)):\n",
    "        V.append({})\n",
    "        for st in states:\n",
    "            \n",
    "            if logspace:\n",
    "                max_tr_prob = V[t - 1] [states[0]] [\"prob\"] + trans_p[states[0]] [st]\n",
    "            else:\n",
    "                max_tr_prob = V[t - 1] [states[0]] [\"prob\"] * trans_p[states[0]] [st]\n",
    "                \n",
    "            prev_st_selected = states[0]\n",
    "            \n",
    "            for prev_st in states[1:]:\n",
    "                \n",
    "                if logspace:\n",
    "                    tr_prob = V[t - 1] [prev_st] [\"prob\"] + trans_p[prev_st] [st]\n",
    "                else:\n",
    "                    tr_prob = V[t - 1] [prev_st] [\"prob\"] * trans_p[prev_st] [st]\n",
    "                    \n",
    "                if tr_prob > max_tr_prob:\n",
    "                    max_tr_prob = tr_prob\n",
    "                    prev_st_selected = prev_st\n",
    "\n",
    "            if logspace:\n",
    "                max_prob = max_tr_prob + emit_p[st] [obs_sequence[t]]\n",
    "            else:\n",
    "                max_prob = max_tr_prob * emit_p[st] [obs_sequence[t]]\n",
    "                \n",
    "            V[t] [st] = {\"prob\": max_prob, \"prev\": prev_st_selected}\n",
    "\n",
    "    opt = []\n",
    "    max_prob = float('-inf')\n",
    "    best_st = None\n",
    "\n",
    "    # Get most probable state and its backtrack\n",
    "    for st, data in V[-1].items():\n",
    "        if data[\"prob\"] > max_prob:\n",
    "            max_prob = data[\"prob\"]\n",
    "            best_st = st\n",
    "    opt.append(best_st)\n",
    "    previous = best_st\n",
    "\n",
    "    # Follow the backtrack till the first observation\n",
    "    for t in range(len(V) - 2, -1, -1):\n",
    "        opt.insert(0, V[t + 1] [previous] [\"prev\"])\n",
    "        previous = V[t + 1] [previous] [\"prev\"]\n",
    "\n",
    "    return (opt,max_prob)\n",
    "\n"
   ]
  },
  {
   "cell_type": "code",
   "execution_count": 11,
   "metadata": {},
   "outputs": [],
   "source": [
    "START_tag_prob_dict=defaultdict(int)\n",
    "\n",
    "\n",
    "for sentence in tagged_sentences:\n",
    "    tag=sentence[0][1]\n",
    "    START_tag_prob_dict[tag] += 1\n",
    "    \n",
    "    \n",
    "for key in START_tag_prob_dict:\n",
    "    START_tag_prob_dict[key] /= len(tagged_sentences)\n",
    "    \n",
    "    \n",
    "\n",
    "#to prevent underflow\n",
    "START_tag_prob_dict_log=defaultdict(lambda: float('-inf'))\n",
    "\n",
    "\n",
    "for key in START_tag_prob_dict:\n",
    "    START_tag_prob_dict_log[key]= np.log(START_tag_prob_dict[key])\n",
    "\n"
   ]
  },
  {
   "cell_type": "code",
   "execution_count": 12,
   "metadata": {},
   "outputs": [],
   "source": [
    "TRANS_probs= defaultdict(lambda: defaultdict(int))\n",
    "\n",
    "\n",
    "for sentence in tagged_sentences:\n",
    "    for pair in range(len(sentence)-1):\n",
    "        \n",
    "        tag=sentence[pair][1]\n",
    "        next_tag=sentence[pair + 1][1]\n",
    "        \n",
    "        TRANS_probs[tag][next_tag] +=1 \n",
    "        \n",
    "        \n",
    "        \n",
    "for key in TRANS_probs:\n",
    "    sum_prob=0\n",
    "    for k in TRANS_probs[key]:\n",
    "        sum_prob += TRANS_probs[key][k]\n",
    "        \n",
    "    for k1 in TRANS_probs[key]:\n",
    "        TRANS_probs[key][k1] /= sum_prob\n",
    "        \n",
    "        \n",
    "#again to avoid underflow\n",
    "\n",
    "TRANS_probs_log=defaultdict(lambda: defaultdict(lambda: float('-inf')))\n",
    "\n",
    "for key in TRANS_probs:\n",
    "    for k in TRANS_probs[key]:\n",
    "        TRANS_probs_log[key][k] = np.log(TRANS_probs[key][k1])\n",
    "        \n",
    "        \n",
    "\n"
   ]
  },
  {
   "cell_type": "code",
   "execution_count": 13,
   "metadata": {},
   "outputs": [
    {
     "data": {
      "text/plain": [
       "defaultdict(<function __main__.<lambda>()>,\n",
       "            {'DET': defaultdict(int,\n",
       "                         {'NOUN': 0.62668435946687,\n",
       "                          'VERB': 0.06463248339467163,\n",
       "                          'DET': 0.005916335537602088,\n",
       "                          'ADJ': 0.23973988651192799,\n",
       "                          'PRON': 0.009882553041744256,\n",
       "                          'NUM': 0.00975792143810208,\n",
       "                          'ADV': 0.017507074676324393,\n",
       "                          'ADP': 0.009046788170261433,\n",
       "                          '.': 0.012778405008724212,\n",
       "                          'X': 0.0014002727232738522,\n",
       "                          'PRT': 0.002008768199879767,\n",
       "                          'CONJ': 0.0006451518306183194}),\n",
       "             'NOUN': defaultdict(int,\n",
       "                         {'NOUN': 0.14987679055857384,\n",
       "                          'ADJ': 0.012931507249979891,\n",
       "                          'VERB': 0.1595909592787312,\n",
       "                          'DET': 0.015534626605927216,\n",
       "                          'ADP': 0.24493817591529626,\n",
       "                          '.': 0.2846576824925599,\n",
       "                          'ADV': 0.026462609407790348,\n",
       "                          'CONJ': 0.059813248122609845,\n",
       "                          'PRT': 0.017889133439115523,\n",
       "                          'NUM': 0.008083563056179119,\n",
       "                          'PRON': 0.019889001820721123,\n",
       "                          'X': 0.00033270205251573936}),\n",
       "             'ADJ': defaultdict(int,\n",
       "                         {'NOUN': 0.652956421578038,\n",
       "                          '.': 0.10060712228834709,\n",
       "                          'ADP': 0.08841668266461893,\n",
       "                          'CONJ': 0.037579189863697446,\n",
       "                          'PRT': 0.019221539642925705,\n",
       "                          'ADJ': 0.05689671722019581,\n",
       "                          'DET': 0.005831253599539259,\n",
       "                          'ADV': 0.00968276060664235,\n",
       "                          'VERB': 0.01746976387022461,\n",
       "                          'NUM': 0.007007103090804377,\n",
       "                          'X': 0.0005039354962564792,\n",
       "                          'PRON': 0.003827510078709925}),\n",
       "             'VERB': defaultdict(int,\n",
       "                         {'NOUN': 0.0974853997154112,\n",
       "                          '.': 0.08059686732557948,\n",
       "                          'ADP': 0.16923144541443932,\n",
       "                          'ADJ': 0.05755506353802117,\n",
       "                          'DET': 0.1631660778938231,\n",
       "                          'VERB': 0.18445529813149322,\n",
       "                          'PRON': 0.055110236955888736,\n",
       "                          'CONJ': 0.014311849992033712,\n",
       "                          'ADV': 0.10330353758165446,\n",
       "                          'PRT': 0.06557629232434332,\n",
       "                          'NUM': 0.009021135388452726,\n",
       "                          'X': 0.00018679573885955708}),\n",
       "             'ADP': defaultdict(int,\n",
       "                         {'NOUN': 0.2585688598226869,\n",
       "                          'DET': 0.4554877498455279,\n",
       "                          'ADJ': 0.08264428383979339,\n",
       "                          'VERB': 0.04121800345739696,\n",
       "                          'PRON': 0.06975888474649226,\n",
       "                          'ADP': 0.020279229930782634,\n",
       "                          'PRT': 0.014232256541631086,\n",
       "                          'NUM': 0.0301862689965912,\n",
       "                          'ADV': 0.015516630912461209,\n",
       "                          '.': 0.009747360089975631,\n",
       "                          'CONJ': 0.0018953200174952618,\n",
       "                          'X': 0.0004651517991655038}),\n",
       "             '.': defaultdict(int,\n",
       "                         {'DET': 0.10934833588391372,\n",
       "                          'ADP': 0.10486738816897687,\n",
       "                          '.': 0.173083486551652,\n",
       "                          'VERB': 0.12390315868279955,\n",
       "                          'NOUN': 0.1338228979731143,\n",
       "                          'ADV': 0.07032996069537262,\n",
       "                          'PRT': 0.02961609177685541,\n",
       "                          'CONJ': 0.11189157647887789,\n",
       "                          'PRON': 0.07503110240121547,\n",
       "                          'NUM': 0.01939909059881756,\n",
       "                          'ADJ': 0.046692135771614796,\n",
       "                          'X': 0.0020147750167897917}),\n",
       "             'ADV': defaultdict(int,\n",
       "                         {'VERB': 0.24020640645645108,\n",
       "                          'DET': 0.07368853337142449,\n",
       "                          'ADJ': 0.1364675213369996,\n",
       "                          '.': 0.17026747134235617,\n",
       "                          'ADP': 0.1419490768846195,\n",
       "                          'ADV': 0.09675749026889977,\n",
       "                          'PRT': 0.02867549905367282,\n",
       "                          'NOUN': 0.032907188515516196,\n",
       "                          'CONJ': 0.01731957290290326,\n",
       "                          'PRON': 0.04835196228975467,\n",
       "                          'NUM': 0.013320001428418384,\n",
       "                          'X': 8.927614898403742e-05}),\n",
       "             'CONJ': defaultdict(int,\n",
       "                         {'NOUN': 0.243574535389482,\n",
       "                          'DET': 0.15139053644391723,\n",
       "                          'ADJ': 0.11213918544879399,\n",
       "                          'ADV': 0.09136681165150916,\n",
       "                          'VERB': 0.19541320680110716,\n",
       "                          'ADP': 0.07286147357321734,\n",
       "                          'PRON': 0.0679056280479768,\n",
       "                          '.': 0.020640569395017794,\n",
       "                          'PRT': 0.025201001713457228,\n",
       "                          'NUM': 0.018689864241465664,\n",
       "                          'X': 0.00055357848952155,\n",
       "                          'CONJ': 0.00026360880453407144}),\n",
       "             'PRT': defaultdict(int,\n",
       "                         {'VERB': 0.6226796482835293,\n",
       "                          'DET': 0.08351581713438669,\n",
       "                          'ADP': 0.09072533099754068,\n",
       "                          'ADV': 0.036317083852710305,\n",
       "                          '.': 0.07674426439376074,\n",
       "                          'NOUN': 0.03581174409594717,\n",
       "                          'ADJ': 0.01889970690294108,\n",
       "                          'CONJ': 0.01212815416231513,\n",
       "                          'PRT': 0.01115116396590641,\n",
       "                          'PRON': 0.006872620691978574,\n",
       "                          'NUM': 0.005120776201866388,\n",
       "                          'X': 3.3689317117542026e-05}),\n",
       "             'PRON': defaultdict(int,\n",
       "                         {'VERB': 0.7066945947045187,\n",
       "                          '.': 0.10348964900150485,\n",
       "                          'DET': 0.01748891690730874,\n",
       "                          'PRT': 0.023671045674543457,\n",
       "                          'ADV': 0.0540122829137349,\n",
       "                          'ADP': 0.055740838654573556,\n",
       "                          'CONJ': 0.011388131939642901,\n",
       "                          'PRON': 0.008195387806564444,\n",
       "                          'ADJ': 0.009456216699882052,\n",
       "                          'NOUN': 0.008846138203115467,\n",
       "                          'NUM': 0.0009964615447187537,\n",
       "                          'X': 2.0335949892219465e-05}),\n",
       "             'NUM': defaultdict(int,\n",
       "                         {'NOUN': 0.38315918035011537,\n",
       "                          'ADP': 0.13203962545799972,\n",
       "                          'ADJ': 0.059573890622879634,\n",
       "                          'DET': 0.01323110327045732,\n",
       "                          '.': 0.2714750983851269,\n",
       "                          'CONJ': 0.0386755326367214,\n",
       "                          'NUM': 0.02164472791423531,\n",
       "                          'VERB': 0.04559641742434523,\n",
       "                          'PRT': 0.005360293119826299,\n",
       "                          'PRON': 0.00854932826706473,\n",
       "                          'ADV': 0.020491247116298007,\n",
       "                          'X': 0.00020355543493011263}),\n",
       "             'X': defaultdict(int,\n",
       "                         {'X': 0.5117130307467057,\n",
       "                          'NOUN': 0.055636896046852125,\n",
       "                          '.': 0.27379209370424595,\n",
       "                          'ADP': 0.053440702781844804,\n",
       "                          'PRT': 0.007320644216691069,\n",
       "                          'VERB': 0.0527086383601757,\n",
       "                          'ADV': 0.007320644216691069,\n",
       "                          'CONJ': 0.022693997071742314,\n",
       "                          'DET': 0.005124450951683748,\n",
       "                          'NUM': 0.0007320644216691069,\n",
       "                          'ADJ': 0.0029282576866764276,\n",
       "                          'PRON': 0.006588579795021962})})"
      ]
     },
     "execution_count": 13,
     "metadata": {},
     "output_type": "execute_result"
    }
   ],
   "source": [
    "TRANS_probs"
   ]
  },
  {
   "cell_type": "code",
   "execution_count": 14,
   "metadata": {},
   "outputs": [],
   "source": [
    "EMIT_probs=defaultdict(lambda: defaultdict(int))\n",
    "\n",
    "\n",
    "for sentence in tagged_sentences:\n",
    "    for pair in sentence:\n",
    "        word=pair[0]\n",
    "        tag=pair[1]\n",
    "        \n",
    "        EMIT_probs[tag][word] +=1\n",
    "        \n",
    "for key in EMIT_probs:\n",
    "    sum_prob = 0\n",
    "    for k in EMIT_probs[key]:\n",
    "        sum_prob += EMIT_probs[key][k]\n",
    "        \n",
    "    for k1 in EMIT_probs[key]:\n",
    "        EMIT_probs[key][k1] /= sum_prob\n",
    "        \n",
    "#again to avoid underflow\n",
    "\n",
    "\n",
    "EMIT_probs_log=defaultdict(lambda: defaultdict(lambda: float('-inf')))\n",
    "\n",
    "for key in EMIT_probs:\n",
    "    for k in EMIT_probs[key]:\n",
    "        EMIT_probs_log[key][k]= np.log(EMIT_probs[key][k])\n",
    "\n",
    "\n"
   ]
  },
  {
   "cell_type": "code",
   "execution_count": 15,
   "metadata": {},
   "outputs": [],
   "source": [
    "all_words=[]\n",
    "\n",
    "for sentence in tagged_sentences:\n",
    "    for pair in sentence:\n",
    "        word=pair[0]\n",
    "        \n",
    "        all_words.append(word)\n",
    "        \n",
    "\n",
    "all_words=list(set(all_words))\n",
    "        \n",
    "\n"
   ]
  },
  {
   "cell_type": "code",
   "execution_count": 16,
   "metadata": {},
   "outputs": [
    {
     "data": {
      "text/plain": [
       "55863"
      ]
     },
     "execution_count": 16,
     "metadata": {},
     "output_type": "execute_result"
    }
   ],
   "source": [
    "len(all_words)"
   ]
  },
  {
   "cell_type": "code",
   "execution_count": 17,
   "metadata": {},
   "outputs": [],
   "source": [
    "import random\n",
    "random.shuffle(tagged_sentences)\n",
    "\n",
    "split_index = int(0.25 * len(tagged_sentences))\n",
    "\n",
    "test_data = tagged_sentences[:split_index]"
   ]
  },
  {
   "cell_type": "code",
   "execution_count": 18,
   "metadata": {},
   "outputs": [
    {
     "name": "stderr",
     "output_type": "stream",
     "text": [
      "100%|█████████████████████████████████████| 14325/14325 [06:50<00:00, 34.91it/s]\n"
     ]
    }
   ],
   "source": [
    "estimated_tagged_viterbi=[]\n",
    "\n",
    "\n",
    "for sentence in tqdm(test_data):\n",
    "    \n",
    "    inner_array=[]\n",
    "    \n",
    "    words=[pair[0] for pair in sentence]\n",
    "    \n",
    "    estimated_tags,probs=viterbi(words, np.array(all_words), np.array(all_tags), START_tag_prob_dict, TRANS_probs, EMIT_probs,logspace=False)\n",
    "    \n",
    "    for i in range(len(words)):\n",
    "        inner_array.append((words[i],estimated_tags[i]))\n",
    "        \n",
    "    estimated_tagged_viterbi += [inner_array]\n",
    "    \n",
    "    \n",
    "    "
   ]
  },
  {
   "cell_type": "code",
   "execution_count": 19,
   "metadata": {},
   "outputs": [],
   "source": [
    "num_total1=0\n",
    "num_correct1=0\n",
    "\n",
    "for sent in range(len(test_data)):\n",
    "    for pair in range(len(test_data[sent])):\n",
    "        num_total1 +=1\n",
    "        \n",
    "        if test_data[sent][pair][1]==estimated_tagged_viterbi[sent][pair][1]:\n",
    "            num_correct1 +=1\n",
    "            "
   ]
  },
  {
   "cell_type": "code",
   "execution_count": 20,
   "metadata": {},
   "outputs": [
    {
     "name": "stdout",
     "output_type": "stream",
     "text": [
      "The accuracy for viterbi algorithm is 0.9751557293930175\n"
     ]
    }
   ],
   "source": [
    "print(f\"The accuracy for viterbi algorithm is {num_correct1/num_total1}\")"
   ]
  },
  {
   "cell_type": "markdown",
   "metadata": {},
   "source": [
    "### LSTM Model\n",
    "\n"
   ]
  },
  {
   "cell_type": "code",
   "execution_count": 37,
   "metadata": {},
   "outputs": [],
   "source": [
    "import random\n",
    "random.shuffle(tagged_sentences)\n",
    "\n",
    "split_index = int(0.3 * len(tagged_sentences))\n",
    "\n",
    "tagged_sentences_train = tagged_sentences[:split_index]\n",
    "\n",
    "#tagged_sentences_test=tagged_sentences[split_index:split_index*2]"
   ]
  },
  {
   "cell_type": "code",
   "execution_count": 38,
   "metadata": {},
   "outputs": [],
   "source": [
    "all_tags_pad = ['PAD'] + all_tags "
   ]
  },
  {
   "cell_type": "code",
   "execution_count": 39,
   "metadata": {},
   "outputs": [],
   "source": [
    "all_words=[]\n",
    "\n",
    "for sentence in tagged_sentences_train:\n",
    "    for pair in sentence:\n",
    "        word=pair[0]\n",
    "        \n",
    "        all_words.append(word)\n",
    "        \n",
    "\n",
    "all_words=list(set(all_words))\n",
    "        \n",
    "all_words = ['<pad>'] + all_words\n",
    "\n"
   ]
  },
  {
   "cell_type": "code",
   "execution_count": 40,
   "metadata": {},
   "outputs": [],
   "source": [
    "vocabulary_dict=dict()\n",
    "\n",
    "for i in range(len(all_words)):\n",
    "    \n",
    "    vocabulary_dict[all_words[i]]= i\n",
    "    \n",
    "    "
   ]
  },
  {
   "cell_type": "code",
   "execution_count": 41,
   "metadata": {},
   "outputs": [],
   "source": [
    "vocabulary_size=len(vocabulary_dict)"
   ]
  },
  {
   "cell_type": "code",
   "execution_count": 42,
   "metadata": {},
   "outputs": [],
   "source": [
    "tag_dict=dict()\n",
    "\n",
    "for i in range(len(all_tags_pad)):\n",
    "    \n",
    "    tag_dict[all_tags_pad[i]]= i\n",
    "    \n",
    "    "
   ]
  },
  {
   "cell_type": "code",
   "execution_count": 43,
   "metadata": {},
   "outputs": [],
   "source": [
    "train_words=[[pair[0] for pair in sent] for sent in tagged_sentences_train]\n",
    "train_tags=[[pair[1] for pair in sent] for sent in tagged_sentences_train]"
   ]
  },
  {
   "cell_type": "code",
   "execution_count": 44,
   "metadata": {},
   "outputs": [],
   "source": [
    "#padding \n",
    "\n",
    "padding_length=100\n",
    "\n",
    "train_words_pad=[]\n",
    "train_tags_pad=[]\n",
    "\n",
    "\n",
    "for i in range(len(train_words)):\n",
    "    \n",
    "    num_pads=padding_length-len(train_words[i])\n",
    "    pads=['<pad>']*num_pads\n",
    "    pad_tags=['PAD']*num_pads\n",
    "    \n",
    "    train_words_pad +=[train_words[i] + pads] \n",
    "    train_tags_pad += [train_tags[i] + pad_tags] \n",
    "\n",
    "\n"
   ]
  },
  {
   "cell_type": "code",
   "execution_count": 45,
   "metadata": {},
   "outputs": [],
   "source": [
    "train_words_pad_encoded=[[vocabulary_dict[word] for word in sent] for sent in train_words_pad]\n",
    "\n",
    "train_tags_pad_encoded=[[tag_dict[tag] for tag in sent] for sent in train_tags_pad]\n",
    "\n",
    "\n"
   ]
  },
  {
   "cell_type": "code",
   "execution_count": 46,
   "metadata": {},
   "outputs": [],
   "source": [
    "split_index1 = int(0.75 * len(train_words_pad_encoded))\n",
    "\n",
    "train_words_pad_encoded1 = train_words_pad_encoded[:split_index1]\n",
    "train_tags_pad_encoded1 = train_tags_pad_encoded[:split_index1]\n",
    "\n",
    "test_words_pad_encoded = train_words_pad_encoded[split_index1:]\n",
    "test_tags_pad_encoded = train_tags_pad_encoded[split_index1:]"
   ]
  },
  {
   "cell_type": "code",
   "execution_count": 47,
   "metadata": {},
   "outputs": [],
   "source": [
    "X=torch.tensor(train_words_pad_encoded1)\n",
    "y=torch.tensor(train_tags_pad_encoded1)\n",
    "\n",
    "TEST_X=torch.tensor(test_words_pad_encoded)\n",
    "TEST_y=torch.tensor(test_tags_pad_encoded)\n",
    "\n"
   ]
  },
  {
   "cell_type": "code",
   "execution_count": 48,
   "metadata": {},
   "outputs": [],
   "source": [
    "class DataSet_POS(Dataset):\n",
    "    \n",
    "    def __init__(self, X, Y):\n",
    "        self.X=X\n",
    "        self.Y=Y\n",
    "        \n",
    "        \n",
    "    def __len__(self):\n",
    "        return len(self.X)\n",
    "    \n",
    "    def __getitem__(self, idx):\n",
    "        return self.X[idx], self.Y[idx]\n",
    "        \n",
    "ds=DataSet_POS(X, y)\n",
    "        "
   ]
  },
  {
   "cell_type": "code",
   "execution_count": 49,
   "metadata": {},
   "outputs": [],
   "source": [
    "batch_size = 128\n",
    "\n",
    "data_loader = DataLoader(ds, batch_size=batch_size, shuffle=True)"
   ]
  },
  {
   "cell_type": "code",
   "execution_count": 50,
   "metadata": {},
   "outputs": [],
   "source": [
    "embedding_dimension=200\n",
    "\n",
    "weights_matrix= np.zeros((vocabulary_size, embedding_dimension))\n",
    "\n",
    "with open(\"/Users/canerozer/Desktop/HW05/glove.6B/glove.6B.200d.txt\", 'r', encoding='utf-8') as f: \n",
    "    \n",
    "    for line in f:\n",
    "        values=line.split()\n",
    "        word=values[0]\n",
    "        vector=np.asarray(values[1:], \"float32\")\n",
    "        if word in vocabulary_dict:\n",
    "            index = vocabulary_dict[word]\n",
    "            weights_matrix[index]= vector\n",
    "            \n",
    "            \n",
    "weights_matrix=torch.tensor(weights_matrix, dtype=torch.float)\n",
    "\n"
   ]
  },
  {
   "cell_type": "code",
   "execution_count": 51,
   "metadata": {},
   "outputs": [],
   "source": [
    "class LSTM_Model_POS(nn.Module):\n",
    "    \n",
    "    def __init__(self, vocabulary_size, embedding_size, embedding_weights, hidden_dim, tag_len):\n",
    "        super(LSTM_Model_POS, self).__init__()\n",
    "    \n",
    "        self.vocabulary_size=vocabulary_size\n",
    "        self.embedding_size=embedding_size\n",
    "        self.embedding_weights=embedding_weights\n",
    "        self.hidden_dim=hidden_dim\n",
    "        self.tag_len= tag_len\n",
    "        \n",
    "        \n",
    "        self.embedding= nn.Embedding(self.vocabulary_size, self.embedding_size)\n",
    "        self.embedding.weight=nn.Parameter(self.embedding_weights)\n",
    "        self.embedding.weight.requires_grad=True # for fine-tuning \n",
    "        \n",
    "        #LSTM layer\n",
    "        self.lstm= nn.LSTM(self.embedding_size, self.hidden_dim, batch_first=True)\n",
    "        \n",
    "    \n",
    "        self.fc= nn.Linear(self.hidden_dim, self.tag_len)\n",
    "        \n",
    "        \n",
    "    def forward(self, x):\n",
    "        \n",
    "        \n",
    "        x=self.embedding(x)\n",
    "        \n",
    "        lstm_output,_ = self.lstm(x)\n",
    "        \n",
    "        lstm_output=lstm_output.contiguous().view(-1, lstm_output.shape[2])\n",
    "        \n",
    "        out=self.fc(lstm_output)\n",
    "        \n",
    "        out=out.view(x.size(0), -1, self.tag_len)\n",
    "        \n",
    "        return out\n",
    "        \n",
    "        \n",
    "        \n",
    "\n"
   ]
  },
  {
   "cell_type": "code",
   "execution_count": 68,
   "metadata": {},
   "outputs": [],
   "source": [
    "class BiLSTM_Model_POS(nn.Module):\n",
    "    \n",
    "    def __init__(self, vocabulary_size, embedding_size, embedding_weights, hidden_dim, tag_len):\n",
    "        super(BiLSTM_Model_POS, self).__init__()\n",
    "    \n",
    "        self.vocabulary_size = vocabulary_size\n",
    "        self.embedding_size = embedding_size\n",
    "        self.embedding_weights = embedding_weights\n",
    "        self.hidden_dim = hidden_dim\n",
    "        self.tag_len = tag_len\n",
    "        \n",
    "        self.embedding = nn.Embedding(self.vocabulary_size, self.embedding_size)\n",
    "        self.embedding.weight = nn.Parameter(self.embedding_weights)\n",
    "        self.embedding.weight.requires_grad = True  # for fine-tuning \n",
    "        \n",
    "        # Bidirectional LSTM layer\n",
    "        self.lstm = nn.LSTM(self.embedding_size, self.hidden_dim, batch_first=True, bidirectional=True)\n",
    "    \n",
    "        # Adjusted linear layer input dimension\n",
    "        self.fc = nn.Linear(self.hidden_dim * 2, self.tag_len)\n",
    "        \n",
    "    def forward(self, x):\n",
    "        x = self.embedding(x)\n",
    "        lstm_output, _ = self.lstm(x)\n",
    "        lstm_output = lstm_output.contiguous().view(-1, self.hidden_dim * 2)\n",
    "        out = self.fc(lstm_output)\n",
    "        out = out.view(x.size(0), -1, self.tag_len)\n",
    "        return out\n",
    "        \n",
    "        "
   ]
  },
  {
   "cell_type": "code",
   "execution_count": 76,
   "metadata": {},
   "outputs": [],
   "source": [
    "class TwoLayerLSTM_Model_POS(nn.Module):\n",
    "    \n",
    "    def __init__(self, vocabulary_size, embedding_size, embedding_weights, hidden_dim, tag_len):\n",
    "        super(TwoLayerLSTM_Model_POS, self).__init__()\n",
    "    \n",
    "        self.vocabulary_size = vocabulary_size\n",
    "        self.embedding_size = embedding_size\n",
    "        self.embedding_weights = embedding_weights\n",
    "        self.hidden_dim = hidden_dim\n",
    "        self.tag_len = tag_len\n",
    "        \n",
    "        self.embedding = nn.Embedding(self.vocabulary_size, self.embedding_size)\n",
    "        self.embedding.weight = nn.Parameter(self.embedding_weights)\n",
    "        self.embedding.weight.requires_grad = True  # for fine-tuning \n",
    "        \n",
    "        # Two-layer LSTM\n",
    "        self.lstm1 = nn.LSTM(self.embedding_size, self.hidden_dim, batch_first=True)\n",
    "        self.lstm2 = nn.LSTM(self.hidden_dim, self.hidden_dim, batch_first=True)\n",
    "    \n",
    "        # Output linear layer\n",
    "        self.fc = nn.Linear(self.hidden_dim, self.tag_len)\n",
    "        \n",
    "    def forward(self, x):\n",
    "        x = self.embedding(x)\n",
    "        \n",
    "        # First LSTM layer\n",
    "        lstm_output1, _ = self.lstm1(x)\n",
    "        \n",
    "        # Second LSTM layer\n",
    "        lstm_output2, _ = self.lstm2(lstm_output1)\n",
    "        \n",
    "        lstm_output = lstm_output2.contiguous().view(-1, lstm_output2.shape[2])\n",
    "        out = self.fc(lstm_output)\n",
    "        out = out.view(x.size(0), -1, self.tag_len)\n",
    "        \n",
    "        return out"
   ]
  },
  {
   "cell_type": "code",
   "execution_count": 53,
   "metadata": {},
   "outputs": [],
   "source": [
    "hidden_dimension=256\n",
    "tag_len=len(tag_dict)\n",
    "\n",
    "model_pos= LSTM_Model_POS(vocabulary_size, embedding_dimension, weights_matrix, hidden_dimension, tag_len)\n",
    "\n"
   ]
  },
  {
   "cell_type": "code",
   "execution_count": 54,
   "metadata": {},
   "outputs": [
    {
     "name": "stderr",
     "output_type": "stream",
     "text": [
      "100%|███████████████████████████████████████████| 10/10 [10:58<00:00, 65.89s/it]\n"
     ]
    }
   ],
   "source": [
    "num_epochs=10\n",
    "\n",
    "optimizer=torch.optim.Adam(model_pos.parameters(), lr=0.001, weight_decay=0.0)\n",
    "\n",
    "loss_fn=nn.CrossEntropyLoss()\n",
    "\n",
    "losses=[]\n",
    "\n",
    "for epoch in tqdm(range(num_epochs)):\n",
    "    \n",
    "    model_pos.train()\n",
    "    \n",
    "    for X_train_batch, y_train_batch in data_loader:\n",
    "        \n",
    "        optimizer.zero_grad()\n",
    "        \n",
    "        y_train_hat= model_pos(X_train_batch)\n",
    "        \n",
    "        loss=loss_fn(y_train_hat.view(-1, tag_len), y_train_batch.view(-1))\n",
    "        loss.backward()\n",
    "        optimizer.step()\n",
    "  \n",
    "\n",
    "    losses.append(loss.item())\n",
    "\n",
    "\n"
   ]
  },
  {
   "cell_type": "code",
   "execution_count": 55,
   "metadata": {},
   "outputs": [
    {
     "data": {
      "text/plain": [
       "[<matplotlib.lines.Line2D at 0x7fb371f89a00>]"
      ]
     },
     "execution_count": 55,
     "metadata": {},
     "output_type": "execute_result"
    },
    {
     "data": {
      "image/png": "[encoded data removed]",
      "text/plain": [
       "<Figure size 640x480 with 1 Axes>"
      ]
     },
     "metadata": {},
     "output_type": "display_data"
    }
   ],
   "source": [
    "plt.title('Loss')\n",
    "plt.plot(losses)"
   ]
  },
  {
   "cell_type": "code",
   "execution_count": 56,
   "metadata": {},
   "outputs": [],
   "source": [
    "TEST=model_pos(TEST_X)"
   ]
  },
  {
   "cell_type": "code",
   "execution_count": 57,
   "metadata": {},
   "outputs": [],
   "source": [
    "TEST_estimated_tags=[]\n",
    "\n",
    "for t in TEST:\n",
    "    \n",
    "    TEST_estimated_tags+=[torch.argmax(t, dim=1)]"
   ]
  },
  {
   "cell_type": "code",
   "execution_count": 58,
   "metadata": {},
   "outputs": [],
   "source": [
    "num_total2=0\n",
    "num_correct2=0\n",
    "\n",
    "for x in range(len(TEST_estimated_tags)):\n",
    "    for y in range(len(TEST_estimated_tags[x])):\n",
    "        num_total2 +=1\n",
    "        \n",
    "        if TEST_y[x][y].item()==TEST_estimated_tags[x][y].item():\n",
    "            num_correct2 +=1"
   ]
  },
  {
   "cell_type": "code",
   "execution_count": 59,
   "metadata": {},
   "outputs": [
    {
     "name": "stdout",
     "output_type": "stream",
     "text": [
      "The accuracy of the LSTM model is 0.9899744067007911\n"
     ]
    }
   ],
   "source": [
    "print(f\"The accuracy of the LSTM model is {num_correct2/num_total2}\")"
   ]
  },
  {
   "cell_type": "code",
   "execution_count": null,
   "metadata": {},
   "outputs": [],
   "source": []
  },
  {
   "cell_type": "code",
   "execution_count": 69,
   "metadata": {},
   "outputs": [],
   "source": [
    "model_pos1= BiLSTM_Model_POS(vocabulary_size, embedding_dimension, weights_matrix, hidden_dimension, tag_len)\n",
    "\n"
   ]
  },
  {
   "cell_type": "code",
   "execution_count": 70,
   "metadata": {},
   "outputs": [
    {
     "name": "stderr",
     "output_type": "stream",
     "text": [
      "100%|██████████████████████████████████████████| 10/10 [21:53<00:00, 131.36s/it]\n"
     ]
    }
   ],
   "source": [
    "num_epochs=10\n",
    "\n",
    "optimizer=torch.optim.Adam(model_pos1.parameters(), lr=0.001, weight_decay=0.0)\n",
    "\n",
    "loss_fn=nn.CrossEntropyLoss()\n",
    "\n",
    "losses1=[]\n",
    "\n",
    "for epoch in tqdm(range(num_epochs)):\n",
    "    \n",
    "    model_pos1.train()\n",
    "    \n",
    "    for X_train_batch, y_train_batch in data_loader:\n",
    "        \n",
    "        optimizer.zero_grad()\n",
    "        \n",
    "        y_train_hat= model_pos1(X_train_batch)\n",
    "        \n",
    "        #loss=loss_fn(y_train_hat.view(-1, tag_len), y_train_batch.view(-1))\n",
    "        loss = loss_fn(y_train_hat.view(-1, tag_len), y_train_batch.view(-1))\n",
    "        loss.backward()\n",
    "        optimizer.step()\n",
    "  \n",
    "\n",
    "    losses1.append(loss.item())"
   ]
  },
  {
   "cell_type": "code",
   "execution_count": 71,
   "metadata": {},
   "outputs": [
    {
     "data": {
      "text/plain": [
       "[<matplotlib.lines.Line2D at 0x7fb1d7eab9a0>]"
      ]
     },
     "execution_count": 71,
     "metadata": {},
     "output_type": "execute_result"
    },
    {
     "data": {
      "image/png": "[encoded data removed]",
      "text/plain": [
       "<Figure size 640x480 with 1 Axes>"
      ]
     },
     "metadata": {},
     "output_type": "display_data"
    }
   ],
   "source": [
    "plt.title('Loss')\n",
    "plt.plot(losses1)"
   ]
  },
  {
   "cell_type": "code",
   "execution_count": 72,
   "metadata": {},
   "outputs": [],
   "source": [
    "TEST1=model_pos1(TEST_X)"
   ]
  },
  {
   "cell_type": "code",
   "execution_count": 73,
   "metadata": {},
   "outputs": [],
   "source": [
    "TEST1_estimated_tags=[]\n",
    "\n",
    "for t in TEST1:\n",
    "    \n",
    "    TEST1_estimated_tags+=[torch.argmax(t, dim=1)]"
   ]
  },
  {
   "cell_type": "code",
   "execution_count": 74,
   "metadata": {},
   "outputs": [],
   "source": [
    "num_total3=0\n",
    "num_correct3=0\n",
    "\n",
    "for x in range(len(TEST1_estimated_tags)):\n",
    "    for y in range(len(TEST1_estimated_tags[x])):\n",
    "        num_total3 +=1\n",
    "        \n",
    "        if TEST_y[x][y].item()==TEST1_estimated_tags[x][y].item():\n",
    "            num_correct3 +=1"
   ]
  },
  {
   "cell_type": "code",
   "execution_count": 75,
   "metadata": {},
   "outputs": [
    {
     "name": "stdout",
     "output_type": "stream",
     "text": [
      "The accuracy of the Bidirectional LSTM model is 0.9927710563052583\n"
     ]
    }
   ],
   "source": [
    "print(f\"The accuracy of the Bidirectional LSTM model is {num_correct3/num_total3}\")"
   ]
  },
  {
   "cell_type": "code",
   "execution_count": null,
   "metadata": {},
   "outputs": [],
   "source": []
  },
  {
   "cell_type": "code",
   "execution_count": 77,
   "metadata": {},
   "outputs": [],
   "source": [
    "model_pos2= TwoLayerLSTM_Model_POS(vocabulary_size, embedding_dimension, weights_matrix, hidden_dimension, tag_len)"
   ]
  },
  {
   "cell_type": "code",
   "execution_count": 78,
   "metadata": {},
   "outputs": [
    {
     "name": "stderr",
     "output_type": "stream",
     "text": [
      "100%|██████████████████████████████████████████| 10/10 [21:38<00:00, 129.81s/it]\n"
     ]
    }
   ],
   "source": [
    "num_epochs=10\n",
    "\n",
    "optimizer=torch.optim.Adam(model_pos2.parameters(), lr=0.001, weight_decay=0.0)\n",
    "\n",
    "loss_fn=nn.CrossEntropyLoss()\n",
    "\n",
    "losses2=[]\n",
    "\n",
    "for epoch in tqdm(range(num_epochs)):\n",
    "    \n",
    "    model_pos2.train()\n",
    "    \n",
    "    for X_train_batch, y_train_batch in data_loader:\n",
    "        \n",
    "        optimizer.zero_grad()\n",
    "        \n",
    "        y_train_hat= model_pos2(X_train_batch)\n",
    "        \n",
    "        loss = loss_fn(y_train_hat.view(-1, tag_len), y_train_batch.view(-1))\n",
    "        loss.backward()\n",
    "        optimizer.step()\n",
    "  \n",
    "\n",
    "    losses2.append(loss.item())"
   ]
  },
  {
   "cell_type": "code",
   "execution_count": 79,
   "metadata": {},
   "outputs": [
    {
     "data": {
      "text/plain": [
       "[<matplotlib.lines.Line2D at 0x7fafb7c9ec40>]"
      ]
     },
     "execution_count": 79,
     "metadata": {},
     "output_type": "execute_result"
    },
    {
     "data": {
      "image/png": "[encoded data removed]",
      "text/plain": [
       "<Figure size 640x480 with 1 Axes>"
      ]
     },
     "metadata": {},
     "output_type": "display_data"
    }
   ],
   "source": [
    "plt.title('Loss')\n",
    "plt.plot(losses2)"
   ]
  },
  {
   "cell_type": "code",
   "execution_count": 80,
   "metadata": {},
   "outputs": [],
   "source": [
    "TEST2=model_pos2(TEST_X)"
   ]
  },
  {
   "cell_type": "code",
   "execution_count": 81,
   "metadata": {},
   "outputs": [],
   "source": [
    "TEST2_estimated_tags=[]\n",
    "\n",
    "for t in TEST2:\n",
    "    \n",
    "    TEST2_estimated_tags+=[torch.argmax(t, dim=1)]"
   ]
  },
  {
   "cell_type": "code",
   "execution_count": 82,
   "metadata": {},
   "outputs": [],
   "source": [
    "num_total4=0\n",
    "num_correct4=0\n",
    "\n",
    "for x in range(len(TEST2_estimated_tags)):\n",
    "    for y in range(len(TEST2_estimated_tags[x])):\n",
    "        num_total4 +=1\n",
    "        \n",
    "        if TEST_y[x][y].item()==TEST2_estimated_tags[x][y].item():\n",
    "            num_correct4 +=1"
   ]
  },
  {
   "cell_type": "code",
   "execution_count": 83,
   "metadata": {},
   "outputs": [
    {
     "name": "stdout",
     "output_type": "stream",
     "text": [
      "The accuracy of the Bidirectional LSTM model is 0.9882270823638902\n"
     ]
    }
   ],
   "source": [
    "print(f\"The accuracy of the Bidirectional LSTM model is {num_correct4/num_total4}\")"
   ]
  },
  {
   "cell_type": "code",
   "execution_count": null,
   "metadata": {},
   "outputs": [],
   "source": []
  },
  {
   "cell_type": "markdown",
   "metadata": {},
   "source": [
    "### Anlaysis"
   ]
  },
  {
   "cell_type": "markdown",
   "metadata": {},
   "source": [
    "With no choice of hyperparameters (not using bidirectional and using only one layer), the accuracy was 0.98997. With using bidirectional lstm model, the accuracy was 0.99277. And with using two layers unidirectional model, the accuracy was 0.988227. The best accuracy is yielded with bidirectional model.\n",
    "\n",
    "For unidirectional models, since the accuracies are both so high it would not be accuracte to say the number of layers don't have any impact. But from my experiments I can say that using bidirectional model makes more difference in the predictions.\n",
    "\n",
    "The flexibility of choice was helpful since I increased the accuracy level by just changing parameters. Like changing bidirectional=True parameter and adjusting the sizes of the inputs..."
   ]
  },
  {
   "cell_type": "code",
   "execution_count": null,
   "metadata": {},
   "outputs": [],
   "source": []
  },
  {
   "cell_type": "code",
   "execution_count": null,
   "metadata": {},
   "outputs": [],
   "source": []
  }
 ],
 "metadata": {
  "kernelspec": {
   "display_name": "Python 3 (ipykernel)",
   "language": "python",
   "name": "python3"
  },
  "language_info": {
   "codemirror_mode": {
    "name": "ipython",
    "version": 3
   },
   "file_extension": ".py",
   "mimetype": "text/x-python",
   "name": "python",
   "nbconvert_exporter": "python",
   "pygments_lexer": "ipython3",
   "version": "3.8.3"
  }
 },
 "nbformat": 4,
 "nbformat_minor": 4
}
